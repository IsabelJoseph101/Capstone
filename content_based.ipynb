{
  "nbformat": 4,
  "nbformat_minor": 0,
  "metadata": {
    "kernelspec": {
      "display_name": "Python 3",
      "language": "python",
      "name": "python3"
    },
    "language_info": {
      "codemirror_mode": {
        "name": "ipython",
        "version": 3
      },
      "file_extension": ".py",
      "mimetype": "text/x-python",
      "name": "python",
      "nbconvert_exporter": "python",
      "pygments_lexer": "ipython3",
      "version": "3.7.4"
    },
    "colab": {
      "name": "content_based.ipynb",
      "provenance": []
    }
  },
  "cells": [
    {
      "cell_type": "markdown",
      "metadata": {
        "id": "Atx0PpOkLuHJ",
        "colab_type": "text"
      },
      "source": [
        "# STEAM RECOMMENDER SYSTEM"
      ]
    },
    {
      "cell_type": "markdown",
      "metadata": {
        "id": "SGw2lVUOLuHL",
        "colab_type": "text"
      },
      "source": [
        "### Importing necessary packages"
      ]
    },
    {
      "cell_type": "code",
      "metadata": {
        "id": "zEvBZWNgLuHM",
        "colab_type": "code",
        "colab": {
          "base_uri": "https://localhost:8080/",
          "height": 280
        },
        "outputId": "9e0e019d-9b54-4a6c-ea34-8189628dbd14"
      },
      "source": [
        "# installing the library suprise\n",
        "!pip install scikit-surprise"
      ],
      "execution_count": 1,
      "outputs": [
        {
          "output_type": "stream",
          "text": [
            "Collecting scikit-surprise\n",
            "\u001b[?25l  Downloading https://files.pythonhosted.org/packages/f5/da/b5700d96495fb4f092be497f02492768a3d96a3f4fa2ae7dea46d4081cfa/scikit-surprise-1.1.0.tar.gz (6.4MB)\n",
            "\u001b[K     |████████████████████████████████| 6.5MB 2.7MB/s \n",
            "\u001b[?25hRequirement already satisfied: joblib>=0.11 in /usr/local/lib/python3.6/dist-packages (from scikit-surprise) (0.15.1)\n",
            "Requirement already satisfied: numpy>=1.11.2 in /usr/local/lib/python3.6/dist-packages (from scikit-surprise) (1.18.4)\n",
            "Requirement already satisfied: scipy>=1.0.0 in /usr/local/lib/python3.6/dist-packages (from scikit-surprise) (1.4.1)\n",
            "Requirement already satisfied: six>=1.10.0 in /usr/local/lib/python3.6/dist-packages (from scikit-surprise) (1.12.0)\n",
            "Building wheels for collected packages: scikit-surprise\n",
            "  Building wheel for scikit-surprise (setup.py) ... \u001b[?25l\u001b[?25hdone\n",
            "  Created wheel for scikit-surprise: filename=scikit_surprise-1.1.0-cp36-cp36m-linux_x86_64.whl size=1675378 sha256=524b90a95a23401b227b4b88fa082a5ad13dec2589feea0f0cd1ac2711e3e59c\n",
            "  Stored in directory: /root/.cache/pip/wheels/cc/fa/8c/16c93fccce688ae1bde7d979ff102f7bee980d9cfeb8641bcf\n",
            "Successfully built scikit-surprise\n",
            "Installing collected packages: scikit-surprise\n",
            "Successfully installed scikit-surprise-1.1.0\n"
          ],
          "name": "stdout"
        }
      ]
    },
    {
      "cell_type": "code",
      "metadata": {
        "id": "CwboZLeDLuHW",
        "colab_type": "code",
        "colab": {
          "base_uri": "https://localhost:8080/",
          "height": 86
        },
        "outputId": "825d97be-3744-4262-e668-c4e03f1b4b15"
      },
      "source": [
        "# importing necessary packages\n",
        "import pandas as pd\n",
        "pd.set_option('display.max_rows', 100)\n",
        "pd.set_option('display.max_columns', 100)\n",
        "pd.set_option('display.width', 100)\n",
        "import seaborn as sns\n",
        "import numpy as np\n",
        "import matplotlib.pyplot as plt\n",
        "%matplotlib inline\n",
        "\n",
        "from sklearn.preprocessing import StandardScaler \n",
        "from sklearn import preprocessing\n",
        "from sklearn.feature_extraction.text import TfidfVectorizer\n",
        "from sklearn.decomposition import TruncatedSVD\n",
        "\n",
        "from collections import Counter\n",
        "\n",
        "from surprise import Dataset, Reader\n",
        "from surprise import SVD\n",
        "from surprise import accuracy\n",
        "from surprise.model_selection import cross_validate, train_test_split\n",
        "from surprise import Dataset, Reader\n",
        "from surprise import SVD\n",
        "from surprise import accuracy\n",
        "from surprise.model_selection import cross_validate, train_test_split\n",
        "\n",
        "import nltk\n",
        "from nltk.corpus import stopwords\n",
        "from nltk import word_tokenize, FreqDist\n",
        "nltk.download('punkt')\n",
        "nltk.download('stopwords')\n",
        "import re\n",
        "import string\n",
        "\n",
        "import warnings\n",
        "warnings.filterwarnings(\"ignore\", category=FutureWarning)"
      ],
      "execution_count": 26,
      "outputs": [
        {
          "output_type": "stream",
          "text": [
            "[nltk_data] Downloading package punkt to /root/nltk_data...\n",
            "[nltk_data]   Package punkt is already up-to-date!\n",
            "[nltk_data] Downloading package stopwords to /root/nltk_data...\n",
            "[nltk_data]   Unzipping corpora/stopwords.zip.\n"
          ],
          "name": "stdout"
        }
      ]
    },
    {
      "cell_type": "markdown",
      "metadata": {
        "id": "J8ZU6g4tLuHe",
        "colab_type": "text"
      },
      "source": [
        "### Importing the cleaned data set"
      ]
    },
    {
      "cell_type": "code",
      "metadata": {
        "id": "U8xDKuUrU7oB",
        "colab_type": "code",
        "colab": {
          "base_uri": "https://localhost:8080/",
          "height": 52
        },
        "outputId": "4dc92e28-d9b2-4858-c2ec-95daeba7d05e"
      },
      "source": [
        "# unziping the folder containing the steam_rs.csv data\n",
        "!unzip steam_rs.zip"
      ],
      "execution_count": 4,
      "outputs": [
        {
          "output_type": "stream",
          "text": [
            "Archive:  steam_rs.zip\n",
            "  inflating: steam_rs.csv            \n"
          ],
          "name": "stdout"
        }
      ]
    },
    {
      "cell_type": "code",
      "metadata": {
        "id": "BDwVwAzYLuHf",
        "colab_type": "code",
        "colab": {}
      },
      "source": [
        "# importing the data set\n",
        "steam = pd.read_csv('steam_rs.csv')"
      ],
      "execution_count": 0,
      "outputs": []
    },
    {
      "cell_type": "code",
      "metadata": {
        "id": "lfjSQxagLuHl",
        "colab_type": "code",
        "colab": {
          "base_uri": "https://localhost:8080/",
          "height": 656
        },
        "outputId": "e21c995b-5035-40ba-c177-7639e796c7cc"
      },
      "source": [
        "# displaying 5 rows of the data frame\n",
        "steam.head()"
      ],
      "execution_count": 6,
      "outputs": [
        {
          "output_type": "execute_result",
          "data": {
            "text/html": [
              "<div>\n",
              "<style scoped>\n",
              "    .dataframe tbody tr th:only-of-type {\n",
              "        vertical-align: middle;\n",
              "    }\n",
              "\n",
              "    .dataframe tbody tr th {\n",
              "        vertical-align: top;\n",
              "    }\n",
              "\n",
              "    .dataframe thead th {\n",
              "        text-align: right;\n",
              "    }\n",
              "</style>\n",
              "<table border=\"1\" class=\"dataframe\">\n",
              "  <thead>\n",
              "    <tr style=\"text-align: right;\">\n",
              "      <th></th>\n",
              "      <th>id</th>\n",
              "      <th>appid</th>\n",
              "      <th>name</th>\n",
              "      <th>purchase</th>\n",
              "      <th>hours_of_play</th>\n",
              "      <th>developer</th>\n",
              "      <th>publisher</th>\n",
              "      <th>positive</th>\n",
              "      <th>negative</th>\n",
              "      <th>release_date</th>\n",
              "      <th>english</th>\n",
              "      <th>platforms</th>\n",
              "      <th>required_age</th>\n",
              "      <th>categories</th>\n",
              "      <th>genres</th>\n",
              "      <th>steamspy_tags</th>\n",
              "      <th>achievements</th>\n",
              "      <th>average_playtime</th>\n",
              "      <th>median_playtime</th>\n",
              "      <th>owners</th>\n",
              "      <th>detailed_description</th>\n",
              "      <th>about_the_game</th>\n",
              "      <th>short_description</th>\n",
              "      <th>price</th>\n",
              "      <th>rank</th>\n",
              "    </tr>\n",
              "  </thead>\n",
              "  <tbody>\n",
              "    <tr>\n",
              "      <th>0</th>\n",
              "      <td>151603712</td>\n",
              "      <td>570</td>\n",
              "      <td>Dota 2</td>\n",
              "      <td>purchase</td>\n",
              "      <td>0.0</td>\n",
              "      <td>Valve</td>\n",
              "      <td>Valve</td>\n",
              "      <td>1097301</td>\n",
              "      <td>194384</td>\n",
              "      <td>2013-07-09</td>\n",
              "      <td>1</td>\n",
              "      <td>windows;mac;linux</td>\n",
              "      <td>0</td>\n",
              "      <td>Multi-player;Co-op;Steam Trading Cards;Steam W...</td>\n",
              "      <td>Action;Free to Play;Strategy</td>\n",
              "      <td>Free to Play;MOBA;Strategy</td>\n",
              "      <td>0</td>\n",
              "      <td>23944</td>\n",
              "      <td>801</td>\n",
              "      <td>100000000-200000000</td>\n",
              "      <td>&lt;strong&gt;The most-played game on Steam.&lt;/strong...</td>\n",
              "      <td>&lt;strong&gt;The most-played game on Steam.&lt;/strong...</td>\n",
              "      <td>Every day, millions of players worldwide enter...</td>\n",
              "      <td>0.0</td>\n",
              "      <td>84.95113</td>\n",
              "    </tr>\n",
              "    <tr>\n",
              "      <th>1</th>\n",
              "      <td>151603712</td>\n",
              "      <td>570</td>\n",
              "      <td>Dota 2</td>\n",
              "      <td>play</td>\n",
              "      <td>0.5</td>\n",
              "      <td>Valve</td>\n",
              "      <td>Valve</td>\n",
              "      <td>1097301</td>\n",
              "      <td>194384</td>\n",
              "      <td>2013-07-09</td>\n",
              "      <td>1</td>\n",
              "      <td>windows;mac;linux</td>\n",
              "      <td>0</td>\n",
              "      <td>Multi-player;Co-op;Steam Trading Cards;Steam W...</td>\n",
              "      <td>Action;Free to Play;Strategy</td>\n",
              "      <td>Free to Play;MOBA;Strategy</td>\n",
              "      <td>0</td>\n",
              "      <td>23944</td>\n",
              "      <td>801</td>\n",
              "      <td>100000000-200000000</td>\n",
              "      <td>&lt;strong&gt;The most-played game on Steam.&lt;/strong...</td>\n",
              "      <td>&lt;strong&gt;The most-played game on Steam.&lt;/strong...</td>\n",
              "      <td>Every day, millions of players worldwide enter...</td>\n",
              "      <td>0.0</td>\n",
              "      <td>84.95113</td>\n",
              "    </tr>\n",
              "    <tr>\n",
              "      <th>2</th>\n",
              "      <td>187131847</td>\n",
              "      <td>570</td>\n",
              "      <td>Dota 2</td>\n",
              "      <td>purchase</td>\n",
              "      <td>0.0</td>\n",
              "      <td>Valve</td>\n",
              "      <td>Valve</td>\n",
              "      <td>1097301</td>\n",
              "      <td>194384</td>\n",
              "      <td>2013-07-09</td>\n",
              "      <td>1</td>\n",
              "      <td>windows;mac;linux</td>\n",
              "      <td>0</td>\n",
              "      <td>Multi-player;Co-op;Steam Trading Cards;Steam W...</td>\n",
              "      <td>Action;Free to Play;Strategy</td>\n",
              "      <td>Free to Play;MOBA;Strategy</td>\n",
              "      <td>0</td>\n",
              "      <td>23944</td>\n",
              "      <td>801</td>\n",
              "      <td>100000000-200000000</td>\n",
              "      <td>&lt;strong&gt;The most-played game on Steam.&lt;/strong...</td>\n",
              "      <td>&lt;strong&gt;The most-played game on Steam.&lt;/strong...</td>\n",
              "      <td>Every day, millions of players worldwide enter...</td>\n",
              "      <td>0.0</td>\n",
              "      <td>84.95113</td>\n",
              "    </tr>\n",
              "    <tr>\n",
              "      <th>3</th>\n",
              "      <td>187131847</td>\n",
              "      <td>570</td>\n",
              "      <td>Dota 2</td>\n",
              "      <td>play</td>\n",
              "      <td>2.3</td>\n",
              "      <td>Valve</td>\n",
              "      <td>Valve</td>\n",
              "      <td>1097301</td>\n",
              "      <td>194384</td>\n",
              "      <td>2013-07-09</td>\n",
              "      <td>1</td>\n",
              "      <td>windows;mac;linux</td>\n",
              "      <td>0</td>\n",
              "      <td>Multi-player;Co-op;Steam Trading Cards;Steam W...</td>\n",
              "      <td>Action;Free to Play;Strategy</td>\n",
              "      <td>Free to Play;MOBA;Strategy</td>\n",
              "      <td>0</td>\n",
              "      <td>23944</td>\n",
              "      <td>801</td>\n",
              "      <td>100000000-200000000</td>\n",
              "      <td>&lt;strong&gt;The most-played game on Steam.&lt;/strong...</td>\n",
              "      <td>&lt;strong&gt;The most-played game on Steam.&lt;/strong...</td>\n",
              "      <td>Every day, millions of players worldwide enter...</td>\n",
              "      <td>0.0</td>\n",
              "      <td>84.95113</td>\n",
              "    </tr>\n",
              "    <tr>\n",
              "      <th>4</th>\n",
              "      <td>176410694</td>\n",
              "      <td>570</td>\n",
              "      <td>Dota 2</td>\n",
              "      <td>purchase</td>\n",
              "      <td>0.0</td>\n",
              "      <td>Valve</td>\n",
              "      <td>Valve</td>\n",
              "      <td>1097301</td>\n",
              "      <td>194384</td>\n",
              "      <td>2013-07-09</td>\n",
              "      <td>1</td>\n",
              "      <td>windows;mac;linux</td>\n",
              "      <td>0</td>\n",
              "      <td>Multi-player;Co-op;Steam Trading Cards;Steam W...</td>\n",
              "      <td>Action;Free to Play;Strategy</td>\n",
              "      <td>Free to Play;MOBA;Strategy</td>\n",
              "      <td>0</td>\n",
              "      <td>23944</td>\n",
              "      <td>801</td>\n",
              "      <td>100000000-200000000</td>\n",
              "      <td>&lt;strong&gt;The most-played game on Steam.&lt;/strong...</td>\n",
              "      <td>&lt;strong&gt;The most-played game on Steam.&lt;/strong...</td>\n",
              "      <td>Every day, millions of players worldwide enter...</td>\n",
              "      <td>0.0</td>\n",
              "      <td>84.95113</td>\n",
              "    </tr>\n",
              "  </tbody>\n",
              "</table>\n",
              "</div>"
            ],
            "text/plain": [
              "          id  appid    name  purchase  hours_of_play developer publisher  positive  negative  \\\n",
              "0  151603712    570  Dota 2  purchase            0.0     Valve     Valve   1097301    194384   \n",
              "1  151603712    570  Dota 2      play            0.5     Valve     Valve   1097301    194384   \n",
              "2  187131847    570  Dota 2  purchase            0.0     Valve     Valve   1097301    194384   \n",
              "3  187131847    570  Dota 2      play            2.3     Valve     Valve   1097301    194384   \n",
              "4  176410694    570  Dota 2  purchase            0.0     Valve     Valve   1097301    194384   \n",
              "\n",
              "  release_date  english          platforms  required_age  \\\n",
              "0   2013-07-09        1  windows;mac;linux             0   \n",
              "1   2013-07-09        1  windows;mac;linux             0   \n",
              "2   2013-07-09        1  windows;mac;linux             0   \n",
              "3   2013-07-09        1  windows;mac;linux             0   \n",
              "4   2013-07-09        1  windows;mac;linux             0   \n",
              "\n",
              "                                          categories                        genres  \\\n",
              "0  Multi-player;Co-op;Steam Trading Cards;Steam W...  Action;Free to Play;Strategy   \n",
              "1  Multi-player;Co-op;Steam Trading Cards;Steam W...  Action;Free to Play;Strategy   \n",
              "2  Multi-player;Co-op;Steam Trading Cards;Steam W...  Action;Free to Play;Strategy   \n",
              "3  Multi-player;Co-op;Steam Trading Cards;Steam W...  Action;Free to Play;Strategy   \n",
              "4  Multi-player;Co-op;Steam Trading Cards;Steam W...  Action;Free to Play;Strategy   \n",
              "\n",
              "                steamspy_tags  achievements  average_playtime  median_playtime  \\\n",
              "0  Free to Play;MOBA;Strategy             0             23944              801   \n",
              "1  Free to Play;MOBA;Strategy             0             23944              801   \n",
              "2  Free to Play;MOBA;Strategy             0             23944              801   \n",
              "3  Free to Play;MOBA;Strategy             0             23944              801   \n",
              "4  Free to Play;MOBA;Strategy             0             23944              801   \n",
              "\n",
              "                owners                               detailed_description  \\\n",
              "0  100000000-200000000  <strong>The most-played game on Steam.</strong...   \n",
              "1  100000000-200000000  <strong>The most-played game on Steam.</strong...   \n",
              "2  100000000-200000000  <strong>The most-played game on Steam.</strong...   \n",
              "3  100000000-200000000  <strong>The most-played game on Steam.</strong...   \n",
              "4  100000000-200000000  <strong>The most-played game on Steam.</strong...   \n",
              "\n",
              "                                      about_the_game  \\\n",
              "0  <strong>The most-played game on Steam.</strong...   \n",
              "1  <strong>The most-played game on Steam.</strong...   \n",
              "2  <strong>The most-played game on Steam.</strong...   \n",
              "3  <strong>The most-played game on Steam.</strong...   \n",
              "4  <strong>The most-played game on Steam.</strong...   \n",
              "\n",
              "                                   short_description  price      rank  \n",
              "0  Every day, millions of players worldwide enter...    0.0  84.95113  \n",
              "1  Every day, millions of players worldwide enter...    0.0  84.95113  \n",
              "2  Every day, millions of players worldwide enter...    0.0  84.95113  \n",
              "3  Every day, millions of players worldwide enter...    0.0  84.95113  \n",
              "4  Every day, millions of players worldwide enter...    0.0  84.95113  "
            ]
          },
          "metadata": {
            "tags": []
          },
          "execution_count": 6
        }
      ]
    },
    {
      "cell_type": "code",
      "metadata": {
        "id": "PwY1Ee6kLuHq",
        "colab_type": "code",
        "colab": {
          "base_uri": "https://localhost:8080/",
          "height": 446
        },
        "outputId": "0519f0a2-054b-492a-913d-c404175e5b67"
      },
      "source": [
        "# getting name count\n",
        "steam_name_count = pd.DataFrame(steam.groupby('name').size().sort_values(), columns=['count'])\n",
        "steam_name_count"
      ],
      "execution_count": 7,
      "outputs": [
        {
          "output_type": "execute_result",
          "data": {
            "text/html": [
              "<div>\n",
              "<style scoped>\n",
              "    .dataframe tbody tr th:only-of-type {\n",
              "        vertical-align: middle;\n",
              "    }\n",
              "\n",
              "    .dataframe tbody tr th {\n",
              "        vertical-align: top;\n",
              "    }\n",
              "\n",
              "    .dataframe thead th {\n",
              "        text-align: right;\n",
              "    }\n",
              "</style>\n",
              "<table border=\"1\" class=\"dataframe\">\n",
              "  <thead>\n",
              "    <tr style=\"text-align: right;\">\n",
              "      <th></th>\n",
              "      <th>count</th>\n",
              "    </tr>\n",
              "    <tr>\n",
              "      <th>name</th>\n",
              "      <th></th>\n",
              "    </tr>\n",
              "  </thead>\n",
              "  <tbody>\n",
              "    <tr>\n",
              "      <th>Putt-Putt and Pep's Dog on a Stick</th>\n",
              "      <td>1</td>\n",
              "    </tr>\n",
              "    <tr>\n",
              "      <th>Battle Mages</th>\n",
              "      <td>1</td>\n",
              "    </tr>\n",
              "    <tr>\n",
              "      <th>Gold Rush! Anniversary</th>\n",
              "      <td>1</td>\n",
              "    </tr>\n",
              "    <tr>\n",
              "      <th>Vertex Dispenser</th>\n",
              "      <td>1</td>\n",
              "    </tr>\n",
              "    <tr>\n",
              "      <th>Verde Station</th>\n",
              "      <td>1</td>\n",
              "    </tr>\n",
              "    <tr>\n",
              "      <th>...</th>\n",
              "      <td>...</td>\n",
              "    </tr>\n",
              "    <tr>\n",
              "      <th>Counter-Strike</th>\n",
              "      <td>1424</td>\n",
              "    </tr>\n",
              "    <tr>\n",
              "      <th>Left 4 Dead 2</th>\n",
              "      <td>1752</td>\n",
              "    </tr>\n",
              "    <tr>\n",
              "      <th>Unturned</th>\n",
              "      <td>2632</td>\n",
              "    </tr>\n",
              "    <tr>\n",
              "      <th>Team Fortress 2</th>\n",
              "      <td>4646</td>\n",
              "    </tr>\n",
              "    <tr>\n",
              "      <th>Dota 2</th>\n",
              "      <td>9682</td>\n",
              "    </tr>\n",
              "  </tbody>\n",
              "</table>\n",
              "<p>2297 rows × 1 columns</p>\n",
              "</div>"
            ],
            "text/plain": [
              "                                    count\n",
              "name                                     \n",
              "Putt-Putt and Pep's Dog on a Stick      1\n",
              "Battle Mages                            1\n",
              "Gold Rush! Anniversary                  1\n",
              "Vertex Dispenser                        1\n",
              "Verde Station                           1\n",
              "...                                   ...\n",
              "Counter-Strike                       1424\n",
              "Left 4 Dead 2                        1752\n",
              "Unturned                             2632\n",
              "Team Fortress 2                      4646\n",
              "Dota 2                               9682\n",
              "\n",
              "[2297 rows x 1 columns]"
            ]
          },
          "metadata": {
            "tags": []
          },
          "execution_count": 7
        }
      ]
    },
    {
      "cell_type": "code",
      "metadata": {
        "id": "Ol5nXlWkLuHu",
        "colab_type": "code",
        "colab": {
          "base_uri": "https://localhost:8080/",
          "height": 416
        },
        "outputId": "b4f758cb-3f59-4ea7-96c5-9fe3d10e761c"
      },
      "source": [
        "# checking games based on their rank\n",
        "steam.groupby(['name'])['rank'].mean().reset_index()"
      ],
      "execution_count": 8,
      "outputs": [
        {
          "output_type": "execute_result",
          "data": {
            "text/html": [
              "<div>\n",
              "<style scoped>\n",
              "    .dataframe tbody tr th:only-of-type {\n",
              "        vertical-align: middle;\n",
              "    }\n",
              "\n",
              "    .dataframe tbody tr th {\n",
              "        vertical-align: top;\n",
              "    }\n",
              "\n",
              "    .dataframe thead th {\n",
              "        text-align: right;\n",
              "    }\n",
              "</style>\n",
              "<table border=\"1\" class=\"dataframe\">\n",
              "  <thead>\n",
              "    <tr style=\"text-align: right;\">\n",
              "      <th></th>\n",
              "      <th>name</th>\n",
              "      <th>rank</th>\n",
              "    </tr>\n",
              "  </thead>\n",
              "  <tbody>\n",
              "    <tr>\n",
              "      <th>0</th>\n",
              "      <td>0RBITALIS</td>\n",
              "      <td>71.785714</td>\n",
              "    </tr>\n",
              "    <tr>\n",
              "      <th>1</th>\n",
              "      <td>10 Second Ninja</td>\n",
              "      <td>85.897436</td>\n",
              "    </tr>\n",
              "    <tr>\n",
              "      <th>2</th>\n",
              "      <td>10,000,000</td>\n",
              "      <td>89.694459</td>\n",
              "    </tr>\n",
              "    <tr>\n",
              "      <th>3</th>\n",
              "      <td>100% Orange Juice</td>\n",
              "      <td>93.090154</td>\n",
              "    </tr>\n",
              "    <tr>\n",
              "      <th>4</th>\n",
              "      <td>1000 Amps</td>\n",
              "      <td>78.877888</td>\n",
              "    </tr>\n",
              "    <tr>\n",
              "      <th>...</th>\n",
              "      <td>...</td>\n",
              "      <td>...</td>\n",
              "    </tr>\n",
              "    <tr>\n",
              "      <th>2292</th>\n",
              "      <td>rFactor 2</td>\n",
              "      <td>86.908517</td>\n",
              "    </tr>\n",
              "    <tr>\n",
              "      <th>2293</th>\n",
              "      <td>resident evil 4 / biohazard 4</td>\n",
              "      <td>86.958567</td>\n",
              "    </tr>\n",
              "    <tr>\n",
              "      <th>2294</th>\n",
              "      <td>rymdkapsel</td>\n",
              "      <td>82.568807</td>\n",
              "    </tr>\n",
              "    <tr>\n",
              "      <th>2295</th>\n",
              "      <td>samurai_jazz</td>\n",
              "      <td>68.181818</td>\n",
              "    </tr>\n",
              "    <tr>\n",
              "      <th>2296</th>\n",
              "      <td>the static speaks my name</td>\n",
              "      <td>81.308962</td>\n",
              "    </tr>\n",
              "  </tbody>\n",
              "</table>\n",
              "<p>2297 rows × 2 columns</p>\n",
              "</div>"
            ],
            "text/plain": [
              "                               name       rank\n",
              "0                         0RBITALIS  71.785714\n",
              "1                   10 Second Ninja  85.897436\n",
              "2                        10,000,000  89.694459\n",
              "3                 100% Orange Juice  93.090154\n",
              "4                         1000 Amps  78.877888\n",
              "...                             ...        ...\n",
              "2292                      rFactor 2  86.908517\n",
              "2293  resident evil 4 / biohazard 4  86.958567\n",
              "2294                     rymdkapsel  82.568807\n",
              "2295                   samurai_jazz  68.181818\n",
              "2296      the static speaks my name  81.308962\n",
              "\n",
              "[2297 rows x 2 columns]"
            ]
          },
          "metadata": {
            "tags": []
          },
          "execution_count": 8
        }
      ]
    },
    {
      "cell_type": "code",
      "metadata": {
        "id": "Lzmo0wp0LuH2",
        "colab_type": "code",
        "colab": {
          "base_uri": "https://localhost:8080/",
          "height": 225
        },
        "outputId": "396ce2f4-47eb-4cee-aed7-f580931c1a0c"
      },
      "source": [
        "# obtaining the frequencies for each of the ranks given to a specific game\n",
        "ratings = steam['rank'].value_counts()\n",
        "ratings"
      ],
      "execution_count": 9,
      "outputs": [
        {
          "output_type": "execute_result",
          "data": {
            "text/plain": [
              "84.951130    9682\n",
              "94.121113    4646\n",
              "90.935142    2632\n",
              "97.067529    1752\n",
              "97.461406    1424\n",
              "             ... \n",
              "22.826087       1\n",
              "85.915493       1\n",
              "55.185185       1\n",
              "66.812227       1\n",
              "82.377049       1\n",
              "Name: rank, Length: 2182, dtype: int64"
            ]
          },
          "metadata": {
            "tags": []
          },
          "execution_count": 9
        }
      ]
    },
    {
      "cell_type": "code",
      "metadata": {
        "id": "wSHDdSBmLuH7",
        "colab_type": "code",
        "colab": {
          "base_uri": "https://localhost:8080/",
          "height": 294
        },
        "outputId": "82b5bf22-68d2-4ced-8dec-0ff3cc205148"
      },
      "source": [
        "# plotting distribution of ratings\n",
        "ratings_sorted = sorted(list(zip(ratings.index, ratings)))\n",
        "plt.bar([r[0] for r in ratings_sorted], [r[1] for r in ratings_sorted], color='maroon')\n",
        "plt.xlabel(\"Rating\")\n",
        "plt.ylabel(\"# of Ratings\")\n",
        "plt.title(\"Distribution of Ratings\")\n",
        "plt.show()"
      ],
      "execution_count": 10,
      "outputs": [
        {
          "output_type": "display_data",
          "data": {
            "image/png": "[encoded data removed]",
            "text/plain": [
              "<Figure size 432x288 with 1 Axes>"
            ]
          },
          "metadata": {
            "tags": [],
            "needs_background": "light"
          }
        }
      ]
    },
    {
      "cell_type": "markdown",
      "metadata": {
        "id": "kpOSdNtPVhp3",
        "colab_type": "text"
      },
      "source": [
        "From this graph above, most of the ratings seem to be around 85%, as well as that it can be seen that there seem to be a very small amount of games rated less than 50%."
      ]
    },
    {
      "cell_type": "code",
      "metadata": {
        "id": "Fj7ZaPTqLuH_",
        "colab_type": "code",
        "colab": {
          "base_uri": "https://localhost:8080/",
          "height": 225
        },
        "outputId": "706815b2-8976-4599-951f-192ffa7fd437"
      },
      "source": [
        "# checking users with the highest amount of hours spent playing \n",
        "steam.groupby('id')['hours_of_play'].agg(np.sum).sort_values(ascending=False)[0:10]"
      ],
      "execution_count": 11,
      "outputs": [
        {
          "output_type": "execute_result",
          "data": {
            "text/plain": [
              "id\n",
              "73017395     11754.0\n",
              "100630947    10445.7\n",
              "153382649     9640.0\n",
              "130882834     7765.0\n",
              "52567955      7704.8\n",
              "14544587      7242.7\n",
              "121199670     6755.2\n",
              "67694595      6269.7\n",
              "86256882      6242.7\n",
              "12660489      6061.5\n",
              "Name: hours_of_play, dtype: float64"
            ]
          },
          "metadata": {
            "tags": []
          },
          "execution_count": 11
        }
      ]
    },
    {
      "cell_type": "code",
      "metadata": {
        "id": "EkxehKHnLuIE",
        "colab_type": "code",
        "colab": {
          "base_uri": "https://localhost:8080/",
          "height": 52
        },
        "outputId": "11b01fa9-774e-4f03-f820-90edf1f7e9eb"
      },
      "source": [
        "# obtaining a count of all the unique ids and app ids\n",
        "print(\"Unique player ids :\", steam[\"id\"].nunique())\n",
        "print(\"Unique app ids :\", steam[\"name\"].nunique())"
      ],
      "execution_count": 12,
      "outputs": [
        {
          "output_type": "stream",
          "text": [
            "Unique player ids : 10350\n",
            "Unique app ids : 2297\n"
          ],
          "name": "stdout"
        }
      ]
    },
    {
      "cell_type": "code",
      "metadata": {
        "id": "FEdACJiILuII",
        "colab_type": "code",
        "colab": {
          "base_uri": "https://localhost:8080/",
          "height": 313
        },
        "outputId": "411656f6-a31d-469e-e02d-7a8f36f86962"
      },
      "source": [
        "# graphing the amount of hours spent on a game\n",
        "top = 10\n",
        "\n",
        "user_counts = steam.groupby('id')['hours_of_play'].agg(np.sum).sort_values(ascending=False)[0:top]\n",
        "mask = steam['id'].isin(user_counts.index)\n",
        "df_infos_user = steam.loc[mask].loc[steam['purchase'] == 'play']\n",
        "hours_played = df_infos_user.groupby('name')['hours_of_play'].agg(np.sum).sort_values(ascending=False)\n",
        "hours_played = pd.DataFrame({'game': hours_played.index, 'hours_played': hours_played.values})[0:10]\n",
        "\n",
        "sns.barplot(y = 'game', x = 'hours_played', data = hours_played)\n",
        "\n",
        "plt.title(\"Hours of play per game\")"
      ],
      "execution_count": 13,
      "outputs": [
        {
          "output_type": "execute_result",
          "data": {
            "text/plain": [
              "Text(0.5, 1.0, 'Hours of play per game')"
            ]
          },
          "metadata": {
            "tags": []
          },
          "execution_count": 13
        },
        {
          "output_type": "display_data",
          "data": {
            "image/png": "[encoded data removed]",
            "text/plain": [
              "<Figure size 432x288 with 1 Axes>"
            ]
          },
          "metadata": {
            "tags": [],
            "needs_background": "light"
          }
        }
      ]
    },
    {
      "cell_type": "markdown",
      "metadata": {
        "id": "pD0RRc1AWUmm",
        "colab_type": "text"
      },
      "source": [
        "From this graph it can be seen that Dota 2 is the most played steam game next to Sid meier's civilization V and team fortress 2."
      ]
    },
    {
      "cell_type": "code",
      "metadata": {
        "id": "JacgoFgHLuIO",
        "colab_type": "code",
        "colab": {
          "base_uri": "https://localhost:8080/",
          "height": 296
        },
        "outputId": "6b3f2805-538e-4f8d-f2d7-137c4523b40a"
      },
      "source": [
        "# checking amount of users that have either played or purchased a game\n",
        "actions = steam.groupby('purchase')['purchase'].agg('count')\n",
        "actions = pd.DataFrame({'purchase': actions.index, 'n': actions.values})\n",
        "sns.barplot(x = 'purchase', y = 'n', data = actions)"
      ],
      "execution_count": 14,
      "outputs": [
        {
          "output_type": "execute_result",
          "data": {
            "text/plain": [
              "<matplotlib.axes._subplots.AxesSubplot at 0x7fb369480c50>"
            ]
          },
          "metadata": {
            "tags": []
          },
          "execution_count": 14
        },
        {
          "output_type": "display_data",
          "data": {
            "image/png": "[encoded data removed]",
            "text/plain": [
              "<Figure size 432x288 with 1 Axes>"
            ]
          },
          "metadata": {
            "tags": [],
            "needs_background": "light"
          }
        }
      ]
    },
    {
      "cell_type": "markdown",
      "metadata": {
        "id": "8Yp_JENmWlPA",
        "colab_type": "text"
      },
      "source": [
        "From this graph it indicates that most users have purchased a game from steam, but have not yet played it yet."
      ]
    },
    {
      "cell_type": "markdown",
      "metadata": {
        "id": "yodqee-ILuIW",
        "colab_type": "text"
      },
      "source": [
        "# Content based model"
      ]
    },
    {
      "cell_type": "markdown",
      "metadata": {
        "id": "slLw47i4LuIX",
        "colab_type": "text"
      },
      "source": [
        "Content based recommender systems predict what the user likes based on what they have liked in the past. This creates personlizes recommendations for the user based on interests, and other such factors. To recommend a user similar items that the user has previously liked, TFIDF can be used, as it helps identify which item is similar to each other. Each of these items are represented using TFIDF vectors.\n",
        "<br><br>\n",
        "TFIDF is a very crucial in building the recommender system. Term frequency (TF) is the frequencies of a specific word in a document, and inverse document frequency (IDF) is the universe of document frequencies throughout the entire corpus of documents."
      ]
    },
    {
      "cell_type": "code",
      "metadata": {
        "id": "W4ElUuTiLuIY",
        "colab_type": "code",
        "colab": {
          "base_uri": "https://localhost:8080/",
          "height": 656
        },
        "outputId": "d5ef4cae-b169-4077-aa15-80b0bb69a5da"
      },
      "source": [
        "# displaying the data frame\n",
        "steam.head()"
      ],
      "execution_count": 15,
      "outputs": [
        {
          "output_type": "execute_result",
          "data": {
            "text/html": [
              "<div>\n",
              "<style scoped>\n",
              "    .dataframe tbody tr th:only-of-type {\n",
              "        vertical-align: middle;\n",
              "    }\n",
              "\n",
              "    .dataframe tbody tr th {\n",
              "        vertical-align: top;\n",
              "    }\n",
              "\n",
              "    .dataframe thead th {\n",
              "        text-align: right;\n",
              "    }\n",
              "</style>\n",
              "<table border=\"1\" class=\"dataframe\">\n",
              "  <thead>\n",
              "    <tr style=\"text-align: right;\">\n",
              "      <th></th>\n",
              "      <th>id</th>\n",
              "      <th>appid</th>\n",
              "      <th>name</th>\n",
              "      <th>purchase</th>\n",
              "      <th>hours_of_play</th>\n",
              "      <th>developer</th>\n",
              "      <th>publisher</th>\n",
              "      <th>positive</th>\n",
              "      <th>negative</th>\n",
              "      <th>release_date</th>\n",
              "      <th>english</th>\n",
              "      <th>platforms</th>\n",
              "      <th>required_age</th>\n",
              "      <th>categories</th>\n",
              "      <th>genres</th>\n",
              "      <th>steamspy_tags</th>\n",
              "      <th>achievements</th>\n",
              "      <th>average_playtime</th>\n",
              "      <th>median_playtime</th>\n",
              "      <th>owners</th>\n",
              "      <th>detailed_description</th>\n",
              "      <th>about_the_game</th>\n",
              "      <th>short_description</th>\n",
              "      <th>price</th>\n",
              "      <th>rank</th>\n",
              "    </tr>\n",
              "  </thead>\n",
              "  <tbody>\n",
              "    <tr>\n",
              "      <th>0</th>\n",
              "      <td>151603712</td>\n",
              "      <td>570</td>\n",
              "      <td>Dota 2</td>\n",
              "      <td>purchase</td>\n",
              "      <td>0.0</td>\n",
              "      <td>Valve</td>\n",
              "      <td>Valve</td>\n",
              "      <td>1097301</td>\n",
              "      <td>194384</td>\n",
              "      <td>2013-07-09</td>\n",
              "      <td>1</td>\n",
              "      <td>windows;mac;linux</td>\n",
              "      <td>0</td>\n",
              "      <td>Multi-player;Co-op;Steam Trading Cards;Steam W...</td>\n",
              "      <td>Action;Free to Play;Strategy</td>\n",
              "      <td>Free to Play;MOBA;Strategy</td>\n",
              "      <td>0</td>\n",
              "      <td>23944</td>\n",
              "      <td>801</td>\n",
              "      <td>100000000-200000000</td>\n",
              "      <td>&lt;strong&gt;The most-played game on Steam.&lt;/strong...</td>\n",
              "      <td>&lt;strong&gt;The most-played game on Steam.&lt;/strong...</td>\n",
              "      <td>Every day, millions of players worldwide enter...</td>\n",
              "      <td>0.0</td>\n",
              "      <td>84.95113</td>\n",
              "    </tr>\n",
              "    <tr>\n",
              "      <th>1</th>\n",
              "      <td>151603712</td>\n",
              "      <td>570</td>\n",
              "      <td>Dota 2</td>\n",
              "      <td>play</td>\n",
              "      <td>0.5</td>\n",
              "      <td>Valve</td>\n",
              "      <td>Valve</td>\n",
              "      <td>1097301</td>\n",
              "      <td>194384</td>\n",
              "      <td>2013-07-09</td>\n",
              "      <td>1</td>\n",
              "      <td>windows;mac;linux</td>\n",
              "      <td>0</td>\n",
              "      <td>Multi-player;Co-op;Steam Trading Cards;Steam W...</td>\n",
              "      <td>Action;Free to Play;Strategy</td>\n",
              "      <td>Free to Play;MOBA;Strategy</td>\n",
              "      <td>0</td>\n",
              "      <td>23944</td>\n",
              "      <td>801</td>\n",
              "      <td>100000000-200000000</td>\n",
              "      <td>&lt;strong&gt;The most-played game on Steam.&lt;/strong...</td>\n",
              "      <td>&lt;strong&gt;The most-played game on Steam.&lt;/strong...</td>\n",
              "      <td>Every day, millions of players worldwide enter...</td>\n",
              "      <td>0.0</td>\n",
              "      <td>84.95113</td>\n",
              "    </tr>\n",
              "    <tr>\n",
              "      <th>2</th>\n",
              "      <td>187131847</td>\n",
              "      <td>570</td>\n",
              "      <td>Dota 2</td>\n",
              "      <td>purchase</td>\n",
              "      <td>0.0</td>\n",
              "      <td>Valve</td>\n",
              "      <td>Valve</td>\n",
              "      <td>1097301</td>\n",
              "      <td>194384</td>\n",
              "      <td>2013-07-09</td>\n",
              "      <td>1</td>\n",
              "      <td>windows;mac;linux</td>\n",
              "      <td>0</td>\n",
              "      <td>Multi-player;Co-op;Steam Trading Cards;Steam W...</td>\n",
              "      <td>Action;Free to Play;Strategy</td>\n",
              "      <td>Free to Play;MOBA;Strategy</td>\n",
              "      <td>0</td>\n",
              "      <td>23944</td>\n",
              "      <td>801</td>\n",
              "      <td>100000000-200000000</td>\n",
              "      <td>&lt;strong&gt;The most-played game on Steam.&lt;/strong...</td>\n",
              "      <td>&lt;strong&gt;The most-played game on Steam.&lt;/strong...</td>\n",
              "      <td>Every day, millions of players worldwide enter...</td>\n",
              "      <td>0.0</td>\n",
              "      <td>84.95113</td>\n",
              "    </tr>\n",
              "    <tr>\n",
              "      <th>3</th>\n",
              "      <td>187131847</td>\n",
              "      <td>570</td>\n",
              "      <td>Dota 2</td>\n",
              "      <td>play</td>\n",
              "      <td>2.3</td>\n",
              "      <td>Valve</td>\n",
              "      <td>Valve</td>\n",
              "      <td>1097301</td>\n",
              "      <td>194384</td>\n",
              "      <td>2013-07-09</td>\n",
              "      <td>1</td>\n",
              "      <td>windows;mac;linux</td>\n",
              "      <td>0</td>\n",
              "      <td>Multi-player;Co-op;Steam Trading Cards;Steam W...</td>\n",
              "      <td>Action;Free to Play;Strategy</td>\n",
              "      <td>Free to Play;MOBA;Strategy</td>\n",
              "      <td>0</td>\n",
              "      <td>23944</td>\n",
              "      <td>801</td>\n",
              "      <td>100000000-200000000</td>\n",
              "      <td>&lt;strong&gt;The most-played game on Steam.&lt;/strong...</td>\n",
              "      <td>&lt;strong&gt;The most-played game on Steam.&lt;/strong...</td>\n",
              "      <td>Every day, millions of players worldwide enter...</td>\n",
              "      <td>0.0</td>\n",
              "      <td>84.95113</td>\n",
              "    </tr>\n",
              "    <tr>\n",
              "      <th>4</th>\n",
              "      <td>176410694</td>\n",
              "      <td>570</td>\n",
              "      <td>Dota 2</td>\n",
              "      <td>purchase</td>\n",
              "      <td>0.0</td>\n",
              "      <td>Valve</td>\n",
              "      <td>Valve</td>\n",
              "      <td>1097301</td>\n",
              "      <td>194384</td>\n",
              "      <td>2013-07-09</td>\n",
              "      <td>1</td>\n",
              "      <td>windows;mac;linux</td>\n",
              "      <td>0</td>\n",
              "      <td>Multi-player;Co-op;Steam Trading Cards;Steam W...</td>\n",
              "      <td>Action;Free to Play;Strategy</td>\n",
              "      <td>Free to Play;MOBA;Strategy</td>\n",
              "      <td>0</td>\n",
              "      <td>23944</td>\n",
              "      <td>801</td>\n",
              "      <td>100000000-200000000</td>\n",
              "      <td>&lt;strong&gt;The most-played game on Steam.&lt;/strong...</td>\n",
              "      <td>&lt;strong&gt;The most-played game on Steam.&lt;/strong...</td>\n",
              "      <td>Every day, millions of players worldwide enter...</td>\n",
              "      <td>0.0</td>\n",
              "      <td>84.95113</td>\n",
              "    </tr>\n",
              "  </tbody>\n",
              "</table>\n",
              "</div>"
            ],
            "text/plain": [
              "          id  appid    name  purchase  hours_of_play developer publisher  positive  negative  \\\n",
              "0  151603712    570  Dota 2  purchase            0.0     Valve     Valve   1097301    194384   \n",
              "1  151603712    570  Dota 2      play            0.5     Valve     Valve   1097301    194384   \n",
              "2  187131847    570  Dota 2  purchase            0.0     Valve     Valve   1097301    194384   \n",
              "3  187131847    570  Dota 2      play            2.3     Valve     Valve   1097301    194384   \n",
              "4  176410694    570  Dota 2  purchase            0.0     Valve     Valve   1097301    194384   \n",
              "\n",
              "  release_date  english          platforms  required_age  \\\n",
              "0   2013-07-09        1  windows;mac;linux             0   \n",
              "1   2013-07-09        1  windows;mac;linux             0   \n",
              "2   2013-07-09        1  windows;mac;linux             0   \n",
              "3   2013-07-09        1  windows;mac;linux             0   \n",
              "4   2013-07-09        1  windows;mac;linux             0   \n",
              "\n",
              "                                          categories                        genres  \\\n",
              "0  Multi-player;Co-op;Steam Trading Cards;Steam W...  Action;Free to Play;Strategy   \n",
              "1  Multi-player;Co-op;Steam Trading Cards;Steam W...  Action;Free to Play;Strategy   \n",
              "2  Multi-player;Co-op;Steam Trading Cards;Steam W...  Action;Free to Play;Strategy   \n",
              "3  Multi-player;Co-op;Steam Trading Cards;Steam W...  Action;Free to Play;Strategy   \n",
              "4  Multi-player;Co-op;Steam Trading Cards;Steam W...  Action;Free to Play;Strategy   \n",
              "\n",
              "                steamspy_tags  achievements  average_playtime  median_playtime  \\\n",
              "0  Free to Play;MOBA;Strategy             0             23944              801   \n",
              "1  Free to Play;MOBA;Strategy             0             23944              801   \n",
              "2  Free to Play;MOBA;Strategy             0             23944              801   \n",
              "3  Free to Play;MOBA;Strategy             0             23944              801   \n",
              "4  Free to Play;MOBA;Strategy             0             23944              801   \n",
              "\n",
              "                owners                               detailed_description  \\\n",
              "0  100000000-200000000  <strong>The most-played game on Steam.</strong...   \n",
              "1  100000000-200000000  <strong>The most-played game on Steam.</strong...   \n",
              "2  100000000-200000000  <strong>The most-played game on Steam.</strong...   \n",
              "3  100000000-200000000  <strong>The most-played game on Steam.</strong...   \n",
              "4  100000000-200000000  <strong>The most-played game on Steam.</strong...   \n",
              "\n",
              "                                      about_the_game  \\\n",
              "0  <strong>The most-played game on Steam.</strong...   \n",
              "1  <strong>The most-played game on Steam.</strong...   \n",
              "2  <strong>The most-played game on Steam.</strong...   \n",
              "3  <strong>The most-played game on Steam.</strong...   \n",
              "4  <strong>The most-played game on Steam.</strong...   \n",
              "\n",
              "                                   short_description  price      rank  \n",
              "0  Every day, millions of players worldwide enter...    0.0  84.95113  \n",
              "1  Every day, millions of players worldwide enter...    0.0  84.95113  \n",
              "2  Every day, millions of players worldwide enter...    0.0  84.95113  \n",
              "3  Every day, millions of players worldwide enter...    0.0  84.95113  \n",
              "4  Every day, millions of players worldwide enter...    0.0  84.95113  "
            ]
          },
          "metadata": {
            "tags": []
          },
          "execution_count": 15
        }
      ]
    },
    {
      "cell_type": "code",
      "metadata": {
        "id": "POZr1sjtLuIe",
        "colab_type": "code",
        "colab": {
          "base_uri": "https://localhost:8080/",
          "height": 34
        },
        "outputId": "1c43e6aa-35d6-41f2-d937-6817f4e363ee"
      },
      "source": [
        "# checking the current shape of the data frame\n",
        "steam.shape"
      ],
      "execution_count": 16,
      "outputs": [
        {
          "output_type": "execute_result",
          "data": {
            "text/plain": [
              "(99632, 25)"
            ]
          },
          "metadata": {
            "tags": []
          },
          "execution_count": 16
        }
      ]
    },
    {
      "cell_type": "code",
      "metadata": {
        "id": "QJ7rlqgULuIj",
        "colab_type": "code",
        "colab": {}
      },
      "source": [
        "# dropping the duplicate ids, and keeping the most recent ones as making sure it dosent remove all the unique games in the data frame\n",
        "steam.drop_duplicates(subset = ['id', 'name'],\n",
        "                     keep = 'last', inplace = True)"
      ],
      "execution_count": 0,
      "outputs": []
    },
    {
      "cell_type": "code",
      "metadata": {
        "id": "BS6X3DzBLuIn",
        "colab_type": "code",
        "colab": {
          "base_uri": "https://localhost:8080/",
          "height": 34
        },
        "outputId": "c110d2ab-678b-4fdd-9b68-cdb85fb33b62"
      },
      "source": [
        "# checking the shape after removing duplicates\n",
        "steam.shape"
      ],
      "execution_count": 18,
      "outputs": [
        {
          "output_type": "execute_result",
          "data": {
            "text/plain": [
              "(60446, 25)"
            ]
          },
          "metadata": {
            "tags": []
          },
          "execution_count": 18
        }
      ]
    },
    {
      "cell_type": "markdown",
      "metadata": {
        "id": "zh1GOfJMXI4R",
        "colab_type": "text"
      },
      "source": [
        "Removing the duplicate ids reduced the size of the data frame from its inital 99632 rows to 60446 rows."
      ]
    },
    {
      "cell_type": "code",
      "metadata": {
        "id": "tlK3js1VLuIs",
        "colab_type": "code",
        "colab": {
          "base_uri": "https://localhost:8080/",
          "height": 52
        },
        "outputId": "c6150681-892e-424e-b2ec-50f0a96cdd29"
      },
      "source": [
        "# obtaining a count of all the unique ids and app ids\n",
        "print(\"Unique player ids :\", steam[\"id\"].nunique())\n",
        "print(\"Unique app ids :\", steam[\"name\"].nunique())"
      ],
      "execution_count": 19,
      "outputs": [
        {
          "output_type": "stream",
          "text": [
            "Unique SteamIds : 10350\n",
            "Unique AppIds : 2297\n"
          ],
          "name": "stdout"
        }
      ]
    },
    {
      "cell_type": "markdown",
      "metadata": {
        "id": "ynlaloD5XXZt",
        "colab_type": "text"
      },
      "source": [
        "From here it can be seen that removing the duplicate ids kept all of the unique app ids. It also kept all the unique player ids."
      ]
    },
    {
      "cell_type": "markdown",
      "metadata": {
        "id": "S1S4X5ItYFNB",
        "colab_type": "text"
      },
      "source": [
        "Following this i will be selecting key features that i will want to base my recommedations on, and i will be selecting 'name', 'genre', 'categories', and 'short_description' as my main features."
      ]
    },
    {
      "cell_type": "code",
      "metadata": {
        "id": "12FLUpuvLuIy",
        "colab_type": "code",
        "colab": {}
      },
      "source": [
        "# creating tags for each words\n",
        "tags = {}\n",
        "for col in ['name', 'categories', 'genres', 'short_description']:\n",
        "    for id in steam['id'].unique():\n",
        "        for i in steam[steam['id'] == id][col]:\n",
        "            if id in tags:\n",
        "                tags[id].append(' '.join(i.lower().split('|')))\n",
        "            else:\n",
        "                tags[id] = i.lower().split('|')"
      ],
      "execution_count": 0,
      "outputs": []
    },
    {
      "cell_type": "code",
      "metadata": {
        "id": "E1BzoYgrLuI2",
        "colab_type": "code",
        "colab": {}
      },
      "source": [
        "# creating a list from the tags\n",
        "tags_list = list(tags.values())"
      ],
      "execution_count": 0,
      "outputs": []
    },
    {
      "cell_type": "code",
      "metadata": {
        "id": "d1SdKOaOLuI9",
        "colab_type": "code",
        "colab": {
          "base_uri": "https://localhost:8080/",
          "height": 106
        },
        "outputId": "018c9ba0-c39d-40ab-f0a0-2a04a3916263"
      },
      "source": [
        "# viewing tags\n",
        "tags_list[1:2]"
      ],
      "execution_count": 22,
      "outputs": [
        {
          "output_type": "execute_result",
          "data": {
            "text/plain": [
              "[['dota 2',\n",
              "  'multi-player;co-op;steam trading cards;steam workshop;steamvr collectibles;in-app purchases;valve anti-cheat enabled',\n",
              "  'action;free to play;strategy',\n",
              "  \"every day, millions of players worldwide enter battle as one of over a hundred dota heroes. and no matter if it's their 10th hour of play or 1,000th, there's always something new to discover. with regular updates that ensure a constant evolution of gameplay, features, and heroes, dota 2 has taken on a life of its own.\"]]"
            ]
          },
          "metadata": {
            "tags": []
          },
          "execution_count": 22
        }
      ]
    },
    {
      "cell_type": "code",
      "metadata": {
        "id": "4QvuM_N5LuJF",
        "colab_type": "code",
        "colab": {}
      },
      "source": [
        "# getting all the english stopwords and storing them in stopwords_list\n",
        "stopwords_list = stopwords.words('english')"
      ],
      "execution_count": 0,
      "outputs": []
    },
    {
      "cell_type": "code",
      "metadata": {
        "id": "Ndcfi5J3LuJJ",
        "colab_type": "code",
        "colab": {}
      },
      "source": [
        "# removing punctuation\n",
        "stopwords_list += list(string.punctuation)"
      ],
      "execution_count": 0,
      "outputs": []
    },
    {
      "cell_type": "code",
      "metadata": {
        "id": "VumsbL8UZ0VT",
        "colab_type": "code",
        "colab": {
          "base_uri": "https://localhost:8080/",
          "height": 364
        },
        "outputId": "018c4b0b-1105-4e94-da1f-72cdda5e3137"
      },
      "source": [
        "# checking most common words in the stop words list\n",
        "most_common = FreqDist(stopwords_list)\n",
        "most_common.most_common(20)"
      ],
      "execution_count": 29,
      "outputs": [
        {
          "output_type": "execute_result",
          "data": {
            "text/plain": [
              "[('i', 1),\n",
              " ('me', 1),\n",
              " ('my', 1),\n",
              " ('myself', 1),\n",
              " ('we', 1),\n",
              " ('our', 1),\n",
              " ('ours', 1),\n",
              " ('ourselves', 1),\n",
              " ('you', 1),\n",
              " (\"you're\", 1),\n",
              " (\"you've\", 1),\n",
              " (\"you'll\", 1),\n",
              " (\"you'd\", 1),\n",
              " ('your', 1),\n",
              " ('yours', 1),\n",
              " ('yourself', 1),\n",
              " ('yourselves', 1),\n",
              " ('he', 1),\n",
              " ('him', 1),\n",
              " ('his', 1)]"
            ]
          },
          "metadata": {
            "tags": []
          },
          "execution_count": 29
        }
      ]
    },
    {
      "cell_type": "code",
      "metadata": {
        "id": "L2RKHUyrZ2p1",
        "colab_type": "code",
        "colab": {
          "base_uri": "https://localhost:8080/",
          "height": 34
        },
        "outputId": "04f67632-cbd7-43c7-c2b2-167fe70b2087"
      },
      "source": [
        "# checking length of all the stop words\n",
        "len(most_common)"
      ],
      "execution_count": 30,
      "outputs": [
        {
          "output_type": "execute_result",
          "data": {
            "text/plain": [
              "211"
            ]
          },
          "metadata": {
            "tags": []
          },
          "execution_count": 30
        }
      ]
    },
    {
      "cell_type": "code",
      "metadata": {
        "id": "Y6do6AOoLuJN",
        "colab_type": "code",
        "colab": {}
      },
      "source": [
        "# a function that removes stopwords, tozenizes the article and makes each of the tokens lowercase\n",
        "def process_article(article):\n",
        "    \n",
        "    ''' a function that removes stopwords, tozenizes the article and makes each of the tokens lowercase.'''\n",
        "\n",
        "    article = ' '.join(article)\n",
        "    tokens = word_tokenize(article) \n",
        "    tokens_2 = [] \n",
        "\n",
        "    \n",
        "    for token in tokens:\n",
        "    \n",
        "        if token.lower() not in stopwords_list:\n",
        "            tokens_2.append(token.lower())\n",
        "                \n",
        "    return tokens_2"
      ],
      "execution_count": 0,
      "outputs": []
    },
    {
      "cell_type": "code",
      "metadata": {
        "id": "h6fg84puLuJR",
        "colab_type": "code",
        "colab": {}
      },
      "source": [
        "# preprocessing the data\n",
        "processed_data = list(map(process_article, tags_list))"
      ],
      "execution_count": 0,
      "outputs": []
    },
    {
      "cell_type": "code",
      "metadata": {
        "id": "86OmBZ8yLuJV",
        "colab_type": "code",
        "colab": {
          "base_uri": "https://localhost:8080/",
          "height": 34
        },
        "outputId": "fcc9e5f4-4879-47c6-aca5-263523f8ab85"
      },
      "source": [
        "# checking the length of the processed data\n",
        "len(processed_data)"
      ],
      "execution_count": 33,
      "outputs": [
        {
          "output_type": "execute_result",
          "data": {
            "text/plain": [
              "10350"
            ]
          },
          "metadata": {
            "tags": []
          },
          "execution_count": 33
        }
      ]
    },
    {
      "cell_type": "code",
      "metadata": {
        "id": "ujQEPbATLuJZ",
        "colab_type": "code",
        "colab": {
          "base_uri": "https://localhost:8080/",
          "height": 34
        },
        "outputId": "09a22ec6-658f-4cbf-d15e-1b43ffe0e239"
      },
      "source": [
        "# obtaining the total vocabulary size\n",
        "total_vocab = set()\n",
        "for doc in processed_data:\n",
        "    total_vocab.update(doc)\n",
        "len(total_vocab)"
      ],
      "execution_count": 34,
      "outputs": [
        {
          "output_type": "execute_result",
          "data": {
            "text/plain": [
              "11896"
            ]
          },
          "metadata": {
            "tags": []
          },
          "execution_count": 34
        }
      ]
    },
    {
      "cell_type": "code",
      "metadata": {
        "id": "83llJSR7LuJg",
        "colab_type": "code",
        "colab": {}
      },
      "source": [
        "# concatenating every article into a single list\n",
        "articles_concat = []\n",
        "for doc in processed_data:\n",
        "    articles_concat += doc"
      ],
      "execution_count": 0,
      "outputs": []
    },
    {
      "cell_type": "code",
      "metadata": {
        "id": "NyKFXK5zLuJk",
        "colab_type": "code",
        "colab": {}
      },
      "source": [
        "# passing articles_concant to FreqDist() in order to get the most common words\n",
        "freqdist = FreqDist(articles_concat)"
      ],
      "execution_count": 0,
      "outputs": []
    },
    {
      "cell_type": "code",
      "metadata": {
        "id": "9QC7-xdqLuJp",
        "colab_type": "code",
        "colab": {
          "base_uri": "https://localhost:8080/",
          "height": 364
        },
        "outputId": "eb9728ea-3a7e-432b-b6a9-d04e858ef144"
      },
      "source": [
        "# obtaining the 20 most common words\n",
        "most_common = freqdist.most_common(20)\n",
        "most_common"
      ],
      "execution_count": 37,
      "outputs": [
        {
          "output_type": "execute_result",
          "data": {
            "text/plain": [
              "[('steam', 122235),\n",
              " ('action', 55408),\n",
              " ('multi-player', 48230),\n",
              " ('single-player', 42170),\n",
              " ('cards', 37281),\n",
              " ('trading', 37106),\n",
              " ('achievements', 36820),\n",
              " ('play', 32801),\n",
              " ('co-op', 32019),\n",
              " ('support', 30384),\n",
              " ('controller', 27867),\n",
              " ('online', 26192),\n",
              " ('game', 26064),\n",
              " ('free', 24311),\n",
              " ('indie', 23773),\n",
              " (\"'s\", 23168),\n",
              " ('cloud', 22937),\n",
              " ('2', 21595),\n",
              " ('multiplayer', 20859),\n",
              " ('adventure', 20085)]"
            ]
          },
          "metadata": {
            "tags": []
          },
          "execution_count": 37
        }
      ]
    },
    {
      "cell_type": "code",
      "metadata": {
        "id": "T6MUbI26LuJt",
        "colab_type": "code",
        "colab": {},
        "outputId": "582a5e9e-117c-41b2-f068-89fa92e276b3"
      },
      "source": [
        "# graphing the 20 most common words\n",
        "plt.figure(figsize = (20, 5))\n",
        "plt.bar([word[0] for word in most_common], [word[1] for word in most_common])"
      ],
      "execution_count": 0,
      "outputs": [
        {
          "output_type": "execute_result",
          "data": {
            "text/plain": [
              "<BarContainer object of 20 artists>"
            ]
          },
          "metadata": {
            "tags": []
          },
          "execution_count": 351
        },
        {
          "output_type": "display_data",
          "data": {
            "image/png": "[encoded data removed]",
            "text/plain": [
              "<Figure size 1440x360 with 1 Axes>"
            ]
          },
          "metadata": {
            "tags": [],
            "needs_background": "light"
          }
        }
      ]
    },
    {
      "cell_type": "code",
      "metadata": {
        "id": "2hSFzm0nLuJw",
        "colab_type": "code",
        "colab": {}
      },
      "source": [
        "tfidf = TfidfVectorizer(analyzer='word', ngram_range=(1, 2), stop_words=stopwords_list)"
      ],
      "execution_count": 0,
      "outputs": []
    },
    {
      "cell_type": "code",
      "metadata": {
        "id": "wCaMEXDHLuJ0",
        "colab_type": "code",
        "colab": {}
      },
      "source": [
        "tags_list_2 = [' '.join(x) for x in tags_list]"
      ],
      "execution_count": 0,
      "outputs": []
    },
    {
      "cell_type": "code",
      "metadata": {
        "id": "kWpF8TvqLuJ5",
        "colab_type": "code",
        "colab": {}
      },
      "source": [
        "tfidf_matrix = tfidf.fit_transform(tags_list_2)"
      ],
      "execution_count": 0,
      "outputs": []
    },
    {
      "cell_type": "code",
      "metadata": {
        "id": "j12nkA0ALuJ-",
        "colab_type": "code",
        "colab": {},
        "outputId": "b321a8d4-625a-4fb0-d10b-ce908ef2be08"
      },
      "source": [
        "tfidf_matrix.shape"
      ],
      "execution_count": 0,
      "outputs": [
        {
          "output_type": "execute_result",
          "data": {
            "text/plain": [
              "(568, 554)"
            ]
          },
          "metadata": {
            "tags": []
          },
          "execution_count": 355
        }
      ]
    },
    {
      "cell_type": "code",
      "metadata": {
        "id": "ixwuhQXuLuKC",
        "colab_type": "code",
        "colab": {}
      },
      "source": [
        "#instantiate SVD\n",
        "svd = TruncatedSVD(n_components=500, n_iter=7, random_state=42)\n",
        "\n",
        "#fit and transform the vectorized tf-idf matrix \n",
        "tf_idf_data_train_svd = svd.fit_transform(tfidf_matrix)"
      ],
      "execution_count": 0,
      "outputs": []
    },
    {
      "cell_type": "code",
      "metadata": {
        "id": "40Chld0zLuKL",
        "colab_type": "code",
        "colab": {},
        "outputId": "59db46cb-a15c-4990-9424-3985b613ab65"
      },
      "source": [
        "print(svd.explained_variance_ratio_.sum())"
      ],
      "execution_count": 0,
      "outputs": [
        {
          "output_type": "stream",
          "text": [
            "0.9999999999999993\n"
          ],
          "name": "stdout"
        }
      ]
    },
    {
      "cell_type": "markdown",
      "metadata": {
        "id": "4n9GJdliLuKV",
        "colab_type": "text"
      },
      "source": [
        "### Calculating cosine similarities"
      ]
    },
    {
      "cell_type": "code",
      "metadata": {
        "id": "PTSukm0WLuKW",
        "colab_type": "code",
        "colab": {}
      },
      "source": [
        "from sklearn.metrics.pairwise import linear_kernel"
      ],
      "execution_count": 0,
      "outputs": []
    },
    {
      "cell_type": "code",
      "metadata": {
        "id": "2ZPLY8iLLuKf",
        "colab_type": "code",
        "colab": {}
      },
      "source": [
        "cosine_similarities = linear_kernel(tfidf_matrix, tfidf_matrix)"
      ],
      "execution_count": 0,
      "outputs": []
    },
    {
      "cell_type": "markdown",
      "metadata": {
        "id": "AnQttfuvLuKk",
        "colab_type": "text"
      },
      "source": [
        "### Making recommendations"
      ]
    },
    {
      "cell_type": "code",
      "metadata": {
        "id": "KMuTeG2dLuKk",
        "colab_type": "code",
        "colab": {}
      },
      "source": [
        "# creating a Series for the game titles so they are associated to an ordered numerical\n",
        "# list I will use later to match the indexes\n",
        "indices = pd.Series(steam.name)"
      ],
      "execution_count": 0,
      "outputs": []
    },
    {
      "cell_type": "code",
      "metadata": {
        "id": "YSSYipP2LuKp",
        "colab_type": "code",
        "colab": {}
      },
      "source": [
        "#  defining the function that takes in game title \n",
        "# as input and returns the top 10 recommended games\n",
        "def recommendations(title, cosine_similarities = cosine_similarities):\n",
        "    \n",
        "    # initializing the empty list of recommended movies\n",
        "    recommended_games = []\n",
        "    \n",
        "    # gettin the index of the game that matches the title\n",
        "    idx = indices[indices == title].index[0]\n",
        "\n",
        "    # creating a Series with the similarity scores in descending order\n",
        "    score_series = pd.Series(cosine_similarities[idx]).sort_values(ascending = False)\n",
        "\n",
        "    # getting the indexes of the 10 most similar games\n",
        "    top_10_indexes = list(score_series[1:11].index)\n",
        "    \n",
        "    # populating the list with the titles of the best 10 matching games\n",
        "    for i in top_10_indexes:\n",
        "        recommended_games.append(list(df.name)[i])\n",
        "\n",
        "    return recommended_games"
      ],
      "execution_count": 0,
      "outputs": []
    },
    {
      "cell_type": "code",
      "metadata": {
        "id": "Q4m6TxDWLuKw",
        "colab_type": "code",
        "colab": {},
        "outputId": "76e68c2b-6f80-4693-b391-89f6f49bd59e"
      },
      "source": [
        "recommendations('Dota 2')"
      ],
      "execution_count": 0,
      "outputs": [
        {
          "output_type": "error",
          "ename": "IndexError",
          "evalue": "index 9681 is out of bounds for axis 0 with size 568",
          "traceback": [
            "\u001b[1;31m---------------------------------------------------------------------------\u001b[0m",
            "\u001b[1;31mIndexError\u001b[0m                                Traceback (most recent call last)",
            "\u001b[1;32m<ipython-input-362-592e6dafa405>\u001b[0m in \u001b[0;36m<module>\u001b[1;34m\u001b[0m\n\u001b[1;32m----> 1\u001b[1;33m \u001b[0mrecommendations\u001b[0m\u001b[1;33m(\u001b[0m\u001b[1;34m'Dota 2'\u001b[0m\u001b[1;33m)\u001b[0m\u001b[1;33m\u001b[0m\u001b[1;33m\u001b[0m\u001b[0m\n\u001b[0m",
            "\u001b[1;32m<ipython-input-361-5e70258c1960>\u001b[0m in \u001b[0;36mrecommendations\u001b[1;34m(title, cosine_similarities)\u001b[0m\n\u001b[0;32m     10\u001b[0m \u001b[1;33m\u001b[0m\u001b[0m\n\u001b[0;32m     11\u001b[0m     \u001b[1;31m# creating a Series with the similarity scores in descending order\u001b[0m\u001b[1;33m\u001b[0m\u001b[1;33m\u001b[0m\u001b[1;33m\u001b[0m\u001b[0m\n\u001b[1;32m---> 12\u001b[1;33m     \u001b[0mscore_series\u001b[0m \u001b[1;33m=\u001b[0m \u001b[0mpd\u001b[0m\u001b[1;33m.\u001b[0m\u001b[0mSeries\u001b[0m\u001b[1;33m(\u001b[0m\u001b[0mcosine_similarities\u001b[0m\u001b[1;33m[\u001b[0m\u001b[0midx\u001b[0m\u001b[1;33m]\u001b[0m\u001b[1;33m)\u001b[0m\u001b[1;33m.\u001b[0m\u001b[0msort_values\u001b[0m\u001b[1;33m(\u001b[0m\u001b[0mascending\u001b[0m \u001b[1;33m=\u001b[0m \u001b[1;32mFalse\u001b[0m\u001b[1;33m)\u001b[0m\u001b[1;33m\u001b[0m\u001b[1;33m\u001b[0m\u001b[0m\n\u001b[0m\u001b[0;32m     13\u001b[0m \u001b[1;33m\u001b[0m\u001b[0m\n\u001b[0;32m     14\u001b[0m     \u001b[1;31m# getting the indexes of the 10 most similar games\u001b[0m\u001b[1;33m\u001b[0m\u001b[1;33m\u001b[0m\u001b[1;33m\u001b[0m\u001b[0m\n",
            "\u001b[1;31mIndexError\u001b[0m: index 9681 is out of bounds for axis 0 with size 568"
          ]
        }
      ]
    },
    {
      "cell_type": "markdown",
      "metadata": {
        "id": "fYLTa6OwLuK1",
        "colab_type": "text"
      },
      "source": [
        "### Evaluation"
      ]
    },
    {
      "cell_type": "markdown",
      "metadata": {
        "id": "VqYkuGA2LuK2",
        "colab_type": "text"
      },
      "source": [
        "<b> MAE & RMSE"
      ]
    },
    {
      "cell_type": "code",
      "metadata": {
        "id": "8Gv_cYN2LuLA",
        "colab_type": "code",
        "colab": {}
      },
      "source": [
        "predictions = svd.test(testset)\n",
        "accuracy.rmse(predictions)"
      ],
      "execution_count": 0,
      "outputs": []
    },
    {
      "cell_type": "code",
      "metadata": {
        "id": "jFzUqLhxLuLD",
        "colab_type": "code",
        "colab": {}
      },
      "source": [
        "# taking a look at the first 10 rows of our test set\n",
        "predictions[:10]"
      ],
      "execution_count": 0,
      "outputs": []
    },
    {
      "cell_type": "code",
      "metadata": {
        "id": "jOY494f9LuLH",
        "colab_type": "code",
        "colab": {}
      },
      "source": [
        "print(\"Number of users: \", df.userId.nunique()) \n",
        "print(\"Number of movies: \", df.movieId.nunique())\n"
      ],
      "execution_count": 0,
      "outputs": []
    },
    {
      "cell_type": "code",
      "metadata": {
        "id": "o1KWgV12LuLN",
        "colab_type": "code",
        "colab": {}
      },
      "source": [
        "user = 5\n",
        "item = 100\n",
        "svd.predict(user, item)"
      ],
      "execution_count": 0,
      "outputs": []
    },
    {
      "cell_type": "code",
      "metadata": {
        "id": "qZnbYBu7LuLP",
        "colab_type": "code",
        "colab": {}
      },
      "source": [
        "steam_id_tag = steam['appid']\n",
        "indices = pd.Series(steam.index, index=sample['appid'])"
      ],
      "execution_count": 0,
      "outputs": []
    },
    {
      "cell_type": "code",
      "metadata": {
        "id": "aw0qs6BHLuLV",
        "colab_type": "code",
        "colab": {}
      },
      "source": [
        "def get_most_similar_games(appid, n = 20):\n",
        "    idx = indices[appid]\n",
        "    idx = np.array(idx, dtype=np.integer)\n",
        "    sim_scores = list(enumerate(cosine_similarities[idx]))\n",
        "    sim_scores = sorted(sim_scores, key=lambda x: x[1], reverse=True)\n",
        "    sim_scores = sim_scores[0:n]\n",
        "\n",
        "    game_indices = [i[0] for i in sim_scores]\n",
        "\n",
        "    recs = pd.DataFrame(columns= steam.columns)\n",
        "    for i in a_id.loc[game_indices]:\n",
        "\n",
        "        if i != name: \n",
        "            recs = recs.append(steam[steam['appid'] == i])\n",
        "    return recs"
      ],
      "execution_count": 0,
      "outputs": []
    },
    {
      "cell_type": "code",
      "metadata": {
        "id": "l7XGDF9NLuLY",
        "colab_type": "code",
        "colab": {}
      },
      "source": [
        "steam[steam['appid'] == 20]"
      ],
      "execution_count": 0,
      "outputs": []
    },
    {
      "cell_type": "code",
      "metadata": {
        "id": "Zw2iD3feLuLe",
        "colab_type": "code",
        "colab": {}
      },
      "source": [
        "get_most_similar_games(20)"
      ],
      "execution_count": 0,
      "outputs": []
    },
    {
      "cell_type": "code",
      "metadata": {
        "id": "yl9hwOrlLuLj",
        "colab_type": "code",
        "colab": {}
      },
      "source": [
        ""
      ],
      "execution_count": 0,
      "outputs": []
    },
    {
      "cell_type": "code",
      "metadata": {
        "id": "rB3FsDEzLuLr",
        "colab_type": "code",
        "colab": {}
      },
      "source": [
        ""
      ],
      "execution_count": 0,
      "outputs": []
    },
    {
      "cell_type": "code",
      "metadata": {
        "id": "AEVHpvwGLuLw",
        "colab_type": "code",
        "colab": {}
      },
      "source": [
        ""
      ],
      "execution_count": 0,
      "outputs": []
    },
    {
      "cell_type": "code",
      "metadata": {
        "id": "GME2CmkmLuL5",
        "colab_type": "code",
        "colab": {}
      },
      "source": [
        ""
      ],
      "execution_count": 0,
      "outputs": []
    },
    {
      "cell_type": "code",
      "metadata": {
        "id": "Gbo46Jc2LuL7",
        "colab_type": "code",
        "colab": {}
      },
      "source": [
        ""
      ],
      "execution_count": 0,
      "outputs": []
    },
    {
      "cell_type": "code",
      "metadata": {
        "id": "LaJ032JGLuL-",
        "colab_type": "code",
        "colab": {}
      },
      "source": [
        ""
      ],
      "execution_count": 0,
      "outputs": []
    },
    {
      "cell_type": "code",
      "metadata": {
        "id": "NBKsMEKbLuMD",
        "colab_type": "code",
        "colab": {}
      },
      "source": [
        ""
      ],
      "execution_count": 0,
      "outputs": []
    },
    {
      "cell_type": "code",
      "metadata": {
        "id": "J99D4mi3LuMK",
        "colab_type": "code",
        "colab": {}
      },
      "source": [
        ""
      ],
      "execution_count": 0,
      "outputs": []
    },
    {
      "cell_type": "code",
      "metadata": {
        "id": "m1vt-zvCLuMQ",
        "colab_type": "code",
        "colab": {}
      },
      "source": [
        ""
      ],
      "execution_count": 0,
      "outputs": []
    },
    {
      "cell_type": "code",
      "metadata": {
        "id": "ielnC2k0LuMT",
        "colab_type": "code",
        "colab": {}
      },
      "source": [
        ""
      ],
      "execution_count": 0,
      "outputs": []
    }
  ]
}