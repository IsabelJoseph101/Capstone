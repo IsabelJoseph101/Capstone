{
 "cells": [
  {
   "cell_type": "markdown",
   "metadata": {},
   "source": [
    "# STEAM RECOMMENDER SYSTEM"
   ]
  },
  {
   "cell_type": "markdown",
   "metadata": {},
   "source": [
    "### Importing necessary packages"
   ]
  },
  {
   "cell_type": "code",
   "execution_count": null,
   "metadata": {},
   "outputs": [],
   "source": [
    "!pip install"
   ]
  },
  {
   "cell_type": "code",
   "execution_count": 245,
   "metadata": {},
   "outputs": [
    {
     "name": "stderr",
     "output_type": "stream",
     "text": [
      "[nltk_data] Downloading package punkt to\n",
      "[nltk_data]     C:\\Users\\Visitor\\AppData\\Roaming\\nltk_data...\n",
      "[nltk_data]   Package punkt is already up-to-date!\n"
     ]
    }
   ],
   "source": [
    "import pandas as pd\n",
    "pd.set_option('display.max_rows', 100)\n",
    "pd.set_option('display.max_columns', 100)\n",
    "pd.set_option('display.width', 100)\n",
    "import seaborn as sns\n",
    "import numpy as np\n",
    "import matplotlib.pyplot as plt\n",
    "%matplotlib inline\n",
    "\n",
    "from sklearn.preprocessing import StandardScaler \n",
    "from sklearn import preprocessing\n",
    "from sklearn.feature_extraction.text import TfidfVectorizer\n",
    "from sklearn.decomposition import TruncatedSVD\n",
    "\n",
    "from collections import Counter\n",
    "\n",
    "from surprise import Dataset, Reader\n",
    "from surprise import SVD\n",
    "from surprise import accuracy\n",
    "from surprise.model_selection import cross_validate, train_test_splitfrom collections \n",
    "import Counter\n",
    "from surprise import Dataset, Reader\n",
    "from surprise import SVD\n",
    "from surprise import accuracy\n",
    "from surprise.model_selection import cross_validate, train_test_split\n",
    "\n",
    "import nltk\n",
    "from nltk.corpus import stopwords\n",
    "from nltk import word_tokenize, FreqDist\n",
    "nltk.download('punkt')\n",
    "import re\n",
    "import string\n",
    "\n",
    "import warnings\n",
    "warnings.filterwarnings(\"ignore\", category=FutureWarning)"
   ]
  },
  {
   "cell_type": "markdown",
   "metadata": {},
   "source": [
    "### Importing the cleaned data set"
   ]
  },
  {
   "cell_type": "code",
   "execution_count": 246,
   "metadata": {},
   "outputs": [],
   "source": [
    "# importing the data set\n",
    "steam = pd.read_csv('steam_rs.csv')"
   ]
  },
  {
   "cell_type": "code",
   "execution_count": 247,
   "metadata": {},
   "outputs": [
    {
     "data": {
      "text/html": [
       "<div>\n",
       "<style scoped>\n",
       "    .dataframe tbody tr th:only-of-type {\n",
       "        vertical-align: middle;\n",
       "    }\n",
       "\n",
       "    .dataframe tbody tr th {\n",
       "        vertical-align: top;\n",
       "    }\n",
       "\n",
       "    .dataframe thead th {\n",
       "        text-align: right;\n",
       "    }\n",
       "</style>\n",
       "<table border=\"1\" class=\"dataframe\">\n",
       "  <thead>\n",
       "    <tr style=\"text-align: right;\">\n",
       "      <th></th>\n",
       "      <th>id</th>\n",
       "      <th>appid</th>\n",
       "      <th>name</th>\n",
       "      <th>purchase</th>\n",
       "      <th>hours_of_play</th>\n",
       "      <th>developer</th>\n",
       "      <th>publisher</th>\n",
       "      <th>positive</th>\n",
       "      <th>negative</th>\n",
       "      <th>release_date</th>\n",
       "      <th>english</th>\n",
       "      <th>platforms</th>\n",
       "      <th>required_age</th>\n",
       "      <th>categories</th>\n",
       "      <th>genres</th>\n",
       "      <th>steamspy_tags</th>\n",
       "      <th>achievements</th>\n",
       "      <th>average_playtime</th>\n",
       "      <th>median_playtime</th>\n",
       "      <th>owners</th>\n",
       "      <th>detailed_description</th>\n",
       "      <th>about_the_game</th>\n",
       "      <th>short_description</th>\n",
       "      <th>price</th>\n",
       "      <th>rank</th>\n",
       "    </tr>\n",
       "  </thead>\n",
       "  <tbody>\n",
       "    <tr>\n",
       "      <td>0</td>\n",
       "      <td>151603712</td>\n",
       "      <td>570</td>\n",
       "      <td>Dota 2</td>\n",
       "      <td>purchase</td>\n",
       "      <td>0.0</td>\n",
       "      <td>Valve</td>\n",
       "      <td>Valve</td>\n",
       "      <td>1097301</td>\n",
       "      <td>194384</td>\n",
       "      <td>2013-07-09</td>\n",
       "      <td>1</td>\n",
       "      <td>windows;mac;linux</td>\n",
       "      <td>0</td>\n",
       "      <td>Multi-player;Co-op;Steam Trading Cards;Steam W...</td>\n",
       "      <td>Action;Free to Play;Strategy</td>\n",
       "      <td>Free to Play;MOBA;Strategy</td>\n",
       "      <td>0</td>\n",
       "      <td>23944</td>\n",
       "      <td>801</td>\n",
       "      <td>100000000-200000000</td>\n",
       "      <td>&lt;strong&gt;The most-played game on Steam.&lt;/strong...</td>\n",
       "      <td>&lt;strong&gt;The most-played game on Steam.&lt;/strong...</td>\n",
       "      <td>Every day, millions of players worldwide enter...</td>\n",
       "      <td>0.0</td>\n",
       "      <td>84.95113</td>\n",
       "    </tr>\n",
       "    <tr>\n",
       "      <td>1</td>\n",
       "      <td>151603712</td>\n",
       "      <td>570</td>\n",
       "      <td>Dota 2</td>\n",
       "      <td>play</td>\n",
       "      <td>0.5</td>\n",
       "      <td>Valve</td>\n",
       "      <td>Valve</td>\n",
       "      <td>1097301</td>\n",
       "      <td>194384</td>\n",
       "      <td>2013-07-09</td>\n",
       "      <td>1</td>\n",
       "      <td>windows;mac;linux</td>\n",
       "      <td>0</td>\n",
       "      <td>Multi-player;Co-op;Steam Trading Cards;Steam W...</td>\n",
       "      <td>Action;Free to Play;Strategy</td>\n",
       "      <td>Free to Play;MOBA;Strategy</td>\n",
       "      <td>0</td>\n",
       "      <td>23944</td>\n",
       "      <td>801</td>\n",
       "      <td>100000000-200000000</td>\n",
       "      <td>&lt;strong&gt;The most-played game on Steam.&lt;/strong...</td>\n",
       "      <td>&lt;strong&gt;The most-played game on Steam.&lt;/strong...</td>\n",
       "      <td>Every day, millions of players worldwide enter...</td>\n",
       "      <td>0.0</td>\n",
       "      <td>84.95113</td>\n",
       "    </tr>\n",
       "    <tr>\n",
       "      <td>2</td>\n",
       "      <td>187131847</td>\n",
       "      <td>570</td>\n",
       "      <td>Dota 2</td>\n",
       "      <td>purchase</td>\n",
       "      <td>0.0</td>\n",
       "      <td>Valve</td>\n",
       "      <td>Valve</td>\n",
       "      <td>1097301</td>\n",
       "      <td>194384</td>\n",
       "      <td>2013-07-09</td>\n",
       "      <td>1</td>\n",
       "      <td>windows;mac;linux</td>\n",
       "      <td>0</td>\n",
       "      <td>Multi-player;Co-op;Steam Trading Cards;Steam W...</td>\n",
       "      <td>Action;Free to Play;Strategy</td>\n",
       "      <td>Free to Play;MOBA;Strategy</td>\n",
       "      <td>0</td>\n",
       "      <td>23944</td>\n",
       "      <td>801</td>\n",
       "      <td>100000000-200000000</td>\n",
       "      <td>&lt;strong&gt;The most-played game on Steam.&lt;/strong...</td>\n",
       "      <td>&lt;strong&gt;The most-played game on Steam.&lt;/strong...</td>\n",
       "      <td>Every day, millions of players worldwide enter...</td>\n",
       "      <td>0.0</td>\n",
       "      <td>84.95113</td>\n",
       "    </tr>\n",
       "    <tr>\n",
       "      <td>3</td>\n",
       "      <td>187131847</td>\n",
       "      <td>570</td>\n",
       "      <td>Dota 2</td>\n",
       "      <td>play</td>\n",
       "      <td>2.3</td>\n",
       "      <td>Valve</td>\n",
       "      <td>Valve</td>\n",
       "      <td>1097301</td>\n",
       "      <td>194384</td>\n",
       "      <td>2013-07-09</td>\n",
       "      <td>1</td>\n",
       "      <td>windows;mac;linux</td>\n",
       "      <td>0</td>\n",
       "      <td>Multi-player;Co-op;Steam Trading Cards;Steam W...</td>\n",
       "      <td>Action;Free to Play;Strategy</td>\n",
       "      <td>Free to Play;MOBA;Strategy</td>\n",
       "      <td>0</td>\n",
       "      <td>23944</td>\n",
       "      <td>801</td>\n",
       "      <td>100000000-200000000</td>\n",
       "      <td>&lt;strong&gt;The most-played game on Steam.&lt;/strong...</td>\n",
       "      <td>&lt;strong&gt;The most-played game on Steam.&lt;/strong...</td>\n",
       "      <td>Every day, millions of players worldwide enter...</td>\n",
       "      <td>0.0</td>\n",
       "      <td>84.95113</td>\n",
       "    </tr>\n",
       "    <tr>\n",
       "      <td>4</td>\n",
       "      <td>176410694</td>\n",
       "      <td>570</td>\n",
       "      <td>Dota 2</td>\n",
       "      <td>purchase</td>\n",
       "      <td>0.0</td>\n",
       "      <td>Valve</td>\n",
       "      <td>Valve</td>\n",
       "      <td>1097301</td>\n",
       "      <td>194384</td>\n",
       "      <td>2013-07-09</td>\n",
       "      <td>1</td>\n",
       "      <td>windows;mac;linux</td>\n",
       "      <td>0</td>\n",
       "      <td>Multi-player;Co-op;Steam Trading Cards;Steam W...</td>\n",
       "      <td>Action;Free to Play;Strategy</td>\n",
       "      <td>Free to Play;MOBA;Strategy</td>\n",
       "      <td>0</td>\n",
       "      <td>23944</td>\n",
       "      <td>801</td>\n",
       "      <td>100000000-200000000</td>\n",
       "      <td>&lt;strong&gt;The most-played game on Steam.&lt;/strong...</td>\n",
       "      <td>&lt;strong&gt;The most-played game on Steam.&lt;/strong...</td>\n",
       "      <td>Every day, millions of players worldwide enter...</td>\n",
       "      <td>0.0</td>\n",
       "      <td>84.95113</td>\n",
       "    </tr>\n",
       "  </tbody>\n",
       "</table>\n",
       "</div>"
      ],
      "text/plain": [
       "          id  appid    name  purchase  hours_of_play developer publisher  positive  negative  \\\n",
       "0  151603712    570  Dota 2  purchase            0.0     Valve     Valve   1097301    194384   \n",
       "1  151603712    570  Dota 2      play            0.5     Valve     Valve   1097301    194384   \n",
       "2  187131847    570  Dota 2  purchase            0.0     Valve     Valve   1097301    194384   \n",
       "3  187131847    570  Dota 2      play            2.3     Valve     Valve   1097301    194384   \n",
       "4  176410694    570  Dota 2  purchase            0.0     Valve     Valve   1097301    194384   \n",
       "\n",
       "  release_date  english          platforms  required_age  \\\n",
       "0   2013-07-09        1  windows;mac;linux             0   \n",
       "1   2013-07-09        1  windows;mac;linux             0   \n",
       "2   2013-07-09        1  windows;mac;linux             0   \n",
       "3   2013-07-09        1  windows;mac;linux             0   \n",
       "4   2013-07-09        1  windows;mac;linux             0   \n",
       "\n",
       "                                          categories                        genres  \\\n",
       "0  Multi-player;Co-op;Steam Trading Cards;Steam W...  Action;Free to Play;Strategy   \n",
       "1  Multi-player;Co-op;Steam Trading Cards;Steam W...  Action;Free to Play;Strategy   \n",
       "2  Multi-player;Co-op;Steam Trading Cards;Steam W...  Action;Free to Play;Strategy   \n",
       "3  Multi-player;Co-op;Steam Trading Cards;Steam W...  Action;Free to Play;Strategy   \n",
       "4  Multi-player;Co-op;Steam Trading Cards;Steam W...  Action;Free to Play;Strategy   \n",
       "\n",
       "                steamspy_tags  achievements  average_playtime  median_playtime  \\\n",
       "0  Free to Play;MOBA;Strategy             0             23944              801   \n",
       "1  Free to Play;MOBA;Strategy             0             23944              801   \n",
       "2  Free to Play;MOBA;Strategy             0             23944              801   \n",
       "3  Free to Play;MOBA;Strategy             0             23944              801   \n",
       "4  Free to Play;MOBA;Strategy             0             23944              801   \n",
       "\n",
       "                owners                               detailed_description  \\\n",
       "0  100000000-200000000  <strong>The most-played game on Steam.</strong...   \n",
       "1  100000000-200000000  <strong>The most-played game on Steam.</strong...   \n",
       "2  100000000-200000000  <strong>The most-played game on Steam.</strong...   \n",
       "3  100000000-200000000  <strong>The most-played game on Steam.</strong...   \n",
       "4  100000000-200000000  <strong>The most-played game on Steam.</strong...   \n",
       "\n",
       "                                      about_the_game  \\\n",
       "0  <strong>The most-played game on Steam.</strong...   \n",
       "1  <strong>The most-played game on Steam.</strong...   \n",
       "2  <strong>The most-played game on Steam.</strong...   \n",
       "3  <strong>The most-played game on Steam.</strong...   \n",
       "4  <strong>The most-played game on Steam.</strong...   \n",
       "\n",
       "                                   short_description  price      rank  \n",
       "0  Every day, millions of players worldwide enter...    0.0  84.95113  \n",
       "1  Every day, millions of players worldwide enter...    0.0  84.95113  \n",
       "2  Every day, millions of players worldwide enter...    0.0  84.95113  \n",
       "3  Every day, millions of players worldwide enter...    0.0  84.95113  \n",
       "4  Every day, millions of players worldwide enter...    0.0  84.95113  "
      ]
     },
     "execution_count": 247,
     "metadata": {},
     "output_type": "execute_result"
    }
   ],
   "source": [
    "# displaying 5 rows of the data frame\n",
    "steam.head()"
   ]
  },
  {
   "cell_type": "code",
   "execution_count": 248,
   "metadata": {},
   "outputs": [
    {
     "data": {
      "text/html": [
       "<div>\n",
       "<style scoped>\n",
       "    .dataframe tbody tr th:only-of-type {\n",
       "        vertical-align: middle;\n",
       "    }\n",
       "\n",
       "    .dataframe tbody tr th {\n",
       "        vertical-align: top;\n",
       "    }\n",
       "\n",
       "    .dataframe thead th {\n",
       "        text-align: right;\n",
       "    }\n",
       "</style>\n",
       "<table border=\"1\" class=\"dataframe\">\n",
       "  <thead>\n",
       "    <tr style=\"text-align: right;\">\n",
       "      <th></th>\n",
       "      <th>count</th>\n",
       "    </tr>\n",
       "    <tr>\n",
       "      <th>name</th>\n",
       "      <th></th>\n",
       "    </tr>\n",
       "  </thead>\n",
       "  <tbody>\n",
       "    <tr>\n",
       "      <td>Putt-Putt and Pep's Dog on a Stick</td>\n",
       "      <td>1</td>\n",
       "    </tr>\n",
       "    <tr>\n",
       "      <td>Battle Mages</td>\n",
       "      <td>1</td>\n",
       "    </tr>\n",
       "    <tr>\n",
       "      <td>Gold Rush! Anniversary</td>\n",
       "      <td>1</td>\n",
       "    </tr>\n",
       "    <tr>\n",
       "      <td>Vertex Dispenser</td>\n",
       "      <td>1</td>\n",
       "    </tr>\n",
       "    <tr>\n",
       "      <td>Verde Station</td>\n",
       "      <td>1</td>\n",
       "    </tr>\n",
       "    <tr>\n",
       "      <td>...</td>\n",
       "      <td>...</td>\n",
       "    </tr>\n",
       "    <tr>\n",
       "      <td>Counter-Strike</td>\n",
       "      <td>1424</td>\n",
       "    </tr>\n",
       "    <tr>\n",
       "      <td>Left 4 Dead 2</td>\n",
       "      <td>1752</td>\n",
       "    </tr>\n",
       "    <tr>\n",
       "      <td>Unturned</td>\n",
       "      <td>2632</td>\n",
       "    </tr>\n",
       "    <tr>\n",
       "      <td>Team Fortress 2</td>\n",
       "      <td>4646</td>\n",
       "    </tr>\n",
       "    <tr>\n",
       "      <td>Dota 2</td>\n",
       "      <td>9682</td>\n",
       "    </tr>\n",
       "  </tbody>\n",
       "</table>\n",
       "<p>2297 rows × 1 columns</p>\n",
       "</div>"
      ],
      "text/plain": [
       "                                    count\n",
       "name                                     \n",
       "Putt-Putt and Pep's Dog on a Stick      1\n",
       "Battle Mages                            1\n",
       "Gold Rush! Anniversary                  1\n",
       "Vertex Dispenser                        1\n",
       "Verde Station                           1\n",
       "...                                   ...\n",
       "Counter-Strike                       1424\n",
       "Left 4 Dead 2                        1752\n",
       "Unturned                             2632\n",
       "Team Fortress 2                      4646\n",
       "Dota 2                               9682\n",
       "\n",
       "[2297 rows x 1 columns]"
      ]
     },
     "execution_count": 248,
     "metadata": {},
     "output_type": "execute_result"
    }
   ],
   "source": [
    "# getting name count\n",
    "steam_name_count = pd.DataFrame(steam.groupby('name').size().sort_values(), columns=['count'])\n",
    "steam_name_count"
   ]
  },
  {
   "cell_type": "code",
   "execution_count": 249,
   "metadata": {},
   "outputs": [
    {
     "data": {
      "text/html": [
       "<div>\n",
       "<style scoped>\n",
       "    .dataframe tbody tr th:only-of-type {\n",
       "        vertical-align: middle;\n",
       "    }\n",
       "\n",
       "    .dataframe tbody tr th {\n",
       "        vertical-align: top;\n",
       "    }\n",
       "\n",
       "    .dataframe thead th {\n",
       "        text-align: right;\n",
       "    }\n",
       "</style>\n",
       "<table border=\"1\" class=\"dataframe\">\n",
       "  <thead>\n",
       "    <tr style=\"text-align: right;\">\n",
       "      <th></th>\n",
       "      <th>name</th>\n",
       "      <th>rank</th>\n",
       "    </tr>\n",
       "  </thead>\n",
       "  <tbody>\n",
       "    <tr>\n",
       "      <td>0</td>\n",
       "      <td>0RBITALIS</td>\n",
       "      <td>71.785714</td>\n",
       "    </tr>\n",
       "    <tr>\n",
       "      <td>1</td>\n",
       "      <td>10 Second Ninja</td>\n",
       "      <td>85.897436</td>\n",
       "    </tr>\n",
       "    <tr>\n",
       "      <td>2</td>\n",
       "      <td>10,000,000</td>\n",
       "      <td>89.694459</td>\n",
       "    </tr>\n",
       "    <tr>\n",
       "      <td>3</td>\n",
       "      <td>100% Orange Juice</td>\n",
       "      <td>93.090154</td>\n",
       "    </tr>\n",
       "    <tr>\n",
       "      <td>4</td>\n",
       "      <td>1000 Amps</td>\n",
       "      <td>78.877888</td>\n",
       "    </tr>\n",
       "    <tr>\n",
       "      <td>...</td>\n",
       "      <td>...</td>\n",
       "      <td>...</td>\n",
       "    </tr>\n",
       "    <tr>\n",
       "      <td>2292</td>\n",
       "      <td>rFactor 2</td>\n",
       "      <td>86.908517</td>\n",
       "    </tr>\n",
       "    <tr>\n",
       "      <td>2293</td>\n",
       "      <td>resident evil 4 / biohazard 4</td>\n",
       "      <td>86.958567</td>\n",
       "    </tr>\n",
       "    <tr>\n",
       "      <td>2294</td>\n",
       "      <td>rymdkapsel</td>\n",
       "      <td>82.568807</td>\n",
       "    </tr>\n",
       "    <tr>\n",
       "      <td>2295</td>\n",
       "      <td>samurai_jazz</td>\n",
       "      <td>68.181818</td>\n",
       "    </tr>\n",
       "    <tr>\n",
       "      <td>2296</td>\n",
       "      <td>the static speaks my name</td>\n",
       "      <td>81.308962</td>\n",
       "    </tr>\n",
       "  </tbody>\n",
       "</table>\n",
       "<p>2297 rows × 2 columns</p>\n",
       "</div>"
      ],
      "text/plain": [
       "                               name       rank\n",
       "0                         0RBITALIS  71.785714\n",
       "1                   10 Second Ninja  85.897436\n",
       "2                        10,000,000  89.694459\n",
       "3                 100% Orange Juice  93.090154\n",
       "4                         1000 Amps  78.877888\n",
       "...                             ...        ...\n",
       "2292                      rFactor 2  86.908517\n",
       "2293  resident evil 4 / biohazard 4  86.958567\n",
       "2294                     rymdkapsel  82.568807\n",
       "2295                   samurai_jazz  68.181818\n",
       "2296      the static speaks my name  81.308962\n",
       "\n",
       "[2297 rows x 2 columns]"
      ]
     },
     "execution_count": 249,
     "metadata": {},
     "output_type": "execute_result"
    }
   ],
   "source": [
    "# checking games based on their rank\n",
    "steam.groupby(['name'])['rank'].mean().reset_index()"
   ]
  },
  {
   "cell_type": "code",
   "execution_count": 250,
   "metadata": {},
   "outputs": [
    {
     "data": {
      "text/plain": [
       "84.951130    9682\n",
       "94.121113    4646\n",
       "90.935142    2632\n",
       "97.067529    1752\n",
       "97.461406    1424\n",
       "             ... \n",
       "22.826087       1\n",
       "85.915493       1\n",
       "55.185185       1\n",
       "66.812227       1\n",
       "82.377049       1\n",
       "Name: rank, Length: 2182, dtype: int64"
      ]
     },
     "execution_count": 250,
     "metadata": {},
     "output_type": "execute_result"
    }
   ],
   "source": [
    "ratings = steam['rank'].value_counts()\n",
    "ratings"
   ]
  },
  {
   "cell_type": "code",
   "execution_count": 251,
   "metadata": {},
   "outputs": [
    {
     "data": {
      "image/png": "[encoded data removed]",
      "text/plain": [
       "<Figure size 432x288 with 1 Axes>"
      ]
     },
     "metadata": {
      "needs_background": "light"
     },
     "output_type": "display_data"
    }
   ],
   "source": [
    "# plotting distribution of ratings\n",
    "ratings_sorted = sorted(list(zip(ratings.index, ratings)))\n",
    "plt.bar([r[0] for r in ratings_sorted], [r[1] for r in ratings_sorted], color='maroon')\n",
    "plt.xlabel(\"Rating\")\n",
    "plt.ylabel(\"# of Ratings\")\n",
    "plt.title(\"Distribution of Ratings\")\n",
    "plt.show()"
   ]
  },
  {
   "cell_type": "code",
   "execution_count": 252,
   "metadata": {},
   "outputs": [
    {
     "data": {
      "text/plain": [
       "id\n",
       "73017395     11754.0\n",
       "100630947    10445.7\n",
       "153382649     9640.0\n",
       "130882834     7765.0\n",
       "52567955      7704.8\n",
       "14544587      7242.7\n",
       "121199670     6755.2\n",
       "67694595      6269.7\n",
       "86256882      6242.7\n",
       "12660489      6061.5\n",
       "Name: hours_of_play, dtype: float64"
      ]
     },
     "execution_count": 252,
     "metadata": {},
     "output_type": "execute_result"
    }
   ],
   "source": [
    "# checking users with the highest amount of hours spent playing \n",
    "steam.groupby('id')['hours_of_play'].agg(np.sum).sort_values(ascending=False)[0:10]"
   ]
  },
  {
   "cell_type": "code",
   "execution_count": 253,
   "metadata": {},
   "outputs": [
    {
     "name": "stdout",
     "output_type": "stream",
     "text": [
      "Unique SteamIds : 10350\n",
      "Unique AppIds : 2297\n"
     ]
    }
   ],
   "source": [
    "print(\"Unique SteamIds :\", steam[\"id\"].nunique())\n",
    "print(\"Unique AppIds :\", steam[\"name\"].nunique())"
   ]
  },
  {
   "cell_type": "code",
   "execution_count": 254,
   "metadata": {},
   "outputs": [
    {
     "data": {
      "text/plain": [
       "Text(0.5, 1.0, 'Hours of play per game')"
      ]
     },
     "execution_count": 254,
     "metadata": {},
     "output_type": "execute_result"
    },
    {
     "data": {
      "image/png": "[encoded data removed]",
      "text/plain": [
       "<Figure size 432x288 with 1 Axes>"
      ]
     },
     "metadata": {
      "needs_background": "light"
     },
     "output_type": "display_data"
    }
   ],
   "source": [
    "# graphing the amount of hours spent on a game\n",
    "top = 10\n",
    "\n",
    "user_counts = steam.groupby('id')['hours_of_play'].agg(np.sum).sort_values(ascending=False)[0:top]\n",
    "mask = steam['id'].isin(user_counts.index)\n",
    "df_infos_user = steam.loc[mask].loc[steam['purchase'] == 'play']\n",
    "hours_played = df_infos_user.groupby('name')['hours_of_play'].agg(np.sum).sort_values(ascending=False)\n",
    "hours_played = pd.DataFrame({'game': hours_played.index, 'hours_played': hours_played.values})[0:10]\n",
    "\n",
    "sns.barplot(y = 'game', x = 'hours_played', data = hours_played)\n",
    "\n",
    "plt.title(\"Hours of play per game\")"
   ]
  },
  {
   "cell_type": "code",
   "execution_count": 255,
   "metadata": {},
   "outputs": [
    {
     "data": {
      "text/plain": [
       "<matplotlib.axes._subplots.AxesSubplot at 0x1fbc8924448>"
      ]
     },
     "execution_count": 255,
     "metadata": {},
     "output_type": "execute_result"
    },
    {
     "data": {
      "image/png": "[encoded data removed]",
      "text/plain": [
       "<Figure size 432x288 with 1 Axes>"
      ]
     },
     "metadata": {
      "needs_background": "light"
     },
     "output_type": "display_data"
    }
   ],
   "source": [
    "# checking amount of users that have either played or purchased a game\n",
    "actions = steam.groupby('purchase')['purchase'].agg('count')\n",
    "actions = pd.DataFrame({'purchase': actions.index, 'n': actions.values})\n",
    "sns.barplot(x = 'purchase', y = 'n', data = actions)"
   ]
  },
  {
   "cell_type": "markdown",
   "metadata": {},
   "source": [
    "# Content based model"
   ]
  },
  {
   "cell_type": "markdown",
   "metadata": {},
   "source": [
    "Content based recommender systems predict what the user likes based on what they have liked in the past. This creates personlizes recommendations for the user based on interests, and other such factors. To recommend a user similar items that the user has previously liked, TFIDF can be used, as it helps identify which item is similar to each other. Each of these items are represented using TFIDF vectors.\n",
    "<br><br>\n",
    "TFIDF is a very crucial in building the recommender system. Term frequency (TF) is the frequencies of a specific word in a document, and inverse document frequency (IDF) is the universe of document frequencies throughout the entire corpus of documents."
   ]
  },
  {
   "cell_type": "code",
   "execution_count": 256,
   "metadata": {},
   "outputs": [
    {
     "data": {
      "text/html": [
       "<div>\n",
       "<style scoped>\n",
       "    .dataframe tbody tr th:only-of-type {\n",
       "        vertical-align: middle;\n",
       "    }\n",
       "\n",
       "    .dataframe tbody tr th {\n",
       "        vertical-align: top;\n",
       "    }\n",
       "\n",
       "    .dataframe thead th {\n",
       "        text-align: right;\n",
       "    }\n",
       "</style>\n",
       "<table border=\"1\" class=\"dataframe\">\n",
       "  <thead>\n",
       "    <tr style=\"text-align: right;\">\n",
       "      <th></th>\n",
       "      <th>id</th>\n",
       "      <th>appid</th>\n",
       "      <th>name</th>\n",
       "      <th>purchase</th>\n",
       "      <th>hours_of_play</th>\n",
       "      <th>developer</th>\n",
       "      <th>publisher</th>\n",
       "      <th>positive</th>\n",
       "      <th>negative</th>\n",
       "      <th>release_date</th>\n",
       "      <th>english</th>\n",
       "      <th>platforms</th>\n",
       "      <th>required_age</th>\n",
       "      <th>categories</th>\n",
       "      <th>genres</th>\n",
       "      <th>steamspy_tags</th>\n",
       "      <th>achievements</th>\n",
       "      <th>average_playtime</th>\n",
       "      <th>median_playtime</th>\n",
       "      <th>owners</th>\n",
       "      <th>detailed_description</th>\n",
       "      <th>about_the_game</th>\n",
       "      <th>short_description</th>\n",
       "      <th>price</th>\n",
       "      <th>rank</th>\n",
       "    </tr>\n",
       "  </thead>\n",
       "  <tbody>\n",
       "    <tr>\n",
       "      <td>0</td>\n",
       "      <td>151603712</td>\n",
       "      <td>570</td>\n",
       "      <td>Dota 2</td>\n",
       "      <td>purchase</td>\n",
       "      <td>0.0</td>\n",
       "      <td>Valve</td>\n",
       "      <td>Valve</td>\n",
       "      <td>1097301</td>\n",
       "      <td>194384</td>\n",
       "      <td>2013-07-09</td>\n",
       "      <td>1</td>\n",
       "      <td>windows;mac;linux</td>\n",
       "      <td>0</td>\n",
       "      <td>Multi-player;Co-op;Steam Trading Cards;Steam W...</td>\n",
       "      <td>Action;Free to Play;Strategy</td>\n",
       "      <td>Free to Play;MOBA;Strategy</td>\n",
       "      <td>0</td>\n",
       "      <td>23944</td>\n",
       "      <td>801</td>\n",
       "      <td>100000000-200000000</td>\n",
       "      <td>&lt;strong&gt;The most-played game on Steam.&lt;/strong...</td>\n",
       "      <td>&lt;strong&gt;The most-played game on Steam.&lt;/strong...</td>\n",
       "      <td>Every day, millions of players worldwide enter...</td>\n",
       "      <td>0.0</td>\n",
       "      <td>84.95113</td>\n",
       "    </tr>\n",
       "    <tr>\n",
       "      <td>1</td>\n",
       "      <td>151603712</td>\n",
       "      <td>570</td>\n",
       "      <td>Dota 2</td>\n",
       "      <td>play</td>\n",
       "      <td>0.5</td>\n",
       "      <td>Valve</td>\n",
       "      <td>Valve</td>\n",
       "      <td>1097301</td>\n",
       "      <td>194384</td>\n",
       "      <td>2013-07-09</td>\n",
       "      <td>1</td>\n",
       "      <td>windows;mac;linux</td>\n",
       "      <td>0</td>\n",
       "      <td>Multi-player;Co-op;Steam Trading Cards;Steam W...</td>\n",
       "      <td>Action;Free to Play;Strategy</td>\n",
       "      <td>Free to Play;MOBA;Strategy</td>\n",
       "      <td>0</td>\n",
       "      <td>23944</td>\n",
       "      <td>801</td>\n",
       "      <td>100000000-200000000</td>\n",
       "      <td>&lt;strong&gt;The most-played game on Steam.&lt;/strong...</td>\n",
       "      <td>&lt;strong&gt;The most-played game on Steam.&lt;/strong...</td>\n",
       "      <td>Every day, millions of players worldwide enter...</td>\n",
       "      <td>0.0</td>\n",
       "      <td>84.95113</td>\n",
       "    </tr>\n",
       "    <tr>\n",
       "      <td>2</td>\n",
       "      <td>187131847</td>\n",
       "      <td>570</td>\n",
       "      <td>Dota 2</td>\n",
       "      <td>purchase</td>\n",
       "      <td>0.0</td>\n",
       "      <td>Valve</td>\n",
       "      <td>Valve</td>\n",
       "      <td>1097301</td>\n",
       "      <td>194384</td>\n",
       "      <td>2013-07-09</td>\n",
       "      <td>1</td>\n",
       "      <td>windows;mac;linux</td>\n",
       "      <td>0</td>\n",
       "      <td>Multi-player;Co-op;Steam Trading Cards;Steam W...</td>\n",
       "      <td>Action;Free to Play;Strategy</td>\n",
       "      <td>Free to Play;MOBA;Strategy</td>\n",
       "      <td>0</td>\n",
       "      <td>23944</td>\n",
       "      <td>801</td>\n",
       "      <td>100000000-200000000</td>\n",
       "      <td>&lt;strong&gt;The most-played game on Steam.&lt;/strong...</td>\n",
       "      <td>&lt;strong&gt;The most-played game on Steam.&lt;/strong...</td>\n",
       "      <td>Every day, millions of players worldwide enter...</td>\n",
       "      <td>0.0</td>\n",
       "      <td>84.95113</td>\n",
       "    </tr>\n",
       "    <tr>\n",
       "      <td>3</td>\n",
       "      <td>187131847</td>\n",
       "      <td>570</td>\n",
       "      <td>Dota 2</td>\n",
       "      <td>play</td>\n",
       "      <td>2.3</td>\n",
       "      <td>Valve</td>\n",
       "      <td>Valve</td>\n",
       "      <td>1097301</td>\n",
       "      <td>194384</td>\n",
       "      <td>2013-07-09</td>\n",
       "      <td>1</td>\n",
       "      <td>windows;mac;linux</td>\n",
       "      <td>0</td>\n",
       "      <td>Multi-player;Co-op;Steam Trading Cards;Steam W...</td>\n",
       "      <td>Action;Free to Play;Strategy</td>\n",
       "      <td>Free to Play;MOBA;Strategy</td>\n",
       "      <td>0</td>\n",
       "      <td>23944</td>\n",
       "      <td>801</td>\n",
       "      <td>100000000-200000000</td>\n",
       "      <td>&lt;strong&gt;The most-played game on Steam.&lt;/strong...</td>\n",
       "      <td>&lt;strong&gt;The most-played game on Steam.&lt;/strong...</td>\n",
       "      <td>Every day, millions of players worldwide enter...</td>\n",
       "      <td>0.0</td>\n",
       "      <td>84.95113</td>\n",
       "    </tr>\n",
       "    <tr>\n",
       "      <td>4</td>\n",
       "      <td>176410694</td>\n",
       "      <td>570</td>\n",
       "      <td>Dota 2</td>\n",
       "      <td>purchase</td>\n",
       "      <td>0.0</td>\n",
       "      <td>Valve</td>\n",
       "      <td>Valve</td>\n",
       "      <td>1097301</td>\n",
       "      <td>194384</td>\n",
       "      <td>2013-07-09</td>\n",
       "      <td>1</td>\n",
       "      <td>windows;mac;linux</td>\n",
       "      <td>0</td>\n",
       "      <td>Multi-player;Co-op;Steam Trading Cards;Steam W...</td>\n",
       "      <td>Action;Free to Play;Strategy</td>\n",
       "      <td>Free to Play;MOBA;Strategy</td>\n",
       "      <td>0</td>\n",
       "      <td>23944</td>\n",
       "      <td>801</td>\n",
       "      <td>100000000-200000000</td>\n",
       "      <td>&lt;strong&gt;The most-played game on Steam.&lt;/strong...</td>\n",
       "      <td>&lt;strong&gt;The most-played game on Steam.&lt;/strong...</td>\n",
       "      <td>Every day, millions of players worldwide enter...</td>\n",
       "      <td>0.0</td>\n",
       "      <td>84.95113</td>\n",
       "    </tr>\n",
       "  </tbody>\n",
       "</table>\n",
       "</div>"
      ],
      "text/plain": [
       "          id  appid    name  purchase  hours_of_play developer publisher  positive  negative  \\\n",
       "0  151603712    570  Dota 2  purchase            0.0     Valve     Valve   1097301    194384   \n",
       "1  151603712    570  Dota 2      play            0.5     Valve     Valve   1097301    194384   \n",
       "2  187131847    570  Dota 2  purchase            0.0     Valve     Valve   1097301    194384   \n",
       "3  187131847    570  Dota 2      play            2.3     Valve     Valve   1097301    194384   \n",
       "4  176410694    570  Dota 2  purchase            0.0     Valve     Valve   1097301    194384   \n",
       "\n",
       "  release_date  english          platforms  required_age  \\\n",
       "0   2013-07-09        1  windows;mac;linux             0   \n",
       "1   2013-07-09        1  windows;mac;linux             0   \n",
       "2   2013-07-09        1  windows;mac;linux             0   \n",
       "3   2013-07-09        1  windows;mac;linux             0   \n",
       "4   2013-07-09        1  windows;mac;linux             0   \n",
       "\n",
       "                                          categories                        genres  \\\n",
       "0  Multi-player;Co-op;Steam Trading Cards;Steam W...  Action;Free to Play;Strategy   \n",
       "1  Multi-player;Co-op;Steam Trading Cards;Steam W...  Action;Free to Play;Strategy   \n",
       "2  Multi-player;Co-op;Steam Trading Cards;Steam W...  Action;Free to Play;Strategy   \n",
       "3  Multi-player;Co-op;Steam Trading Cards;Steam W...  Action;Free to Play;Strategy   \n",
       "4  Multi-player;Co-op;Steam Trading Cards;Steam W...  Action;Free to Play;Strategy   \n",
       "\n",
       "                steamspy_tags  achievements  average_playtime  median_playtime  \\\n",
       "0  Free to Play;MOBA;Strategy             0             23944              801   \n",
       "1  Free to Play;MOBA;Strategy             0             23944              801   \n",
       "2  Free to Play;MOBA;Strategy             0             23944              801   \n",
       "3  Free to Play;MOBA;Strategy             0             23944              801   \n",
       "4  Free to Play;MOBA;Strategy             0             23944              801   \n",
       "\n",
       "                owners                               detailed_description  \\\n",
       "0  100000000-200000000  <strong>The most-played game on Steam.</strong...   \n",
       "1  100000000-200000000  <strong>The most-played game on Steam.</strong...   \n",
       "2  100000000-200000000  <strong>The most-played game on Steam.</strong...   \n",
       "3  100000000-200000000  <strong>The most-played game on Steam.</strong...   \n",
       "4  100000000-200000000  <strong>The most-played game on Steam.</strong...   \n",
       "\n",
       "                                      about_the_game  \\\n",
       "0  <strong>The most-played game on Steam.</strong...   \n",
       "1  <strong>The most-played game on Steam.</strong...   \n",
       "2  <strong>The most-played game on Steam.</strong...   \n",
       "3  <strong>The most-played game on Steam.</strong...   \n",
       "4  <strong>The most-played game on Steam.</strong...   \n",
       "\n",
       "                                   short_description  price      rank  \n",
       "0  Every day, millions of players worldwide enter...    0.0  84.95113  \n",
       "1  Every day, millions of players worldwide enter...    0.0  84.95113  \n",
       "2  Every day, millions of players worldwide enter...    0.0  84.95113  \n",
       "3  Every day, millions of players worldwide enter...    0.0  84.95113  \n",
       "4  Every day, millions of players worldwide enter...    0.0  84.95113  "
      ]
     },
     "execution_count": 256,
     "metadata": {},
     "output_type": "execute_result"
    }
   ],
   "source": [
    "# displaying the data frame\n",
    "steam.head()"
   ]
  },
  {
   "cell_type": "code",
   "execution_count": 257,
   "metadata": {},
   "outputs": [
    {
     "data": {
      "text/plain": [
       "(99632, 25)"
      ]
     },
     "execution_count": 257,
     "metadata": {},
     "output_type": "execute_result"
    }
   ],
   "source": [
    "# checking the current shape of the data frame\n",
    "steam.shape"
   ]
  },
  {
   "cell_type": "code",
   "execution_count": 258,
   "metadata": {},
   "outputs": [],
   "source": [
    "# dropping the duplicate ids, and keeping the most recent ones as making sure it dosent remove all the unique games in the data frame\n",
    "steam.drop_duplicates(subset = ['id', 'name'],\n",
    "                     keep = 'last', inplace = True)"
   ]
  },
  {
   "cell_type": "code",
   "execution_count": 259,
   "metadata": {},
   "outputs": [
    {
     "data": {
      "text/plain": [
       "(60446, 25)"
      ]
     },
     "execution_count": 259,
     "metadata": {},
     "output_type": "execute_result"
    }
   ],
   "source": [
    "# checking the shape after removing duplicates\n",
    "steam.shape"
   ]
  },
  {
   "cell_type": "code",
   "execution_count": 260,
   "metadata": {},
   "outputs": [
    {
     "name": "stdout",
     "output_type": "stream",
     "text": [
      "Unique SteamIds : 10350\n",
      "Unique AppIds : 2297\n"
     ]
    }
   ],
   "source": [
    "# checking the amount of unique ids and appids\n",
    "print(\"Unique SteamIds :\", steam[\"id\"].nunique())\n",
    "print(\"Unique AppIds :\", steam[\"name\"].nunique())"
   ]
  },
  {
   "cell_type": "code",
   "execution_count": 338,
   "metadata": {},
   "outputs": [],
   "source": [
    "# creating tags\n",
    "tags = {}\n",
    "for col in ['categories', 'genres']:\n",
    "    for id in steam['id'].unique():\n",
    "        for i in steam[steam['id'] == id][col]:\n",
    "            if id in tags:\n",
    "                tags[id].append(' '.join(i.lower().split('|')))\n",
    "            else:\n",
    "                tags[id] = i.lower().split('|')"
   ]
  },
  {
   "cell_type": "code",
   "execution_count": 339,
   "metadata": {},
   "outputs": [],
   "source": [
    "# creating a list from the tags\n",
    "tags_list = list(tags.values())"
   ]
  },
  {
   "cell_type": "code",
   "execution_count": 340,
   "metadata": {},
   "outputs": [
    {
     "data": {
      "text/plain": [
       "[['single-player;online multi-player;online co-op;steam achievements;steam trading cards;vr support;steam workshop;in-app purchases;steam cloud;valve anti-cheat enabled;stats;includes level editor',\n",
       "  'action;adventure;casual;free to play;indie'],\n",
       " ['single-player;multi-player;co-op;steam trading cards;in-app purchases;partial controller support',\n",
       "  'single-player;multi-player;steam achievements;full controller support',\n",
       "  'single-player;multi-player;steam achievements;full controller support;steam trading cards;steam cloud',\n",
       "  'single-player;multi-player;co-op;partial controller support;steam cloud',\n",
       "  'multi-player;mmo;steam achievements',\n",
       "  'multi-player;online multi-player;steam workshop;steam cloud;valve anti-cheat enabled',\n",
       "  'single-player;steam achievements;full controller support;steam trading cards;steam cloud',\n",
       "  'single-player;multi-player;co-op;partial controller support',\n",
       "  'single-player;steam achievements;steam trading cards;partial controller support;steam cloud',\n",
       "  'single-player;full controller support',\n",
       "  'multi-player;mmo;co-op;steam trading cards;partial controller support',\n",
       "  'single-player;multi-player;steam achievements;partial controller support',\n",
       "  'single-player',\n",
       "  'action;free to play',\n",
       "  'action;adventure',\n",
       "  'action;adventure',\n",
       "  'action;adventure;indie;simulation',\n",
       "  'action;free to play;massively multiplayer',\n",
       "  'action;adventure;massively multiplayer',\n",
       "  'action',\n",
       "  'action;adventure',\n",
       "  'indie;rpg;strategy',\n",
       "  'action',\n",
       "  'action;free to play;massively multiplayer;rpg',\n",
       "  'action',\n",
       "  'action'],\n",
       " ['single-player;multi-player;co-op;steam trading cards;in-app purchases;partial controller support',\n",
       "  'single-player',\n",
       "  'single-player;multi-player;co-op;cross-platform multiplayer;steam achievements;full controller support;steam trading cards;steam cloud',\n",
       "  'single-player;steam achievements;full controller support;steam cloud;steam leaderboards',\n",
       "  'action',\n",
       "  'racing;simulation',\n",
       "  'action;adventure;indie;rpg',\n",
       "  'action;indie;rpg'],\n",
       " ['single-player;multi-player;online multi-player;local multi-player;co-op;online co-op;local co-op;shared/split screen;cross-platform multiplayer;steam achievements;full controller support;steam trading cards',\n",
       "  'action;free to play;indie'],\n",
       " ['single-player;multi-player;online multi-player;co-op;online co-op;steam achievements;full controller support;steam trading cards;steam cloud',\n",
       "  'single-player;multi-player;co-op;steam achievements;full controller support;steam trading cards;captions available;steam workshop;steam cloud;valve anti-cheat enabled;stats;includes source sdk;commentary available',\n",
       "  'single-player;multi-player;co-op;shared/split screen;steam achievements;full controller support;steam trading cards;steam leaderboards',\n",
       "  'single-player;multi-player;online multi-player;co-op;online co-op;steam achievements;steam trading cards;partial controller support',\n",
       "  'single-player;multi-player;co-op;steam achievements;full controller support;steam trading cards;steam cloud;steam leaderboards',\n",
       "  'multi-player;online multi-player;steam achievements;steam trading cards;steam workshop;steam cloud;valve anti-cheat enabled;includes level editor',\n",
       "  'action;adventure;indie;rpg',\n",
       "  'action',\n",
       "  'action;rpg',\n",
       "  'action;free to play;indie;rpg;strategy',\n",
       "  'action;indie;strategy',\n",
       "  'action;indie;strategy'],\n",
       " ['single-player;multi-player;co-op;cross-platform multiplayer;steam achievements;steam trading cards;captions available;steam workshop;steam cloud;valve anti-cheat enabled;includes level editor',\n",
       "  'single-player;mmo;co-op;cross-platform multiplayer;steam achievements;in-app purchases;partial controller support',\n",
       "  'single-player;co-op;steam achievements;full controller support;steam trading cards;steam cloud',\n",
       "  'multi-player;online multi-player;mmo;online co-op;in-app purchases',\n",
       "  'single-player;steam achievements;steam trading cards;captions available;partial controller support;steam cloud;includes source sdk',\n",
       "  'single-player;multi-player;steam achievements;steam trading cards;steam cloud',\n",
       "  'multi-player;co-op;cross-platform multiplayer;steam achievements;captions available;vr support;partial controller support;valve anti-cheat enabled;includes level editor;includes source sdk',\n",
       "  'single-player;multi-player;co-op;steam achievements;full controller support;steam trading cards;steam workshop;steam cloud;valve anti-cheat enabled;includes level editor',\n",
       "  'single-player;multi-player;online multi-player;local multi-player;co-op;online co-op;local co-op;steam achievements;steam trading cards;captions available;steam workshop;partial controller support;steam leaderboards;includes level editor',\n",
       "  'single-player;multi-player;co-op;steam achievements;steam trading cards;steam workshop;steam cloud;stats',\n",
       "  'single-player;multi-player;co-op;cross-platform multiplayer;steam achievements;steam trading cards;steam workshop;valve anti-cheat enabled;stats;includes level editor',\n",
       "  'single-player;steam achievements;full controller support;steam cloud',\n",
       "  'single-player;co-op;steam achievements;steam trading cards;steam cloud;stats',\n",
       "  'multi-player;co-op;cross-platform multiplayer;steam achievements;full controller support;steam trading cards;steam workshop;valve anti-cheat enabled;includes level editor',\n",
       "  'single-player;multi-player;co-op;cross-platform multiplayer;steam achievements;full controller support;steam trading cards;includes level editor',\n",
       "  'single-player;multi-player;online multi-player;co-op;online co-op;cross-platform multiplayer;steam achievements;steam trading cards;steam workshop',\n",
       "  'single-player;multi-player;steam trading cards',\n",
       "  'single-player;multi-player;online multi-player;co-op;steam achievements;steam workshop;partial controller support;steam cloud;includes level editor',\n",
       "  'single-player;multi-player;online multi-player;co-op;online co-op;steam achievements;full controller support;steam trading cards;steam workshop;in-app purchases;valve anti-cheat enabled;includes level editor',\n",
       "  'single-player;steam achievements;steam trading cards;steam workshop;steam cloud;includes level editor',\n",
       "  'single-player;steam achievements;full controller support;captions available;steam cloud',\n",
       "  'single-player;steam trading cards;steam workshop;partial controller support;steam cloud',\n",
       "  'single-player;multi-player;steam trading cards;steam workshop;steam cloud',\n",
       "  'single-player;multi-player;co-op;cross-platform multiplayer;steam achievements;steam workshop;includes level editor',\n",
       "  'single-player;steam achievements;full controller support;steam trading cards;steam cloud',\n",
       "  'single-player;steam trading cards;steam cloud',\n",
       "  'single-player;multi-player;mmo;co-op;vr support;partial controller support',\n",
       "  'single-player;steam achievements;steam trading cards;steam workshop;steam cloud',\n",
       "  'single-player;multi-player;steam trading cards;steam cloud;includes level editor',\n",
       "  'single-player',\n",
       "  'single-player;multi-player;co-op;cross-platform multiplayer;steam achievements;steam trading cards;steam workshop;steam cloud;includes level editor',\n",
       "  'single-player;multi-player;co-op;steam achievements;steam cloud;stats;steam leaderboards',\n",
       "  'single-player;multi-player;co-op;shared/split screen;cross-platform multiplayer;steam trading cards;partial controller support',\n",
       "  'single-player;multi-player;steam achievements;steam trading cards;vr support;partial controller support;steam leaderboards',\n",
       "  'single-player;steam achievements;steam cloud;steam leaderboards',\n",
       "  'single-player;steam achievements;full controller support;steam trading cards;steam workshop;steam cloud',\n",
       "  'single-player;multi-player;co-op;shared/split screen;steam achievements;full controller support;steam trading cards;steam workshop;steam cloud;includes level editor',\n",
       "  'single-player;steam achievements;full controller support;steam trading cards;steam cloud;steam leaderboards',\n",
       "  'single-player;multi-player;steam achievements;steam workshop;steam cloud',\n",
       "  'single-player;multi-player;online multi-player;cross-platform multiplayer;steam trading cards;steam cloud',\n",
       "  'single-player;steam achievements;full controller support;steam trading cards;steam cloud',\n",
       "  'single-player;multi-player;steam trading cards',\n",
       "  'single-player;multi-player;steam trading cards;partial controller support',\n",
       "  'single-player;steam achievements;steam trading cards',\n",
       "  'single-player;co-op;online co-op;cross-platform multiplayer;steam achievements;steam trading cards;steam workshop;steam cloud;includes level editor',\n",
       "  'single-player;multi-player;steam trading cards',\n",
       "  'single-player;steam achievements;full controller support;steam trading cards;steam workshop;steam cloud;stats;steam leaderboards;includes level editor',\n",
       "  'single-player;steam achievements;steam trading cards;steam cloud',\n",
       "  'single-player;multi-player;co-op;steam trading cards',\n",
       "  'single-player;shared/split screen;steam trading cards;partial controller support;steam cloud',\n",
       "  'single-player;multi-player;co-op;shared/split screen;steam achievements;steam trading cards;steam workshop;partial controller support;steam cloud;steam leaderboards;includes level editor',\n",
       "  'single-player;captions available',\n",
       "  'single-player;multi-player;co-op;steam achievements;partial controller support;stats',\n",
       "  'single-player;steam achievements;full controller support;steam trading cards;steam cloud;commentary available',\n",
       "  'single-player;steam trading cards',\n",
       "  'single-player',\n",
       "  'single-player;steam trading cards',\n",
       "  'single-player;steam cloud',\n",
       "  'single-player;steam achievements;steam trading cards;steam cloud',\n",
       "  'single-player;steam trading cards;steam workshop',\n",
       "  'single-player;steam achievements;steam trading cards;steam cloud',\n",
       "  'single-player;multi-player;online multi-player;co-op;online co-op;steam achievements;steam trading cards;steam cloud',\n",
       "  'single-player;multi-player',\n",
       "  'single-player;steam achievements;steam trading cards',\n",
       "  'single-player;co-op;cross-platform multiplayer;steam achievements;steam trading cards;partial controller support',\n",
       "  'single-player;multi-player;co-op',\n",
       "  'single-player;steam achievements;steam trading cards;steam cloud',\n",
       "  'indie;simulation',\n",
       "  'action;free to play;massively multiplayer;simulation',\n",
       "  'action;rpg',\n",
       "  'action;free to play;indie;massively multiplayer',\n",
       "  'action',\n",
       "  'strategy',\n",
       "  'action;free to play;indie',\n",
       "  'action;rpg',\n",
       "  'action;simulation;strategy',\n",
       "  'strategy',\n",
       "  'action',\n",
       "  'action;adventure',\n",
       "  'action',\n",
       "  'action;indie;strategy',\n",
       "  'nudity;violent;gore;action;adventure;indie;rpg;simulation;strategy;early access',\n",
       "  'action;adventure;casual;indie;rpg',\n",
       "  'rpg;simulation;strategy',\n",
       "  'action;indie;simulation;strategy',\n",
       "  'action',\n",
       "  'indie;simulation;strategy',\n",
       "  'adventure;indie',\n",
       "  'indie;simulation',\n",
       "  'violent;action;strategy',\n",
       "  'indie;simulation;early access',\n",
       "  'adventure;indie;simulation;strategy',\n",
       "  'rpg',\n",
       "  'action;adventure;massively multiplayer;rpg;simulation;strategy',\n",
       "  'casual;indie;simulation;strategy',\n",
       "  'simulation;strategy',\n",
       "  'action',\n",
       "  'rpg;simulation;strategy',\n",
       "  'action',\n",
       "  'indie;rpg;simulation;early access',\n",
       "  'racing;simulation;sports',\n",
       "  'indie;simulation',\n",
       "  'action;adventure;indie',\n",
       "  'action;adventure;indie',\n",
       "  'action;adventure',\n",
       "  'simulation;strategy',\n",
       "  'rpg;strategy',\n",
       "  'action;rpg;strategy',\n",
       "  'strategy',\n",
       "  'action;adventure',\n",
       "  'simulation;strategy',\n",
       "  'action;indie;simulation;strategy',\n",
       "  'simulation;strategy',\n",
       "  'action;indie;racing',\n",
       "  'action;indie;strategy',\n",
       "  'strategy',\n",
       "  'action;indie',\n",
       "  'action',\n",
       "  'gore;action;adventure;indie',\n",
       "  'free to play;simulation',\n",
       "  'indie',\n",
       "  'action;indie;strategy',\n",
       "  'adventure;casual;free to play;indie',\n",
       "  'indie;simulation;strategy',\n",
       "  'adventure;indie;rpg;strategy',\n",
       "  'indie;strategy',\n",
       "  'indie;simulation;strategy',\n",
       "  'indie;simulation',\n",
       "  'action;indie;rpg;strategy',\n",
       "  'racing',\n",
       "  'action;adventure;indie;rpg;strategy',\n",
       "  'adventure;indie',\n",
       "  'action;strategy',\n",
       "  'adventure;indie;simulation;strategy;early access'],\n",
       " ['multi-player;online multi-player;local multi-player;valve anti-cheat enabled',\n",
       "  'single-player;multi-player;co-op;online co-op;steam achievements;full controller support;steam trading cards;in-app purchases',\n",
       "  'action',\n",
       "  'action;rpg'],\n",
       " ['single-player',\n",
       "  'single-player;steam trading cards',\n",
       "  'single-player;steam trading cards',\n",
       "  'single-player;steam trading cards;steam workshop;steam cloud;includes level editor',\n",
       "  'single-player;steam achievements;full controller support;steam cloud',\n",
       "  'single-player;local co-op;steam achievements;full controller support;steam trading cards;captions available;steam workshop;steam cloud;steam leaderboards;includes level editor',\n",
       "  'single-player;steam achievements;full controller support;steam trading cards;captions available;steam cloud',\n",
       "  'local multi-player;co-op;local co-op;steam achievements;full controller support;vr support;steam workshop;stats;steam leaderboards',\n",
       "  'single-player;online multi-player;steam achievements;full controller support;steam trading cards;in-app purchases;steam cloud;valve anti-cheat enabled',\n",
       "  'single-player',\n",
       "  'single-player;multi-player;steam achievements;steam trading cards;partial controller support;steam leaderboards',\n",
       "  'single-player;steam trading cards',\n",
       "  'single-player;steam achievements;full controller support;steam trading cards;steam cloud',\n",
       "  'single-player',\n",
       "  'single-player;multi-player;online multi-player;cross-platform multiplayer;steam achievements;steam trading cards;captions available;steam workshop;steam cloud;steam leaderboards;includes level editor',\n",
       "  'single-player;steam trading cards',\n",
       "  'single-player',\n",
       "  'single-player;multi-player;shared/split screen;steam achievements;full controller support;stats;steam leaderboards',\n",
       "  'single-player;steam achievements',\n",
       "  'single-player;steam achievements',\n",
       "  'single-player;steam achievements;full controller support',\n",
       "  'single-player;steam achievements;steam trading cards;steam cloud;commentary available',\n",
       "  'single-player;steam achievements;steam trading cards;partial controller support;steam cloud',\n",
       "  'single-player;steam achievements;full controller support;steam cloud',\n",
       "  'single-player;steam achievements;full controller support;steam trading cards',\n",
       "  'single-player;steam trading cards;partial controller support',\n",
       "  'single-player;steam achievements;full controller support;steam trading cards;steam cloud',\n",
       "  'single-player;steam achievements;full controller support;steam trading cards;steam cloud;steam leaderboards',\n",
       "  'single-player;steam achievements',\n",
       "  'single-player;steam achievements;partial controller support;steam cloud;steam leaderboards',\n",
       "  'single-player;steam achievements;full controller support;steam trading cards;steam cloud',\n",
       "  'single-player;steam achievements',\n",
       "  'single-player;multi-player;steam achievements',\n",
       "  'single-player',\n",
       "  'single-player;steam achievements;steam cloud',\n",
       "  'single-player;steam achievements;steam trading cards;steam cloud',\n",
       "  'single-player',\n",
       "  'single-player;steam trading cards',\n",
       "  'single-player;steam achievements;steam trading cards;steam cloud',\n",
       "  'single-player;shared/split screen;steam achievements;full controller support;steam trading cards;steam cloud;steam leaderboards',\n",
       "  'single-player',\n",
       "  'single-player;steam trading cards',\n",
       "  'single-player',\n",
       "  'single-player;steam achievements',\n",
       "  'single-player;shared/split screen;steam achievements;full controller support;steam trading cards;steam workshop;steam cloud;includes level editor',\n",
       "  'single-player',\n",
       "  'single-player',\n",
       "  'single-player',\n",
       "  'adventure;indie',\n",
       "  'adventure;casual;indie',\n",
       "  'indie;rpg',\n",
       "  'adventure;indie;rpg;strategy',\n",
       "  'casual;indie;strategy',\n",
       "  'action;indie;rpg',\n",
       "  'action;casual;indie',\n",
       "  'indie',\n",
       "  'adventure;indie;rpg;strategy',\n",
       "  'rpg',\n",
       "  'indie;simulation;sports',\n",
       "  'rpg',\n",
       "  'adventure;indie',\n",
       "  'action;free to play;indie;rpg',\n",
       "  'indie;simulation;strategy',\n",
       "  'adventure;casual',\n",
       "  'indie',\n",
       "  'action',\n",
       "  'adventure;casual',\n",
       "  'indie',\n",
       "  'adventure;indie;rpg',\n",
       "  'adventure;indie',\n",
       "  'adventure;indie;rpg',\n",
       "  'adventure;casual;indie',\n",
       "  'indie;rpg;simulation;strategy',\n",
       "  'adventure;indie',\n",
       "  'action;adventure;indie',\n",
       "  'action;indie',\n",
       "  'adventure;indie',\n",
       "  'adventure;indie',\n",
       "  'action;adventure;indie',\n",
       "  'action;adventure;indie',\n",
       "  'action',\n",
       "  'adventure;casual;indie',\n",
       "  'adventure;casual;indie',\n",
       "  'casual;indie',\n",
       "  'adventure;casual;indie',\n",
       "  'adventure;indie',\n",
       "  'adventure;casual;indie',\n",
       "  'action;indie',\n",
       "  'adventure;casual',\n",
       "  'adventure;indie',\n",
       "  'casual',\n",
       "  'adventure;casual;strategy',\n",
       "  'adventure;indie;strategy',\n",
       "  'casual;indie',\n",
       "  'adventure;indie;simulation',\n",
       "  'casual'],\n",
       " ['single-player;multi-player;online multi-player;mmo;co-op;steam achievements;steam trading cards;in-app purchases',\n",
       "  'single-player;multi-player;co-op;cross-platform multiplayer;steam achievements;steam trading cards;steam workshop;steam cloud',\n",
       "  'single-player;multi-player;co-op;shared/split screen;steam achievements;full controller support;in-app purchases;steam cloud',\n",
       "  'single-player;steam achievements;full controller support;steam trading cards;steam cloud',\n",
       "  'single-player;steam trading cards',\n",
       "  'single-player;multi-player;co-op;shared/split screen;cross-platform multiplayer;steam achievements;steam trading cards;steam workshop;partial controller support;includes level editor',\n",
       "  'single-player;multi-player;co-op;shared/split screen;steam achievements;steam trading cards;partial controller support',\n",
       "  'single-player;multi-player;online multi-player;cross-platform multiplayer;steam achievements;steam cloud;steam leaderboards',\n",
       "  'single-player;steam achievements;full controller support',\n",
       "  'single-player;steam achievements;full controller support;stats;steam leaderboards',\n",
       "  'action;adventure;free to play;indie;massively multiplayer;rpg',\n",
       "  'action;adventure;indie;rpg',\n",
       "  'free to play;strategy',\n",
       "  'action;adventure;indie;rpg',\n",
       "  'adventure;indie',\n",
       "  'action;adventure;indie;rpg',\n",
       "  'action;indie;rpg',\n",
       "  'action;racing;simulation;sports',\n",
       "  'action;adventure;indie',\n",
       "  'indie;sports']]"
      ]
     },
     "execution_count": 340,
     "metadata": {},
     "output_type": "execute_result"
    }
   ],
   "source": [
    "# viewing tags\n",
    "tags_list[1:10]"
   ]
  },
  {
   "cell_type": "code",
   "execution_count": 341,
   "metadata": {},
   "outputs": [],
   "source": [
    "stopwords_list = stopwords.words('english')"
   ]
  },
  {
   "cell_type": "code",
   "execution_count": 342,
   "metadata": {},
   "outputs": [],
   "source": [
    "stopwords_list += list(string.punctuation)"
   ]
  },
  {
   "cell_type": "code",
   "execution_count": 343,
   "metadata": {},
   "outputs": [],
   "source": [
    "def process_article(article):\n",
    "    \n",
    "    article = ' '.join(article)\n",
    "    \n",
    "    tokens = word_tokenize(article) \n",
    "    #   word_tokenize splits text into a list of strings split based on white \n",
    "    #   space (or aposraphes)\n",
    "\n",
    "    tokens_2 = [] \n",
    "    # empty list to store only relevant (lowercased) tokens that aren't in the \n",
    "    #   stopword list\n",
    "    \n",
    "    for token in tokens:\n",
    "    \n",
    "        if token.lower() not in stopwords_list:\n",
    "                \n",
    "            tokens_2.append(token.lower())\n",
    "                \n",
    "    return tokens_2"
   ]
  },
  {
   "cell_type": "code",
   "execution_count": 344,
   "metadata": {},
   "outputs": [],
   "source": [
    "processed_data = list(map(process_article, tags_list))"
   ]
  },
  {
   "cell_type": "code",
   "execution_count": 345,
   "metadata": {},
   "outputs": [
    {
     "data": {
      "text/plain": [
       "568"
      ]
     },
     "execution_count": 345,
     "metadata": {},
     "output_type": "execute_result"
    }
   ],
   "source": [
    "len(processed_data)"
   ]
  },
  {
   "cell_type": "code",
   "execution_count": 346,
   "metadata": {},
   "outputs": [],
   "source": [
    "total_vocab = set()\n",
    "for doc in processed_data:\n",
    "    total_vocab.update(doc)"
   ]
  },
  {
   "cell_type": "code",
   "execution_count": 347,
   "metadata": {},
   "outputs": [
    {
     "data": {
      "text/plain": [
       "75"
      ]
     },
     "execution_count": 347,
     "metadata": {},
     "output_type": "execute_result"
    }
   ],
   "source": [
    "len(total_vocab)"
   ]
  },
  {
   "cell_type": "code",
   "execution_count": 348,
   "metadata": {},
   "outputs": [],
   "source": [
    "articles_concat = []\n",
    "for doc in processed_data:\n",
    "    articles_concat += doc"
   ]
  },
  {
   "cell_type": "code",
   "execution_count": 349,
   "metadata": {},
   "outputs": [],
   "source": [
    "freqdist = FreqDist(articles_concat)"
   ]
  },
  {
   "cell_type": "code",
   "execution_count": 350,
   "metadata": {},
   "outputs": [
    {
     "data": {
      "text/plain": [
       "[('steam', 4002),\n",
       " ('single-player', 2152),\n",
       " ('indie', 1434),\n",
       " ('achievements', 1343),\n",
       " ('trading', 1172),\n",
       " ('cards', 1172),\n",
       " ('action', 1076),\n",
       " ('support', 1075),\n",
       " ('controller', 1049),\n",
       " ('cloud', 845),\n",
       " ('multi-player', 820),\n",
       " ('adventure', 720),\n",
       " ('full', 563),\n",
       " ('strategy', 558),\n",
       " ('casual', 510),\n",
       " ('partial', 486),\n",
       " ('leaderboards', 459),\n",
       " ('rpg', 449),\n",
       " ('co-op', 394),\n",
       " ('simulation', 375)]"
      ]
     },
     "execution_count": 350,
     "metadata": {},
     "output_type": "execute_result"
    }
   ],
   "source": [
    "most_common = freqdist.most_common(20)\n",
    "most_common"
   ]
  },
  {
   "cell_type": "code",
   "execution_count": 351,
   "metadata": {},
   "outputs": [
    {
     "data": {
      "text/plain": [
       "<BarContainer object of 20 artists>"
      ]
     },
     "execution_count": 351,
     "metadata": {},
     "output_type": "execute_result"
    },
    {
     "data": {
      "image/png": "[encoded data removed]",
      "text/plain": [
       "<Figure size 1440x360 with 1 Axes>"
      ]
     },
     "metadata": {
      "needs_background": "light"
     },
     "output_type": "display_data"
    }
   ],
   "source": [
    "plt.figure(figsize = (20, 5))\n",
    "plt.bar([word[0] for word in most_common], [word[1] for word in most_common])"
   ]
  },
  {
   "cell_type": "code",
   "execution_count": 352,
   "metadata": {},
   "outputs": [],
   "source": [
    "tfidf = TfidfVectorizer(analyzer='word', ngram_range=(1, 2), stop_words=stopwords_list)"
   ]
  },
  {
   "cell_type": "code",
   "execution_count": 353,
   "metadata": {},
   "outputs": [],
   "source": [
    "tags_list_2 = [' '.join(x) for x in tags_list]"
   ]
  },
  {
   "cell_type": "code",
   "execution_count": 354,
   "metadata": {},
   "outputs": [],
   "source": [
    "tfidf_matrix = tfidf.fit_transform(tags_list_2)"
   ]
  },
  {
   "cell_type": "code",
   "execution_count": 355,
   "metadata": {},
   "outputs": [
    {
     "data": {
      "text/plain": [
       "(568, 554)"
      ]
     },
     "execution_count": 355,
     "metadata": {},
     "output_type": "execute_result"
    }
   ],
   "source": [
    "tfidf_matrix.shape"
   ]
  },
  {
   "cell_type": "code",
   "execution_count": 356,
   "metadata": {},
   "outputs": [],
   "source": [
    "#instantiate SVD\n",
    "svd = TruncatedSVD(n_components=500, n_iter=7, random_state=42)\n",
    "\n",
    "#fit and transform the vectorized tf-idf matrix \n",
    "tf_idf_data_train_svd = svd.fit_transform(tfidf_matrix)"
   ]
  },
  {
   "cell_type": "code",
   "execution_count": 357,
   "metadata": {},
   "outputs": [
    {
     "name": "stdout",
     "output_type": "stream",
     "text": [
      "0.9999999999999993\n"
     ]
    }
   ],
   "source": [
    "print(svd.explained_variance_ratio_.sum())"
   ]
  },
  {
   "cell_type": "markdown",
   "metadata": {},
   "source": [
    "### Calculating cosine similarities"
   ]
  },
  {
   "cell_type": "code",
   "execution_count": 358,
   "metadata": {},
   "outputs": [],
   "source": [
    "from sklearn.metrics.pairwise import linear_kernel"
   ]
  },
  {
   "cell_type": "code",
   "execution_count": 359,
   "metadata": {},
   "outputs": [],
   "source": [
    "cosine_similarities = linear_kernel(tfidf_matrix, tfidf_matrix)"
   ]
  },
  {
   "cell_type": "markdown",
   "metadata": {},
   "source": [
    "### Making recommendations"
   ]
  },
  {
   "cell_type": "code",
   "execution_count": 360,
   "metadata": {},
   "outputs": [],
   "source": [
    "# creating a Series for the game titles so they are associated to an ordered numerical\n",
    "# list I will use later to match the indexes\n",
    "indices = pd.Series(steam.name)"
   ]
  },
  {
   "cell_type": "code",
   "execution_count": 361,
   "metadata": {},
   "outputs": [],
   "source": [
    "#  defining the function that takes in game title \n",
    "# as input and returns the top 10 recommended games\n",
    "def recommendations(title, cosine_similarities = cosine_similarities):\n",
    "    \n",
    "    # initializing the empty list of recommended movies\n",
    "    recommended_games = []\n",
    "    \n",
    "    # gettin the index of the game that matches the title\n",
    "    idx = indices[indices == title].index[0]\n",
    "\n",
    "    # creating a Series with the similarity scores in descending order\n",
    "    score_series = pd.Series(cosine_similarities[idx]).sort_values(ascending = False)\n",
    "\n",
    "    # getting the indexes of the 10 most similar games\n",
    "    top_10_indexes = list(score_series[1:11].index)\n",
    "    \n",
    "    # populating the list with the titles of the best 10 matching games\n",
    "    for i in top_10_indexes:\n",
    "        recommended_games.append(list(df.name)[i])\n",
    "\n",
    "    return recommended_games"
   ]
  },
  {
   "cell_type": "code",
   "execution_count": 362,
   "metadata": {},
   "outputs": [
    {
     "ename": "IndexError",
     "evalue": "index 9681 is out of bounds for axis 0 with size 568",
     "output_type": "error",
     "traceback": [
      "\u001b[1;31m---------------------------------------------------------------------------\u001b[0m",
      "\u001b[1;31mIndexError\u001b[0m                                Traceback (most recent call last)",
      "\u001b[1;32m<ipython-input-362-592e6dafa405>\u001b[0m in \u001b[0;36m<module>\u001b[1;34m\u001b[0m\n\u001b[1;32m----> 1\u001b[1;33m \u001b[0mrecommendations\u001b[0m\u001b[1;33m(\u001b[0m\u001b[1;34m'Dota 2'\u001b[0m\u001b[1;33m)\u001b[0m\u001b[1;33m\u001b[0m\u001b[1;33m\u001b[0m\u001b[0m\n\u001b[0m",
      "\u001b[1;32m<ipython-input-361-5e70258c1960>\u001b[0m in \u001b[0;36mrecommendations\u001b[1;34m(title, cosine_similarities)\u001b[0m\n\u001b[0;32m     10\u001b[0m \u001b[1;33m\u001b[0m\u001b[0m\n\u001b[0;32m     11\u001b[0m     \u001b[1;31m# creating a Series with the similarity scores in descending order\u001b[0m\u001b[1;33m\u001b[0m\u001b[1;33m\u001b[0m\u001b[1;33m\u001b[0m\u001b[0m\n\u001b[1;32m---> 12\u001b[1;33m     \u001b[0mscore_series\u001b[0m \u001b[1;33m=\u001b[0m \u001b[0mpd\u001b[0m\u001b[1;33m.\u001b[0m\u001b[0mSeries\u001b[0m\u001b[1;33m(\u001b[0m\u001b[0mcosine_similarities\u001b[0m\u001b[1;33m[\u001b[0m\u001b[0midx\u001b[0m\u001b[1;33m]\u001b[0m\u001b[1;33m)\u001b[0m\u001b[1;33m.\u001b[0m\u001b[0msort_values\u001b[0m\u001b[1;33m(\u001b[0m\u001b[0mascending\u001b[0m \u001b[1;33m=\u001b[0m \u001b[1;32mFalse\u001b[0m\u001b[1;33m)\u001b[0m\u001b[1;33m\u001b[0m\u001b[1;33m\u001b[0m\u001b[0m\n\u001b[0m\u001b[0;32m     13\u001b[0m \u001b[1;33m\u001b[0m\u001b[0m\n\u001b[0;32m     14\u001b[0m     \u001b[1;31m# getting the indexes of the 10 most similar games\u001b[0m\u001b[1;33m\u001b[0m\u001b[1;33m\u001b[0m\u001b[1;33m\u001b[0m\u001b[0m\n",
      "\u001b[1;31mIndexError\u001b[0m: index 9681 is out of bounds for axis 0 with size 568"
     ]
    }
   ],
   "source": [
    "recommendations('Dota 2')"
   ]
  },
  {
   "cell_type": "markdown",
   "metadata": {},
   "source": [
    "### Evaluation"
   ]
  },
  {
   "cell_type": "markdown",
   "metadata": {},
   "source": [
    "<b> MAE & RMSE"
   ]
  },
  {
   "cell_type": "code",
   "execution_count": null,
   "metadata": {},
   "outputs": [],
   "source": [
    "# for Surprise, we only need three columns from the dataset\n",
    "data = steam[['id', 'name', 'hours_of_play']]\n",
    "reader = Reader(line_format='user item rating', sep=',')\n",
    "data = Dataset.load_from_df(data, reader=reader)\n",
    "\n",
    "# train-test-split\n",
    "trainset, testset = train_test_split(data, test_size=.2)"
   ]
  },
  {
   "cell_type": "code",
   "execution_count": null,
   "metadata": {},
   "outputs": [],
   "source": [
    "predictions = svd.test(testset)\n",
    "accuracy.rmse(predictions)"
   ]
  },
  {
   "cell_type": "code",
   "execution_count": null,
   "metadata": {},
   "outputs": [],
   "source": [
    "# taking a look at the first 10 rows of our test set\n",
    "predictions[:10]"
   ]
  },
  {
   "cell_type": "code",
   "execution_count": null,
   "metadata": {},
   "outputs": [],
   "source": [
    "print(\"Number of users: \", df.userId.nunique()) \n",
    "print(\"Number of movies: \", df.movieId.nunique())\n"
   ]
  },
  {
   "cell_type": "code",
   "execution_count": null,
   "metadata": {},
   "outputs": [],
   "source": [
    "user = 5\n",
    "item = 100\n",
    "svd.predict(user, item)"
   ]
  },
  {
   "cell_type": "code",
   "execution_count": null,
   "metadata": {},
   "outputs": [],
   "source": [
    "steam_id_tag = steam['appid']\n",
    "indices = pd.Series(steam.index, index=sample['appid'])"
   ]
  },
  {
   "cell_type": "code",
   "execution_count": null,
   "metadata": {},
   "outputs": [],
   "source": [
    "def get_most_similar_games(appid, n = 20):\n",
    "    idx = indices[appid]\n",
    "    idx = np.array(idx, dtype=np.integer)\n",
    "    sim_scores = list(enumerate(cosine_similarities[idx]))\n",
    "    sim_scores = sorted(sim_scores, key=lambda x: x[1], reverse=True)\n",
    "    sim_scores = sim_scores[0:n]\n",
    "\n",
    "    game_indices = [i[0] for i in sim_scores]\n",
    "\n",
    "    recs = pd.DataFrame(columns= steam.columns)\n",
    "    for i in a_id.loc[game_indices]:\n",
    "\n",
    "        if i != name: \n",
    "            recs = recs.append(steam[steam['appid'] == i])\n",
    "    return recs"
   ]
  },
  {
   "cell_type": "code",
   "execution_count": null,
   "metadata": {},
   "outputs": [],
   "source": [
    "steam[steam['appid'] == 20]"
   ]
  },
  {
   "cell_type": "code",
   "execution_count": null,
   "metadata": {},
   "outputs": [],
   "source": [
    "get_most_similar_games(20)"
   ]
  },
  {
   "cell_type": "code",
   "execution_count": null,
   "metadata": {},
   "outputs": [],
   "source": []
  },
  {
   "cell_type": "code",
   "execution_count": null,
   "metadata": {},
   "outputs": [],
   "source": []
  },
  {
   "cell_type": "code",
   "execution_count": null,
   "metadata": {},
   "outputs": [],
   "source": []
  },
  {
   "cell_type": "code",
   "execution_count": null,
   "metadata": {},
   "outputs": [],
   "source": []
  },
  {
   "cell_type": "code",
   "execution_count": null,
   "metadata": {},
   "outputs": [],
   "source": []
  },
  {
   "cell_type": "code",
   "execution_count": null,
   "metadata": {},
   "outputs": [],
   "source": []
  },
  {
   "cell_type": "code",
   "execution_count": null,
   "metadata": {},
   "outputs": [],
   "source": []
  },
  {
   "cell_type": "code",
   "execution_count": null,
   "metadata": {},
   "outputs": [],
   "source": []
  },
  {
   "cell_type": "code",
   "execution_count": null,
   "metadata": {},
   "outputs": [],
   "source": []
  },
  {
   "cell_type": "code",
   "execution_count": null,
   "metadata": {},
   "outputs": [],
   "source": []
  }
 ],
 "metadata": {
  "kernelspec": {
   "display_name": "Python 3",
   "language": "python",
   "name": "python3"
  },
  "language_info": {
   "codemirror_mode": {
    "name": "ipython",
    "version": 3
   },
   "file_extension": ".py",
   "mimetype": "text/x-python",
   "name": "python",
   "nbconvert_exporter": "python",
   "pygments_lexer": "ipython3",
   "version": "3.7.4"
  }
 },
 "nbformat": 4,
 "nbformat_minor": 4
}
