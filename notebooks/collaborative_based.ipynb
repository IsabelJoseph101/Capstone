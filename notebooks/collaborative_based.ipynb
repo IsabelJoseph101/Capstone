{
  "nbformat": 4,
  "nbformat_minor": 0,
  "metadata": {
    "kernelspec": {
      "display_name": "Python 3",
      "language": "python",
      "name": "python3"
    },
    "language_info": {
      "codemirror_mode": {
        "name": "ipython",
        "version": 3
      },
      "file_extension": ".py",
      "mimetype": "text/x-python",
      "name": "python",
      "nbconvert_exporter": "python",
      "pygments_lexer": "ipython3",
      "version": "3.7.4"
    },
    "colab": {
      "name": "Untitled1.ipynb",
      "provenance": []
    }
  },
  "cells": [
    {
      "cell_type": "markdown",
      "metadata": {
        "id": "4j3Rj10euUMq",
        "colab_type": "text"
      },
      "source": [
        "# Collaborative based filtering"
      ]
    },
    {
      "cell_type": "markdown",
      "metadata": {
        "id": "BN39Cw3H0Bhf",
        "colab_type": "text"
      },
      "source": [
        "Collaborative filtering based models finds similaries between items or users through ratings or items that other users have liked as well."
      ]
    },
    {
      "cell_type": "markdown",
      "metadata": {
        "id": "JB2mQPruz9XS",
        "colab_type": "text"
      },
      "source": [
        "### Importing necessary packages\n"
      ]
    },
    {
      "cell_type": "code",
      "metadata": {
        "id": "W8YVwL3-pGN5",
        "colab_type": "code",
        "outputId": "e4763596-26d5-4cb0-943f-f1f08863c9df",
        "colab": {
          "base_uri": "https://localhost:8080/",
          "height": 260
        }
      },
      "source": [
        "# installing the library suprise\n",
        "!pip install scikit-surprise"
      ],
      "execution_count": 1,
      "outputs": [
        {
          "output_type": "stream",
          "text": [
            "Collecting scikit-surprise\n",
            "\u001b[?25l  Downloading https://files.pythonhosted.org/packages/f5/da/b5700d96495fb4f092be497f02492768a3d96a3f4fa2ae7dea46d4081cfa/scikit-surprise-1.1.0.tar.gz (6.4MB)\n",
            "\u001b[K     |████████████████████████████████| 6.5MB 2.5MB/s \n",
            "\u001b[?25hRequirement already satisfied: joblib>=0.11 in /usr/local/lib/python3.6/dist-packages (from scikit-surprise) (0.15.1)\n",
            "Requirement already satisfied: numpy>=1.11.2 in /usr/local/lib/python3.6/dist-packages (from scikit-surprise) (1.18.4)\n",
            "Requirement already satisfied: scipy>=1.0.0 in /usr/local/lib/python3.6/dist-packages (from scikit-surprise) (1.4.1)\n",
            "Requirement already satisfied: six>=1.10.0 in /usr/local/lib/python3.6/dist-packages (from scikit-surprise) (1.12.0)\n",
            "Building wheels for collected packages: scikit-surprise\n",
            "  Building wheel for scikit-surprise (setup.py) ... \u001b[?25l\u001b[?25hdone\n",
            "  Created wheel for scikit-surprise: filename=scikit_surprise-1.1.0-cp36-cp36m-linux_x86_64.whl size=1675388 sha256=572691bc77b3a6611bc30271b9db9ada2be412ea501ecb4469575a38a9169e8d\n",
            "  Stored in directory: /root/.cache/pip/wheels/cc/fa/8c/16c93fccce688ae1bde7d979ff102f7bee980d9cfeb8641bcf\n",
            "Successfully built scikit-surprise\n",
            "Installing collected packages: scikit-surprise\n",
            "Successfully installed scikit-surprise-1.1.0\n"
          ],
          "name": "stdout"
        }
      ]
    },
    {
      "cell_type": "code",
      "metadata": {
        "id": "OAOzIbbnuUMs",
        "colab_type": "code",
        "outputId": "819bb709-f6ed-43e8-a07a-7b1d0982bc72",
        "colab": {
          "base_uri": "https://localhost:8080/",
          "height": 106
        }
      },
      "source": [
        "# importing necessary packages\n",
        "import pandas as pd\n",
        "pd.set_option('display.max_rows', 100)\n",
        "pd.set_option('display.max_columns', 100)\n",
        "pd.set_option('display.width', 100)\n",
        "import seaborn as sns\n",
        "import numpy as np\n",
        "import matplotlib.pyplot as plt\n",
        "%matplotlib inline\n",
        "\n",
        "from sklearn.preprocessing import StandardScaler \n",
        "from sklearn import preprocessing\n",
        "from sklearn.feature_extraction.text import TfidfVectorizer\n",
        "from sklearn.decomposition import TruncatedSVD\n",
        "from sklearn.model_selection import train_test_split\n",
        "\n",
        "from surprise.model_selection import cross_validate\n",
        "from surprise.prediction_algorithms import SVD\n",
        "from surprise.prediction_algorithms import knns\n",
        "from surprise import accuracy\n",
        "from surprise.prediction_algorithms import KNNWithMeans, KNNBasic, KNNBaseline\n",
        "from surprise.model_selection import GridSearchCV\n",
        "from surprise.model_selection import train_test_split\n",
        "\n",
        "from surprise import Reader, Dataset\n",
        "import numpy as np\n",
        "\n",
        "import nltk\n",
        "from nltk.corpus import stopwords\n",
        "from nltk import word_tokenize, FreqDist\n",
        "nltk.download('punkt')\n",
        "import re\n",
        "import string\n",
        "import os\n",
        "\n",
        "import warnings\n",
        "warnings.filterwarnings(\"ignore\", category=FutureWarning)"
      ],
      "execution_count": 2,
      "outputs": [
        {
          "output_type": "stream",
          "text": [
            "/usr/local/lib/python3.6/dist-packages/statsmodels/tools/_testing.py:19: FutureWarning: pandas.util.testing is deprecated. Use the functions in the public API at pandas.testing instead.\n",
            "  import pandas.util.testing as tm\n"
          ],
          "name": "stderr"
        },
        {
          "output_type": "stream",
          "text": [
            "[nltk_data] Downloading package punkt to /root/nltk_data...\n",
            "[nltk_data]   Unzipping tokenizers/punkt.zip.\n"
          ],
          "name": "stdout"
        }
      ]
    },
    {
      "cell_type": "markdown",
      "metadata": {
        "id": "wXj4zqXUp4SZ",
        "colab_type": "text"
      },
      "source": [
        "### Importing and checking through the data sets"
      ]
    },
    {
      "cell_type": "code",
      "metadata": {
        "id": "yiCMgzAaU6SV",
        "colab_type": "code",
        "outputId": "ad36cf0b-2283-40e2-839a-66398443c01c",
        "colab": {
          "base_uri": "https://localhost:8080/",
          "height": 52
        }
      },
      "source": [
        "# unziping the folder containing the steam_rs.csv data\n",
        "!unzip steam_rs.zip"
      ],
      "execution_count": 3,
      "outputs": [
        {
          "output_type": "stream",
          "text": [
            "Archive:  steam_rs.zip\n",
            "  inflating: steam_rs.csv            \n"
          ],
          "name": "stdout"
        }
      ]
    },
    {
      "cell_type": "code",
      "metadata": {
        "id": "S-uAo53zuUM0",
        "colab_type": "code",
        "colab": {}
      },
      "source": [
        "# importing the data set\n",
        "steam = pd.read_csv('steam_rs.csv')"
      ],
      "execution_count": 0,
      "outputs": []
    },
    {
      "cell_type": "code",
      "metadata": {
        "id": "Ulb2eHc7uUM9",
        "colab_type": "code",
        "colab": {}
      },
      "source": [
        "# removing release_date column\n",
        "steam = steam.drop('release_date', axis = 1)"
      ],
      "execution_count": 0,
      "outputs": []
    },
    {
      "cell_type": "code",
      "metadata": {
        "id": "odO2ZJyouUNF",
        "colab_type": "code",
        "outputId": "dcdfbb94-6299-4fdd-c0a2-d018f5ac53a5",
        "colab": {
          "base_uri": "https://localhost:8080/",
          "height": 656
        }
      },
      "source": [
        "# displaying the data frame\n",
        "steam.head()"
      ],
      "execution_count": 6,
      "outputs": [
        {
          "output_type": "execute_result",
          "data": {
            "text/html": [
              "<div>\n",
              "<style scoped>\n",
              "    .dataframe tbody tr th:only-of-type {\n",
              "        vertical-align: middle;\n",
              "    }\n",
              "\n",
              "    .dataframe tbody tr th {\n",
              "        vertical-align: top;\n",
              "    }\n",
              "\n",
              "    .dataframe thead th {\n",
              "        text-align: right;\n",
              "    }\n",
              "</style>\n",
              "<table border=\"1\" class=\"dataframe\">\n",
              "  <thead>\n",
              "    <tr style=\"text-align: right;\">\n",
              "      <th></th>\n",
              "      <th>id</th>\n",
              "      <th>appid</th>\n",
              "      <th>name</th>\n",
              "      <th>purchase</th>\n",
              "      <th>hours_of_play</th>\n",
              "      <th>developer</th>\n",
              "      <th>publisher</th>\n",
              "      <th>positive</th>\n",
              "      <th>negative</th>\n",
              "      <th>english</th>\n",
              "      <th>platforms</th>\n",
              "      <th>required_age</th>\n",
              "      <th>categories</th>\n",
              "      <th>genres</th>\n",
              "      <th>steamspy_tags</th>\n",
              "      <th>achievements</th>\n",
              "      <th>average_playtime</th>\n",
              "      <th>median_playtime</th>\n",
              "      <th>owners</th>\n",
              "      <th>detailed_description</th>\n",
              "      <th>about_the_game</th>\n",
              "      <th>short_description</th>\n",
              "      <th>price</th>\n",
              "      <th>rank</th>\n",
              "    </tr>\n",
              "  </thead>\n",
              "  <tbody>\n",
              "    <tr>\n",
              "      <th>0</th>\n",
              "      <td>151603712</td>\n",
              "      <td>570</td>\n",
              "      <td>Dota 2</td>\n",
              "      <td>purchase</td>\n",
              "      <td>0.0</td>\n",
              "      <td>Valve</td>\n",
              "      <td>Valve</td>\n",
              "      <td>1097301</td>\n",
              "      <td>194384</td>\n",
              "      <td>1</td>\n",
              "      <td>windows;mac;linux</td>\n",
              "      <td>0</td>\n",
              "      <td>Multi-player;Co-op;Steam Trading Cards;Steam W...</td>\n",
              "      <td>Action;Free to Play;Strategy</td>\n",
              "      <td>Free to Play;MOBA;Strategy</td>\n",
              "      <td>0</td>\n",
              "      <td>23944</td>\n",
              "      <td>801</td>\n",
              "      <td>100000000-200000000</td>\n",
              "      <td>&lt;strong&gt;The most-played game on Steam.&lt;/strong...</td>\n",
              "      <td>&lt;strong&gt;The most-played game on Steam.&lt;/strong...</td>\n",
              "      <td>Every day, millions of players worldwide enter...</td>\n",
              "      <td>0.0</td>\n",
              "      <td>84.95113</td>\n",
              "    </tr>\n",
              "    <tr>\n",
              "      <th>1</th>\n",
              "      <td>151603712</td>\n",
              "      <td>570</td>\n",
              "      <td>Dota 2</td>\n",
              "      <td>play</td>\n",
              "      <td>0.5</td>\n",
              "      <td>Valve</td>\n",
              "      <td>Valve</td>\n",
              "      <td>1097301</td>\n",
              "      <td>194384</td>\n",
              "      <td>1</td>\n",
              "      <td>windows;mac;linux</td>\n",
              "      <td>0</td>\n",
              "      <td>Multi-player;Co-op;Steam Trading Cards;Steam W...</td>\n",
              "      <td>Action;Free to Play;Strategy</td>\n",
              "      <td>Free to Play;MOBA;Strategy</td>\n",
              "      <td>0</td>\n",
              "      <td>23944</td>\n",
              "      <td>801</td>\n",
              "      <td>100000000-200000000</td>\n",
              "      <td>&lt;strong&gt;The most-played game on Steam.&lt;/strong...</td>\n",
              "      <td>&lt;strong&gt;The most-played game on Steam.&lt;/strong...</td>\n",
              "      <td>Every day, millions of players worldwide enter...</td>\n",
              "      <td>0.0</td>\n",
              "      <td>84.95113</td>\n",
              "    </tr>\n",
              "    <tr>\n",
              "      <th>2</th>\n",
              "      <td>187131847</td>\n",
              "      <td>570</td>\n",
              "      <td>Dota 2</td>\n",
              "      <td>purchase</td>\n",
              "      <td>0.0</td>\n",
              "      <td>Valve</td>\n",
              "      <td>Valve</td>\n",
              "      <td>1097301</td>\n",
              "      <td>194384</td>\n",
              "      <td>1</td>\n",
              "      <td>windows;mac;linux</td>\n",
              "      <td>0</td>\n",
              "      <td>Multi-player;Co-op;Steam Trading Cards;Steam W...</td>\n",
              "      <td>Action;Free to Play;Strategy</td>\n",
              "      <td>Free to Play;MOBA;Strategy</td>\n",
              "      <td>0</td>\n",
              "      <td>23944</td>\n",
              "      <td>801</td>\n",
              "      <td>100000000-200000000</td>\n",
              "      <td>&lt;strong&gt;The most-played game on Steam.&lt;/strong...</td>\n",
              "      <td>&lt;strong&gt;The most-played game on Steam.&lt;/strong...</td>\n",
              "      <td>Every day, millions of players worldwide enter...</td>\n",
              "      <td>0.0</td>\n",
              "      <td>84.95113</td>\n",
              "    </tr>\n",
              "    <tr>\n",
              "      <th>3</th>\n",
              "      <td>187131847</td>\n",
              "      <td>570</td>\n",
              "      <td>Dota 2</td>\n",
              "      <td>play</td>\n",
              "      <td>2.3</td>\n",
              "      <td>Valve</td>\n",
              "      <td>Valve</td>\n",
              "      <td>1097301</td>\n",
              "      <td>194384</td>\n",
              "      <td>1</td>\n",
              "      <td>windows;mac;linux</td>\n",
              "      <td>0</td>\n",
              "      <td>Multi-player;Co-op;Steam Trading Cards;Steam W...</td>\n",
              "      <td>Action;Free to Play;Strategy</td>\n",
              "      <td>Free to Play;MOBA;Strategy</td>\n",
              "      <td>0</td>\n",
              "      <td>23944</td>\n",
              "      <td>801</td>\n",
              "      <td>100000000-200000000</td>\n",
              "      <td>&lt;strong&gt;The most-played game on Steam.&lt;/strong...</td>\n",
              "      <td>&lt;strong&gt;The most-played game on Steam.&lt;/strong...</td>\n",
              "      <td>Every day, millions of players worldwide enter...</td>\n",
              "      <td>0.0</td>\n",
              "      <td>84.95113</td>\n",
              "    </tr>\n",
              "    <tr>\n",
              "      <th>4</th>\n",
              "      <td>176410694</td>\n",
              "      <td>570</td>\n",
              "      <td>Dota 2</td>\n",
              "      <td>purchase</td>\n",
              "      <td>0.0</td>\n",
              "      <td>Valve</td>\n",
              "      <td>Valve</td>\n",
              "      <td>1097301</td>\n",
              "      <td>194384</td>\n",
              "      <td>1</td>\n",
              "      <td>windows;mac;linux</td>\n",
              "      <td>0</td>\n",
              "      <td>Multi-player;Co-op;Steam Trading Cards;Steam W...</td>\n",
              "      <td>Action;Free to Play;Strategy</td>\n",
              "      <td>Free to Play;MOBA;Strategy</td>\n",
              "      <td>0</td>\n",
              "      <td>23944</td>\n",
              "      <td>801</td>\n",
              "      <td>100000000-200000000</td>\n",
              "      <td>&lt;strong&gt;The most-played game on Steam.&lt;/strong...</td>\n",
              "      <td>&lt;strong&gt;The most-played game on Steam.&lt;/strong...</td>\n",
              "      <td>Every day, millions of players worldwide enter...</td>\n",
              "      <td>0.0</td>\n",
              "      <td>84.95113</td>\n",
              "    </tr>\n",
              "  </tbody>\n",
              "</table>\n",
              "</div>"
            ],
            "text/plain": [
              "          id  appid    name  purchase  hours_of_play developer publisher  positive  negative  \\\n",
              "0  151603712    570  Dota 2  purchase            0.0     Valve     Valve   1097301    194384   \n",
              "1  151603712    570  Dota 2      play            0.5     Valve     Valve   1097301    194384   \n",
              "2  187131847    570  Dota 2  purchase            0.0     Valve     Valve   1097301    194384   \n",
              "3  187131847    570  Dota 2      play            2.3     Valve     Valve   1097301    194384   \n",
              "4  176410694    570  Dota 2  purchase            0.0     Valve     Valve   1097301    194384   \n",
              "\n",
              "   english          platforms  required_age                                         categories  \\\n",
              "0        1  windows;mac;linux             0  Multi-player;Co-op;Steam Trading Cards;Steam W...   \n",
              "1        1  windows;mac;linux             0  Multi-player;Co-op;Steam Trading Cards;Steam W...   \n",
              "2        1  windows;mac;linux             0  Multi-player;Co-op;Steam Trading Cards;Steam W...   \n",
              "3        1  windows;mac;linux             0  Multi-player;Co-op;Steam Trading Cards;Steam W...   \n",
              "4        1  windows;mac;linux             0  Multi-player;Co-op;Steam Trading Cards;Steam W...   \n",
              "\n",
              "                         genres               steamspy_tags  achievements  average_playtime  \\\n",
              "0  Action;Free to Play;Strategy  Free to Play;MOBA;Strategy             0             23944   \n",
              "1  Action;Free to Play;Strategy  Free to Play;MOBA;Strategy             0             23944   \n",
              "2  Action;Free to Play;Strategy  Free to Play;MOBA;Strategy             0             23944   \n",
              "3  Action;Free to Play;Strategy  Free to Play;MOBA;Strategy             0             23944   \n",
              "4  Action;Free to Play;Strategy  Free to Play;MOBA;Strategy             0             23944   \n",
              "\n",
              "   median_playtime               owners                               detailed_description  \\\n",
              "0              801  100000000-200000000  <strong>The most-played game on Steam.</strong...   \n",
              "1              801  100000000-200000000  <strong>The most-played game on Steam.</strong...   \n",
              "2              801  100000000-200000000  <strong>The most-played game on Steam.</strong...   \n",
              "3              801  100000000-200000000  <strong>The most-played game on Steam.</strong...   \n",
              "4              801  100000000-200000000  <strong>The most-played game on Steam.</strong...   \n",
              "\n",
              "                                      about_the_game  \\\n",
              "0  <strong>The most-played game on Steam.</strong...   \n",
              "1  <strong>The most-played game on Steam.</strong...   \n",
              "2  <strong>The most-played game on Steam.</strong...   \n",
              "3  <strong>The most-played game on Steam.</strong...   \n",
              "4  <strong>The most-played game on Steam.</strong...   \n",
              "\n",
              "                                   short_description  price      rank  \n",
              "0  Every day, millions of players worldwide enter...    0.0  84.95113  \n",
              "1  Every day, millions of players worldwide enter...    0.0  84.95113  \n",
              "2  Every day, millions of players worldwide enter...    0.0  84.95113  \n",
              "3  Every day, millions of players worldwide enter...    0.0  84.95113  \n",
              "4  Every day, millions of players worldwide enter...    0.0  84.95113  "
            ]
          },
          "metadata": {
            "tags": []
          },
          "execution_count": 6
        }
      ]
    },
    {
      "cell_type": "code",
      "metadata": {
        "id": "qdN30tXFPtVK",
        "colab_type": "code",
        "colab": {}
      },
      "source": [
        "# modifying the columns in the data frame\n",
        "steam = steam[['id', 'appid', 'name', 'rank', 'genres', 'steamspy_tags', 'short_description', 'hours_of_play']]"
      ],
      "execution_count": 0,
      "outputs": []
    },
    {
      "cell_type": "markdown",
      "metadata": {
        "id": "KlLsN5GVHL8i",
        "colab_type": "text"
      },
      "source": [
        "Since Steam does not use ratings for games, i will base the recommendations on the hours of play for users."
      ]
    },
    {
      "cell_type": "code",
      "metadata": {
        "id": "bfJ6SXXrLQV4",
        "colab_type": "code",
        "colab": {}
      },
      "source": [
        "# alterting the data frame further to show the id, game name and its hours of play\n",
        "steam = steam[['id', 'name', 'hours_of_play']]"
      ],
      "execution_count": 0,
      "outputs": []
    },
    {
      "cell_type": "code",
      "metadata": {
        "id": "HmHIpg66MaJ2",
        "colab_type": "code",
        "outputId": "e638151d-2d1c-4085-fe8a-96776ec9baed",
        "colab": {
          "base_uri": "https://localhost:8080/",
          "height": 34
        }
      },
      "source": [
        "# displaying shape of data frame\n",
        "steam.shape"
      ],
      "execution_count": 9,
      "outputs": [
        {
          "output_type": "execute_result",
          "data": {
            "text/plain": [
              "(99632, 3)"
            ]
          },
          "metadata": {
            "tags": []
          },
          "execution_count": 9
        }
      ]
    },
    {
      "cell_type": "code",
      "metadata": {
        "id": "lnRfxsB2Di_0",
        "colab_type": "code",
        "colab": {}
      },
      "source": [
        "# dropping the duplicate ids, and keeping the most recent ones as making sure it dosent remove all the unique games in the data frame\n",
        "steam.drop_duplicates(subset = ['id', 'name'],\n",
        "                     keep = 'last', inplace = True)"
      ],
      "execution_count": 0,
      "outputs": []
    },
    {
      "cell_type": "code",
      "metadata": {
        "id": "-ow_bkyHDlQV",
        "colab_type": "code",
        "outputId": "2cb7572c-8d56-4ea4-f169-6edae8b89d87",
        "colab": {
          "base_uri": "https://localhost:8080/",
          "height": 34
        }
      },
      "source": [
        "# displaying shape of data frame\n",
        "steam.shape"
      ],
      "execution_count": 11,
      "outputs": [
        {
          "output_type": "execute_result",
          "data": {
            "text/plain": [
              "(60446, 3)"
            ]
          },
          "metadata": {
            "tags": []
          },
          "execution_count": 11
        }
      ]
    },
    {
      "cell_type": "code",
      "metadata": {
        "id": "d1E9oHA0uUNK",
        "colab_type": "code",
        "colab": {}
      },
      "source": [
        "# transforming the current data set into something that is compatible with surpirse \n",
        "reader = Reader()\n",
        "steam = Dataset.load_from_df(steam,reader)"
      ],
      "execution_count": 0,
      "outputs": []
    },
    {
      "cell_type": "markdown",
      "metadata": {
        "id": "u74mF_F_1Odd",
        "colab_type": "text"
      },
      "source": [
        "### Train/ test split"
      ]
    },
    {
      "cell_type": "markdown",
      "metadata": {
        "id": "BNfub7qC3edG",
        "colab_type": "text"
      },
      "source": [
        "The train and test data sets will contain randomly selected user ratings and items instead of the entire list of users and items. 80% of these ratings reside in the training set and the remaining 20% is in the test set."
      ]
    },
    {
      "cell_type": "code",
      "metadata": {
        "id": "0gzE7UakT1I5",
        "colab_type": "code",
        "colab": {}
      },
      "source": [
        "# preforming train/test split\n",
        "trainset, testset = train_test_split(steam, test_size=0.2)"
      ],
      "execution_count": 0,
      "outputs": []
    },
    {
      "cell_type": "code",
      "metadata": {
        "id": "vraPOAD-3_di",
        "colab_type": "code",
        "outputId": "9322f1dd-b226-4748-9219-05f989a43943",
        "colab": {
          "base_uri": "https://localhost:8080/",
          "height": 86
        }
      },
      "source": [
        "# checking the number of items and users in the data set\n",
        "print('Number of users: ', trainset.n_users, '\\n')\n",
        "print('Number of items: ', trainset.n_items, '\\n')"
      ],
      "execution_count": 14,
      "outputs": [
        {
          "output_type": "stream",
          "text": [
            "Number of users:  9167 \n",
            "\n",
            "Number of items:  2175 \n",
            "\n"
          ],
          "name": "stdout"
        }
      ]
    },
    {
      "cell_type": "markdown",
      "metadata": {
        "id": "3kbn51_lsNEA",
        "colab_type": "text"
      },
      "source": [
        "From this it can be seen that there is a fewer number of items rather than the number of users."
      ]
    },
    {
      "cell_type": "markdown",
      "metadata": {
        "id": "KpvSC9AC6cAG",
        "colab_type": "text"
      },
      "source": [
        "# Memory Based"
      ]
    },
    {
      "cell_type": "markdown",
      "metadata": {
        "id": "56-DV66Cvfjw",
        "colab_type": "text"
      },
      "source": [
        "For these memory based models I will be using KNNBasic which is a basic collaborative filtering algorithm. In addition to that i will also be using KNNBaseline which is a basic collaborative filtering algorithm taking into account a baseline rating. KNNWithMeans is basic collaborative filtering algorithm, taking into account the mean ratings of each user."
      ]
    },
    {
      "cell_type": "markdown",
      "metadata": {
        "id": "PPvL5wD3WOnU",
        "colab_type": "text"
      },
      "source": [
        "## Cosine similarity"
      ]
    },
    {
      "cell_type": "markdown",
      "metadata": {
        "id": "IkZa0FA6vPWh",
        "colab_type": "text"
      },
      "source": [
        "## KNNBasic with cosine similarity (USER BASED)"
      ]
    },
    {
      "cell_type": "code",
      "metadata": {
        "id": "OQE96Bj-UqC3",
        "colab_type": "code",
        "colab": {}
      },
      "source": [
        "#   cosine similarity\n",
        "sim_cos = {'name':'cosine', 'user_based':True}"
      ],
      "execution_count": 0,
      "outputs": []
    },
    {
      "cell_type": "code",
      "metadata": {
        "id": "p9ZP7y352aeq",
        "colab_type": "code",
        "colab": {}
      },
      "source": [
        "#   training the model with user_based = True\n",
        "basic_user = knns.KNNBasic(sim_options=sim_cos)"
      ],
      "execution_count": 0,
      "outputs": []
    },
    {
      "cell_type": "code",
      "metadata": {
        "id": "1knHteqgNcHO",
        "colab_type": "code",
        "outputId": "4d9fde64-c92d-4b1e-ed65-d8e286e76966",
        "colab": {
          "base_uri": "https://localhost:8080/",
          "height": 173
        }
      },
      "source": [
        "#   fitting the model\n",
        "simcos_cv_user = cross_validate(basic_user, steam, measures=['rmse', 'mae'],\n",
        "                           cv = 3, return_train_measures=True, n_jobs= -1,\n",
        "                           verbose = True)"
      ],
      "execution_count": 46,
      "outputs": [
        {
          "output_type": "stream",
          "text": [
            "Evaluating RMSE, MAE of algorithm KNNBasic on 3 split(s).\n",
            "\n",
            "                  Fold 1  Fold 2  Fold 3  Mean    Std     \n",
            "RMSE (testset)    228.9718223.7241213.3561222.01736.4883  \n",
            "MAE (testset)     35.3183 35.2097 34.1601 34.8961 0.5223  \n",
            "RMSE (trainset)   218.6245221.3231226.3897222.11243.2189  \n",
            "MAE (trainset)    34.3881 34.4445 34.9625 34.5984 0.2585  \n",
            "Fit time          25.84   27.36   14.91   22.70   5.54    \n",
            "Test time         6.46    6.73    3.41    5.53    1.50    \n"
          ],
          "name": "stdout"
        }
      ]
    },
    {
      "cell_type": "code",
      "metadata": {
        "id": "eRNC8T_7NkNI",
        "colab_type": "code",
        "colab": {
          "base_uri": "https://localhost:8080/",
          "height": 156
        },
        "outputId": "c32f5d38-1bda-489d-a880-a0fdb9fa480f"
      },
      "source": [
        "for i in simcos_cv_user.items():\n",
        "    print(i)\n",
        "print('-----------------')\n",
        "print(np.mean(simcos_cv_user['test_rmse']))"
      ],
      "execution_count": 47,
      "outputs": [
        {
          "output_type": "stream",
          "text": [
            "('test_rmse', array([228.97183166, 223.7240792 , 213.35606093]))\n",
            "('train_rmse', array([218.62447138, 221.32310377, 226.38968214]))\n",
            "('test_mae', array([35.31827624, 35.20974549, 34.16013318]))\n",
            "('train_mae', array([34.3881082 , 34.44449754, 34.96253912]))\n",
            "('fit_time', (25.84223961830139, 27.357378005981445, 14.913233757019043))\n",
            "('test_time', (6.455743312835693, 6.730473279953003, 3.410547971725464))\n",
            "-----------------\n",
            "222.0173239291706\n"
          ],
          "name": "stdout"
        }
      ]
    },
    {
      "cell_type": "markdown",
      "metadata": {
        "id": "OH9qn89kETW0",
        "colab_type": "text"
      },
      "source": [
        "From the results this model appears overfit."
      ]
    },
    {
      "cell_type": "markdown",
      "metadata": {
        "id": "Gd2lKUZ1Wti6",
        "colab_type": "text"
      },
      "source": [
        "## KNNBasic with cosine similarity (ITEM BASED)\n"
      ]
    },
    {
      "cell_type": "code",
      "metadata": {
        "id": "iencxxosW31s",
        "colab_type": "code",
        "colab": {}
      },
      "source": [
        "#   cosine similarity\n",
        "sim_cos = {'name':'cosine', 'user_based':False}"
      ],
      "execution_count": 0,
      "outputs": []
    },
    {
      "cell_type": "code",
      "metadata": {
        "id": "l8ahBPZa5tOQ",
        "colab_type": "code",
        "colab": {}
      },
      "source": [
        "#   training the model with user_based = True\n",
        "basic_item = knns.KNNBasic(sim_options=sim_cos)"
      ],
      "execution_count": 0,
      "outputs": []
    },
    {
      "cell_type": "code",
      "metadata": {
        "id": "LcctIN9M5xbv",
        "colab_type": "code",
        "outputId": "6642e32b-2570-4d01-c990-95d767bd549c",
        "colab": {
          "base_uri": "https://localhost:8080/",
          "height": 173
        }
      },
      "source": [
        "#   fitting the model\n",
        "simcos_cv_item = cross_validate(basic_item, steam, measures=['rmse', 'mae'],\n",
        "                           cv = 3, return_train_measures=True, n_jobs= -1,\n",
        "                           verbose = True)"
      ],
      "execution_count": 20,
      "outputs": [
        {
          "output_type": "stream",
          "text": [
            "Evaluating RMSE, MAE of algorithm KNNBasic on 3 split(s).\n",
            "\n",
            "                  Fold 1  Fold 2  Fold 3  Mean    Std     \n",
            "RMSE (testset)    233.1314207.1824225.5939221.969210.8993 \n",
            "MAE (testset)     34.9303 34.7733 36.0902 35.2646 0.5873  \n",
            "RMSE (trainset)   216.4389229.2539220.4181222.03695.3555  \n",
            "MAE (trainset)    34.7965 34.8390 34.1977 34.6111 0.2928  \n",
            "Fit time          1.95    2.41    1.60    1.99    0.33    \n",
            "Test time         2.27    1.77    0.92    1.66    0.56    \n"
          ],
          "name": "stdout"
        }
      ]
    },
    {
      "cell_type": "code",
      "metadata": {
        "id": "ucgnpdm0MBfS",
        "colab_type": "code",
        "colab": {
          "base_uri": "https://localhost:8080/",
          "height": 156
        },
        "outputId": "543912b4-619b-4019-ba00-7dbe68354ecc"
      },
      "source": [
        "for i in simcos_cv_item.items():\n",
        "    print(i)\n",
        "print('-----------------')\n",
        "print(np.mean(simcos_cv_item['test_rmse']))"
      ],
      "execution_count": 24,
      "outputs": [
        {
          "output_type": "stream",
          "text": [
            "('test_rmse', array([233.13144171, 207.18237231, 225.59386048]))\n",
            "('train_rmse', array([216.43888121, 229.25390399, 220.41805831]))\n",
            "('test_mae', array([34.93033289, 34.77326367, 36.09018717]))\n",
            "('train_mae', array([34.79653516, 34.83900194, 34.19768521]))\n",
            "('fit_time', (1.9526290893554688, 2.4080560207366943, 1.6034140586853027))\n",
            "('test_time', (2.274155616760254, 1.7709479331970215, 0.9229907989501953))\n",
            "-----------------\n",
            "221.9692248330687\n"
          ],
          "name": "stdout"
        }
      ]
    },
    {
      "cell_type": "markdown",
      "metadata": {
        "id": "HW5wGmGxEdsN",
        "colab_type": "text"
      },
      "source": [
        "Although like the previous model this model also appears quite overfit, there is a slight improvement in the RMSE and MAE scores.1\n"
      ]
    },
    {
      "cell_type": "markdown",
      "metadata": {
        "id": "AVtheHJ96epo",
        "colab_type": "text"
      },
      "source": [
        "### Pearson similarity"
      ]
    },
    {
      "cell_type": "markdown",
      "metadata": {
        "id": "P6z1vEKjXHMp",
        "colab_type": "text"
      },
      "source": [
        "## KNNBaseline with pearson similarity (USER BASED)"
      ]
    },
    {
      "cell_type": "code",
      "metadata": {
        "id": "Ygw5t3QOW3_6",
        "colab_type": "code",
        "colab": {}
      },
      "source": [
        "# person similarity\n",
        "sim_pearson = {'name':'pearson', 'user_based':True}"
      ],
      "execution_count": 0,
      "outputs": []
    },
    {
      "cell_type": "code",
      "metadata": {
        "id": "7NRggdAbW4Fx",
        "colab_type": "code",
        "colab": {}
      },
      "source": [
        "#   training the model with user_based = True\n",
        "knn_baseline_user = knns.KNNBaseline(sim_options=sim_pearson)\n"
      ],
      "execution_count": 0,
      "outputs": []
    },
    {
      "cell_type": "code",
      "metadata": {
        "id": "0GTvOUmP6Bkf",
        "colab_type": "code",
        "outputId": "962e36bb-56d9-4bc1-d338-daa8bb78d56a",
        "colab": {
          "base_uri": "https://localhost:8080/",
          "height": 173
        }
      },
      "source": [
        "#   fitting the model\n",
        "sim_pearson_cv_user = cross_validate(knn_baseline_user, steam, measures=['rmse', 'mae'],\n",
        "                           cv = 3, return_train_measures=True, n_jobs= -1,\n",
        "                           verbose = True)"
      ],
      "execution_count": 25,
      "outputs": [
        {
          "output_type": "stream",
          "text": [
            "Evaluating RMSE, MAE of algorithm KNNBaseline on 3 split(s).\n",
            "\n",
            "                  Fold 1  Fold 2  Fold 3  Mean    Std     \n",
            "RMSE (testset)    227.7171193.8803242.0029221.200120.1792 \n",
            "MAE (testset)     34.2870 33.4675 37.1238 34.9594 1.5666  \n",
            "RMSE (trainset)   219.2476234.9514211.4571221.88549.7712  \n",
            "MAE (trainset)    34.5946 34.9833 33.1351 34.2377 0.7956  \n",
            "Fit time          33.99   34.03   16.42   28.15   8.29    \n",
            "Test time         7.31    7.48    4.02    6.27    1.59    \n"
          ],
          "name": "stdout"
        }
      ]
    },
    {
      "cell_type": "code",
      "metadata": {
        "id": "46vzy94rMXf_",
        "colab_type": "code",
        "colab": {
          "base_uri": "https://localhost:8080/",
          "height": 156
        },
        "outputId": "37442c58-b66d-495f-ca11-88598f29b55b"
      },
      "source": [
        "for i in sim_pearson_cv_user.items():\n",
        "    print(i)\n",
        "print('-----------------')\n",
        "print(np.mean(sim_pearson_cv_user['test_rmse']))"
      ],
      "execution_count": 26,
      "outputs": [
        {
          "output_type": "stream",
          "text": [
            "('test_rmse', array([227.71714958, 193.88029079, 242.00294524]))\n",
            "('train_rmse', array([219.24760772, 234.95144508, 211.45711046]))\n",
            "('test_mae', array([34.28702211, 33.46748549, 37.12380177]))\n",
            "('train_mae', array([34.59459711, 34.98332315, 33.13510688]))\n",
            "('fit_time', (33.990625858306885, 34.03328895568848, 16.423507928848267))\n",
            "('test_time', (7.305282115936279, 7.478791236877441, 4.016505241394043))\n",
            "-----------------\n",
            "221.20012853862636\n"
          ],
          "name": "stdout"
        }
      ]
    },
    {
      "cell_type": "markdown",
      "metadata": {
        "id": "dok2NqKrHhNQ",
        "colab_type": "text"
      },
      "source": [
        "From the RMSE and MAE scores obtained, there is evident improvement in this user based KNNBaseline model with pearson similarity. The lower RMSE scores shown above indicates an improved performance compared to previous models."
      ]
    },
    {
      "cell_type": "markdown",
      "metadata": {
        "id": "xX-mUiK1XEtK",
        "colab_type": "text"
      },
      "source": [
        "## KNNBaseline with pearson similarity (ITEM BASED)"
      ]
    },
    {
      "cell_type": "code",
      "metadata": {
        "id": "2wm6hWeN6LRF",
        "colab_type": "code",
        "colab": {}
      },
      "source": [
        "# person similarity\n",
        "sim_pearson = {'name':'pearson', 'user_based':False}"
      ],
      "execution_count": 0,
      "outputs": []
    },
    {
      "cell_type": "code",
      "metadata": {
        "id": "NjGsgdmz6N-A",
        "colab_type": "code",
        "colab": {}
      },
      "source": [
        "#   training the model with user_based = False\n",
        "knn_baseline_item = knns.KNNBaseline(sim_options=sim_pearson)"
      ],
      "execution_count": 0,
      "outputs": []
    },
    {
      "cell_type": "code",
      "metadata": {
        "id": "ByPKmmbmW34-",
        "colab_type": "code",
        "outputId": "deabaa9b-b8cf-49c4-b058-783f791209e6",
        "colab": {
          "base_uri": "https://localhost:8080/",
          "height": 173
        }
      },
      "source": [
        "#   fitting the model\n",
        "sim_pearson_cv_item = cross_validate(knn_baseline_user, steam, measures=['rmse', 'mae'],\n",
        "                           cv = 3, return_train_measures=True, n_jobs= -1,\n",
        "                           verbose = True)"
      ],
      "execution_count": 33,
      "outputs": [
        {
          "output_type": "stream",
          "text": [
            "Evaluating RMSE, MAE of algorithm KNNBaseline on 3 split(s).\n",
            "\n",
            "                  Fold 1  Fold 2  Fold 3  Mean    Std     \n",
            "RMSE (testset)    224.3914236.8364203.9276221.718513.5673 \n",
            "MAE (testset)     35.6523 35.2078 34.2885 35.0496 0.5679  \n",
            "RMSE (trainset)   220.9566214.3677230.6685221.99766.6954  \n",
            "MAE (trainset)    33.8830 34.1239 34.5715 34.1928 0.2853  \n",
            "Fit time          1.76    2.48    1.60    1.95    0.38    \n",
            "Test time         2.57    2.01    1.10    1.89    0.61    \n"
          ],
          "name": "stdout"
        }
      ]
    },
    {
      "cell_type": "code",
      "metadata": {
        "id": "qAcbRQOiMeB_",
        "colab_type": "code",
        "colab": {
          "base_uri": "https://localhost:8080/",
          "height": 156
        },
        "outputId": "b12303db-b984-4fba-8b77-a6a55a683b00"
      },
      "source": [
        "for i in sim_pearson_cv_item.items():\n",
        "    print(i)\n",
        "print('-----------------')\n",
        "print(np.mean(sim_pearson_cv_item['test_rmse']))"
      ],
      "execution_count": 34,
      "outputs": [
        {
          "output_type": "stream",
          "text": [
            "('test_rmse', array([224.39144468, 236.83644249, 203.92760893]))\n",
            "('train_rmse', array([220.95663133, 214.36766449, 230.66851105]))\n",
            "('test_mae', array([35.65233519, 35.20784097, 34.28852744]))\n",
            "('train_mae', array([33.88297921, 34.12385282, 34.5715336 ]))\n",
            "('fit_time', (1.7622437477111816, 2.47896671295166, 1.5959157943725586))\n",
            "('test_time', (2.567018985748291, 2.0062038898468018, 1.096261739730835))\n",
            "-----------------\n",
            "221.71849870102267\n"
          ],
          "name": "stdout"
        }
      ]
    },
    {
      "cell_type": "markdown",
      "metadata": {
        "id": "WEYqHM6IH3VS",
        "colab_type": "text"
      },
      "source": [
        "This models preformance was also decent"
      ]
    },
    {
      "cell_type": "markdown",
      "metadata": {
        "id": "UivarLut23OA",
        "colab_type": "text"
      },
      "source": [
        "## KNNWithMeans with pearson similarity (USER BASED)"
      ]
    },
    {
      "cell_type": "code",
      "metadata": {
        "id": "urKtrtnB22sc",
        "colab_type": "code",
        "colab": {}
      },
      "source": [
        "# person similarity\n",
        "sim_pearson = {'name':'pearson', 'user_based':True}"
      ],
      "execution_count": 0,
      "outputs": []
    },
    {
      "cell_type": "code",
      "metadata": {
        "id": "V0jzUAVX3NMb",
        "colab_type": "code",
        "colab": {}
      },
      "source": [
        "#   training the model with user_based = True\n",
        "knn_WithMeans_user = knns.KNNWithMeans(sim_options=sim_pearson)"
      ],
      "execution_count": 0,
      "outputs": []
    },
    {
      "cell_type": "code",
      "metadata": {
        "id": "QA_AfgEd3NWg",
        "colab_type": "code",
        "outputId": "04a8ae25-dc4e-44a8-f0e4-3a211a8766df",
        "colab": {
          "base_uri": "https://localhost:8080/",
          "height": 173
        }
      },
      "source": [
        "#   fitting the model\n",
        "sim_pearson_wm_cv_user = cross_validate(knn_WithMeans_user, steam, measures=['rmse', 'mae'],\n",
        "                           cv = 3, return_train_measures=True, n_jobs= -1,\n",
        "                           verbose = True)"
      ],
      "execution_count": 37,
      "outputs": [
        {
          "output_type": "stream",
          "text": [
            "Evaluating RMSE, MAE of algorithm KNNWithMeans on 3 split(s).\n",
            "\n",
            "                  Fold 1  Fold 2  Fold 3  Mean    Std     \n",
            "RMSE (testset)    235.8071236.3716191.4307221.203221.0535 \n",
            "MAE (testset)     34.4921 36.2347 33.6681 34.7983 1.0700  \n",
            "RMSE (trainset)   214.9773214.6713235.9929221.88059.9798  \n",
            "MAE (trainset)    34.3131 33.4291 34.7388 34.1603 0.5455  \n",
            "Fit time          31.14   30.92   16.14   26.07   7.02    \n",
            "Test time         7.21    7.33    3.55    6.03    1.75    \n"
          ],
          "name": "stdout"
        }
      ]
    },
    {
      "cell_type": "code",
      "metadata": {
        "id": "6Tcnm7FkM-5M",
        "colab_type": "code",
        "colab": {
          "base_uri": "https://localhost:8080/",
          "height": 156
        },
        "outputId": "8bff5c3b-2a35-49f8-d905-1460e22af45b"
      },
      "source": [
        "for i in sim_pearson_wm_cv_user.items():\n",
        "    print(i)\n",
        "print('-----------------')\n",
        "print(np.mean(sim_pearson_wm_cv_user['test_rmse']))"
      ],
      "execution_count": 38,
      "outputs": [
        {
          "output_type": "stream",
          "text": [
            "('test_rmse', array([235.8070977 , 236.37162456, 191.43073826]))\n",
            "('train_rmse', array([214.97730375, 214.67134826, 235.99294221]))\n",
            "('test_mae', array([34.49207968, 36.23473695, 33.66810759]))\n",
            "('train_mae', array([34.31313786, 33.42913201, 34.7387793 ]))\n",
            "('fit_time', (31.140739917755127, 30.92330241203308, 16.14375615119934))\n",
            "('test_time', (7.214906454086304, 7.32607102394104, 3.5543196201324463))\n",
            "-----------------\n",
            "221.20315350460828\n"
          ],
          "name": "stdout"
        }
      ]
    },
    {
      "cell_type": "markdown",
      "metadata": {
        "id": "0XP4y1UX3h28",
        "colab_type": "text"
      },
      "source": [
        "## KNNWithMeans with pearson similarity (ITEM BASED)"
      ]
    },
    {
      "cell_type": "code",
      "metadata": {
        "id": "IDz0tBQr3m-o",
        "colab_type": "code",
        "colab": {}
      },
      "source": [
        "# person similarity\n",
        "sim_pearson = {'name':'pearson', 'user_based':False}"
      ],
      "execution_count": 0,
      "outputs": []
    },
    {
      "cell_type": "code",
      "metadata": {
        "id": "TkcJ8KNR3nCw",
        "colab_type": "code",
        "colab": {}
      },
      "source": [
        "#   training the model with user_based = False\n",
        "knn_WithMeans_item = knns.KNNWithMeans(sim_options=sim_pearson)"
      ],
      "execution_count": 0,
      "outputs": []
    },
    {
      "cell_type": "code",
      "metadata": {
        "id": "Gn6154CO3nGj",
        "colab_type": "code",
        "outputId": "2f2137e8-9518-4b78-f9e3-d7a7065c62fd",
        "colab": {
          "base_uri": "https://localhost:8080/",
          "height": 228
        }
      },
      "source": [
        "#   fitting the model\n",
        "sim_pearson_wm_cv_item = cross_validate(knn_WithMeans_item, steam, measures=['rmse', 'mae'],\n",
        "                           cv = 3, return_train_measures=True, n_jobs= -1,\n",
        "                           verbose = True)"
      ],
      "execution_count": 41,
      "outputs": [
        {
          "output_type": "stream",
          "text": [
            "/usr/local/lib/python3.6/dist-packages/joblib/externals/loky/process_executor.py:691: UserWarning: A worker stopped while some jobs were given to the executor. This can be caused by a too short worker timeout or by a memory leak.\n",
            "  \"timeout or by a memory leak.\", UserWarning\n"
          ],
          "name": "stderr"
        },
        {
          "output_type": "stream",
          "text": [
            "Evaluating RMSE, MAE of algorithm KNNWithMeans on 3 split(s).\n",
            "\n",
            "                  Fold 1  Fold 2  Fold 3  Mean    Std     \n",
            "RMSE (testset)    240.2601228.4892195.1499221.299719.1049 \n",
            "MAE (testset)     37.1344 33.7052 33.4021 34.7472 1.6925  \n",
            "RMSE (trainset)   212.4455218.8437234.4237221.90439.2298  \n",
            "MAE (trainset)    32.8357 34.5785 34.7244 34.0462 0.8580  \n",
            "Fit time          1.73    2.35    1.17    1.75    0.48    \n",
            "Test time         2.39    1.76    0.93    1.69    0.59    \n"
          ],
          "name": "stdout"
        }
      ]
    },
    {
      "cell_type": "code",
      "metadata": {
        "id": "VowGEBldNEsH",
        "colab_type": "code",
        "colab": {
          "base_uri": "https://localhost:8080/",
          "height": 156
        },
        "outputId": "ada8e0db-aaa8-4239-89ed-6bfd62ce73e7"
      },
      "source": [
        "for i in sim_pearson_wm_cv_item.items():\n",
        "    print(i)\n",
        "print('-----------------')\n",
        "print(np.mean(sim_pearson_wm_cv_item['test_rmse']))"
      ],
      "execution_count": 42,
      "outputs": [
        {
          "output_type": "stream",
          "text": [
            "('test_rmse', array([240.26008838, 228.48918675, 195.14992952]))\n",
            "('train_rmse', array([212.44551117, 218.84373337, 234.42365478]))\n",
            "('test_mae', array([37.1343957 , 33.70524854, 33.40210195]))\n",
            "('train_mae', array([32.835666  , 34.57854936, 34.72439679]))\n",
            "('fit_time', (1.7314190864562988, 2.353318214416504, 1.1666381359100342))\n",
            "('test_time', (2.3850784301757812, 1.764460563659668, 0.9341492652893066))\n",
            "-----------------\n",
            "221.29973488229982\n"
          ],
          "name": "stdout"
        }
      ]
    },
    {
      "cell_type": "markdown",
      "metadata": {
        "id": "18wNAl-f7v5o",
        "colab_type": "text"
      },
      "source": [
        "# Model based "
      ]
    },
    {
      "cell_type": "code",
      "metadata": {
        "id": "rtz6XhQyDez2",
        "colab_type": "code",
        "outputId": "deee18d6-420c-4c5b-adde-2fabbd88ba59",
        "colab": {
          "base_uri": "https://localhost:8080/",
          "height": 86
        }
      },
      "source": [
        "param_grid = {'n_factors':[20, 100],'n_epochs': [5, 10], 'lr_all': [0.002, 0.005],\n",
        "               'reg_all': [0.4, 0.6]}\n",
        "gs_model = GridSearchCV(SVD,param_grid=param_grid,n_jobs = -1,joblib_verbose=5)\n",
        "gs_model.fit(steam)"
      ],
      "execution_count": 48,
      "outputs": [
        {
          "output_type": "stream",
          "text": [
            "[Parallel(n_jobs=-1)]: Using backend LokyBackend with 2 concurrent workers.\n",
            "[Parallel(n_jobs=-1)]: Done  14 tasks      | elapsed:   18.7s\n",
            "[Parallel(n_jobs=-1)]: Done  68 tasks      | elapsed:  1.8min\n",
            "[Parallel(n_jobs=-1)]: Done  80 out of  80 | elapsed:  2.2min finished\n"
          ],
          "name": "stderr"
        }
      ]
    },
    {
      "cell_type": "code",
      "metadata": {
        "id": "DTdZelo8OR_E",
        "colab_type": "code",
        "colab": {
          "base_uri": "https://localhost:8080/",
          "height": 72
        },
        "outputId": "19841010-4ba1-4cc7-a52b-aa440fcd58c5"
      },
      "source": [
        "print(gs_model.best_score)\n",
        "print(gs_model.best_params)"
      ],
      "execution_count": 49,
      "outputs": [
        {
          "output_type": "stream",
          "text": [
            "{'rmse': 221.07945902505745, 'mae': 35.76528369897345}\n",
            "{'rmse': {'n_factors': 20, 'n_epochs': 5, 'lr_all': 0.002, 'reg_all': 0.4}, 'mae': {'n_factors': 20, 'n_epochs': 5, 'lr_all': 0.002, 'reg_all': 0.4}}\n"
          ],
          "name": "stdout"
        }
      ]
    },
    {
      "cell_type": "code",
      "metadata": {
        "id": "-u9HK4DRORFQ",
        "colab_type": "code",
        "colab": {}
      },
      "source": [
        "## Perform a gridsearch with SVD\n",
        "params = {'n_factors': [20, 50, 100],\n",
        "         'reg_all': [0.02, 0.05, 0.1]}\n",
        "g_s_svd = GridSearchCV(SVD,param_grid=params,n_jobs=-1)\n",
        "g_s_svd.fit(steam)"
      ],
      "execution_count": 0,
      "outputs": []
    },
    {
      "cell_type": "code",
      "metadata": {
        "id": "rNoRAwxlOJSo",
        "colab_type": "code",
        "colab": {
          "base_uri": "https://localhost:8080/",
          "height": 52
        },
        "outputId": "f0734e5e-6fd9-4098-aa98-dc438a728f98"
      },
      "source": [
        "print(g_s_svd.best_score)\n",
        "print(g_s_svd.best_params)"
      ],
      "execution_count": 51,
      "outputs": [
        {
          "output_type": "stream",
          "text": [
            "{'rmse': 221.31836417839622, 'mae': 35.76531379544365}\n",
            "{'rmse': {'n_factors': 20, 'reg_all': 0.02}, 'mae': {'n_factors': 20, 'reg_all': 0.02}}\n"
          ],
          "name": "stdout"
        }
      ]
    },
    {
      "cell_type": "code",
      "metadata": {
        "id": "cHTgIsuUObjq",
        "colab_type": "code",
        "colab": {}
      },
      "source": [
        "#create our high performance algorithm\n",
        "our_algo = gs_model.best_estimator['rmse']"
      ],
      "execution_count": 0,
      "outputs": []
    },
    {
      "cell_type": "code",
      "metadata": {
        "id": "zHyuXeOnOf5A",
        "colab_type": "code",
        "colab": {
          "base_uri": "https://localhost:8080/",
          "height": 34
        },
        "outputId": "5cc22f57-9584-427d-a292-194e4fac00b9"
      },
      "source": [
        "#Retrain on the whole set A\n",
        "trainset = steam.build_full_trainset()\n",
        "our_algo.fit(trainset)"
      ],
      "execution_count": 55,
      "outputs": [
        {
          "output_type": "execute_result",
          "data": {
            "text/plain": [
              "<surprise.prediction_algorithms.matrix_factorization.SVD at 0x7fc3cb33c5f8>"
            ]
          },
          "metadata": {
            "tags": []
          },
          "execution_count": 55
        }
      ]
    },
    {
      "cell_type": "code",
      "metadata": {
        "id": "b-UDaqvZOhz1",
        "colab_type": "code",
        "colab": {
          "base_uri": "https://localhost:8080/",
          "height": 52
        },
        "outputId": "938e4284-4cc5-4245-d6ba-442252b83230"
      },
      "source": [
        "#This is the BIASED Accuracy on A\n",
        "predictions = our_algo.test(trainset.build_testset())\n",
        "print('Biased accuract on A', end='  ')\n",
        "accuracy.rmse(predictions)"
      ],
      "execution_count": 56,
      "outputs": [
        {
          "output_type": "stream",
          "text": [
            "Biased accuract on A  RMSE: 222.1159\n"
          ],
          "name": "stdout"
        },
        {
          "output_type": "execute_result",
          "data": {
            "text/plain": [
              "222.1159269640164"
            ]
          },
          "metadata": {
            "tags": []
          },
          "execution_count": 56
        }
      ]
    },
    {
      "cell_type": "code",
      "metadata": {
        "id": "6JTeOxiPOkXA",
        "colab_type": "code",
        "colab": {
          "base_uri": "https://localhost:8080/",
          "height": 234
        },
        "outputId": "8d1142f6-eef6-4110-8333-1ebe680f8a35"
      },
      "source": [
        "#This is the UNBIASED Accuract on B\n",
        "testset = steam.construct_testset(B_raw_ratings) #testset is now the set B\n",
        "predictions = our_algo.test(testset)\n",
        "print('Unbiased accuracy on B,', end=' ')\n",
        "accuracy.rmse(predictions)"
      ],
      "execution_count": 58,
      "outputs": [
        {
          "output_type": "error",
          "ename": "NameError",
          "evalue": "ignored",
          "traceback": [
            "\u001b[0;31m---------------------------------------------------------------------------\u001b[0m",
            "\u001b[0;31mNameError\u001b[0m                                 Traceback (most recent call last)",
            "\u001b[0;32m<ipython-input-58-dca89a453668>\u001b[0m in \u001b[0;36m<module>\u001b[0;34m()\u001b[0m\n\u001b[1;32m      1\u001b[0m \u001b[0;31m#This is the UNBIASED Accuract on B\u001b[0m\u001b[0;34m\u001b[0m\u001b[0;34m\u001b[0m\u001b[0;34m\u001b[0m\u001b[0m\n\u001b[0;32m----> 2\u001b[0;31m \u001b[0mtestset\u001b[0m \u001b[0;34m=\u001b[0m \u001b[0msteam\u001b[0m\u001b[0;34m.\u001b[0m\u001b[0mconstruct_testset\u001b[0m\u001b[0;34m(\u001b[0m\u001b[0mB_raw_ratings\u001b[0m\u001b[0;34m)\u001b[0m \u001b[0;31m#testset is now the set B\u001b[0m\u001b[0;34m\u001b[0m\u001b[0;34m\u001b[0m\u001b[0m\n\u001b[0m\u001b[1;32m      3\u001b[0m \u001b[0mpredictions\u001b[0m \u001b[0;34m=\u001b[0m \u001b[0mour_algo\u001b[0m\u001b[0;34m.\u001b[0m\u001b[0mtest\u001b[0m\u001b[0;34m(\u001b[0m\u001b[0mtestset\u001b[0m\u001b[0;34m)\u001b[0m\u001b[0;34m\u001b[0m\u001b[0;34m\u001b[0m\u001b[0m\n\u001b[1;32m      4\u001b[0m \u001b[0mprint\u001b[0m\u001b[0;34m(\u001b[0m\u001b[0;34m'Unbiased accuracy on B,'\u001b[0m\u001b[0;34m,\u001b[0m \u001b[0mend\u001b[0m\u001b[0;34m=\u001b[0m\u001b[0;34m' '\u001b[0m\u001b[0;34m)\u001b[0m\u001b[0;34m\u001b[0m\u001b[0;34m\u001b[0m\u001b[0m\n\u001b[1;32m      5\u001b[0m \u001b[0maccuracy\u001b[0m\u001b[0;34m.\u001b[0m\u001b[0mrmse\u001b[0m\u001b[0;34m(\u001b[0m\u001b[0mpredictions\u001b[0m\u001b[0;34m)\u001b[0m\u001b[0;34m\u001b[0m\u001b[0;34m\u001b[0m\u001b[0m\n",
            "\u001b[0;31mNameError\u001b[0m: name 'B_raw_ratings' is not defined"
          ]
        }
      ]
    },
    {
      "cell_type": "code",
      "metadata": {
        "id": "mjvdsdGpDexj",
        "colab_type": "code",
        "colab": {}
      },
      "source": [
        "svd = SVD(n_factors=100, n_epochs=10, lr_all=0.005, reg_all=0.4)\n",
        "svd.fit(trainset)\n",
        "predictions = svd.test(testset)\n",
        "print(accuracy.rmse(predictions))"
      ],
      "execution_count": 0,
      "outputs": []
    },
    {
      "cell_type": "markdown",
      "metadata": {
        "id": "10rbv53yNotJ",
        "colab_type": "text"
      },
      "source": [
        "# Making recommendations"
      ]
    },
    {
      "cell_type": "code",
      "metadata": {
        "id": "Z_7kJGxuQrCp",
        "colab_type": "code",
        "colab": {}
      },
      "source": [
        "df_games = pd.read_csv('steam_rs.csv')"
      ],
      "execution_count": 0,
      "outputs": []
    },
    {
      "cell_type": "code",
      "metadata": {
        "id": "TbdfU-bOQzHm",
        "colab_type": "code",
        "colab": {}
      },
      "source": [
        "df_games.head()"
      ],
      "execution_count": 0,
      "outputs": []
    },
    {
      "cell_type": "code",
      "metadata": {
        "id": "2Zi8xpC4PygC",
        "colab_type": "code",
        "colab": {}
      },
      "source": [
        "# dropping the duplicate ids, and keeping the most recent ones as making sure it dosent remove all the unique games in the data frame\n",
        "df_games.drop_duplicates(subset = ['id', 'name'],\n",
        "                     keep = 'last', inplace = True)"
      ],
      "execution_count": 0,
      "outputs": []
    },
    {
      "cell_type": "code",
      "metadata": {
        "id": "KIufB0CeQV0L",
        "colab_type": "code",
        "colab": {}
      },
      "source": [
        "# dropping the duplicate ids\n",
        "df_games.drop_duplicates(subset = ['appid'],\n",
        "                     keep = 'last', inplace = True)"
      ],
      "execution_count": 0,
      "outputs": []
    },
    {
      "cell_type": "code",
      "metadata": {
        "id": "sBPmgmM3Ik_K",
        "colab_type": "code",
        "colab": {}
      },
      "source": [
        "df_games = df_games[['id', 'appid', 'name', 'purchase', 'developer', 'genres', 'rank']]"
      ],
      "execution_count": 0,
      "outputs": []
    },
    {
      "cell_type": "code",
      "metadata": {
        "id": "M0tFwBPbNsGz",
        "colab_type": "code",
        "colab": {}
      },
      "source": [
        "svd = SVD(n_factors= 20, reg_all=0.02)\n",
        "svd.fit(trainset)"
      ],
      "execution_count": 0,
      "outputs": []
    },
    {
      "cell_type": "code",
      "metadata": {
        "id": "4KNWaIY2N9aC",
        "colab_type": "code",
        "colab": {}
      },
      "source": [
        "svd.predict(2, 4)"
      ],
      "execution_count": 0,
      "outputs": []
    },
    {
      "cell_type": "code",
      "metadata": {
        "id": "We6-j-f9OAvT",
        "colab_type": "code",
        "colab": {}
      },
      "source": [
        "def game_rater(df_games, num, genre=None):\n",
        "    userID = 1000\n",
        "    rating_list = []\n",
        "    while num > 0:\n",
        "        if genre:\n",
        "            game = df_games[df_games['genres'].str.contains(genre)].sample(1)\n",
        "        else:\n",
        "            game = df_games.sample(1)\n",
        "        print(game)\n",
        "        rating = input('How many hours have you spent on this game, press n if you have not played it :\\n')\n",
        "        if rating == 'n':\n",
        "            continue\n",
        "        else:\n",
        "            rating_one_game = {'id':userID,'gameId':game['appid'].values[0],'hours_of_play':rating}\n",
        "            rating_list.append(rating_one_game) \n",
        "            num -= 1\n",
        "    return rating_list      "
      ],
      "execution_count": 0,
      "outputs": []
    },
    {
      "cell_type": "code",
      "metadata": {
        "id": "oRJ3mgD7OMPK",
        "colab_type": "code",
        "colab": {}
      },
      "source": [
        "user_rating = game_rater(df_games, 4, 'RPG')"
      ],
      "execution_count": 0,
      "outputs": []
    },
    {
      "cell_type": "code",
      "metadata": {
        "id": "PmaWGEU-Lzct",
        "colab_type": "code",
        "colab": {}
      },
      "source": [
        ""
      ],
      "execution_count": 0,
      "outputs": []
    },
    {
      "cell_type": "code",
      "metadata": {
        "id": "cLkeFgLVLzj9",
        "colab_type": "code",
        "colab": {}
      },
      "source": [
        "## add the new ratings to the original ratings DataFrame\n",
        "new_ratings_df = df_games.append(user_rating,ignore_index=True)"
      ],
      "execution_count": 0,
      "outputs": []
    },
    {
      "cell_type": "code",
      "metadata": {
        "id": "t8zVBql1NdT_",
        "colab_type": "code",
        "colab": {}
      },
      "source": [
        "new_ratings_df = new_ratings_df[['id', 'appid', 'hours_of_play']]\n"
      ],
      "execution_count": 0,
      "outputs": []
    },
    {
      "cell_type": "code",
      "metadata": {
        "id": "ZtOOKHNzM4Fc",
        "colab_type": "code",
        "colab": {}
      },
      "source": [
        "# transforming the current data set into something that is compatible with surpirse \n",
        "reader = Reader()\n",
        "new_data = Dataset.load_from_df(new_ratings_df,reader)"
      ],
      "execution_count": 0,
      "outputs": []
    },
    {
      "cell_type": "code",
      "metadata": {
        "id": "n-vLK1dGOl0q",
        "colab_type": "code",
        "colab": {}
      },
      "source": [
        "# train a model using the new combined DataFrame\n",
        "svd_ = SVD(n_factors= 20, reg_all=0.02)\n",
        "svd_.fit(new_data.build_full_trainset())"
      ],
      "execution_count": 0,
      "outputs": []
    },
    {
      "cell_type": "code",
      "metadata": {
        "id": "-1RbZ0w-On2E",
        "colab_type": "code",
        "colab": {}
      },
      "source": [
        "# make predictions for the user\n",
        "list_of_games = []\n",
        "for m_id in df_games['appid'].unique():\n",
        "    list_of_games.append( (m_id,svd_.predict(1000,m_id)[3]))"
      ],
      "execution_count": 0,
      "outputs": []
    },
    {
      "cell_type": "code",
      "metadata": {
        "id": "Sm0X805gOp79",
        "colab_type": "code",
        "colab": {}
      },
      "source": [
        "# order the predictions from highest to lowest rated\n",
        "ranked_games = sorted(list_of_games, key=lambda x:x[1], reverse=True)"
      ],
      "execution_count": 0,
      "outputs": []
    },
    {
      "cell_type": "code",
      "metadata": {
        "id": "aLN6FEJnLY_2",
        "colab_type": "code",
        "colab": {}
      },
      "source": [
        "# return the top n recommendations\n",
        "def recommended_games(user_ratings, df_games, n):\n",
        "        for idx, rec in enumerate(user_ratings):\n",
        "            title = df_games.loc[df_games['appid'] == int(rec[0])]['name']\n",
        "            print('Recommendation # ', idx+1, ': ', title, '\\n')\n",
        "            n-= 1\n",
        "            if n == 0:\n",
        "                break"
      ],
      "execution_count": 0,
      "outputs": []
    },
    {
      "cell_type": "code",
      "metadata": {
        "id": "dpco3EsWMJp4",
        "colab_type": "code",
        "colab": {}
      },
      "source": [
        "recommended_games(ranked_games, df_games, 5)"
      ],
      "execution_count": 0,
      "outputs": []
    },
    {
      "cell_type": "markdown",
      "metadata": {
        "id": "6wgf5xFO9e2d",
        "colab_type": "text"
      },
      "source": [
        "# FUTURE WORK"
      ]
    },
    {
      "cell_type": "markdown",
      "metadata": {
        "id": "gElOYyMZ9kgq",
        "colab_type": "text"
      },
      "source": [
        "\n",
        "\n",
        "*   Developing improved recommendation systems using the hybrid filtering methods\n",
        "*   Soley using Steam's API to form game recommendations​\n",
        "*   Using matrix factorization techniques\n",
        "\n"
      ]
    }
  ]
}