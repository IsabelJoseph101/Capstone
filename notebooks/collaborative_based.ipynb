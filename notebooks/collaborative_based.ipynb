{
  "nbformat": 4,
  "nbformat_minor": 0,
  "metadata": {
    "kernelspec": {
      "display_name": "Python 3",
      "language": "python",
      "name": "python3"
    },
    "language_info": {
      "codemirror_mode": {
        "name": "ipython",
        "version": 3
      },
      "file_extension": ".py",
      "mimetype": "text/x-python",
      "name": "python",
      "nbconvert_exporter": "python",
      "pygments_lexer": "ipython3",
      "version": "3.7.4"
    },
    "colab": {
      "name": "Untitled1.ipynb",
      "provenance": [],
      "toc_visible": true
    }
  },
  "cells": [
    {
      "cell_type": "markdown",
      "metadata": {
        "id": "4j3Rj10euUMq",
        "colab_type": "text"
      },
      "source": [
        "# Collaborative based filtering"
      ]
    },
    {
      "cell_type": "markdown",
      "metadata": {
        "id": "BN39Cw3H0Bhf",
        "colab_type": "text"
      },
      "source": [
        "Collaborative filtering based models finds similaries between items or users through ratings or items that other users have liked as well."
      ]
    },
    {
      "cell_type": "markdown",
      "metadata": {
        "id": "JB2mQPruz9XS",
        "colab_type": "text"
      },
      "source": [
        "### Importing necessary packages\n"
      ]
    },
    {
      "cell_type": "code",
      "metadata": {
        "id": "W8YVwL3-pGN5",
        "colab_type": "code",
        "outputId": "630f9f35-0377-4474-f753-9721fbb76da1",
        "colab": {
          "base_uri": "https://localhost:8080/",
          "height": 260
        }
      },
      "source": [
        "# installing the library suprise\n",
        "!pip install scikit-surprise"
      ],
      "execution_count": 1,
      "outputs": [
        {
          "output_type": "stream",
          "text": [
            "Collecting scikit-surprise\n",
            "\u001b[?25l  Downloading https://files.pythonhosted.org/packages/f5/da/b5700d96495fb4f092be497f02492768a3d96a3f4fa2ae7dea46d4081cfa/scikit-surprise-1.1.0.tar.gz (6.4MB)\n",
            "\u001b[K     |████████████████████████████████| 6.5MB 2.5MB/s \n",
            "\u001b[?25hRequirement already satisfied: joblib>=0.11 in /usr/local/lib/python3.6/dist-packages (from scikit-surprise) (0.15.1)\n",
            "Requirement already satisfied: numpy>=1.11.2 in /usr/local/lib/python3.6/dist-packages (from scikit-surprise) (1.18.4)\n",
            "Requirement already satisfied: scipy>=1.0.0 in /usr/local/lib/python3.6/dist-packages (from scikit-surprise) (1.4.1)\n",
            "Requirement already satisfied: six>=1.10.0 in /usr/local/lib/python3.6/dist-packages (from scikit-surprise) (1.12.0)\n",
            "Building wheels for collected packages: scikit-surprise\n",
            "  Building wheel for scikit-surprise (setup.py) ... \u001b[?25l\u001b[?25hdone\n",
            "  Created wheel for scikit-surprise: filename=scikit_surprise-1.1.0-cp36-cp36m-linux_x86_64.whl size=1675384 sha256=6e041b1bad2679ac38d1fc20f356f73f55e491f9ceca17f76cc2b8b0ff25326d\n",
            "  Stored in directory: /root/.cache/pip/wheels/cc/fa/8c/16c93fccce688ae1bde7d979ff102f7bee980d9cfeb8641bcf\n",
            "Successfully built scikit-surprise\n",
            "Installing collected packages: scikit-surprise\n",
            "Successfully installed scikit-surprise-1.1.0\n"
          ],
          "name": "stdout"
        }
      ]
    },
    {
      "cell_type": "code",
      "metadata": {
        "id": "OAOzIbbnuUMs",
        "colab_type": "code",
        "outputId": "acecf00e-81af-4b62-ab0a-ee7d560a3f31",
        "colab": {
          "base_uri": "https://localhost:8080/",
          "height": 106
        }
      },
      "source": [
        "# importing necessary packages\n",
        "import pandas as pd\n",
        "pd.set_option('display.max_rows', 100)\n",
        "pd.set_option('display.max_columns', 100)\n",
        "pd.set_option('display.width', 100)\n",
        "import seaborn as sns\n",
        "import numpy as np\n",
        "import matplotlib.pyplot as plt\n",
        "%matplotlib inline\n",
        "\n",
        "from sklearn.preprocessing import StandardScaler \n",
        "from sklearn import preprocessing\n",
        "from sklearn.feature_extraction.text import TfidfVectorizer\n",
        "from sklearn.decomposition import TruncatedSVD\n",
        "from sklearn.model_selection import train_test_split\n",
        "\n",
        "from surprise.model_selection import cross_validate\n",
        "from surprise.prediction_algorithms import SVD\n",
        "from surprise.prediction_algorithms import knns\n",
        "from surprise import accuracy\n",
        "from surprise.prediction_algorithms import KNNWithMeans, KNNBasic, KNNBaseline\n",
        "from surprise.model_selection import GridSearchCV\n",
        "from surprise.model_selection import train_test_split\n",
        "\n",
        "from surprise import Reader, Dataset\n",
        "import numpy as np\n",
        "\n",
        "import nltk\n",
        "from nltk.corpus import stopwords\n",
        "from nltk import word_tokenize, FreqDist\n",
        "nltk.download('punkt')\n",
        "import re\n",
        "import string\n",
        "import os\n",
        "\n",
        "import warnings\n",
        "warnings.filterwarnings(\"ignore\", category=FutureWarning)"
      ],
      "execution_count": 2,
      "outputs": [
        {
          "output_type": "stream",
          "text": [
            "/usr/local/lib/python3.6/dist-packages/statsmodels/tools/_testing.py:19: FutureWarning: pandas.util.testing is deprecated. Use the functions in the public API at pandas.testing instead.\n",
            "  import pandas.util.testing as tm\n"
          ],
          "name": "stderr"
        },
        {
          "output_type": "stream",
          "text": [
            "[nltk_data] Downloading package punkt to /root/nltk_data...\n",
            "[nltk_data]   Unzipping tokenizers/punkt.zip.\n"
          ],
          "name": "stdout"
        }
      ]
    },
    {
      "cell_type": "markdown",
      "metadata": {
        "id": "wXj4zqXUp4SZ",
        "colab_type": "text"
      },
      "source": [
        "### Importing and checking through the data sets"
      ]
    },
    {
      "cell_type": "code",
      "metadata": {
        "id": "yiCMgzAaU6SV",
        "colab_type": "code",
        "outputId": "d30f90eb-ba1e-440b-dd57-a4a7c63efb03",
        "colab": {
          "base_uri": "https://localhost:8080/",
          "height": 52
        }
      },
      "source": [
        "# unziping the folder containing the steam_rs.csv data\n",
        "!unzip steam_rs.zip"
      ],
      "execution_count": 3,
      "outputs": [
        {
          "output_type": "stream",
          "text": [
            "Archive:  steam_rs.zip\n",
            "  inflating: steam_rs.csv            \n"
          ],
          "name": "stdout"
        }
      ]
    },
    {
      "cell_type": "code",
      "metadata": {
        "id": "S-uAo53zuUM0",
        "colab_type": "code",
        "colab": {}
      },
      "source": [
        "# importing the data set\n",
        "steam = pd.read_csv('steam_rs.csv')"
      ],
      "execution_count": 0,
      "outputs": []
    },
    {
      "cell_type": "code",
      "metadata": {
        "id": "Ulb2eHc7uUM9",
        "colab_type": "code",
        "colab": {}
      },
      "source": [
        "# removing release_date column\n",
        "steam = steam.drop('release_date', axis = 1)"
      ],
      "execution_count": 0,
      "outputs": []
    },
    {
      "cell_type": "code",
      "metadata": {
        "id": "odO2ZJyouUNF",
        "colab_type": "code",
        "outputId": "892f3bf9-bcb1-48c1-b0a3-a52a69e554e5",
        "colab": {
          "base_uri": "https://localhost:8080/",
          "height": 656
        }
      },
      "source": [
        "# displaying the data frame\n",
        "steam.head()"
      ],
      "execution_count": 6,
      "outputs": [
        {
          "output_type": "execute_result",
          "data": {
            "text/html": [
              "<div>\n",
              "<style scoped>\n",
              "    .dataframe tbody tr th:only-of-type {\n",
              "        vertical-align: middle;\n",
              "    }\n",
              "\n",
              "    .dataframe tbody tr th {\n",
              "        vertical-align: top;\n",
              "    }\n",
              "\n",
              "    .dataframe thead th {\n",
              "        text-align: right;\n",
              "    }\n",
              "</style>\n",
              "<table border=\"1\" class=\"dataframe\">\n",
              "  <thead>\n",
              "    <tr style=\"text-align: right;\">\n",
              "      <th></th>\n",
              "      <th>id</th>\n",
              "      <th>appid</th>\n",
              "      <th>name</th>\n",
              "      <th>purchase</th>\n",
              "      <th>hours_of_play</th>\n",
              "      <th>developer</th>\n",
              "      <th>publisher</th>\n",
              "      <th>positive</th>\n",
              "      <th>negative</th>\n",
              "      <th>english</th>\n",
              "      <th>platforms</th>\n",
              "      <th>required_age</th>\n",
              "      <th>categories</th>\n",
              "      <th>genres</th>\n",
              "      <th>steamspy_tags</th>\n",
              "      <th>achievements</th>\n",
              "      <th>average_playtime</th>\n",
              "      <th>median_playtime</th>\n",
              "      <th>owners</th>\n",
              "      <th>detailed_description</th>\n",
              "      <th>about_the_game</th>\n",
              "      <th>short_description</th>\n",
              "      <th>price</th>\n",
              "      <th>rank</th>\n",
              "    </tr>\n",
              "  </thead>\n",
              "  <tbody>\n",
              "    <tr>\n",
              "      <th>0</th>\n",
              "      <td>151603712</td>\n",
              "      <td>570</td>\n",
              "      <td>Dota 2</td>\n",
              "      <td>purchase</td>\n",
              "      <td>0.0</td>\n",
              "      <td>Valve</td>\n",
              "      <td>Valve</td>\n",
              "      <td>1097301</td>\n",
              "      <td>194384</td>\n",
              "      <td>1</td>\n",
              "      <td>windows;mac;linux</td>\n",
              "      <td>0</td>\n",
              "      <td>Multi-player;Co-op;Steam Trading Cards;Steam W...</td>\n",
              "      <td>Action;Free to Play;Strategy</td>\n",
              "      <td>Free to Play;MOBA;Strategy</td>\n",
              "      <td>0</td>\n",
              "      <td>23944</td>\n",
              "      <td>801</td>\n",
              "      <td>100000000-200000000</td>\n",
              "      <td>&lt;strong&gt;The most-played game on Steam.&lt;/strong...</td>\n",
              "      <td>&lt;strong&gt;The most-played game on Steam.&lt;/strong...</td>\n",
              "      <td>Every day, millions of players worldwide enter...</td>\n",
              "      <td>0.0</td>\n",
              "      <td>84.95113</td>\n",
              "    </tr>\n",
              "    <tr>\n",
              "      <th>1</th>\n",
              "      <td>151603712</td>\n",
              "      <td>570</td>\n",
              "      <td>Dota 2</td>\n",
              "      <td>play</td>\n",
              "      <td>0.5</td>\n",
              "      <td>Valve</td>\n",
              "      <td>Valve</td>\n",
              "      <td>1097301</td>\n",
              "      <td>194384</td>\n",
              "      <td>1</td>\n",
              "      <td>windows;mac;linux</td>\n",
              "      <td>0</td>\n",
              "      <td>Multi-player;Co-op;Steam Trading Cards;Steam W...</td>\n",
              "      <td>Action;Free to Play;Strategy</td>\n",
              "      <td>Free to Play;MOBA;Strategy</td>\n",
              "      <td>0</td>\n",
              "      <td>23944</td>\n",
              "      <td>801</td>\n",
              "      <td>100000000-200000000</td>\n",
              "      <td>&lt;strong&gt;The most-played game on Steam.&lt;/strong...</td>\n",
              "      <td>&lt;strong&gt;The most-played game on Steam.&lt;/strong...</td>\n",
              "      <td>Every day, millions of players worldwide enter...</td>\n",
              "      <td>0.0</td>\n",
              "      <td>84.95113</td>\n",
              "    </tr>\n",
              "    <tr>\n",
              "      <th>2</th>\n",
              "      <td>187131847</td>\n",
              "      <td>570</td>\n",
              "      <td>Dota 2</td>\n",
              "      <td>purchase</td>\n",
              "      <td>0.0</td>\n",
              "      <td>Valve</td>\n",
              "      <td>Valve</td>\n",
              "      <td>1097301</td>\n",
              "      <td>194384</td>\n",
              "      <td>1</td>\n",
              "      <td>windows;mac;linux</td>\n",
              "      <td>0</td>\n",
              "      <td>Multi-player;Co-op;Steam Trading Cards;Steam W...</td>\n",
              "      <td>Action;Free to Play;Strategy</td>\n",
              "      <td>Free to Play;MOBA;Strategy</td>\n",
              "      <td>0</td>\n",
              "      <td>23944</td>\n",
              "      <td>801</td>\n",
              "      <td>100000000-200000000</td>\n",
              "      <td>&lt;strong&gt;The most-played game on Steam.&lt;/strong...</td>\n",
              "      <td>&lt;strong&gt;The most-played game on Steam.&lt;/strong...</td>\n",
              "      <td>Every day, millions of players worldwide enter...</td>\n",
              "      <td>0.0</td>\n",
              "      <td>84.95113</td>\n",
              "    </tr>\n",
              "    <tr>\n",
              "      <th>3</th>\n",
              "      <td>187131847</td>\n",
              "      <td>570</td>\n",
              "      <td>Dota 2</td>\n",
              "      <td>play</td>\n",
              "      <td>2.3</td>\n",
              "      <td>Valve</td>\n",
              "      <td>Valve</td>\n",
              "      <td>1097301</td>\n",
              "      <td>194384</td>\n",
              "      <td>1</td>\n",
              "      <td>windows;mac;linux</td>\n",
              "      <td>0</td>\n",
              "      <td>Multi-player;Co-op;Steam Trading Cards;Steam W...</td>\n",
              "      <td>Action;Free to Play;Strategy</td>\n",
              "      <td>Free to Play;MOBA;Strategy</td>\n",
              "      <td>0</td>\n",
              "      <td>23944</td>\n",
              "      <td>801</td>\n",
              "      <td>100000000-200000000</td>\n",
              "      <td>&lt;strong&gt;The most-played game on Steam.&lt;/strong...</td>\n",
              "      <td>&lt;strong&gt;The most-played game on Steam.&lt;/strong...</td>\n",
              "      <td>Every day, millions of players worldwide enter...</td>\n",
              "      <td>0.0</td>\n",
              "      <td>84.95113</td>\n",
              "    </tr>\n",
              "    <tr>\n",
              "      <th>4</th>\n",
              "      <td>176410694</td>\n",
              "      <td>570</td>\n",
              "      <td>Dota 2</td>\n",
              "      <td>purchase</td>\n",
              "      <td>0.0</td>\n",
              "      <td>Valve</td>\n",
              "      <td>Valve</td>\n",
              "      <td>1097301</td>\n",
              "      <td>194384</td>\n",
              "      <td>1</td>\n",
              "      <td>windows;mac;linux</td>\n",
              "      <td>0</td>\n",
              "      <td>Multi-player;Co-op;Steam Trading Cards;Steam W...</td>\n",
              "      <td>Action;Free to Play;Strategy</td>\n",
              "      <td>Free to Play;MOBA;Strategy</td>\n",
              "      <td>0</td>\n",
              "      <td>23944</td>\n",
              "      <td>801</td>\n",
              "      <td>100000000-200000000</td>\n",
              "      <td>&lt;strong&gt;The most-played game on Steam.&lt;/strong...</td>\n",
              "      <td>&lt;strong&gt;The most-played game on Steam.&lt;/strong...</td>\n",
              "      <td>Every day, millions of players worldwide enter...</td>\n",
              "      <td>0.0</td>\n",
              "      <td>84.95113</td>\n",
              "    </tr>\n",
              "  </tbody>\n",
              "</table>\n",
              "</div>"
            ],
            "text/plain": [
              "          id  appid    name  purchase  hours_of_play developer publisher  positive  negative  \\\n",
              "0  151603712    570  Dota 2  purchase            0.0     Valve     Valve   1097301    194384   \n",
              "1  151603712    570  Dota 2      play            0.5     Valve     Valve   1097301    194384   \n",
              "2  187131847    570  Dota 2  purchase            0.0     Valve     Valve   1097301    194384   \n",
              "3  187131847    570  Dota 2      play            2.3     Valve     Valve   1097301    194384   \n",
              "4  176410694    570  Dota 2  purchase            0.0     Valve     Valve   1097301    194384   \n",
              "\n",
              "   english          platforms  required_age                                         categories  \\\n",
              "0        1  windows;mac;linux             0  Multi-player;Co-op;Steam Trading Cards;Steam W...   \n",
              "1        1  windows;mac;linux             0  Multi-player;Co-op;Steam Trading Cards;Steam W...   \n",
              "2        1  windows;mac;linux             0  Multi-player;Co-op;Steam Trading Cards;Steam W...   \n",
              "3        1  windows;mac;linux             0  Multi-player;Co-op;Steam Trading Cards;Steam W...   \n",
              "4        1  windows;mac;linux             0  Multi-player;Co-op;Steam Trading Cards;Steam W...   \n",
              "\n",
              "                         genres               steamspy_tags  achievements  average_playtime  \\\n",
              "0  Action;Free to Play;Strategy  Free to Play;MOBA;Strategy             0             23944   \n",
              "1  Action;Free to Play;Strategy  Free to Play;MOBA;Strategy             0             23944   \n",
              "2  Action;Free to Play;Strategy  Free to Play;MOBA;Strategy             0             23944   \n",
              "3  Action;Free to Play;Strategy  Free to Play;MOBA;Strategy             0             23944   \n",
              "4  Action;Free to Play;Strategy  Free to Play;MOBA;Strategy             0             23944   \n",
              "\n",
              "   median_playtime               owners                               detailed_description  \\\n",
              "0              801  100000000-200000000  <strong>The most-played game on Steam.</strong...   \n",
              "1              801  100000000-200000000  <strong>The most-played game on Steam.</strong...   \n",
              "2              801  100000000-200000000  <strong>The most-played game on Steam.</strong...   \n",
              "3              801  100000000-200000000  <strong>The most-played game on Steam.</strong...   \n",
              "4              801  100000000-200000000  <strong>The most-played game on Steam.</strong...   \n",
              "\n",
              "                                      about_the_game  \\\n",
              "0  <strong>The most-played game on Steam.</strong...   \n",
              "1  <strong>The most-played game on Steam.</strong...   \n",
              "2  <strong>The most-played game on Steam.</strong...   \n",
              "3  <strong>The most-played game on Steam.</strong...   \n",
              "4  <strong>The most-played game on Steam.</strong...   \n",
              "\n",
              "                                   short_description  price      rank  \n",
              "0  Every day, millions of players worldwide enter...    0.0  84.95113  \n",
              "1  Every day, millions of players worldwide enter...    0.0  84.95113  \n",
              "2  Every day, millions of players worldwide enter...    0.0  84.95113  \n",
              "3  Every day, millions of players worldwide enter...    0.0  84.95113  \n",
              "4  Every day, millions of players worldwide enter...    0.0  84.95113  "
            ]
          },
          "metadata": {
            "tags": []
          },
          "execution_count": 6
        }
      ]
    },
    {
      "cell_type": "code",
      "metadata": {
        "id": "qdN30tXFPtVK",
        "colab_type": "code",
        "colab": {}
      },
      "source": [
        "# modifying the columns in the data frame\n",
        "steam = steam[['id', 'appid', 'name', 'rank', 'genres', 'steamspy_tags', 'short_description', 'hours_of_play']]"
      ],
      "execution_count": 0,
      "outputs": []
    },
    {
      "cell_type": "markdown",
      "metadata": {
        "id": "KlLsN5GVHL8i",
        "colab_type": "text"
      },
      "source": [
        "Since Steam does not use ratings for games, i will base the recommendations on the hours of play for users."
      ]
    },
    {
      "cell_type": "code",
      "metadata": {
        "id": "bfJ6SXXrLQV4",
        "colab_type": "code",
        "colab": {}
      },
      "source": [
        "# alterting the data frame further to show the id, game name and its hours of play\n",
        "steam = steam[['id', 'name', 'hours_of_play']]"
      ],
      "execution_count": 0,
      "outputs": []
    },
    {
      "cell_type": "code",
      "metadata": {
        "id": "HmHIpg66MaJ2",
        "colab_type": "code",
        "outputId": "9e61d35e-1384-4930-a43d-8d798317a3fd",
        "colab": {
          "base_uri": "https://localhost:8080/",
          "height": 34
        }
      },
      "source": [
        "# displaying shape of data frame\n",
        "steam.shape"
      ],
      "execution_count": 9,
      "outputs": [
        {
          "output_type": "execute_result",
          "data": {
            "text/plain": [
              "(99632, 3)"
            ]
          },
          "metadata": {
            "tags": []
          },
          "execution_count": 9
        }
      ]
    },
    {
      "cell_type": "code",
      "metadata": {
        "id": "lnRfxsB2Di_0",
        "colab_type": "code",
        "colab": {}
      },
      "source": [
        "# dropping the duplicate ids, and keeping the most recent ones as making sure it dosent remove all the unique games in the data frame\n",
        "steam.drop_duplicates(subset = ['id', 'name'],\n",
        "                     keep = 'last', inplace = True)"
      ],
      "execution_count": 0,
      "outputs": []
    },
    {
      "cell_type": "code",
      "metadata": {
        "id": "-ow_bkyHDlQV",
        "colab_type": "code",
        "outputId": "ec3c5892-a663-41d9-9b68-80744ba2932a",
        "colab": {
          "base_uri": "https://localhost:8080/",
          "height": 34
        }
      },
      "source": [
        "# displaying shape of data frame\n",
        "steam.shape"
      ],
      "execution_count": 11,
      "outputs": [
        {
          "output_type": "execute_result",
          "data": {
            "text/plain": [
              "(60446, 3)"
            ]
          },
          "metadata": {
            "tags": []
          },
          "execution_count": 11
        }
      ]
    },
    {
      "cell_type": "code",
      "metadata": {
        "id": "d1E9oHA0uUNK",
        "colab_type": "code",
        "colab": {}
      },
      "source": [
        "# transforming the current data set into something that is compatible with surpirse \n",
        "reader = Reader()\n",
        "steam = Dataset.load_from_df(steam,reader)"
      ],
      "execution_count": 0,
      "outputs": []
    },
    {
      "cell_type": "markdown",
      "metadata": {
        "id": "u74mF_F_1Odd",
        "colab_type": "text"
      },
      "source": [
        "### Train/ test split"
      ]
    },
    {
      "cell_type": "markdown",
      "metadata": {
        "id": "BNfub7qC3edG",
        "colab_type": "text"
      },
      "source": [
        "The train and test data sets will contain randomly selected user ratings and items instead of the entire list of users and items. 80% of these ratings reside in the training set and the remaining 20% is in the test set."
      ]
    },
    {
      "cell_type": "code",
      "metadata": {
        "id": "0gzE7UakT1I5",
        "colab_type": "code",
        "colab": {}
      },
      "source": [
        "# preforming train/test split\n",
        "trainset, testset = train_test_split(steam, test_size=0.2)"
      ],
      "execution_count": 0,
      "outputs": []
    },
    {
      "cell_type": "code",
      "metadata": {
        "id": "vraPOAD-3_di",
        "colab_type": "code",
        "outputId": "8e64f325-c234-424a-8088-97c32fbbdcd4",
        "colab": {
          "base_uri": "https://localhost:8080/",
          "height": 0
        }
      },
      "source": [
        "# checking the number of items and users in the data set\n",
        "print('Number of users: ', trainset.n_users, '\\n')\n",
        "print('Number of items: ', trainset.n_items, '\\n')"
      ],
      "execution_count": 14,
      "outputs": [
        {
          "output_type": "stream",
          "text": [
            "Number of users:  9134 \n",
            "\n",
            "Number of items:  2169 \n",
            "\n"
          ],
          "name": "stdout"
        }
      ]
    },
    {
      "cell_type": "markdown",
      "metadata": {
        "id": "3kbn51_lsNEA",
        "colab_type": "text"
      },
      "source": [
        "From this it can be seen that there is a fewer number of items rather than the number of users."
      ]
    },
    {
      "cell_type": "markdown",
      "metadata": {
        "id": "KpvSC9AC6cAG",
        "colab_type": "text"
      },
      "source": [
        "# Memory Based"
      ]
    },
    {
      "cell_type": "markdown",
      "metadata": {
        "id": "56-DV66Cvfjw",
        "colab_type": "text"
      },
      "source": [
        "For these memory based models I will be using KNNBasic which is a basic collaborative filtering algorithm. In addition to that i will also be using KNNBaseline which is a basic collaborative filtering algorithm taking into account a baseline rating. KNNWithMeans is basic collaborative filtering algorithm, taking into account the mean ratings of each user."
      ]
    },
    {
      "cell_type": "markdown",
      "metadata": {
        "id": "PPvL5wD3WOnU",
        "colab_type": "text"
      },
      "source": [
        "## Cosine similarity"
      ]
    },
    {
      "cell_type": "markdown",
      "metadata": {
        "id": "IkZa0FA6vPWh",
        "colab_type": "text"
      },
      "source": [
        "## KNNBasic with cosine similarity (USER BASED)"
      ]
    },
    {
      "cell_type": "code",
      "metadata": {
        "id": "OQE96Bj-UqC3",
        "colab_type": "code",
        "colab": {}
      },
      "source": [
        "#   cosine similarity\n",
        "sim_cos = {'name':'cosine', 'user_based':True}"
      ],
      "execution_count": 0,
      "outputs": []
    },
    {
      "cell_type": "code",
      "metadata": {
        "id": "p9ZP7y352aeq",
        "colab_type": "code",
        "colab": {}
      },
      "source": [
        "#   training the model with user_based = True\n",
        "basic_user = knns.KNNBasic(sim_options=sim_cos)"
      ],
      "execution_count": 0,
      "outputs": []
    },
    {
      "cell_type": "code",
      "metadata": {
        "id": "1knHteqgNcHO",
        "colab_type": "code",
        "outputId": "ac67ef68-1231-4b25-9a2b-78cdca32aa2d",
        "colab": {
          "base_uri": "https://localhost:8080/",
          "height": 173
        }
      },
      "source": [
        "#   fitting the model\n",
        "simcos_cv_user = cross_validate(basic_user, steam, measures=['rmse', 'mae'],\n",
        "                           cv = 3, return_train_measures=True, n_jobs= -1,\n",
        "                           verbose = True)"
      ],
      "execution_count": 17,
      "outputs": [
        {
          "output_type": "stream",
          "text": [
            "Evaluating RMSE, MAE of algorithm KNNBasic on 3 split(s).\n",
            "\n",
            "                  Fold 1  Fold 2  Fold 3  Mean    Std     \n",
            "RMSE (testset)    204.5769246.6565212.8675221.367018.1999 \n",
            "MAE (testset)     34.6045 36.4259 33.6591 34.8965 1.1482  \n",
            "RMSE (trainset)   230.3942208.7817226.6090221.92839.4236  \n",
            "MAE (trainset)    34.7446 33.8297 35.1954 34.5899 0.5682  \n",
            "Fit time          24.94   26.59   13.84   21.79   5.66    \n",
            "Test time         5.87    6.03    3.00    4.97    1.39    \n"
          ],
          "name": "stdout"
        }
      ]
    },
    {
      "cell_type": "code",
      "metadata": {
        "id": "eRNC8T_7NkNI",
        "colab_type": "code",
        "outputId": "c3d680a6-78cd-48a9-acbd-60f01834c51e",
        "colab": {
          "base_uri": "https://localhost:8080/",
          "height": 156
        }
      },
      "source": [
        "for i in simcos_cv_user.items():\n",
        "    print(i)\n",
        "print('-----------------')\n",
        "print(np.mean(simcos_cv_user['test_rmse']))"
      ],
      "execution_count": 18,
      "outputs": [
        {
          "output_type": "stream",
          "text": [
            "('test_rmse', array([204.5769285 , 246.65650146, 212.8674908 ]))\n",
            "('train_rmse', array([230.39421302, 208.78171823, 226.60901308]))\n",
            "('test_mae', array([34.60454199, 36.42590337, 33.65913531]))\n",
            "('train_mae', array([34.7445758 , 33.82967345, 35.1954068 ]))\n",
            "('fit_time', (24.93520998954773, 26.59270405769348, 13.842443227767944))\n",
            "('test_time', (5.8696136474609375, 6.029863119125366, 3.004136800765991))\n",
            "-----------------\n",
            "221.36697358803846\n"
          ],
          "name": "stdout"
        }
      ]
    },
    {
      "cell_type": "markdown",
      "metadata": {
        "id": "Gd2lKUZ1Wti6",
        "colab_type": "text"
      },
      "source": [
        "## KNNBasic with cosine similarity (ITEM BASED)\n"
      ]
    },
    {
      "cell_type": "code",
      "metadata": {
        "id": "iencxxosW31s",
        "colab_type": "code",
        "colab": {}
      },
      "source": [
        "#   cosine similarity\n",
        "sim_cos = {'name':'cosine', 'user_based':False}"
      ],
      "execution_count": 0,
      "outputs": []
    },
    {
      "cell_type": "code",
      "metadata": {
        "id": "l8ahBPZa5tOQ",
        "colab_type": "code",
        "colab": {}
      },
      "source": [
        "#   training the model with user_based = True\n",
        "basic_item = knns.KNNBasic(sim_options=sim_cos)"
      ],
      "execution_count": 0,
      "outputs": []
    },
    {
      "cell_type": "code",
      "metadata": {
        "id": "LcctIN9M5xbv",
        "colab_type": "code",
        "outputId": "dcb4d282-1b96-4330-ebef-421c3b004093",
        "colab": {
          "base_uri": "https://localhost:8080/",
          "height": 173
        }
      },
      "source": [
        "#   fitting the model\n",
        "simcos_cv_item = cross_validate(basic_item, steam, measures=['rmse', 'mae'],\n",
        "                           cv = 3, return_train_measures=True, n_jobs= -1,\n",
        "                           verbose = True)"
      ],
      "execution_count": 21,
      "outputs": [
        {
          "output_type": "stream",
          "text": [
            "Evaluating RMSE, MAE of algorithm KNNBasic on 3 split(s).\n",
            "\n",
            "                  Fold 1  Fold 2  Fold 3  Mean    Std     \n",
            "RMSE (testset)    203.2459264.7117191.7883219.915332.0193 \n",
            "MAE (testset)     34.6813 37.8216 33.2628 35.2552 1.9049  \n",
            "RMSE (trainset)   231.0100197.4605235.8619221.444217.0743 \n",
            "MAE (trainset)    34.8713 33.3267 35.6154 34.6045 0.9532  \n",
            "Fit time          1.67    2.34    1.48    1.83    0.37    \n",
            "Test time         2.06    1.55    0.80    1.47    0.52    \n"
          ],
          "name": "stdout"
        }
      ]
    },
    {
      "cell_type": "code",
      "metadata": {
        "id": "ucgnpdm0MBfS",
        "colab_type": "code",
        "outputId": "c538f527-1a8c-4656-dee0-c259855f0a5b",
        "colab": {
          "base_uri": "https://localhost:8080/",
          "height": 156
        }
      },
      "source": [
        "for i in simcos_cv_item.items():\n",
        "    print(i)\n",
        "print('-----------------')\n",
        "print(np.mean(simcos_cv_item['test_rmse']))"
      ],
      "execution_count": 22,
      "outputs": [
        {
          "output_type": "stream",
          "text": [
            "('test_rmse', array([203.24591737, 264.71165175, 191.78831519]))\n",
            "('train_rmse', array([231.01004416, 197.46053306, 235.86188335]))\n",
            "('test_mae', array([34.68127341, 37.82162647, 33.2628225 ]))\n",
            "('train_mae', array([34.87134728, 33.32671691, 35.61540859]))\n",
            "('fit_time', (1.6671230792999268, 2.335387706756592, 1.4834179878234863))\n",
            "('test_time', (2.0574514865875244, 1.5549097061157227, 0.8019325733184814))\n",
            "-----------------\n",
            "219.9152947688224\n"
          ],
          "name": "stdout"
        }
      ]
    },
    {
      "cell_type": "markdown",
      "metadata": {
        "id": "AVtheHJ96epo",
        "colab_type": "text"
      },
      "source": [
        "### Pearson similarity"
      ]
    },
    {
      "cell_type": "markdown",
      "metadata": {
        "id": "P6z1vEKjXHMp",
        "colab_type": "text"
      },
      "source": [
        "## KNNBaseline with pearson similarity (USER BASED)"
      ]
    },
    {
      "cell_type": "code",
      "metadata": {
        "id": "Ygw5t3QOW3_6",
        "colab_type": "code",
        "colab": {}
      },
      "source": [
        "# person similarity\n",
        "sim_pearson = {'name':'pearson', 'user_based':True}"
      ],
      "execution_count": 0,
      "outputs": []
    },
    {
      "cell_type": "code",
      "metadata": {
        "id": "7NRggdAbW4Fx",
        "colab_type": "code",
        "colab": {}
      },
      "source": [
        "#   training the model with user_based = True\n",
        "knn_baseline_user = knns.KNNBaseline(sim_options=sim_pearson)\n"
      ],
      "execution_count": 0,
      "outputs": []
    },
    {
      "cell_type": "code",
      "metadata": {
        "id": "0GTvOUmP6Bkf",
        "colab_type": "code",
        "outputId": "b8df7d01-bc22-41f9-f407-83117ef13b74",
        "colab": {
          "base_uri": "https://localhost:8080/",
          "height": 228
        }
      },
      "source": [
        "#   fitting the model\n",
        "sim_pearson_cv_user = cross_validate(knn_baseline_user, steam, measures=['rmse', 'mae'],\n",
        "                           cv = 3, return_train_measures=True, n_jobs= -1,\n",
        "                           verbose = True)"
      ],
      "execution_count": 25,
      "outputs": [
        {
          "output_type": "stream",
          "text": [
            "/usr/local/lib/python3.6/dist-packages/joblib/externals/loky/process_executor.py:691: UserWarning: A worker stopped while some jobs were given to the executor. This can be caused by a too short worker timeout or by a memory leak.\n",
            "  \"timeout or by a memory leak.\", UserWarning\n"
          ],
          "name": "stderr"
        },
        {
          "output_type": "stream",
          "text": [
            "Evaluating RMSE, MAE of algorithm KNNBaseline on 3 split(s).\n",
            "\n",
            "                  Fold 1  Fold 2  Fold 3  Mean    Std     \n",
            "RMSE (testset)    221.3875217.5467227.3137222.08274.0175  \n",
            "MAE (testset)     35.4333 35.2876 34.1606 34.9605 0.5687  \n",
            "RMSE (trainset)   222.4656224.3515219.4561222.09112.0160  \n",
            "MAE (trainset)    34.0063 34.0615 34.6364 34.2347 0.2849  \n",
            "Fit time          28.32   29.64   16.38   24.78   5.97    \n",
            "Test time         6.63    7.03    3.52    5.73    1.57    \n"
          ],
          "name": "stdout"
        }
      ]
    },
    {
      "cell_type": "code",
      "metadata": {
        "id": "46vzy94rMXf_",
        "colab_type": "code",
        "outputId": "d657d9be-0705-438f-afdc-17186dafdae2",
        "colab": {
          "base_uri": "https://localhost:8080/",
          "height": 156
        }
      },
      "source": [
        "for i in sim_pearson_cv_user.items():\n",
        "    print(i)\n",
        "print('-----------------')\n",
        "print(np.mean(sim_pearson_cv_user['test_rmse']))"
      ],
      "execution_count": 26,
      "outputs": [
        {
          "output_type": "stream",
          "text": [
            "('test_rmse', array([221.38753405, 217.54674443, 227.31372382]))\n",
            "('train_rmse', array([222.46564568, 224.35148106, 219.4561416 ]))\n",
            "('test_mae', array([35.43332079, 35.28755382, 34.16062031]))\n",
            "('train_mae', array([34.00629883, 34.06145064, 34.63644716]))\n",
            "('fit_time', (28.317095041275024, 29.642582416534424, 16.378057718276978))\n",
            "('test_time', (6.626521348953247, 7.029038906097412, 3.5241141319274902))\n",
            "-----------------\n",
            "222.08266743355136\n"
          ],
          "name": "stdout"
        }
      ]
    },
    {
      "cell_type": "markdown",
      "metadata": {
        "id": "xX-mUiK1XEtK",
        "colab_type": "text"
      },
      "source": [
        "## KNNBaseline with pearson similarity (ITEM BASED)"
      ]
    },
    {
      "cell_type": "code",
      "metadata": {
        "id": "2wm6hWeN6LRF",
        "colab_type": "code",
        "colab": {}
      },
      "source": [
        "# person similarity\n",
        "sim_pearson = {'name':'pearson', 'user_based':False}"
      ],
      "execution_count": 0,
      "outputs": []
    },
    {
      "cell_type": "code",
      "metadata": {
        "id": "NjGsgdmz6N-A",
        "colab_type": "code",
        "colab": {}
      },
      "source": [
        "#   training the model with user_based = False\n",
        "knn_baseline_item = knns.KNNBaseline(sim_options=sim_pearson)"
      ],
      "execution_count": 0,
      "outputs": []
    },
    {
      "cell_type": "code",
      "metadata": {
        "id": "ByPKmmbmW34-",
        "colab_type": "code",
        "outputId": "3a0e6bfe-5d82-47dc-e6e2-d53fb5fcde3b",
        "colab": {
          "base_uri": "https://localhost:8080/",
          "height": 173
        }
      },
      "source": [
        "#   fitting the model\n",
        "sim_pearson_cv_item = cross_validate(knn_baseline_user, steam, measures=['rmse', 'mae'],\n",
        "                           cv = 3, return_train_measures=True, n_jobs= -1,\n",
        "                           verbose = True)"
      ],
      "execution_count": 29,
      "outputs": [
        {
          "output_type": "stream",
          "text": [
            "Evaluating RMSE, MAE of algorithm KNNBaseline on 3 split(s).\n",
            "\n",
            "                  Fold 1  Fold 2  Fold 3  Mean    Std     \n",
            "RMSE (testset)    246.3717222.3894194.5604221.107221.1713 \n",
            "MAE (testset)     37.0523 34.5028 33.3295 34.9615 1.5541  \n",
            "RMSE (trainset)   208.9182221.9648234.6701221.851010.5135 \n",
            "MAE (trainset)    33.1873 34.4563 35.0580 34.2338 0.7797  \n",
            "Fit time          27.31   29.28   17.01   24.54   5.38    \n",
            "Test time         6.60    6.70    3.62    5.64    1.43    \n"
          ],
          "name": "stdout"
        }
      ]
    },
    {
      "cell_type": "code",
      "metadata": {
        "id": "qAcbRQOiMeB_",
        "colab_type": "code",
        "outputId": "7c79c7d2-dd81-4f2f-b656-ee2551dbe7c8",
        "colab": {
          "base_uri": "https://localhost:8080/",
          "height": 156
        }
      },
      "source": [
        "for i in sim_pearson_cv_item.items():\n",
        "    print(i)\n",
        "print('-----------------')\n",
        "print(np.mean(sim_pearson_cv_item['test_rmse']))"
      ],
      "execution_count": 30,
      "outputs": [
        {
          "output_type": "stream",
          "text": [
            "('test_rmse', array([246.37174928, 222.38942853, 194.56042984]))\n",
            "('train_rmse', array([208.91818946, 221.96484817, 234.67005547]))\n",
            "('test_mae', array([37.05229668, 34.50284447, 33.32947695]))\n",
            "('train_mae', array([33.18727007, 34.45627109, 35.05800225]))\n",
            "('fit_time', (27.31334137916565, 29.28150248527527, 17.012567281723022))\n",
            "('test_time', (6.596349477767944, 6.702720403671265, 3.6239962577819824))\n",
            "-----------------\n",
            "221.107202549238\n"
          ],
          "name": "stdout"
        }
      ]
    },
    {
      "cell_type": "markdown",
      "metadata": {
        "id": "WEYqHM6IH3VS",
        "colab_type": "text"
      },
      "source": [
        "From the RMSE and MAE scores obtained, there is evident improvement in this user based KNNBaseline model with pearson similarity. The lower RMSE scores shown above indicates an improved performance compared to previous models."
      ]
    },
    {
      "cell_type": "markdown",
      "metadata": {
        "id": "UivarLut23OA",
        "colab_type": "text"
      },
      "source": [
        "## KNNWithMeans with pearson similarity (USER BASED)"
      ]
    },
    {
      "cell_type": "code",
      "metadata": {
        "id": "urKtrtnB22sc",
        "colab_type": "code",
        "colab": {}
      },
      "source": [
        "# person similarity\n",
        "sim_pearson = {'name':'pearson', 'user_based':True}"
      ],
      "execution_count": 0,
      "outputs": []
    },
    {
      "cell_type": "code",
      "metadata": {
        "id": "V0jzUAVX3NMb",
        "colab_type": "code",
        "colab": {}
      },
      "source": [
        "#   training the model with user_based = True\n",
        "knn_WithMeans_user = knns.KNNWithMeans(sim_options=sim_pearson)"
      ],
      "execution_count": 0,
      "outputs": []
    },
    {
      "cell_type": "code",
      "metadata": {
        "id": "QA_AfgEd3NWg",
        "colab_type": "code",
        "outputId": "8c08d57c-62d2-4abc-a0d1-98659c2467c0",
        "colab": {
          "base_uri": "https://localhost:8080/",
          "height": 173
        }
      },
      "source": [
        "#   fitting the model\n",
        "sim_pearson_wm_cv_user = cross_validate(knn_WithMeans_user, steam, measures=['rmse', 'mae'],\n",
        "                           cv = 3, return_train_measures=True, n_jobs= -1,\n",
        "                           verbose = True)"
      ],
      "execution_count": 33,
      "outputs": [
        {
          "output_type": "stream",
          "text": [
            "Evaluating RMSE, MAE of algorithm KNNWithMeans on 3 split(s).\n",
            "\n",
            "                  Fold 1  Fold 2  Fold 3  Mean    Std     \n",
            "RMSE (testset)    201.4611243.7119219.4421221.538417.3124 \n",
            "MAE (testset)     34.2260 36.3971 33.7972 34.8067 1.1381  \n",
            "RMSE (trainset)   231.7860210.5229223.4901221.93308.7502  \n",
            "MAE (trainset)    34.4575 33.3450 34.6925 34.1650 0.5877  \n",
            "Fit time          28.26   28.96   15.26   24.16   6.30    \n",
            "Test time         6.14    6.58    3.21    5.31    1.49    \n"
          ],
          "name": "stdout"
        }
      ]
    },
    {
      "cell_type": "code",
      "metadata": {
        "id": "6Tcnm7FkM-5M",
        "colab_type": "code",
        "outputId": "10874d24-9c12-458e-d479-d183207fd60d",
        "colab": {
          "base_uri": "https://localhost:8080/",
          "height": 156
        }
      },
      "source": [
        "for i in sim_pearson_wm_cv_user.items():\n",
        "    print(i)\n",
        "print('-----------------')\n",
        "print(np.mean(sim_pearson_wm_cv_user['test_rmse']))"
      ],
      "execution_count": 34,
      "outputs": [
        {
          "output_type": "stream",
          "text": [
            "('test_rmse', array([201.46113363, 243.71185531, 219.44206158]))\n",
            "('train_rmse', array([231.78600249, 210.52286761, 223.49013435]))\n",
            "('test_mae', array([34.2259837 , 36.39708395, 33.79716772]))\n",
            "('train_mae', array([34.45748556, 33.344979  , 34.69245102]))\n",
            "('fit_time', (28.259010553359985, 28.96112585067749, 15.25899052619934))\n",
            "('test_time', (6.143218517303467, 6.58163857460022, 3.2142868041992188))\n",
            "-----------------\n",
            "221.53835017556557\n"
          ],
          "name": "stdout"
        }
      ]
    },
    {
      "cell_type": "markdown",
      "metadata": {
        "id": "0XP4y1UX3h28",
        "colab_type": "text"
      },
      "source": [
        "## KNNWithMeans with pearson similarity (ITEM BASED)"
      ]
    },
    {
      "cell_type": "code",
      "metadata": {
        "id": "IDz0tBQr3m-o",
        "colab_type": "code",
        "colab": {}
      },
      "source": [
        "# person similarity\n",
        "sim_pearson = {'name':'pearson', 'user_based':False}"
      ],
      "execution_count": 0,
      "outputs": []
    },
    {
      "cell_type": "code",
      "metadata": {
        "id": "TkcJ8KNR3nCw",
        "colab_type": "code",
        "colab": {}
      },
      "source": [
        "#   training the model with user_based = False\n",
        "knn_WithMeans_item = knns.KNNWithMeans(sim_options=sim_pearson)"
      ],
      "execution_count": 0,
      "outputs": []
    },
    {
      "cell_type": "code",
      "metadata": {
        "id": "Gn6154CO3nGj",
        "colab_type": "code",
        "outputId": "f435fbe9-2f3d-4e72-ba5e-460ad8d8edc5",
        "colab": {
          "base_uri": "https://localhost:8080/",
          "height": 173
        }
      },
      "source": [
        "#   fitting the model\n",
        "sim_pearson_wm_cv_item = cross_validate(knn_WithMeans_item, steam, measures=['rmse', 'mae'],\n",
        "                           cv = 3, return_train_measures=True, n_jobs= -1,\n",
        "                           verbose = True)"
      ],
      "execution_count": 37,
      "outputs": [
        {
          "output_type": "stream",
          "text": [
            "Evaluating RMSE, MAE of algorithm KNNWithMeans on 3 split(s).\n",
            "\n",
            "                  Fold 1  Fold 2  Fold 3  Mean    Std     \n",
            "RMSE (testset)    236.3851204.8304224.0300221.748512.9827 \n",
            "MAE (testset)     35.7357 34.6474 33.8361 34.7397 0.7782  \n",
            "RMSE (trainset)   214.6100230.2625221.1376222.00346.4194  \n",
            "MAE (trainset)    33.5380 34.0686 34.5033 34.0366 0.3948  \n",
            "Fit time          1.47    2.03    1.40    1.63    0.28    \n",
            "Test time         2.32    1.65    0.96    1.64    0.55    \n"
          ],
          "name": "stdout"
        }
      ]
    },
    {
      "cell_type": "code",
      "metadata": {
        "id": "VowGEBldNEsH",
        "colab_type": "code",
        "outputId": "7b7a016d-08ae-4aa8-be09-c5178268d98b",
        "colab": {
          "base_uri": "https://localhost:8080/",
          "height": 156
        }
      },
      "source": [
        "for i in sim_pearson_wm_cv_item.items():\n",
        "    print(i)\n",
        "print('-----------------')\n",
        "print(np.mean(sim_pearson_wm_cv_item['test_rmse']))"
      ],
      "execution_count": 38,
      "outputs": [
        {
          "output_type": "stream",
          "text": [
            "('test_rmse', array([236.38505284, 204.8304221 , 224.02995696]))\n",
            "('train_rmse', array([214.61004907, 230.26254956, 221.13764998]))\n",
            "('test_mae', array([35.7357287 , 34.64737916, 33.83614146]))\n",
            "('train_mae', array([33.53795612, 34.06863997, 34.50331467]))\n",
            "('fit_time', (1.4732868671417236, 2.0329673290252686, 1.398512363433838))\n",
            "('test_time', (2.3176026344299316, 1.6523809432983398, 0.960484504699707))\n",
            "-----------------\n",
            "221.7484772981121\n"
          ],
          "name": "stdout"
        }
      ]
    },
    {
      "cell_type": "markdown",
      "metadata": {
        "id": "18wNAl-f7v5o",
        "colab_type": "text"
      },
      "source": [
        "# Model based "
      ]
    },
    {
      "cell_type": "code",
      "metadata": {
        "id": "rtz6XhQyDez2",
        "colab_type": "code",
        "outputId": "c37ba6df-137d-4daf-9a56-d6724c6b9bf6",
        "colab": {
          "base_uri": "https://localhost:8080/",
          "height": 86
        }
      },
      "source": [
        "param_grid = {'n_factors':[20, 100],'n_epochs': [5, 10], 'lr_all': [0.002, 0.005],\n",
        "               'reg_all': [0.4, 0.6]}\n",
        "gs_model = GridSearchCV(SVD,param_grid=param_grid,n_jobs = -1,joblib_verbose=5)\n",
        "gs_model.fit(steam)"
      ],
      "execution_count": 39,
      "outputs": [
        {
          "output_type": "stream",
          "text": [
            "[Parallel(n_jobs=-1)]: Using backend LokyBackend with 2 concurrent workers.\n",
            "[Parallel(n_jobs=-1)]: Done  14 tasks      | elapsed:   16.9s\n",
            "[Parallel(n_jobs=-1)]: Done  68 tasks      | elapsed:  1.7min\n",
            "[Parallel(n_jobs=-1)]: Done  80 out of  80 | elapsed:  2.0min finished\n"
          ],
          "name": "stderr"
        }
      ]
    },
    {
      "cell_type": "code",
      "metadata": {
        "id": "DTdZelo8OR_E",
        "colab_type": "code",
        "outputId": "8faf7fa4-32bb-49a0-f359-ca1ba18a6bb2",
        "colab": {
          "base_uri": "https://localhost:8080/",
          "height": 52
        }
      },
      "source": [
        "print(gs_model.best_score)\n",
        "print(gs_model.best_params)"
      ],
      "execution_count": 40,
      "outputs": [
        {
          "output_type": "stream",
          "text": [
            "{'rmse': 221.24626257601489, 'mae': 35.7652975930309}\n",
            "{'rmse': {'n_factors': 20, 'n_epochs': 5, 'lr_all': 0.002, 'reg_all': 0.4}, 'mae': {'n_factors': 20, 'n_epochs': 5, 'lr_all': 0.002, 'reg_all': 0.4}}\n"
          ],
          "name": "stdout"
        }
      ]
    },
    {
      "cell_type": "code",
      "metadata": {
        "id": "-u9HK4DRORFQ",
        "colab_type": "code",
        "colab": {}
      },
      "source": [
        "## Perform a gridsearch with SVD\n",
        "params = {'n_factors': [20, 50, 100],\n",
        "         'reg_all': [0.02, 0.05, 0.1]}\n",
        "g_s_svd = GridSearchCV(SVD,param_grid=params,n_jobs=-1)\n",
        "g_s_svd.fit(steam)"
      ],
      "execution_count": 0,
      "outputs": []
    },
    {
      "cell_type": "code",
      "metadata": {
        "id": "rNoRAwxlOJSo",
        "colab_type": "code",
        "outputId": "ae6a0447-4272-42fa-f2a1-230cf7a67856",
        "colab": {
          "base_uri": "https://localhost:8080/",
          "height": 52
        }
      },
      "source": [
        "print(g_s_svd.best_score)\n",
        "print(g_s_svd.best_params)"
      ],
      "execution_count": 42,
      "outputs": [
        {
          "output_type": "stream",
          "text": [
            "{'rmse': 219.44145445420668, 'mae': 35.76530381501246}\n",
            "{'rmse': {'n_factors': 20, 'reg_all': 0.02}, 'mae': {'n_factors': 20, 'reg_all': 0.02}}\n"
          ],
          "name": "stdout"
        }
      ]
    },
    {
      "cell_type": "code",
      "metadata": {
        "id": "cHTgIsuUObjq",
        "colab_type": "code",
        "colab": {}
      },
      "source": [
        "# reate our high performance algorithm\n",
        "algo = gs_model.best_estimator['rmse']"
      ],
      "execution_count": 0,
      "outputs": []
    },
    {
      "cell_type": "code",
      "metadata": {
        "id": "zHyuXeOnOf5A",
        "colab_type": "code",
        "outputId": "06f3dc03-0b3b-40a1-a6b5-c01b580cae37",
        "colab": {
          "base_uri": "https://localhost:8080/",
          "height": 34
        }
      },
      "source": [
        "# fitting the data set using the trainset\n",
        "trainset = steam.build_full_trainset()\n",
        "algo.fit(trainset)"
      ],
      "execution_count": 44,
      "outputs": [
        {
          "output_type": "execute_result",
          "data": {
            "text/plain": [
              "<surprise.prediction_algorithms.matrix_factorization.SVD at 0x7fdeb87d8860>"
            ]
          },
          "metadata": {
            "tags": []
          },
          "execution_count": 44
        }
      ]
    },
    {
      "cell_type": "code",
      "metadata": {
        "id": "b-UDaqvZOhz1",
        "colab_type": "code",
        "outputId": "9709392f-3fdb-4771-e4ca-6d55c557a5d2",
        "colab": {
          "base_uri": "https://localhost:8080/",
          "height": 52
        }
      },
      "source": [
        "# trainset\n",
        "predictions = algo.test(trainset.build_testset())\n",
        "print('Train', end='  ')\n",
        "accuracy.rmse(predictions)"
      ],
      "execution_count": 45,
      "outputs": [
        {
          "output_type": "stream",
          "text": [
            "Train  RMSE: 222.1159\n"
          ],
          "name": "stdout"
        },
        {
          "output_type": "execute_result",
          "data": {
            "text/plain": [
              "222.1159269640164"
            ]
          },
          "metadata": {
            "tags": []
          },
          "execution_count": 45
        }
      ]
    },
    {
      "cell_type": "code",
      "metadata": {
        "id": "mjvdsdGpDexj",
        "colab_type": "code",
        "colab": {}
      },
      "source": [
        "svd = SVD(n_factors=100, n_epochs=10, lr_all=0.005, reg_all=0.4)"
      ],
      "execution_count": 0,
      "outputs": []
    },
    {
      "cell_type": "code",
      "metadata": {
        "id": "WRkztEmPdkM7",
        "colab_type": "code",
        "outputId": "427b5f00-0cd6-46a9-ac8c-117cbae09ed4",
        "colab": {
          "base_uri": "https://localhost:8080/",
          "height": 34
        }
      },
      "source": [
        "svd.fit(trainset)"
      ],
      "execution_count": 47,
      "outputs": [
        {
          "output_type": "execute_result",
          "data": {
            "text/plain": [
              "<surprise.prediction_algorithms.matrix_factorization.SVD at 0x7fdeb87d8278>"
            ]
          },
          "metadata": {
            "tags": []
          },
          "execution_count": 47
        }
      ]
    },
    {
      "cell_type": "code",
      "metadata": {
        "id": "Og3TZddYdll0",
        "colab_type": "code",
        "outputId": "90de54c5-fa7e-47a9-af4d-42c88fdfbbf6",
        "colab": {
          "base_uri": "https://localhost:8080/",
          "height": 52
        }
      },
      "source": [
        "predictions = svd.test(testset)\n",
        "print(accuracy.rmse(predictions))"
      ],
      "execution_count": 48,
      "outputs": [
        {
          "output_type": "stream",
          "text": [
            "RMSE: 262.0211\n",
            "262.021095408759\n"
          ],
          "name": "stdout"
        }
      ]
    },
    {
      "cell_type": "markdown",
      "metadata": {
        "id": "10rbv53yNotJ",
        "colab_type": "text"
      },
      "source": [
        "# Making recommendations"
      ]
    },
    {
      "cell_type": "code",
      "metadata": {
        "id": "Z_7kJGxuQrCp",
        "colab_type": "code",
        "colab": {}
      },
      "source": [
        "# importing the steam_rs data frame again and naming it df_games\n",
        "df_games = pd.read_csv('steam_rs.csv')"
      ],
      "execution_count": 0,
      "outputs": []
    },
    {
      "cell_type": "code",
      "metadata": {
        "id": "TbdfU-bOQzHm",
        "colab_type": "code",
        "outputId": "3640aaa2-5632-4c1a-a3bb-8ff4630ffdbe",
        "colab": {
          "base_uri": "https://localhost:8080/",
          "height": 656
        }
      },
      "source": [
        "# displaying the data frame\n",
        "df_games.head()"
      ],
      "execution_count": 50,
      "outputs": [
        {
          "output_type": "execute_result",
          "data": {
            "text/html": [
              "<div>\n",
              "<style scoped>\n",
              "    .dataframe tbody tr th:only-of-type {\n",
              "        vertical-align: middle;\n",
              "    }\n",
              "\n",
              "    .dataframe tbody tr th {\n",
              "        vertical-align: top;\n",
              "    }\n",
              "\n",
              "    .dataframe thead th {\n",
              "        text-align: right;\n",
              "    }\n",
              "</style>\n",
              "<table border=\"1\" class=\"dataframe\">\n",
              "  <thead>\n",
              "    <tr style=\"text-align: right;\">\n",
              "      <th></th>\n",
              "      <th>id</th>\n",
              "      <th>appid</th>\n",
              "      <th>name</th>\n",
              "      <th>purchase</th>\n",
              "      <th>hours_of_play</th>\n",
              "      <th>developer</th>\n",
              "      <th>publisher</th>\n",
              "      <th>positive</th>\n",
              "      <th>negative</th>\n",
              "      <th>release_date</th>\n",
              "      <th>english</th>\n",
              "      <th>platforms</th>\n",
              "      <th>required_age</th>\n",
              "      <th>categories</th>\n",
              "      <th>genres</th>\n",
              "      <th>steamspy_tags</th>\n",
              "      <th>achievements</th>\n",
              "      <th>average_playtime</th>\n",
              "      <th>median_playtime</th>\n",
              "      <th>owners</th>\n",
              "      <th>detailed_description</th>\n",
              "      <th>about_the_game</th>\n",
              "      <th>short_description</th>\n",
              "      <th>price</th>\n",
              "      <th>rank</th>\n",
              "    </tr>\n",
              "  </thead>\n",
              "  <tbody>\n",
              "    <tr>\n",
              "      <th>0</th>\n",
              "      <td>151603712</td>\n",
              "      <td>570</td>\n",
              "      <td>Dota 2</td>\n",
              "      <td>purchase</td>\n",
              "      <td>0.0</td>\n",
              "      <td>Valve</td>\n",
              "      <td>Valve</td>\n",
              "      <td>1097301</td>\n",
              "      <td>194384</td>\n",
              "      <td>2013-07-09</td>\n",
              "      <td>1</td>\n",
              "      <td>windows;mac;linux</td>\n",
              "      <td>0</td>\n",
              "      <td>Multi-player;Co-op;Steam Trading Cards;Steam W...</td>\n",
              "      <td>Action;Free to Play;Strategy</td>\n",
              "      <td>Free to Play;MOBA;Strategy</td>\n",
              "      <td>0</td>\n",
              "      <td>23944</td>\n",
              "      <td>801</td>\n",
              "      <td>100000000-200000000</td>\n",
              "      <td>&lt;strong&gt;The most-played game on Steam.&lt;/strong...</td>\n",
              "      <td>&lt;strong&gt;The most-played game on Steam.&lt;/strong...</td>\n",
              "      <td>Every day, millions of players worldwide enter...</td>\n",
              "      <td>0.0</td>\n",
              "      <td>84.95113</td>\n",
              "    </tr>\n",
              "    <tr>\n",
              "      <th>1</th>\n",
              "      <td>151603712</td>\n",
              "      <td>570</td>\n",
              "      <td>Dota 2</td>\n",
              "      <td>play</td>\n",
              "      <td>0.5</td>\n",
              "      <td>Valve</td>\n",
              "      <td>Valve</td>\n",
              "      <td>1097301</td>\n",
              "      <td>194384</td>\n",
              "      <td>2013-07-09</td>\n",
              "      <td>1</td>\n",
              "      <td>windows;mac;linux</td>\n",
              "      <td>0</td>\n",
              "      <td>Multi-player;Co-op;Steam Trading Cards;Steam W...</td>\n",
              "      <td>Action;Free to Play;Strategy</td>\n",
              "      <td>Free to Play;MOBA;Strategy</td>\n",
              "      <td>0</td>\n",
              "      <td>23944</td>\n",
              "      <td>801</td>\n",
              "      <td>100000000-200000000</td>\n",
              "      <td>&lt;strong&gt;The most-played game on Steam.&lt;/strong...</td>\n",
              "      <td>&lt;strong&gt;The most-played game on Steam.&lt;/strong...</td>\n",
              "      <td>Every day, millions of players worldwide enter...</td>\n",
              "      <td>0.0</td>\n",
              "      <td>84.95113</td>\n",
              "    </tr>\n",
              "    <tr>\n",
              "      <th>2</th>\n",
              "      <td>187131847</td>\n",
              "      <td>570</td>\n",
              "      <td>Dota 2</td>\n",
              "      <td>purchase</td>\n",
              "      <td>0.0</td>\n",
              "      <td>Valve</td>\n",
              "      <td>Valve</td>\n",
              "      <td>1097301</td>\n",
              "      <td>194384</td>\n",
              "      <td>2013-07-09</td>\n",
              "      <td>1</td>\n",
              "      <td>windows;mac;linux</td>\n",
              "      <td>0</td>\n",
              "      <td>Multi-player;Co-op;Steam Trading Cards;Steam W...</td>\n",
              "      <td>Action;Free to Play;Strategy</td>\n",
              "      <td>Free to Play;MOBA;Strategy</td>\n",
              "      <td>0</td>\n",
              "      <td>23944</td>\n",
              "      <td>801</td>\n",
              "      <td>100000000-200000000</td>\n",
              "      <td>&lt;strong&gt;The most-played game on Steam.&lt;/strong...</td>\n",
              "      <td>&lt;strong&gt;The most-played game on Steam.&lt;/strong...</td>\n",
              "      <td>Every day, millions of players worldwide enter...</td>\n",
              "      <td>0.0</td>\n",
              "      <td>84.95113</td>\n",
              "    </tr>\n",
              "    <tr>\n",
              "      <th>3</th>\n",
              "      <td>187131847</td>\n",
              "      <td>570</td>\n",
              "      <td>Dota 2</td>\n",
              "      <td>play</td>\n",
              "      <td>2.3</td>\n",
              "      <td>Valve</td>\n",
              "      <td>Valve</td>\n",
              "      <td>1097301</td>\n",
              "      <td>194384</td>\n",
              "      <td>2013-07-09</td>\n",
              "      <td>1</td>\n",
              "      <td>windows;mac;linux</td>\n",
              "      <td>0</td>\n",
              "      <td>Multi-player;Co-op;Steam Trading Cards;Steam W...</td>\n",
              "      <td>Action;Free to Play;Strategy</td>\n",
              "      <td>Free to Play;MOBA;Strategy</td>\n",
              "      <td>0</td>\n",
              "      <td>23944</td>\n",
              "      <td>801</td>\n",
              "      <td>100000000-200000000</td>\n",
              "      <td>&lt;strong&gt;The most-played game on Steam.&lt;/strong...</td>\n",
              "      <td>&lt;strong&gt;The most-played game on Steam.&lt;/strong...</td>\n",
              "      <td>Every day, millions of players worldwide enter...</td>\n",
              "      <td>0.0</td>\n",
              "      <td>84.95113</td>\n",
              "    </tr>\n",
              "    <tr>\n",
              "      <th>4</th>\n",
              "      <td>176410694</td>\n",
              "      <td>570</td>\n",
              "      <td>Dota 2</td>\n",
              "      <td>purchase</td>\n",
              "      <td>0.0</td>\n",
              "      <td>Valve</td>\n",
              "      <td>Valve</td>\n",
              "      <td>1097301</td>\n",
              "      <td>194384</td>\n",
              "      <td>2013-07-09</td>\n",
              "      <td>1</td>\n",
              "      <td>windows;mac;linux</td>\n",
              "      <td>0</td>\n",
              "      <td>Multi-player;Co-op;Steam Trading Cards;Steam W...</td>\n",
              "      <td>Action;Free to Play;Strategy</td>\n",
              "      <td>Free to Play;MOBA;Strategy</td>\n",
              "      <td>0</td>\n",
              "      <td>23944</td>\n",
              "      <td>801</td>\n",
              "      <td>100000000-200000000</td>\n",
              "      <td>&lt;strong&gt;The most-played game on Steam.&lt;/strong...</td>\n",
              "      <td>&lt;strong&gt;The most-played game on Steam.&lt;/strong...</td>\n",
              "      <td>Every day, millions of players worldwide enter...</td>\n",
              "      <td>0.0</td>\n",
              "      <td>84.95113</td>\n",
              "    </tr>\n",
              "  </tbody>\n",
              "</table>\n",
              "</div>"
            ],
            "text/plain": [
              "          id  appid    name  purchase  hours_of_play developer publisher  positive  negative  \\\n",
              "0  151603712    570  Dota 2  purchase            0.0     Valve     Valve   1097301    194384   \n",
              "1  151603712    570  Dota 2      play            0.5     Valve     Valve   1097301    194384   \n",
              "2  187131847    570  Dota 2  purchase            0.0     Valve     Valve   1097301    194384   \n",
              "3  187131847    570  Dota 2      play            2.3     Valve     Valve   1097301    194384   \n",
              "4  176410694    570  Dota 2  purchase            0.0     Valve     Valve   1097301    194384   \n",
              "\n",
              "  release_date  english          platforms  required_age  \\\n",
              "0   2013-07-09        1  windows;mac;linux             0   \n",
              "1   2013-07-09        1  windows;mac;linux             0   \n",
              "2   2013-07-09        1  windows;mac;linux             0   \n",
              "3   2013-07-09        1  windows;mac;linux             0   \n",
              "4   2013-07-09        1  windows;mac;linux             0   \n",
              "\n",
              "                                          categories                        genres  \\\n",
              "0  Multi-player;Co-op;Steam Trading Cards;Steam W...  Action;Free to Play;Strategy   \n",
              "1  Multi-player;Co-op;Steam Trading Cards;Steam W...  Action;Free to Play;Strategy   \n",
              "2  Multi-player;Co-op;Steam Trading Cards;Steam W...  Action;Free to Play;Strategy   \n",
              "3  Multi-player;Co-op;Steam Trading Cards;Steam W...  Action;Free to Play;Strategy   \n",
              "4  Multi-player;Co-op;Steam Trading Cards;Steam W...  Action;Free to Play;Strategy   \n",
              "\n",
              "                steamspy_tags  achievements  average_playtime  median_playtime  \\\n",
              "0  Free to Play;MOBA;Strategy             0             23944              801   \n",
              "1  Free to Play;MOBA;Strategy             0             23944              801   \n",
              "2  Free to Play;MOBA;Strategy             0             23944              801   \n",
              "3  Free to Play;MOBA;Strategy             0             23944              801   \n",
              "4  Free to Play;MOBA;Strategy             0             23944              801   \n",
              "\n",
              "                owners                               detailed_description  \\\n",
              "0  100000000-200000000  <strong>The most-played game on Steam.</strong...   \n",
              "1  100000000-200000000  <strong>The most-played game on Steam.</strong...   \n",
              "2  100000000-200000000  <strong>The most-played game on Steam.</strong...   \n",
              "3  100000000-200000000  <strong>The most-played game on Steam.</strong...   \n",
              "4  100000000-200000000  <strong>The most-played game on Steam.</strong...   \n",
              "\n",
              "                                      about_the_game  \\\n",
              "0  <strong>The most-played game on Steam.</strong...   \n",
              "1  <strong>The most-played game on Steam.</strong...   \n",
              "2  <strong>The most-played game on Steam.</strong...   \n",
              "3  <strong>The most-played game on Steam.</strong...   \n",
              "4  <strong>The most-played game on Steam.</strong...   \n",
              "\n",
              "                                   short_description  price      rank  \n",
              "0  Every day, millions of players worldwide enter...    0.0  84.95113  \n",
              "1  Every day, millions of players worldwide enter...    0.0  84.95113  \n",
              "2  Every day, millions of players worldwide enter...    0.0  84.95113  \n",
              "3  Every day, millions of players worldwide enter...    0.0  84.95113  \n",
              "4  Every day, millions of players worldwide enter...    0.0  84.95113  "
            ]
          },
          "metadata": {
            "tags": []
          },
          "execution_count": 50
        }
      ]
    },
    {
      "cell_type": "code",
      "metadata": {
        "id": "2Zi8xpC4PygC",
        "colab_type": "code",
        "colab": {}
      },
      "source": [
        "# dropping the duplicate ids, and keeping the most recent ones as making sure it dosent remove all the unique games in the data frame\n",
        "df_games.drop_duplicates(subset = ['id', 'name'],\n",
        "                     keep = 'last', inplace = True)"
      ],
      "execution_count": 0,
      "outputs": []
    },
    {
      "cell_type": "code",
      "metadata": {
        "id": "KIufB0CeQV0L",
        "colab_type": "code",
        "colab": {}
      },
      "source": [
        "# dropping the duplicate ids\n",
        "df_games.drop_duplicates(subset = ['appid'],\n",
        "                     keep = 'last', inplace = True)"
      ],
      "execution_count": 0,
      "outputs": []
    },
    {
      "cell_type": "code",
      "metadata": {
        "id": "sBPmgmM3Ik_K",
        "colab_type": "code",
        "colab": {}
      },
      "source": [
        "# removing unessesary columns\n",
        "df_games = df_games[['id', 'appid', 'name', 'purchase', 'developer', 'genres', 'rank']]"
      ],
      "execution_count": 0,
      "outputs": []
    },
    {
      "cell_type": "code",
      "metadata": {
        "id": "M0tFwBPbNsGz",
        "colab_type": "code",
        "outputId": "9777cf72-fd81-4050-cbba-d8bdb3157d26",
        "colab": {
          "base_uri": "https://localhost:8080/",
          "height": 34
        }
      },
      "source": [
        "svd = SVD(n_factors= 20, reg_all=0.02)\n",
        "svd.fit(trainset)"
      ],
      "execution_count": 54,
      "outputs": [
        {
          "output_type": "execute_result",
          "data": {
            "text/plain": [
              "<surprise.prediction_algorithms.matrix_factorization.SVD at 0x7fdeb9a1e6d8>"
            ]
          },
          "metadata": {
            "tags": []
          },
          "execution_count": 54
        }
      ]
    },
    {
      "cell_type": "code",
      "metadata": {
        "id": "4KNWaIY2N9aC",
        "colab_type": "code",
        "outputId": "4467cb9d-435c-4540-9ab4-6a3b396a9b71",
        "colab": {
          "base_uri": "https://localhost:8080/",
          "height": 34
        }
      },
      "source": [
        "svd.predict(2, 4)"
      ],
      "execution_count": 55,
      "outputs": [
        {
          "output_type": "execute_result",
          "data": {
            "text/plain": [
              "Prediction(uid=2, iid=4, r_ui=None, est=5, details={'was_impossible': False})"
            ]
          },
          "metadata": {
            "tags": []
          },
          "execution_count": 55
        }
      ]
    },
    {
      "cell_type": "code",
      "metadata": {
        "id": "We6-j-f9OAvT",
        "colab_type": "code",
        "colab": {}
      },
      "source": [
        "def game_rater(df_games, num, genre=None):\n",
        "  \n",
        "    userID = 1000\n",
        "    rating_list = []\n",
        "    while num > 0:\n",
        "        if genre:\n",
        "            game = df_games[df_games['genres'].str.contains(genre)].sample(1)\n",
        "        else:\n",
        "            game = df_games.sample(1)\n",
        "        print(game)\n",
        "        rating = input('How many hours have you spent on this game, press n if you have not played it :\\n')\n",
        "        if rating == 'n':\n",
        "            continue\n",
        "        else:\n",
        "            rating_one_game = {'id':userID,'gameId':game['appid'].values[0],'hours_of_play':rating}\n",
        "            rating_list.append(rating_one_game) \n",
        "            num -= 1\n",
        "    return rating_list      "
      ],
      "execution_count": 0,
      "outputs": []
    },
    {
      "cell_type": "code",
      "metadata": {
        "id": "oRJ3mgD7OMPK",
        "colab_type": "code",
        "outputId": "ddfb27fd-3a99-4fac-cdcc-270626b01b2f",
        "colab": {
          "base_uri": "https://localhost:8080/",
          "height": 641
        }
      },
      "source": [
        "user_rating = game_rater(df_games, 4, 'RPG')"
      ],
      "execution_count": 66,
      "outputs": [
        {
          "output_type": "stream",
          "text": [
            "             id   appid            name purchase   developer  \\\n",
            "99153  49462664  263920  Zombie Grinder     play  TwinDrills   \n",
            "\n",
            "                                        genres       rank  \n",
            "99153  Action;Adventure;Indie;RPG;Early Access  71.052632  \n",
            "How many hours have you spent on this game, press n if you have not played it :\n",
            "n\n",
            "             id   appid       name  purchase            developer  \\\n",
            "97557  11373749  664780  Alter Ego  purchase  Choose Multiple LLC   \n",
            "\n",
            "                                      genres  rank  \n",
            "97557  Adventure;Casual;Indie;RPG;Simulation  70.0  \n",
            "How many hours have you spent on this game, press n if you have not played it :\n",
            "2\n",
            "             id   appid                      name purchase             developer  \\\n",
            "68711  60859695  247080  Crypt of the NecroDancer     play  Brace Yourself Games   \n",
            "\n",
            "                 genres       rank  \n",
            "68711  Action;Indie;RPG  96.369565  \n",
            "How many hours have you spent on this game, press n if you have not played it :\n",
            "n\n",
            "              id   appid          name purchase  developer  \\\n",
            "94764  159800136  324080  Rising World     play  JIW-Games   \n",
            "\n",
            "                                        genres       rank  \n",
            "94764  Action;Adventure;Indie;RPG;Early Access  82.592786  \n",
            "How many hours have you spent on this game, press n if you have not played it :\n",
            "33\n",
            "             id   appid  name  purchase    developer                genres       rank\n",
            "95353  87694960  246840  FATE  purchase  WildTangent  Action;Adventure;RPG  92.442323\n",
            "How many hours have you spent on this game, press n if you have not played it :\n",
            "256\n",
            "             id   appid        name purchase   developer                      genres       rank\n",
            "90935  81585721  364420  Roguelands     play  SmashGames  Action;Adventure;Indie;RPG  80.059259\n",
            "How many hours have you spent on this game, press n if you have not played it :\n",
            "1\n"
          ],
          "name": "stdout"
        }
      ]
    },
    {
      "cell_type": "code",
      "metadata": {
        "id": "PmaWGEU-Lzct",
        "colab_type": "code",
        "colab": {}
      },
      "source": [
        ""
      ],
      "execution_count": 0,
      "outputs": []
    },
    {
      "cell_type": "code",
      "metadata": {
        "id": "cLkeFgLVLzj9",
        "colab_type": "code",
        "colab": {}
      },
      "source": [
        "## add the new ratings to the original ratings DataFrame\n",
        "new_ratings_df = df_games.append(user_rating,ignore_index=True)"
      ],
      "execution_count": 0,
      "outputs": []
    },
    {
      "cell_type": "code",
      "metadata": {
        "id": "t8zVBql1NdT_",
        "colab_type": "code",
        "colab": {}
      },
      "source": [
        "new_ratings_df = new_ratings_df[['id', 'appid', 'hours_of_play']]\n"
      ],
      "execution_count": 0,
      "outputs": []
    },
    {
      "cell_type": "code",
      "metadata": {
        "id": "ZtOOKHNzM4Fc",
        "colab_type": "code",
        "colab": {}
      },
      "source": [
        "# transforming the current data set into something that is compatible with surpirse \n",
        "reader = Reader()\n",
        "new_data = Dataset.load_from_df(new_ratings_df,reader)"
      ],
      "execution_count": 0,
      "outputs": []
    },
    {
      "cell_type": "code",
      "metadata": {
        "id": "n-vLK1dGOl0q",
        "colab_type": "code",
        "outputId": "7446d52d-6662-4661-c2d1-ee565874b925",
        "colab": {
          "base_uri": "https://localhost:8080/",
          "height": 34
        }
      },
      "source": [
        "# train a model using the new combined DataFrame\n",
        "svd_ = SVD(n_factors= 20, reg_all=0.02)\n",
        "svd_.fit(new_data.build_full_trainset())"
      ],
      "execution_count": 70,
      "outputs": [
        {
          "output_type": "execute_result",
          "data": {
            "text/plain": [
              "<surprise.prediction_algorithms.matrix_factorization.SVD at 0x7fdeb9a32f28>"
            ]
          },
          "metadata": {
            "tags": []
          },
          "execution_count": 70
        }
      ]
    },
    {
      "cell_type": "code",
      "metadata": {
        "id": "-1RbZ0w-On2E",
        "colab_type": "code",
        "colab": {}
      },
      "source": [
        "# make predictions for the user\n",
        "list_of_games = []\n",
        "for m_id in df_games['appid'].unique():\n",
        "    list_of_games.append( (m_id,svd_.predict(1000,m_id)[3]))"
      ],
      "execution_count": 0,
      "outputs": []
    },
    {
      "cell_type": "code",
      "metadata": {
        "id": "Sm0X805gOp79",
        "colab_type": "code",
        "colab": {}
      },
      "source": [
        "# order the predictions from highest to lowest rated\n",
        "ranked_games = sorted(list_of_games, key=lambda x:x[1], reverse=True)"
      ],
      "execution_count": 0,
      "outputs": []
    },
    {
      "cell_type": "code",
      "metadata": {
        "id": "aLN6FEJnLY_2",
        "colab_type": "code",
        "colab": {}
      },
      "source": [
        "# return the top n recommendations\n",
        "def recommended_games(user_ratings, df_games, n):\n",
        "        for idx, rec in enumerate(user_ratings):\n",
        "            title = df_games.loc[df_games['appid'] == int(rec[0])]['name']\n",
        "            print('Recommendation # ', idx+1, ': ', title, '\\n')\n",
        "            n-= 1\n",
        "            if n == 0:\n",
        "                break"
      ],
      "execution_count": 0,
      "outputs": []
    },
    {
      "cell_type": "code",
      "metadata": {
        "id": "dpco3EsWMJp4",
        "colab_type": "code",
        "outputId": "c994ab89-0e69-4a30-c774-e08bd68ea9cb",
        "colab": {
          "base_uri": "https://localhost:8080/",
          "height": 277
        }
      },
      "source": [
        "recommended_games(ranked_games, df_games, 5)"
      ],
      "execution_count": 74,
      "outputs": [
        {
          "output_type": "stream",
          "text": [
            "Recommendation #  1 :  9681    Dota 2\n",
            "Name: name, dtype: object \n",
            "\n",
            "Recommendation #  2 :  14327    Team Fortress 2\n",
            "Name: name, dtype: object \n",
            "\n",
            "Recommendation #  3 :  16959    Unturned\n",
            "Name: name, dtype: object \n",
            "\n",
            "Recommendation #  4 :  18230    Warframe\n",
            "Name: name, dtype: object \n",
            "\n",
            "Recommendation #  5 :  18246    Tom Clancy's Rainbow Six Siege\n",
            "Name: name, dtype: object \n",
            "\n"
          ],
          "name": "stdout"
        }
      ]
    },
    {
      "cell_type": "markdown",
      "metadata": {
        "id": "u7TdzJxCMz5v",
        "colab_type": "text"
      },
      "source": [
        "From the models that were ran, the item-based memory models tended to preform much better than the user-based models. The KNNBaseline with pearson similarity (ITEM BASED) model compared to the other models that were ran, showed a much more improved preformance according to the RMSE and MAE scores obtained. \n",
        "\n",
        "The RMSE score, indicates the standard deviation of the residuals, having a smaller RMSE value such as the score we recieved for the KNNBaseline with pearson similarity (ITEM BASED) is most preffered as it indicates that the data is closely placed around to its central mean."
      ]
    },
    {
      "cell_type": "markdown",
      "metadata": {
        "id": "6wgf5xFO9e2d",
        "colab_type": "text"
      },
      "source": [
        "# FUTURE WORK"
      ]
    },
    {
      "cell_type": "markdown",
      "metadata": {
        "id": "gElOYyMZ9kgq",
        "colab_type": "text"
      },
      "source": [
        "\n",
        "\n",
        "*   Developing improved recommendation systems using the hybrid filtering methods\n",
        "*   Soley using Steam's API to form game recommendations​\n",
        "*   Using matrix factorization techniques\n",
        "\n"
      ]
    },
    {
      "cell_type": "code",
      "metadata": {
        "id": "mMHEVYPNMnpq",
        "colab_type": "code",
        "colab": {}
      },
      "source": [
        ""
      ],
      "execution_count": 0,
      "outputs": []
    }
  ]
}