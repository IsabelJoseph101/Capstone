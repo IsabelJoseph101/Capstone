{
  "nbformat": 4,
  "nbformat_minor": 0,
  "metadata": {
    "kernelspec": {
      "display_name": "Python 3",
      "language": "python",
      "name": "python3"
    },
    "language_info": {
      "codemirror_mode": {
        "name": "ipython",
        "version": 3
      },
      "file_extension": ".py",
      "mimetype": "text/x-python",
      "name": "python",
      "nbconvert_exporter": "python",
      "pygments_lexer": "ipython3",
      "version": "3.7.4"
    },
    "colab": {
      "name": "Untitled1.ipynb",
      "provenance": []
    }
  },
  "cells": [
    {
      "cell_type": "markdown",
      "metadata": {
        "id": "4j3Rj10euUMq",
        "colab_type": "text"
      },
      "source": [
        "# Collaborative based filtering"
      ]
    },
    {
      "cell_type": "markdown",
      "metadata": {
        "id": "BN39Cw3H0Bhf",
        "colab_type": "text"
      },
      "source": [
        "Collaborative filtering based models finds similaries between items or users through ratings or items that other users have liked as well."
      ]
    },
    {
      "cell_type": "markdown",
      "metadata": {
        "id": "JB2mQPruz9XS",
        "colab_type": "text"
      },
      "source": [
        "### Importing necessary packages\n"
      ]
    },
    {
      "cell_type": "code",
      "metadata": {
        "id": "W8YVwL3-pGN5",
        "colab_type": "code",
        "outputId": "b2b99d3f-0da3-4700-a8f5-586db8e59b34",
        "colab": {
          "base_uri": "https://localhost:8080/",
          "height": 260
        }
      },
      "source": [
        "# installing the library suprise\n",
        "!pip install scikit-surprise"
      ],
      "execution_count": 1,
      "outputs": [
        {
          "output_type": "stream",
          "text": [
            "Collecting scikit-surprise\n",
            "\u001b[?25l  Downloading https://files.pythonhosted.org/packages/f5/da/b5700d96495fb4f092be497f02492768a3d96a3f4fa2ae7dea46d4081cfa/scikit-surprise-1.1.0.tar.gz (6.4MB)\n",
            "\u001b[K     |████████████████████████████████| 6.5MB 2.5MB/s \n",
            "\u001b[?25hRequirement already satisfied: joblib>=0.11 in /usr/local/lib/python3.6/dist-packages (from scikit-surprise) (0.15.1)\n",
            "Requirement already satisfied: numpy>=1.11.2 in /usr/local/lib/python3.6/dist-packages (from scikit-surprise) (1.18.4)\n",
            "Requirement already satisfied: scipy>=1.0.0 in /usr/local/lib/python3.6/dist-packages (from scikit-surprise) (1.4.1)\n",
            "Requirement already satisfied: six>=1.10.0 in /usr/local/lib/python3.6/dist-packages (from scikit-surprise) (1.12.0)\n",
            "Building wheels for collected packages: scikit-surprise\n",
            "  Building wheel for scikit-surprise (setup.py) ... \u001b[?25l\u001b[?25hdone\n",
            "  Created wheel for scikit-surprise: filename=scikit_surprise-1.1.0-cp36-cp36m-linux_x86_64.whl size=1675410 sha256=ef1ff2db8938bbb157145f47cdc42b8b66ef53e9dd1cd3d4dac8b2388924df98\n",
            "  Stored in directory: /root/.cache/pip/wheels/cc/fa/8c/16c93fccce688ae1bde7d979ff102f7bee980d9cfeb8641bcf\n",
            "Successfully built scikit-surprise\n",
            "Installing collected packages: scikit-surprise\n",
            "Successfully installed scikit-surprise-1.1.0\n"
          ],
          "name": "stdout"
        }
      ]
    },
    {
      "cell_type": "code",
      "metadata": {
        "id": "OAOzIbbnuUMs",
        "colab_type": "code",
        "outputId": "9613d73b-79ec-4d93-91ad-0c4b38bfad6f",
        "colab": {
          "base_uri": "https://localhost:8080/",
          "height": 86
        }
      },
      "source": [
        "# importing necessary packages\n",
        "import pandas as pd\n",
        "pd.set_option('display.max_rows', 100)\n",
        "pd.set_option('display.max_columns', 100)\n",
        "pd.set_option('display.width', 100)\n",
        "import seaborn as sns\n",
        "import numpy as np\n",
        "import matplotlib.pyplot as plt\n",
        "%matplotlib inline\n",
        "\n",
        "from sklearn.preprocessing import StandardScaler \n",
        "from sklearn import preprocessing\n",
        "from sklearn.feature_extraction.text import TfidfVectorizer\n",
        "from sklearn.decomposition import TruncatedSVD\n",
        "from sklearn.model_selection import train_test_split\n",
        "\n",
        "from surprise.model_selection import cross_validate\n",
        "from surprise.prediction_algorithms import SVD\n",
        "from surprise.prediction_algorithms import knns\n",
        "from surprise import accuracy\n",
        "from surprise.prediction_algorithms import KNNWithMeans, KNNBasic, KNNBaseline\n",
        "from surprise.model_selection import GridSearchCV\n",
        "from surprise.model_selection import train_test_split\n",
        "\n",
        "from surprise import Reader, Dataset\n",
        "import numpy as np\n",
        "\n",
        "import nltk\n",
        "from nltk.corpus import stopwords\n",
        "from nltk import word_tokenize, FreqDist\n",
        "nltk.download('punkt')\n",
        "import re\n",
        "import string\n",
        "import os\n",
        "\n",
        "import warnings\n",
        "warnings.filterwarnings(\"ignore\", category=FutureWarning)"
      ],
      "execution_count": 2,
      "outputs": [
        {
          "output_type": "stream",
          "text": [
            "/usr/local/lib/python3.6/dist-packages/statsmodels/tools/_testing.py:19: FutureWarning: pandas.util.testing is deprecated. Use the functions in the public API at pandas.testing instead.\n",
            "  import pandas.util.testing as tm\n"
          ],
          "name": "stderr"
        },
        {
          "output_type": "stream",
          "text": [
            "[nltk_data] Downloading package punkt to /root/nltk_data...\n",
            "[nltk_data]   Unzipping tokenizers/punkt.zip.\n"
          ],
          "name": "stdout"
        }
      ]
    },
    {
      "cell_type": "markdown",
      "metadata": {
        "id": "wXj4zqXUp4SZ",
        "colab_type": "text"
      },
      "source": [
        "### Importing and checking through the data sets"
      ]
    },
    {
      "cell_type": "code",
      "metadata": {
        "id": "yiCMgzAaU6SV",
        "colab_type": "code",
        "colab": {
          "base_uri": "https://localhost:8080/",
          "height": 52
        },
        "outputId": "6d0f0b22-ed45-475f-e3a2-b6576a19def5"
      },
      "source": [
        "# unziping the folder containing the steam_rs.csv data\n",
        "!unzip steam_rs.zip"
      ],
      "execution_count": 6,
      "outputs": [
        {
          "output_type": "stream",
          "text": [
            "Archive:  steam_rs.zip\n",
            "  inflating: steam_rs.csv            \n"
          ],
          "name": "stdout"
        }
      ]
    },
    {
      "cell_type": "code",
      "metadata": {
        "id": "S-uAo53zuUM0",
        "colab_type": "code",
        "colab": {}
      },
      "source": [
        "# importing the data set\n",
        "steam = pd.read_csv('steam_rs.csv')"
      ],
      "execution_count": 0,
      "outputs": []
    },
    {
      "cell_type": "code",
      "metadata": {
        "id": "Ulb2eHc7uUM9",
        "colab_type": "code",
        "colab": {}
      },
      "source": [
        "# removing release_date column\n",
        "steam = steam.drop('release_date', axis = 1)"
      ],
      "execution_count": 0,
      "outputs": []
    },
    {
      "cell_type": "code",
      "metadata": {
        "id": "odO2ZJyouUNF",
        "colab_type": "code",
        "outputId": "59248ff8-daf6-4857-8d7c-5a3b6c211656",
        "colab": {
          "base_uri": "https://localhost:8080/",
          "height": 656
        }
      },
      "source": [
        "# displaying the data frame\n",
        "steam.head()"
      ],
      "execution_count": 109,
      "outputs": [
        {
          "output_type": "execute_result",
          "data": {
            "text/html": [
              "<div>\n",
              "<style scoped>\n",
              "    .dataframe tbody tr th:only-of-type {\n",
              "        vertical-align: middle;\n",
              "    }\n",
              "\n",
              "    .dataframe tbody tr th {\n",
              "        vertical-align: top;\n",
              "    }\n",
              "\n",
              "    .dataframe thead th {\n",
              "        text-align: right;\n",
              "    }\n",
              "</style>\n",
              "<table border=\"1\" class=\"dataframe\">\n",
              "  <thead>\n",
              "    <tr style=\"text-align: right;\">\n",
              "      <th></th>\n",
              "      <th>id</th>\n",
              "      <th>appid</th>\n",
              "      <th>name</th>\n",
              "      <th>purchase</th>\n",
              "      <th>hours_of_play</th>\n",
              "      <th>developer</th>\n",
              "      <th>publisher</th>\n",
              "      <th>positive</th>\n",
              "      <th>negative</th>\n",
              "      <th>english</th>\n",
              "      <th>platforms</th>\n",
              "      <th>required_age</th>\n",
              "      <th>categories</th>\n",
              "      <th>genres</th>\n",
              "      <th>steamspy_tags</th>\n",
              "      <th>achievements</th>\n",
              "      <th>average_playtime</th>\n",
              "      <th>median_playtime</th>\n",
              "      <th>owners</th>\n",
              "      <th>detailed_description</th>\n",
              "      <th>about_the_game</th>\n",
              "      <th>short_description</th>\n",
              "      <th>price</th>\n",
              "      <th>rank</th>\n",
              "    </tr>\n",
              "  </thead>\n",
              "  <tbody>\n",
              "    <tr>\n",
              "      <th>0</th>\n",
              "      <td>151603712</td>\n",
              "      <td>570</td>\n",
              "      <td>Dota 2</td>\n",
              "      <td>purchase</td>\n",
              "      <td>0.0</td>\n",
              "      <td>Valve</td>\n",
              "      <td>Valve</td>\n",
              "      <td>1097301</td>\n",
              "      <td>194384</td>\n",
              "      <td>1</td>\n",
              "      <td>windows;mac;linux</td>\n",
              "      <td>0</td>\n",
              "      <td>Multi-player;Co-op;Steam Trading Cards;Steam W...</td>\n",
              "      <td>Action;Free to Play;Strategy</td>\n",
              "      <td>Free to Play;MOBA;Strategy</td>\n",
              "      <td>0</td>\n",
              "      <td>23944</td>\n",
              "      <td>801</td>\n",
              "      <td>100000000-200000000</td>\n",
              "      <td>&lt;strong&gt;The most-played game on Steam.&lt;/strong...</td>\n",
              "      <td>&lt;strong&gt;The most-played game on Steam.&lt;/strong...</td>\n",
              "      <td>Every day, millions of players worldwide enter...</td>\n",
              "      <td>0.0</td>\n",
              "      <td>84.95113</td>\n",
              "    </tr>\n",
              "    <tr>\n",
              "      <th>1</th>\n",
              "      <td>151603712</td>\n",
              "      <td>570</td>\n",
              "      <td>Dota 2</td>\n",
              "      <td>play</td>\n",
              "      <td>0.5</td>\n",
              "      <td>Valve</td>\n",
              "      <td>Valve</td>\n",
              "      <td>1097301</td>\n",
              "      <td>194384</td>\n",
              "      <td>1</td>\n",
              "      <td>windows;mac;linux</td>\n",
              "      <td>0</td>\n",
              "      <td>Multi-player;Co-op;Steam Trading Cards;Steam W...</td>\n",
              "      <td>Action;Free to Play;Strategy</td>\n",
              "      <td>Free to Play;MOBA;Strategy</td>\n",
              "      <td>0</td>\n",
              "      <td>23944</td>\n",
              "      <td>801</td>\n",
              "      <td>100000000-200000000</td>\n",
              "      <td>&lt;strong&gt;The most-played game on Steam.&lt;/strong...</td>\n",
              "      <td>&lt;strong&gt;The most-played game on Steam.&lt;/strong...</td>\n",
              "      <td>Every day, millions of players worldwide enter...</td>\n",
              "      <td>0.0</td>\n",
              "      <td>84.95113</td>\n",
              "    </tr>\n",
              "    <tr>\n",
              "      <th>2</th>\n",
              "      <td>187131847</td>\n",
              "      <td>570</td>\n",
              "      <td>Dota 2</td>\n",
              "      <td>purchase</td>\n",
              "      <td>0.0</td>\n",
              "      <td>Valve</td>\n",
              "      <td>Valve</td>\n",
              "      <td>1097301</td>\n",
              "      <td>194384</td>\n",
              "      <td>1</td>\n",
              "      <td>windows;mac;linux</td>\n",
              "      <td>0</td>\n",
              "      <td>Multi-player;Co-op;Steam Trading Cards;Steam W...</td>\n",
              "      <td>Action;Free to Play;Strategy</td>\n",
              "      <td>Free to Play;MOBA;Strategy</td>\n",
              "      <td>0</td>\n",
              "      <td>23944</td>\n",
              "      <td>801</td>\n",
              "      <td>100000000-200000000</td>\n",
              "      <td>&lt;strong&gt;The most-played game on Steam.&lt;/strong...</td>\n",
              "      <td>&lt;strong&gt;The most-played game on Steam.&lt;/strong...</td>\n",
              "      <td>Every day, millions of players worldwide enter...</td>\n",
              "      <td>0.0</td>\n",
              "      <td>84.95113</td>\n",
              "    </tr>\n",
              "    <tr>\n",
              "      <th>3</th>\n",
              "      <td>187131847</td>\n",
              "      <td>570</td>\n",
              "      <td>Dota 2</td>\n",
              "      <td>play</td>\n",
              "      <td>2.3</td>\n",
              "      <td>Valve</td>\n",
              "      <td>Valve</td>\n",
              "      <td>1097301</td>\n",
              "      <td>194384</td>\n",
              "      <td>1</td>\n",
              "      <td>windows;mac;linux</td>\n",
              "      <td>0</td>\n",
              "      <td>Multi-player;Co-op;Steam Trading Cards;Steam W...</td>\n",
              "      <td>Action;Free to Play;Strategy</td>\n",
              "      <td>Free to Play;MOBA;Strategy</td>\n",
              "      <td>0</td>\n",
              "      <td>23944</td>\n",
              "      <td>801</td>\n",
              "      <td>100000000-200000000</td>\n",
              "      <td>&lt;strong&gt;The most-played game on Steam.&lt;/strong...</td>\n",
              "      <td>&lt;strong&gt;The most-played game on Steam.&lt;/strong...</td>\n",
              "      <td>Every day, millions of players worldwide enter...</td>\n",
              "      <td>0.0</td>\n",
              "      <td>84.95113</td>\n",
              "    </tr>\n",
              "    <tr>\n",
              "      <th>4</th>\n",
              "      <td>176410694</td>\n",
              "      <td>570</td>\n",
              "      <td>Dota 2</td>\n",
              "      <td>purchase</td>\n",
              "      <td>0.0</td>\n",
              "      <td>Valve</td>\n",
              "      <td>Valve</td>\n",
              "      <td>1097301</td>\n",
              "      <td>194384</td>\n",
              "      <td>1</td>\n",
              "      <td>windows;mac;linux</td>\n",
              "      <td>0</td>\n",
              "      <td>Multi-player;Co-op;Steam Trading Cards;Steam W...</td>\n",
              "      <td>Action;Free to Play;Strategy</td>\n",
              "      <td>Free to Play;MOBA;Strategy</td>\n",
              "      <td>0</td>\n",
              "      <td>23944</td>\n",
              "      <td>801</td>\n",
              "      <td>100000000-200000000</td>\n",
              "      <td>&lt;strong&gt;The most-played game on Steam.&lt;/strong...</td>\n",
              "      <td>&lt;strong&gt;The most-played game on Steam.&lt;/strong...</td>\n",
              "      <td>Every day, millions of players worldwide enter...</td>\n",
              "      <td>0.0</td>\n",
              "      <td>84.95113</td>\n",
              "    </tr>\n",
              "  </tbody>\n",
              "</table>\n",
              "</div>"
            ],
            "text/plain": [
              "          id  appid    name  purchase  hours_of_play developer publisher  positive  negative  \\\n",
              "0  151603712    570  Dota 2  purchase            0.0     Valve     Valve   1097301    194384   \n",
              "1  151603712    570  Dota 2      play            0.5     Valve     Valve   1097301    194384   \n",
              "2  187131847    570  Dota 2  purchase            0.0     Valve     Valve   1097301    194384   \n",
              "3  187131847    570  Dota 2      play            2.3     Valve     Valve   1097301    194384   \n",
              "4  176410694    570  Dota 2  purchase            0.0     Valve     Valve   1097301    194384   \n",
              "\n",
              "   english          platforms  required_age                                         categories  \\\n",
              "0        1  windows;mac;linux             0  Multi-player;Co-op;Steam Trading Cards;Steam W...   \n",
              "1        1  windows;mac;linux             0  Multi-player;Co-op;Steam Trading Cards;Steam W...   \n",
              "2        1  windows;mac;linux             0  Multi-player;Co-op;Steam Trading Cards;Steam W...   \n",
              "3        1  windows;mac;linux             0  Multi-player;Co-op;Steam Trading Cards;Steam W...   \n",
              "4        1  windows;mac;linux             0  Multi-player;Co-op;Steam Trading Cards;Steam W...   \n",
              "\n",
              "                         genres               steamspy_tags  achievements  average_playtime  \\\n",
              "0  Action;Free to Play;Strategy  Free to Play;MOBA;Strategy             0             23944   \n",
              "1  Action;Free to Play;Strategy  Free to Play;MOBA;Strategy             0             23944   \n",
              "2  Action;Free to Play;Strategy  Free to Play;MOBA;Strategy             0             23944   \n",
              "3  Action;Free to Play;Strategy  Free to Play;MOBA;Strategy             0             23944   \n",
              "4  Action;Free to Play;Strategy  Free to Play;MOBA;Strategy             0             23944   \n",
              "\n",
              "   median_playtime               owners                               detailed_description  \\\n",
              "0              801  100000000-200000000  <strong>The most-played game on Steam.</strong...   \n",
              "1              801  100000000-200000000  <strong>The most-played game on Steam.</strong...   \n",
              "2              801  100000000-200000000  <strong>The most-played game on Steam.</strong...   \n",
              "3              801  100000000-200000000  <strong>The most-played game on Steam.</strong...   \n",
              "4              801  100000000-200000000  <strong>The most-played game on Steam.</strong...   \n",
              "\n",
              "                                      about_the_game  \\\n",
              "0  <strong>The most-played game on Steam.</strong...   \n",
              "1  <strong>The most-played game on Steam.</strong...   \n",
              "2  <strong>The most-played game on Steam.</strong...   \n",
              "3  <strong>The most-played game on Steam.</strong...   \n",
              "4  <strong>The most-played game on Steam.</strong...   \n",
              "\n",
              "                                   short_description  price      rank  \n",
              "0  Every day, millions of players worldwide enter...    0.0  84.95113  \n",
              "1  Every day, millions of players worldwide enter...    0.0  84.95113  \n",
              "2  Every day, millions of players worldwide enter...    0.0  84.95113  \n",
              "3  Every day, millions of players worldwide enter...    0.0  84.95113  \n",
              "4  Every day, millions of players worldwide enter...    0.0  84.95113  "
            ]
          },
          "metadata": {
            "tags": []
          },
          "execution_count": 109
        }
      ]
    },
    {
      "cell_type": "code",
      "metadata": {
        "id": "qdN30tXFPtVK",
        "colab_type": "code",
        "colab": {}
      },
      "source": [
        "# modifying the columns in the data frame\n",
        "steam = steam[['id', 'appid', 'name', 'rank', 'genres', 'steamspy_tags', 'short_description', 'hours_of_play']]"
      ],
      "execution_count": 0,
      "outputs": []
    },
    {
      "cell_type": "markdown",
      "metadata": {
        "id": "KlLsN5GVHL8i",
        "colab_type": "text"
      },
      "source": [
        "Since Steam does not use ratings for games, i will base the recommendations on the hours of play for users."
      ]
    },
    {
      "cell_type": "code",
      "metadata": {
        "id": "bfJ6SXXrLQV4",
        "colab_type": "code",
        "colab": {}
      },
      "source": [
        "# alterting the data frame further to show the id, game name and its hours of play\n",
        "steam = steam[['id', 'name', 'hours_of_play']]"
      ],
      "execution_count": 0,
      "outputs": []
    },
    {
      "cell_type": "code",
      "metadata": {
        "id": "HmHIpg66MaJ2",
        "colab_type": "code",
        "outputId": "e3a4187e-a28c-4b92-a038-d5d5edb1d88a",
        "colab": {
          "base_uri": "https://localhost:8080/",
          "height": 34
        }
      },
      "source": [
        "# displaying shape of data frame\n",
        "steam.shape"
      ],
      "execution_count": 112,
      "outputs": [
        {
          "output_type": "execute_result",
          "data": {
            "text/plain": [
              "(99632, 3)"
            ]
          },
          "metadata": {
            "tags": []
          },
          "execution_count": 112
        }
      ]
    },
    {
      "cell_type": "code",
      "metadata": {
        "id": "lnRfxsB2Di_0",
        "colab_type": "code",
        "colab": {}
      },
      "source": [
        "# dropping the duplicate ids, and keeping the most recent ones as making sure it dosent remove all the unique games in the data frame\n",
        "steam.drop_duplicates(subset = ['id', 'name'],\n",
        "                     keep = 'last', inplace = True)"
      ],
      "execution_count": 0,
      "outputs": []
    },
    {
      "cell_type": "code",
      "metadata": {
        "id": "-ow_bkyHDlQV",
        "colab_type": "code",
        "colab": {
          "base_uri": "https://localhost:8080/",
          "height": 34
        },
        "outputId": "9073679c-b5c6-4cfb-8f0e-b6c89d872746"
      },
      "source": [
        "# displaying shape of data frame\n",
        "steam.shape"
      ],
      "execution_count": 114,
      "outputs": [
        {
          "output_type": "execute_result",
          "data": {
            "text/plain": [
              "(60446, 3)"
            ]
          },
          "metadata": {
            "tags": []
          },
          "execution_count": 114
        }
      ]
    },
    {
      "cell_type": "code",
      "metadata": {
        "id": "d1E9oHA0uUNK",
        "colab_type": "code",
        "colab": {}
      },
      "source": [
        "# transforming the current data set into something that is compatible with surpirse \n",
        "reader = Reader()\n",
        "steam = Dataset.load_from_df(steam,reader)"
      ],
      "execution_count": 0,
      "outputs": []
    },
    {
      "cell_type": "markdown",
      "metadata": {
        "id": "u74mF_F_1Odd",
        "colab_type": "text"
      },
      "source": [
        "### Train/ test split"
      ]
    },
    {
      "cell_type": "markdown",
      "metadata": {
        "id": "BNfub7qC3edG",
        "colab_type": "text"
      },
      "source": [
        "The train and test data sets will contain randomly selected user ratings and items instead of the entire list of users and items. 80% of these ratings reside in the training set and the remaining 20% is in the test set."
      ]
    },
    {
      "cell_type": "code",
      "metadata": {
        "id": "0gzE7UakT1I5",
        "colab_type": "code",
        "colab": {}
      },
      "source": [
        "# preforming train/test split\n",
        "trainset, testset = train_test_split(steam, test_size=0.2)"
      ],
      "execution_count": 0,
      "outputs": []
    },
    {
      "cell_type": "code",
      "metadata": {
        "id": "vraPOAD-3_di",
        "colab_type": "code",
        "outputId": "7cf06fdf-7ccb-4388-b639-71faa0a33108",
        "colab": {
          "base_uri": "https://localhost:8080/",
          "height": 86
        }
      },
      "source": [
        "# checking the number of items and users in the data set\n",
        "print('Number of users: ', trainset.n_users, '\\n')\n",
        "print('Number of items: ', trainset.n_items, '\\n')"
      ],
      "execution_count": 117,
      "outputs": [
        {
          "output_type": "stream",
          "text": [
            "Number of users:  9192 \n",
            "\n",
            "Number of items:  2190 \n",
            "\n"
          ],
          "name": "stdout"
        }
      ]
    },
    {
      "cell_type": "markdown",
      "metadata": {
        "id": "3kbn51_lsNEA",
        "colab_type": "text"
      },
      "source": [
        "From this it can be seen that there is a fewer number of items rather than the number of users."
      ]
    },
    {
      "cell_type": "markdown",
      "metadata": {
        "id": "KpvSC9AC6cAG",
        "colab_type": "text"
      },
      "source": [
        "# Memory Based"
      ]
    },
    {
      "cell_type": "markdown",
      "metadata": {
        "id": "56-DV66Cvfjw",
        "colab_type": "text"
      },
      "source": [
        "For these memory based models I will be using KNNBasic which is a basic collaborative filtering algorithm. In addition to that i will also be using KNNBaseline which is a basic collaborative filtering algorithm taking into account a baseline rating. KNNWithMeans is basic collaborative filtering algorithm, taking into account the mean ratings of each user."
      ]
    },
    {
      "cell_type": "markdown",
      "metadata": {
        "id": "PPvL5wD3WOnU",
        "colab_type": "text"
      },
      "source": [
        "## Cosine similarity"
      ]
    },
    {
      "cell_type": "markdown",
      "metadata": {
        "id": "IkZa0FA6vPWh",
        "colab_type": "text"
      },
      "source": [
        "## KNNBasic with cosine similarity (USER BASED)"
      ]
    },
    {
      "cell_type": "code",
      "metadata": {
        "id": "OQE96Bj-UqC3",
        "colab_type": "code",
        "colab": {}
      },
      "source": [
        "#   cosine similarity\n",
        "sim_cos = {'name':'cosine', 'user_based':True}"
      ],
      "execution_count": 0,
      "outputs": []
    },
    {
      "cell_type": "code",
      "metadata": {
        "id": "p9ZP7y352aeq",
        "colab_type": "code",
        "colab": {}
      },
      "source": [
        "#   training the model with user_based = True\n",
        "basic_user = knns.KNNBasic(sim_options=sim_cos)"
      ],
      "execution_count": 0,
      "outputs": []
    },
    {
      "cell_type": "code",
      "metadata": {
        "id": "1knHteqgNcHO",
        "colab_type": "code",
        "outputId": "8c249a1f-50be-4032-91f4-ce3d7179346e",
        "colab": {
          "base_uri": "https://localhost:8080/",
          "height": 173
        }
      },
      "source": [
        "#   fitting the model\n",
        "simcos_cv_item = cross_validate(basic_user, steam, measures=['rmse', 'mae'],\n",
        "                           cv = 3, return_train_measures=True, n_jobs= -1,\n",
        "                           verbose = True)"
      ],
      "execution_count": 120,
      "outputs": [
        {
          "output_type": "stream",
          "text": [
            "Evaluating RMSE, MAE of algorithm KNNBasic on 3 split(s).\n",
            "\n",
            "                  Fold 1  Fold 2  Fold 3  Mean    Std     \n",
            "RMSE (testset)    242.4288218.3260203.8858221.546915.8991 \n",
            "MAE (testset)     36.6102 34.2526 33.8152 34.8927 1.2275  \n",
            "RMSE (trainset)   211.2454223.9997230.7032221.98288.0706  \n",
            "MAE (trainset)    33.7394 34.9100 35.1172 34.5889 0.6066  \n",
            "Fit time          29.30   27.72   12.97   23.33   7.36    \n",
            "Test time         6.60    6.43    3.31    5.45    1.51    \n"
          ],
          "name": "stdout"
        }
      ]
    },
    {
      "cell_type": "markdown",
      "metadata": {
        "id": "OH9qn89kETW0",
        "colab_type": "text"
      },
      "source": [
        "From the results this model appears overfit."
      ]
    },
    {
      "cell_type": "markdown",
      "metadata": {
        "id": "Gd2lKUZ1Wti6",
        "colab_type": "text"
      },
      "source": [
        "## KNNBasic with cosine similarity (ITEM BASED)\n"
      ]
    },
    {
      "cell_type": "code",
      "metadata": {
        "id": "iencxxosW31s",
        "colab_type": "code",
        "colab": {}
      },
      "source": [
        "#   cosine similarity\n",
        "sim_cos = {'name':'cosine', 'user_based':False}"
      ],
      "execution_count": 0,
      "outputs": []
    },
    {
      "cell_type": "code",
      "metadata": {
        "id": "l8ahBPZa5tOQ",
        "colab_type": "code",
        "colab": {}
      },
      "source": [
        "#   training the model with user_based = True\n",
        "basic_item = knns.KNNBasic(sim_options=sim_cos)"
      ],
      "execution_count": 0,
      "outputs": []
    },
    {
      "cell_type": "code",
      "metadata": {
        "id": "LcctIN9M5xbv",
        "colab_type": "code",
        "outputId": "c9b0d041-df32-4331-d7be-cf29b10ad514",
        "colab": {
          "base_uri": "https://localhost:8080/",
          "height": 173
        }
      },
      "source": [
        "#   fitting the model\n",
        "simcos_cv_item = cross_validate(basic_item, steam, measures=['rmse', 'mae'],\n",
        "                           cv = 3, return_train_measures=True, n_jobs= -1,\n",
        "                           verbose = True)"
      ],
      "execution_count": 123,
      "outputs": [
        {
          "output_type": "stream",
          "text": [
            "Evaluating RMSE, MAE of algorithm KNNBasic on 3 split(s).\n",
            "\n",
            "                  Fold 1  Fold 2  Fold 3  Mean    Std     \n",
            "RMSE (testset)    227.3839207.4568231.1183221.986310.3864 \n",
            "MAE (testset)     36.9183 34.3086 34.5877 35.2715 1.1700  \n",
            "RMSE (trainset)   219.4847229.1260217.5205222.04385.0717  \n",
            "MAE (trainset)    33.8067 35.0938 34.9424 34.6143 0.5744  \n",
            "Fit time          1.80    2.39    1.45    1.88    0.39    \n",
            "Test time         2.53    1.77    0.89    1.73    0.67    \n"
          ],
          "name": "stdout"
        }
      ]
    },
    {
      "cell_type": "markdown",
      "metadata": {
        "id": "HW5wGmGxEdsN",
        "colab_type": "text"
      },
      "source": [
        "Although like the previous model this model also appears quite overfit, there is a slight improvement in the RMSE and MAE scores.1\n"
      ]
    },
    {
      "cell_type": "markdown",
      "metadata": {
        "id": "AVtheHJ96epo",
        "colab_type": "text"
      },
      "source": [
        "### Pearson similarity"
      ]
    },
    {
      "cell_type": "markdown",
      "metadata": {
        "id": "P6z1vEKjXHMp",
        "colab_type": "text"
      },
      "source": [
        "## KNNBaseline with pearson similarity (USER BASED)"
      ]
    },
    {
      "cell_type": "code",
      "metadata": {
        "id": "Ygw5t3QOW3_6",
        "colab_type": "code",
        "colab": {}
      },
      "source": [
        "# person similarity\n",
        "sim_pearson = {'name':'pearson', 'user_based':True}"
      ],
      "execution_count": 0,
      "outputs": []
    },
    {
      "cell_type": "code",
      "metadata": {
        "id": "7NRggdAbW4Fx",
        "colab_type": "code",
        "colab": {}
      },
      "source": [
        "#   training the model with user_based = True\n",
        "knn_baseline_user = knns.KNNBaseline(sim_options=sim_pearson)\n"
      ],
      "execution_count": 0,
      "outputs": []
    },
    {
      "cell_type": "code",
      "metadata": {
        "id": "0GTvOUmP6Bkf",
        "colab_type": "code",
        "outputId": "b02bc81e-506a-433e-d360-d5ce2e597485",
        "colab": {
          "base_uri": "https://localhost:8080/",
          "height": 228
        }
      },
      "source": [
        "#   fitting the model\n",
        "sim_pearson_cv_user = cross_validate(knn_baseline_user, steam, measures=['rmse', 'mae'],\n",
        "                           cv = 3, return_train_measures=True, n_jobs= -1,\n",
        "                           verbose = True)"
      ],
      "execution_count": 126,
      "outputs": [
        {
          "output_type": "stream",
          "text": [
            "/usr/local/lib/python3.6/dist-packages/joblib/externals/loky/process_executor.py:691: UserWarning: A worker stopped while some jobs were given to the executor. This can be caused by a too short worker timeout or by a memory leak.\n",
            "  \"timeout or by a memory leak.\", UserWarning\n"
          ],
          "name": "stderr"
        },
        {
          "output_type": "stream",
          "text": [
            "Evaluating RMSE, MAE of algorithm KNNBaseline on 3 split(s).\n",
            "\n",
            "                  Fold 1  Fold 2  Fold 3  Mean    Std     \n",
            "RMSE (testset)    199.7898226.8098238.0208221.540116.0464 \n",
            "MAE (testset)     33.6201 36.9353 34.3185 34.9579 1.4270  \n",
            "RMSE (trainset)   232.4640219.7170213.7066221.96257.8206  \n",
            "MAE (trainset)    34.9067 33.2342 34.5595 34.2334 0.7207  \n",
            "Fit time          32.18   33.62   17.56   27.79   7.26    \n",
            "Test time         7.36    7.64    3.78    6.26    1.76    \n"
          ],
          "name": "stdout"
        }
      ]
    },
    {
      "cell_type": "markdown",
      "metadata": {
        "id": "dok2NqKrHhNQ",
        "colab_type": "text"
      },
      "source": [
        "From the RMSE and MAE scores obtained, there is evident improvement in this user based KNNBaseline model with pearson similarity. "
      ]
    },
    {
      "cell_type": "markdown",
      "metadata": {
        "id": "xX-mUiK1XEtK",
        "colab_type": "text"
      },
      "source": [
        "## KNNBaseline with pearson similarity (ITEM BASED)"
      ]
    },
    {
      "cell_type": "code",
      "metadata": {
        "id": "2wm6hWeN6LRF",
        "colab_type": "code",
        "colab": {}
      },
      "source": [
        "# person similarity\n",
        "sim_pearson = {'name':'pearson', 'user_based':False}"
      ],
      "execution_count": 0,
      "outputs": []
    },
    {
      "cell_type": "code",
      "metadata": {
        "id": "NjGsgdmz6N-A",
        "colab_type": "code",
        "colab": {}
      },
      "source": [
        "#   training the model with user_based = False\n",
        "knn_baseline_user = knns.KNNBaseline(sim_options=sim_pearson)"
      ],
      "execution_count": 0,
      "outputs": []
    },
    {
      "cell_type": "code",
      "metadata": {
        "id": "ByPKmmbmW34-",
        "colab_type": "code",
        "outputId": "174c1ae0-628f-4df6-f2d9-b20028017c96",
        "colab": {
          "base_uri": "https://localhost:8080/",
          "height": 173
        }
      },
      "source": [
        "#   fitting the model\n",
        "sim_pearson_cv_user = cross_validate(knn_baseline_user, steam, measures=['rmse', 'mae'],\n",
        "                           cv = 3, return_train_measures=True, n_jobs= -1,\n",
        "                           verbose = True)"
      ],
      "execution_count": 129,
      "outputs": [
        {
          "output_type": "stream",
          "text": [
            "Evaluating RMSE, MAE of algorithm KNNBaseline on 3 split(s).\n",
            "\n",
            "                  Fold 1  Fold 2  Fold 3  Mean    Std     \n",
            "RMSE (testset)    207.5102211.0380245.8289221.459017.2922 \n",
            "MAE (testset)     33.4881 34.5468 37.1289 35.0546 1.5291  \n",
            "RMSE (trainset)   229.0583227.4448209.2483221.91718.9824  \n",
            "MAE (trainset)    35.0025 34.4459 33.1469 34.1985 0.7775  \n",
            "Fit time          1.68    2.48    1.53    1.90    0.41    \n",
            "Test time         2.66    1.99    1.33    1.99    0.55    \n"
          ],
          "name": "stdout"
        }
      ]
    },
    {
      "cell_type": "markdown",
      "metadata": {
        "id": "WEYqHM6IH3VS",
        "colab_type": "text"
      },
      "source": [
        "This models preformance was also decent"
      ]
    },
    {
      "cell_type": "markdown",
      "metadata": {
        "id": "UivarLut23OA",
        "colab_type": "text"
      },
      "source": [
        "## KNNWithMeans with pearson similarity (USER BASED)"
      ]
    },
    {
      "cell_type": "code",
      "metadata": {
        "id": "urKtrtnB22sc",
        "colab_type": "code",
        "colab": {}
      },
      "source": [
        "# person similarity\n",
        "sim_pearson = {'name':'pearson', 'user_based':True}"
      ],
      "execution_count": 0,
      "outputs": []
    },
    {
      "cell_type": "code",
      "metadata": {
        "id": "V0jzUAVX3NMb",
        "colab_type": "code",
        "colab": {}
      },
      "source": [
        "#   training the model with user_based = True\n",
        "knn_WithMeans_user = knns.KNNWithMeans(sim_options=sim_pearson)"
      ],
      "execution_count": 0,
      "outputs": []
    },
    {
      "cell_type": "code",
      "metadata": {
        "id": "QA_AfgEd3NWg",
        "colab_type": "code",
        "outputId": "8984c611-8c64-423f-d248-53d5f76f0cee",
        "colab": {
          "base_uri": "https://localhost:8080/",
          "height": 173
        }
      },
      "source": [
        "#   fitting the model\n",
        "sim_pearson_wm_cv_user = cross_validate(knn_WithMeans_user, steam, measures=['rmse', 'mae'],\n",
        "                           cv = 3, return_train_measures=True, n_jobs= -1,\n",
        "                           verbose = True)"
      ],
      "execution_count": 132,
      "outputs": [
        {
          "output_type": "stream",
          "text": [
            "Evaluating RMSE, MAE of algorithm KNNWithMeans on 3 split(s).\n",
            "\n",
            "                  Fold 1  Fold 2  Fold 3  Mean    Std     \n",
            "RMSE (testset)    232.1031199.1552233.6758221.644715.9154 \n",
            "MAE (testset)     35.4782 33.0398 35.9226 34.8135 1.2673  \n",
            "RMSE (trainset)   216.9889232.7849216.1470221.97367.6525  \n",
            "MAE (trainset)    33.8477 35.0340 33.6213 34.1677 0.6195  \n",
            "Fit time          33.71   31.85   15.50   27.02   8.18    \n",
            "Test time         6.94    6.92    3.55    5.80    1.59    \n"
          ],
          "name": "stdout"
        }
      ]
    },
    {
      "cell_type": "markdown",
      "metadata": {
        "id": "0XP4y1UX3h28",
        "colab_type": "text"
      },
      "source": [
        "KNNWithMeans with pearson similarity (ITEM BASED)"
      ]
    },
    {
      "cell_type": "code",
      "metadata": {
        "id": "IDz0tBQr3m-o",
        "colab_type": "code",
        "colab": {}
      },
      "source": [
        "# person similarity\n",
        "sim_pearson = {'name':'pearson', 'user_based':False}"
      ],
      "execution_count": 0,
      "outputs": []
    },
    {
      "cell_type": "code",
      "metadata": {
        "id": "TkcJ8KNR3nCw",
        "colab_type": "code",
        "colab": {}
      },
      "source": [
        "#   training the model with user_based = False\n",
        "knn_WithMeans_item = knns.KNNWithMeans(sim_options=sim_pearson)"
      ],
      "execution_count": 0,
      "outputs": []
    },
    {
      "cell_type": "code",
      "metadata": {
        "id": "Gn6154CO3nGj",
        "colab_type": "code",
        "outputId": "076ff255-e4a0-4f28-cd63-98e15e01a111",
        "colab": {
          "base_uri": "https://localhost:8080/",
          "height": 173
        }
      },
      "source": [
        "#   fitting the model\n",
        "sim_pearson_wm_cv_item = cross_validate(knn_WithMeans_item, steam, measures=['rmse', 'mae'],\n",
        "                           cv = 3, return_train_measures=True, n_jobs= -1,\n",
        "                           verbose = True)"
      ],
      "execution_count": 135,
      "outputs": [
        {
          "output_type": "stream",
          "text": [
            "Evaluating RMSE, MAE of algorithm KNNWithMeans on 3 split(s).\n",
            "\n",
            "                  Fold 1  Fold 2  Fold 3  Mean    Std     \n",
            "RMSE (testset)    213.2640226.9039225.9453222.03776.2163  \n",
            "MAE (testset)     33.9982 35.7953 34.4630 34.7522 0.7616  \n",
            "RMSE (trainset)   226.3961219.6672220.1621222.07513.0621  \n",
            "MAE (trainset)    34.4204 33.5332 34.1773 34.0436 0.3743  \n",
            "Fit time          1.61    2.03    1.48    1.71    0.23    \n",
            "Test time         2.44    1.73    1.07    1.75    0.56    \n"
          ],
          "name": "stdout"
        }
      ]
    },
    {
      "cell_type": "markdown",
      "metadata": {
        "id": "18wNAl-f7v5o",
        "colab_type": "text"
      },
      "source": [
        "# Model based (matrix factorization)"
      ]
    },
    {
      "cell_type": "code",
      "metadata": {
        "id": "rtz6XhQyDez2",
        "colab_type": "code",
        "outputId": "47e39345-58ea-4e30-e64e-238d1d694400",
        "colab": {
          "base_uri": "https://localhost:8080/",
          "height": 86
        }
      },
      "source": [
        "param_grid = {'n_factors':[20, 100],'n_epochs': [5, 10], 'lr_all': [0.002, 0.005],\n",
        "               'reg_all': [0.4, 0.6]}\n",
        "gs_model = GridSearchCV(SVD,param_grid=param_grid,n_jobs = -1,joblib_verbose=5)\n",
        "gs_model.fit(steam)"
      ],
      "execution_count": 136,
      "outputs": [
        {
          "output_type": "stream",
          "text": [
            "[Parallel(n_jobs=-1)]: Using backend LokyBackend with 2 concurrent workers.\n",
            "[Parallel(n_jobs=-1)]: Done  14 tasks      | elapsed:   18.0s\n",
            "[Parallel(n_jobs=-1)]: Done  68 tasks      | elapsed:  1.9min\n",
            "[Parallel(n_jobs=-1)]: Done  80 out of  80 | elapsed:  2.3min finished\n"
          ],
          "name": "stderr"
        }
      ]
    },
    {
      "cell_type": "code",
      "metadata": {
        "id": "mjvdsdGpDexj",
        "colab_type": "code",
        "outputId": "5014cc70-f06b-441f-c1bb-415d1e24aede",
        "colab": {
          "base_uri": "https://localhost:8080/",
          "height": 52
        }
      },
      "source": [
        "svd = SVD(n_factors=100, n_epochs=10, lr_all=0.005, reg_all=0.4)\n",
        "svd.fit(trainset)\n",
        "predictions = svd.test(testset)\n",
        "print(accuracy.rmse(predictions))"
      ],
      "execution_count": 137,
      "outputs": [
        {
          "output_type": "stream",
          "text": [
            "RMSE: 228.5626\n",
            "228.56259467383634\n"
          ],
          "name": "stdout"
        }
      ]
    },
    {
      "cell_type": "markdown",
      "metadata": {
        "id": "llKf6yf0ITHn",
        "colab_type": "text"
      },
      "source": [
        ""
      ]
    },
    {
      "cell_type": "code",
      "metadata": {
        "id": "8-6wtPlZWszO",
        "colab_type": "code",
        "colab": {}
      },
      "source": [
        "## Perform a gridsearch with SVD\n",
        "params = {'n_factors': [20, 50, 100],\n",
        "         'reg_all': [0.02, 0.05, 0.1]}\n",
        "g_s_svd = GridSearchCV(SVD,param_grid=params,n_jobs=-1)\n",
        "g_s_svd.fit(steam)"
      ],
      "execution_count": 0,
      "outputs": []
    },
    {
      "cell_type": "code",
      "metadata": {
        "id": "30wEvKOOW3D4",
        "colab_type": "code",
        "outputId": "fb709c12-004f-4cab-c533-83d961e5157b",
        "colab": {
          "base_uri": "https://localhost:8080/",
          "height": 52
        }
      },
      "source": [
        "print(g_s_svd.best_score)\n",
        "print(g_s_svd.best_params)"
      ],
      "execution_count": 139,
      "outputs": [
        {
          "output_type": "stream",
          "text": [
            "{'rmse': 220.99109435864926, 'mae': 35.7652323378286}\n",
            "{'rmse': {'n_factors': 20, 'reg_all': 0.02}, 'mae': {'n_factors': 20, 'reg_all': 0.02}}\n"
          ],
          "name": "stdout"
        }
      ]
    },
    {
      "cell_type": "markdown",
      "metadata": {
        "id": "xbwY03q5ILn4",
        "colab_type": "text"
      },
      "source": [
        ""
      ]
    },
    {
      "cell_type": "code",
      "metadata": {
        "id": "v8TRZkuzHqtN",
        "colab_type": "code",
        "colab": {}
      },
      "source": [
        "## Perform a gridsearch with SVD\n",
        "params = {'n_factors': [20],\n",
        "         'reg_all': [0.02]}\n",
        "g_s_svd = GridSearchCV(SVD,param_grid=params,n_jobs=-1)\n",
        "g_s_svd.fit(steam)"
      ],
      "execution_count": 0,
      "outputs": []
    },
    {
      "cell_type": "code",
      "metadata": {
        "id": "VEKGn6DXJQbz",
        "colab_type": "code",
        "outputId": "f8735b93-38ba-4b47-dbea-37878f8c0f72",
        "colab": {
          "base_uri": "https://localhost:8080/",
          "height": 52
        }
      },
      "source": [
        "print(g_s_svd.best_score)\n",
        "print(g_s_svd.best_params)"
      ],
      "execution_count": 141,
      "outputs": [
        {
          "output_type": "stream",
          "text": [
            "{'rmse': 221.6721178698086, 'mae': 35.76533137214132}\n",
            "{'rmse': {'n_factors': 20, 'reg_all': 0.02}, 'mae': {'n_factors': 20, 'reg_all': 0.02}}\n"
          ],
          "name": "stdout"
        }
      ]
    },
    {
      "cell_type": "code",
      "metadata": {
        "id": "VqF1m98tJ9XC",
        "colab_type": "code",
        "colab": {}
      },
      "source": [
        "# person similarity\n",
        "sim_pearson = {'name':'pearson', 'user_based':False}"
      ],
      "execution_count": 0,
      "outputs": []
    },
    {
      "cell_type": "code",
      "metadata": {
        "id": "-ktJY5TRJ9j_",
        "colab_type": "code",
        "colab": {}
      },
      "source": [
        "#   training the model with user_based = False\n",
        "knn_baseline_user = knns.KNNBaseline(sim_options=sim_pearson)"
      ],
      "execution_count": 0,
      "outputs": []
    },
    {
      "cell_type": "code",
      "metadata": {
        "id": "DNjR4NCgJ9iC",
        "colab_type": "code",
        "outputId": "9d8f446d-aa1f-4641-bd87-d26790b1c319",
        "colab": {
          "base_uri": "https://localhost:8080/",
          "height": 173
        }
      },
      "source": [
        "#   fitting the model\n",
        "sim_pearson_cv_user = cross_validate(knn_baseline_user, steam, measures=['rmse', 'mae'],\n",
        "                           cv = 3, return_train_measures=True, n_jobs= -1,\n",
        "                           verbose = True)"
      ],
      "execution_count": 144,
      "outputs": [
        {
          "output_type": "stream",
          "text": [
            "Evaluating RMSE, MAE of algorithm KNNBaseline on 3 split(s).\n",
            "\n",
            "                  Fold 1  Fold 2  Fold 3  Mean    Std     \n",
            "RMSE (testset)    220.5855220.1815225.5777222.11492.4541  \n",
            "MAE (testset)     35.9312 33.5774 35.6132 35.0406 1.0428  \n",
            "RMSE (trainset)   222.8671223.0652220.3537222.09531.2342  \n",
            "MAE (trainset)    33.7595 34.9185 33.8926 34.1902 0.5179  \n",
            "Fit time          1.89    2.44    1.50    1.94    0.38    \n",
            "Test time         2.49    1.99    1.11    1.86    0.57    \n"
          ],
          "name": "stdout"
        }
      ]
    },
    {
      "cell_type": "code",
      "metadata": {
        "id": "hnJ9wSN-J9gX",
        "colab_type": "code",
        "outputId": "a567b6d9-de51-40ea-adbe-d602c5162b67",
        "colab": {
          "base_uri": "https://localhost:8080/",
          "height": 156
        }
      },
      "source": [
        "for i in sim_pearson_cv_user.items():\n",
        "    print(i)\n",
        "print('-----------------------')\n",
        "print(np.mean(sim_pearson_cv_user['test_rmse']))"
      ],
      "execution_count": 145,
      "outputs": [
        {
          "output_type": "stream",
          "text": [
            "('test_rmse', array([220.58549667, 220.18154675, 225.57766155]))\n",
            "('train_rmse', array([222.86711883, 223.06520159, 220.3537227 ]))\n",
            "('test_mae', array([35.93124502, 33.57737256, 35.61323592]))\n",
            "('train_mae', array([33.75952043, 34.91854224, 33.89255863]))\n",
            "('fit_time', (1.886951208114624, 2.435455083847046, 1.5027153491973877))\n",
            "('test_time', (2.487823724746704, 1.9867215156555176, 1.111647367477417))\n",
            "-----------------------\n",
            "222.11490166014246\n"
          ],
          "name": "stdout"
        }
      ]
    },
    {
      "cell_type": "code",
      "metadata": {
        "id": "WGuSeTgRKeFx",
        "colab_type": "code",
        "outputId": "9450f895-bbc5-4d39-8eb8-0843652f2748",
        "colab": {
          "base_uri": "https://localhost:8080/",
          "height": 277
        }
      },
      "source": [
        "# cross validating with KNNBaseline\n",
        "knn_baseline = KNNBaseline(sim_options={'name':'pearson', 'user_based':True})\n",
        "cv_knn_baseline = cross_validate(knn_baseline, steam)"
      ],
      "execution_count": 146,
      "outputs": [
        {
          "output_type": "stream",
          "text": [
            "Estimating biases using als...\n",
            "Computing the pearson similarity matrix...\n",
            "Done computing similarity matrix.\n",
            "Estimating biases using als...\n",
            "Computing the pearson similarity matrix...\n",
            "Done computing similarity matrix.\n",
            "Estimating biases using als...\n",
            "Computing the pearson similarity matrix...\n",
            "Done computing similarity matrix.\n",
            "Estimating biases using als...\n",
            "Computing the pearson similarity matrix...\n",
            "Done computing similarity matrix.\n",
            "Estimating biases using als...\n",
            "Computing the pearson similarity matrix...\n",
            "Done computing similarity matrix.\n"
          ],
          "name": "stdout"
        }
      ]
    },
    {
      "cell_type": "code",
      "metadata": {
        "id": "nkhHJ2CpKuqo",
        "colab_type": "code",
        "outputId": "42347a33-5a6f-436f-94a5-22d3a30d7828",
        "colab": {
          "base_uri": "https://localhost:8080/",
          "height": 121
        }
      },
      "source": [
        "for i in cv_knn_baseline.items():\n",
        "    print(i)\n",
        "\n",
        "np.mean(cv_knn_baseline['test_rmse'])"
      ],
      "execution_count": 147,
      "outputs": [
        {
          "output_type": "stream",
          "text": [
            "('test_rmse', array([226.60715599, 232.46565032, 219.96518991, 199.37644504,\n",
            "       230.56128705]))\n",
            "('test_mae', array([35.31993904, 34.18757259, 34.35153825, 32.93349793, 37.72368989]))\n",
            "('fit_time', (28.2661349773407, 26.4842426776886, 27.96272325515747, 24.16923761367798, 23.988571405410767))\n",
            "('test_time', (3.586242437362671, 3.56370210647583, 3.595970630645752, 3.742413282394409, 3.6931352615356445))\n"
          ],
          "name": "stdout"
        },
        {
          "output_type": "execute_result",
          "data": {
            "text/plain": [
              "221.79514566111152"
            ]
          },
          "metadata": {
            "tags": []
          },
          "execution_count": 147
        }
      ]
    },
    {
      "cell_type": "markdown",
      "metadata": {
        "id": "10rbv53yNotJ",
        "colab_type": "text"
      },
      "source": [
        "# Making recommendations"
      ]
    },
    {
      "cell_type": "code",
      "metadata": {
        "id": "Z_7kJGxuQrCp",
        "colab_type": "code",
        "colab": {}
      },
      "source": [
        "df_games = pd.read_csv('steam_rs.csv')"
      ],
      "execution_count": 0,
      "outputs": []
    },
    {
      "cell_type": "code",
      "metadata": {
        "id": "TbdfU-bOQzHm",
        "colab_type": "code",
        "outputId": "ddc60fa1-f9b4-468d-d70c-98bdcffecbf4",
        "colab": {
          "base_uri": "https://localhost:8080/",
          "height": 656
        }
      },
      "source": [
        "df_games.head()"
      ],
      "execution_count": 238,
      "outputs": [
        {
          "output_type": "execute_result",
          "data": {
            "text/html": [
              "<div>\n",
              "<style scoped>\n",
              "    .dataframe tbody tr th:only-of-type {\n",
              "        vertical-align: middle;\n",
              "    }\n",
              "\n",
              "    .dataframe tbody tr th {\n",
              "        vertical-align: top;\n",
              "    }\n",
              "\n",
              "    .dataframe thead th {\n",
              "        text-align: right;\n",
              "    }\n",
              "</style>\n",
              "<table border=\"1\" class=\"dataframe\">\n",
              "  <thead>\n",
              "    <tr style=\"text-align: right;\">\n",
              "      <th></th>\n",
              "      <th>id</th>\n",
              "      <th>appid</th>\n",
              "      <th>name</th>\n",
              "      <th>purchase</th>\n",
              "      <th>hours_of_play</th>\n",
              "      <th>developer</th>\n",
              "      <th>publisher</th>\n",
              "      <th>positive</th>\n",
              "      <th>negative</th>\n",
              "      <th>release_date</th>\n",
              "      <th>english</th>\n",
              "      <th>platforms</th>\n",
              "      <th>required_age</th>\n",
              "      <th>categories</th>\n",
              "      <th>genres</th>\n",
              "      <th>steamspy_tags</th>\n",
              "      <th>achievements</th>\n",
              "      <th>average_playtime</th>\n",
              "      <th>median_playtime</th>\n",
              "      <th>owners</th>\n",
              "      <th>detailed_description</th>\n",
              "      <th>about_the_game</th>\n",
              "      <th>short_description</th>\n",
              "      <th>price</th>\n",
              "      <th>rank</th>\n",
              "    </tr>\n",
              "  </thead>\n",
              "  <tbody>\n",
              "    <tr>\n",
              "      <th>0</th>\n",
              "      <td>151603712</td>\n",
              "      <td>570</td>\n",
              "      <td>Dota 2</td>\n",
              "      <td>purchase</td>\n",
              "      <td>0.0</td>\n",
              "      <td>Valve</td>\n",
              "      <td>Valve</td>\n",
              "      <td>1097301</td>\n",
              "      <td>194384</td>\n",
              "      <td>2013-07-09</td>\n",
              "      <td>1</td>\n",
              "      <td>windows;mac;linux</td>\n",
              "      <td>0</td>\n",
              "      <td>Multi-player;Co-op;Steam Trading Cards;Steam W...</td>\n",
              "      <td>Action;Free to Play;Strategy</td>\n",
              "      <td>Free to Play;MOBA;Strategy</td>\n",
              "      <td>0</td>\n",
              "      <td>23944</td>\n",
              "      <td>801</td>\n",
              "      <td>100000000-200000000</td>\n",
              "      <td>&lt;strong&gt;The most-played game on Steam.&lt;/strong...</td>\n",
              "      <td>&lt;strong&gt;The most-played game on Steam.&lt;/strong...</td>\n",
              "      <td>Every day, millions of players worldwide enter...</td>\n",
              "      <td>0.0</td>\n",
              "      <td>84.95113</td>\n",
              "    </tr>\n",
              "    <tr>\n",
              "      <th>1</th>\n",
              "      <td>151603712</td>\n",
              "      <td>570</td>\n",
              "      <td>Dota 2</td>\n",
              "      <td>play</td>\n",
              "      <td>0.5</td>\n",
              "      <td>Valve</td>\n",
              "      <td>Valve</td>\n",
              "      <td>1097301</td>\n",
              "      <td>194384</td>\n",
              "      <td>2013-07-09</td>\n",
              "      <td>1</td>\n",
              "      <td>windows;mac;linux</td>\n",
              "      <td>0</td>\n",
              "      <td>Multi-player;Co-op;Steam Trading Cards;Steam W...</td>\n",
              "      <td>Action;Free to Play;Strategy</td>\n",
              "      <td>Free to Play;MOBA;Strategy</td>\n",
              "      <td>0</td>\n",
              "      <td>23944</td>\n",
              "      <td>801</td>\n",
              "      <td>100000000-200000000</td>\n",
              "      <td>&lt;strong&gt;The most-played game on Steam.&lt;/strong...</td>\n",
              "      <td>&lt;strong&gt;The most-played game on Steam.&lt;/strong...</td>\n",
              "      <td>Every day, millions of players worldwide enter...</td>\n",
              "      <td>0.0</td>\n",
              "      <td>84.95113</td>\n",
              "    </tr>\n",
              "    <tr>\n",
              "      <th>2</th>\n",
              "      <td>187131847</td>\n",
              "      <td>570</td>\n",
              "      <td>Dota 2</td>\n",
              "      <td>purchase</td>\n",
              "      <td>0.0</td>\n",
              "      <td>Valve</td>\n",
              "      <td>Valve</td>\n",
              "      <td>1097301</td>\n",
              "      <td>194384</td>\n",
              "      <td>2013-07-09</td>\n",
              "      <td>1</td>\n",
              "      <td>windows;mac;linux</td>\n",
              "      <td>0</td>\n",
              "      <td>Multi-player;Co-op;Steam Trading Cards;Steam W...</td>\n",
              "      <td>Action;Free to Play;Strategy</td>\n",
              "      <td>Free to Play;MOBA;Strategy</td>\n",
              "      <td>0</td>\n",
              "      <td>23944</td>\n",
              "      <td>801</td>\n",
              "      <td>100000000-200000000</td>\n",
              "      <td>&lt;strong&gt;The most-played game on Steam.&lt;/strong...</td>\n",
              "      <td>&lt;strong&gt;The most-played game on Steam.&lt;/strong...</td>\n",
              "      <td>Every day, millions of players worldwide enter...</td>\n",
              "      <td>0.0</td>\n",
              "      <td>84.95113</td>\n",
              "    </tr>\n",
              "    <tr>\n",
              "      <th>3</th>\n",
              "      <td>187131847</td>\n",
              "      <td>570</td>\n",
              "      <td>Dota 2</td>\n",
              "      <td>play</td>\n",
              "      <td>2.3</td>\n",
              "      <td>Valve</td>\n",
              "      <td>Valve</td>\n",
              "      <td>1097301</td>\n",
              "      <td>194384</td>\n",
              "      <td>2013-07-09</td>\n",
              "      <td>1</td>\n",
              "      <td>windows;mac;linux</td>\n",
              "      <td>0</td>\n",
              "      <td>Multi-player;Co-op;Steam Trading Cards;Steam W...</td>\n",
              "      <td>Action;Free to Play;Strategy</td>\n",
              "      <td>Free to Play;MOBA;Strategy</td>\n",
              "      <td>0</td>\n",
              "      <td>23944</td>\n",
              "      <td>801</td>\n",
              "      <td>100000000-200000000</td>\n",
              "      <td>&lt;strong&gt;The most-played game on Steam.&lt;/strong...</td>\n",
              "      <td>&lt;strong&gt;The most-played game on Steam.&lt;/strong...</td>\n",
              "      <td>Every day, millions of players worldwide enter...</td>\n",
              "      <td>0.0</td>\n",
              "      <td>84.95113</td>\n",
              "    </tr>\n",
              "    <tr>\n",
              "      <th>4</th>\n",
              "      <td>176410694</td>\n",
              "      <td>570</td>\n",
              "      <td>Dota 2</td>\n",
              "      <td>purchase</td>\n",
              "      <td>0.0</td>\n",
              "      <td>Valve</td>\n",
              "      <td>Valve</td>\n",
              "      <td>1097301</td>\n",
              "      <td>194384</td>\n",
              "      <td>2013-07-09</td>\n",
              "      <td>1</td>\n",
              "      <td>windows;mac;linux</td>\n",
              "      <td>0</td>\n",
              "      <td>Multi-player;Co-op;Steam Trading Cards;Steam W...</td>\n",
              "      <td>Action;Free to Play;Strategy</td>\n",
              "      <td>Free to Play;MOBA;Strategy</td>\n",
              "      <td>0</td>\n",
              "      <td>23944</td>\n",
              "      <td>801</td>\n",
              "      <td>100000000-200000000</td>\n",
              "      <td>&lt;strong&gt;The most-played game on Steam.&lt;/strong...</td>\n",
              "      <td>&lt;strong&gt;The most-played game on Steam.&lt;/strong...</td>\n",
              "      <td>Every day, millions of players worldwide enter...</td>\n",
              "      <td>0.0</td>\n",
              "      <td>84.95113</td>\n",
              "    </tr>\n",
              "  </tbody>\n",
              "</table>\n",
              "</div>"
            ],
            "text/plain": [
              "          id  appid    name  purchase  hours_of_play developer publisher  positive  negative  \\\n",
              "0  151603712    570  Dota 2  purchase            0.0     Valve     Valve   1097301    194384   \n",
              "1  151603712    570  Dota 2      play            0.5     Valve     Valve   1097301    194384   \n",
              "2  187131847    570  Dota 2  purchase            0.0     Valve     Valve   1097301    194384   \n",
              "3  187131847    570  Dota 2      play            2.3     Valve     Valve   1097301    194384   \n",
              "4  176410694    570  Dota 2  purchase            0.0     Valve     Valve   1097301    194384   \n",
              "\n",
              "  release_date  english          platforms  required_age  \\\n",
              "0   2013-07-09        1  windows;mac;linux             0   \n",
              "1   2013-07-09        1  windows;mac;linux             0   \n",
              "2   2013-07-09        1  windows;mac;linux             0   \n",
              "3   2013-07-09        1  windows;mac;linux             0   \n",
              "4   2013-07-09        1  windows;mac;linux             0   \n",
              "\n",
              "                                          categories                        genres  \\\n",
              "0  Multi-player;Co-op;Steam Trading Cards;Steam W...  Action;Free to Play;Strategy   \n",
              "1  Multi-player;Co-op;Steam Trading Cards;Steam W...  Action;Free to Play;Strategy   \n",
              "2  Multi-player;Co-op;Steam Trading Cards;Steam W...  Action;Free to Play;Strategy   \n",
              "3  Multi-player;Co-op;Steam Trading Cards;Steam W...  Action;Free to Play;Strategy   \n",
              "4  Multi-player;Co-op;Steam Trading Cards;Steam W...  Action;Free to Play;Strategy   \n",
              "\n",
              "                steamspy_tags  achievements  average_playtime  median_playtime  \\\n",
              "0  Free to Play;MOBA;Strategy             0             23944              801   \n",
              "1  Free to Play;MOBA;Strategy             0             23944              801   \n",
              "2  Free to Play;MOBA;Strategy             0             23944              801   \n",
              "3  Free to Play;MOBA;Strategy             0             23944              801   \n",
              "4  Free to Play;MOBA;Strategy             0             23944              801   \n",
              "\n",
              "                owners                               detailed_description  \\\n",
              "0  100000000-200000000  <strong>The most-played game on Steam.</strong...   \n",
              "1  100000000-200000000  <strong>The most-played game on Steam.</strong...   \n",
              "2  100000000-200000000  <strong>The most-played game on Steam.</strong...   \n",
              "3  100000000-200000000  <strong>The most-played game on Steam.</strong...   \n",
              "4  100000000-200000000  <strong>The most-played game on Steam.</strong...   \n",
              "\n",
              "                                      about_the_game  \\\n",
              "0  <strong>The most-played game on Steam.</strong...   \n",
              "1  <strong>The most-played game on Steam.</strong...   \n",
              "2  <strong>The most-played game on Steam.</strong...   \n",
              "3  <strong>The most-played game on Steam.</strong...   \n",
              "4  <strong>The most-played game on Steam.</strong...   \n",
              "\n",
              "                                   short_description  price      rank  \n",
              "0  Every day, millions of players worldwide enter...    0.0  84.95113  \n",
              "1  Every day, millions of players worldwide enter...    0.0  84.95113  \n",
              "2  Every day, millions of players worldwide enter...    0.0  84.95113  \n",
              "3  Every day, millions of players worldwide enter...    0.0  84.95113  \n",
              "4  Every day, millions of players worldwide enter...    0.0  84.95113  "
            ]
          },
          "metadata": {
            "tags": []
          },
          "execution_count": 238
        }
      ]
    },
    {
      "cell_type": "code",
      "metadata": {
        "id": "2Zi8xpC4PygC",
        "colab_type": "code",
        "colab": {}
      },
      "source": [
        "# dropping the duplicate ids, and keeping the most recent ones as making sure it dosent remove all the unique games in the data frame\n",
        "df_games.drop_duplicates(subset = ['id', 'name'],\n",
        "                     keep = 'last', inplace = True)"
      ],
      "execution_count": 0,
      "outputs": []
    },
    {
      "cell_type": "code",
      "metadata": {
        "id": "KIufB0CeQV0L",
        "colab_type": "code",
        "colab": {}
      },
      "source": [
        "# dropping the duplicate ids\n",
        "df_games.drop_duplicates(subset = ['appid'],\n",
        "                     keep = 'last', inplace = True)"
      ],
      "execution_count": 0,
      "outputs": []
    },
    {
      "cell_type": "code",
      "metadata": {
        "id": "sBPmgmM3Ik_K",
        "colab_type": "code",
        "colab": {}
      },
      "source": [
        "df_games = df_games[['id', 'appid', 'name', 'purchase', 'developer', 'genres', 'rank']]"
      ],
      "execution_count": 0,
      "outputs": []
    },
    {
      "cell_type": "code",
      "metadata": {
        "id": "M0tFwBPbNsGz",
        "colab_type": "code",
        "outputId": "f11a1e76-ac63-442c-aebc-d5267de9412a",
        "colab": {
          "base_uri": "https://localhost:8080/",
          "height": 34
        }
      },
      "source": [
        "svd = SVD(n_factors= 20, reg_all=0.02)\n",
        "svd.fit(trainset)"
      ],
      "execution_count": 242,
      "outputs": [
        {
          "output_type": "execute_result",
          "data": {
            "text/plain": [
              "<surprise.prediction_algorithms.matrix_factorization.SVD at 0x7feaa642ba90>"
            ]
          },
          "metadata": {
            "tags": []
          },
          "execution_count": 242
        }
      ]
    },
    {
      "cell_type": "code",
      "metadata": {
        "id": "4KNWaIY2N9aC",
        "colab_type": "code",
        "outputId": "9f522a46-c2c4-4ddc-9a18-7c2dcf854707",
        "colab": {
          "base_uri": "https://localhost:8080/",
          "height": 34
        }
      },
      "source": [
        "svd.predict(2, 4)"
      ],
      "execution_count": 243,
      "outputs": [
        {
          "output_type": "execute_result",
          "data": {
            "text/plain": [
              "Prediction(uid=2, iid=4, r_ui=None, est=5, details={'was_impossible': False})"
            ]
          },
          "metadata": {
            "tags": []
          },
          "execution_count": 243
        }
      ]
    },
    {
      "cell_type": "code",
      "metadata": {
        "id": "We6-j-f9OAvT",
        "colab_type": "code",
        "colab": {}
      },
      "source": [
        "def game_rater(df_games, num, genre=None):\n",
        "    userID = 1000\n",
        "    rating_list = []\n",
        "    while num > 0:\n",
        "        if genre:\n",
        "            game = df_games[df_games['genres'].str.contains(genre)].sample(1)\n",
        "        else:\n",
        "            game = df_games.sample(1)\n",
        "        print(game)\n",
        "        rating = input('How do you rate this game on a scale of 1-5, press n if you have not seen :\\n')\n",
        "        if rating == 'n':\n",
        "            continue\n",
        "        else:\n",
        "            rating_one_game = {'id':userID,'gameId':game['appid'].values[0],'hours_of_play':rating}\n",
        "            rating_list.append(rating_one_game) \n",
        "            num -= 1\n",
        "    return rating_list      "
      ],
      "execution_count": 0,
      "outputs": []
    },
    {
      "cell_type": "code",
      "metadata": {
        "id": "oRJ3mgD7OMPK",
        "colab_type": "code",
        "outputId": "c74b25f9-c551-4323-dca7-293c39d2a05d",
        "colab": {
          "base_uri": "https://localhost:8080/",
          "height": 814
        }
      },
      "source": [
        "user_rating = game_rater(df_games, 4, 'RPG')"
      ],
      "execution_count": 245,
      "outputs": [
        {
          "output_type": "stream",
          "text": [
            "              id   appid                       name  purchase                  developer  \\\n",
            "76123  193103684  206480  Dungeons & Dragons Online  purchase  Standing Stone Games, LLC   \n",
            "\n",
            "                                                  genres       rank  \n",
            "76123  Action;Adventure;Free to Play;Massively Multip...  71.021107  \n",
            "How do you rate this game on a scale of 1-5, press n if you have not seen :\n",
            "66\n",
            "             id   appid     name purchase        developer                        genres  \\\n",
            "76252  60859695  290340  Armello     play  League of Geeks  Adventure;Indie;RPG;Strategy   \n",
            "\n",
            "            rank  \n",
            "76252  81.652078  \n",
            "How do you rate this game on a scale of 1-5, press n if you have not seen :\n",
            "3\n",
            "             id   appid                  name  purchase                        developer  \\\n",
            "52565  73726855  200210  Realm of the Mad God  purchase  Wild Shadow Studios, Deca Games   \n",
            "\n",
            "                                                  genres      rank  \n",
            "52565  Action;Free to Play;Indie;Massively Multiplaye...  84.51596  \n",
            "How do you rate this game on a scale of 1-5, press n if you have not seen :\n",
            "n\n",
            "             id   appid               name  purchase     developer               genres       rank\n",
            "96662  24632218  270050  Quest of Dungeons  purchase  David Amador  Adventure;Indie;RPG  76.984127\n",
            "How do you rate this game on a scale of 1-5, press n if you have not seen :\n",
            "n\n",
            "             id   appid              name  purchase  \\\n",
            "90798  63294797  270170  Depression Quest  purchase   \n",
            "\n",
            "                                               developer                             genres  \\\n",
            "90798  The Quinnspiracy, Patrick Lindsey, Isaac Schan...  Free to Play;Indie;RPG;Simulation   \n",
            "\n",
            "            rank  \n",
            "90798  57.135563  \n",
            "How do you rate this game on a scale of 1-5, press n if you have not seen :\n",
            "n\n",
            "              id   appid           name  purchase     developer                      genres  \\\n",
            "87329  155673786  391260  Labyronia RPG  purchase  Labyrinthine  Action;Adventure;Indie;RPG   \n",
            "\n",
            "            rank  \n",
            "87329  73.164098  \n",
            "How do you rate this game on a scale of 1-5, press n if you have not seen :\n",
            "3\n",
            "             id   appid  name purchase          developer                      genres       rank\n",
            "96655  96400571  327860  Salt     play  Lavaboots Studios  Action;Adventure;Indie;RPG  79.003359\n",
            "How do you rate this game on a scale of 1-5, press n if you have not seen :\n",
            "4\n"
          ],
          "name": "stdout"
        }
      ]
    },
    {
      "cell_type": "code",
      "metadata": {
        "id": "PmaWGEU-Lzct",
        "colab_type": "code",
        "colab": {}
      },
      "source": [
        ""
      ],
      "execution_count": 0,
      "outputs": []
    },
    {
      "cell_type": "code",
      "metadata": {
        "id": "cLkeFgLVLzj9",
        "colab_type": "code",
        "colab": {}
      },
      "source": [
        "## add the new ratings to the original ratings DataFrame\n",
        "new_ratings_df = df_games.append(user_rating,ignore_index=True)"
      ],
      "execution_count": 0,
      "outputs": []
    },
    {
      "cell_type": "code",
      "metadata": {
        "id": "t8zVBql1NdT_",
        "colab_type": "code",
        "colab": {}
      },
      "source": [
        "new_ratings_df = new_ratings_df[['id', 'appid', 'hours_of_play']]\n"
      ],
      "execution_count": 0,
      "outputs": []
    },
    {
      "cell_type": "code",
      "metadata": {
        "id": "ZtOOKHNzM4Fc",
        "colab_type": "code",
        "colab": {}
      },
      "source": [
        "# transforming the current data set into something that is compatible with surpirse \n",
        "reader = Reader()\n",
        "new_data = Dataset.load_from_df(new_ratings_df,reader)"
      ],
      "execution_count": 0,
      "outputs": []
    },
    {
      "cell_type": "markdown",
      "metadata": {
        "id": "xm5nNRctOkdR",
        "colab_type": "text"
      },
      "source": [
        ""
      ]
    },
    {
      "cell_type": "code",
      "metadata": {
        "id": "n-vLK1dGOl0q",
        "colab_type": "code",
        "colab": {
          "base_uri": "https://localhost:8080/",
          "height": 34
        },
        "outputId": "0a0b4b44-7146-437a-8383-742edf61fc98"
      },
      "source": [
        "# train a model using the new combined DataFrame\n",
        "svd_ = SVD(n_factors= 20, reg_all=0.02)\n",
        "svd_.fit(new_data.build_full_trainset())"
      ],
      "execution_count": 249,
      "outputs": [
        {
          "output_type": "execute_result",
          "data": {
            "text/plain": [
              "<surprise.prediction_algorithms.matrix_factorization.SVD at 0x7feaa827a710>"
            ]
          },
          "metadata": {
            "tags": []
          },
          "execution_count": 249
        }
      ]
    },
    {
      "cell_type": "code",
      "metadata": {
        "id": "-1RbZ0w-On2E",
        "colab_type": "code",
        "colab": {}
      },
      "source": [
        "# make predictions for the user\n",
        "list_of_games = []\n",
        "for m_id in df_games['appid'].unique():\n",
        "    list_of_games.append( (m_id,svd_.predict(1000,m_id)[3]))"
      ],
      "execution_count": 0,
      "outputs": []
    },
    {
      "cell_type": "code",
      "metadata": {
        "id": "Sm0X805gOp79",
        "colab_type": "code",
        "colab": {}
      },
      "source": [
        "# order the predictions from highest to lowest rated\n",
        "ranked_games = sorted(list_of_games, key=lambda x:x[1], reverse=True)"
      ],
      "execution_count": 0,
      "outputs": []
    },
    {
      "cell_type": "code",
      "metadata": {
        "id": "aLN6FEJnLY_2",
        "colab_type": "code",
        "colab": {}
      },
      "source": [
        "# return the top n recommendations\n",
        "def recommended_games(user_ratings, df_games, n):\n",
        "        for idx, rec in enumerate(user_ratings):\n",
        "            title = df_games.loc[df_games['appid'] == int(rec[0])]['name']\n",
        "            print('Recommendation # ', idx+1, ': ', title, '\\n')\n",
        "            n-= 1\n",
        "            if n == 0:\n",
        "                break"
      ],
      "execution_count": 0,
      "outputs": []
    },
    {
      "cell_type": "code",
      "metadata": {
        "id": "dpco3EsWMJp4",
        "colab_type": "code",
        "outputId": "0e70d0c7-555a-4d46-8101-e902485f9a9a",
        "colab": {
          "base_uri": "https://localhost:8080/",
          "height": 277
        }
      },
      "source": [
        "recommended_games(ranked_games, df_games, 5)"
      ],
      "execution_count": 255,
      "outputs": [
        {
          "output_type": "stream",
          "text": [
            "Recommendation #  1 :  9681    Dota 2\n",
            "Name: name, dtype: object \n",
            "\n",
            "Recommendation #  2 :  14327    Team Fortress 2\n",
            "Name: name, dtype: object \n",
            "\n",
            "Recommendation #  3 :  16959    Unturned\n",
            "Name: name, dtype: object \n",
            "\n",
            "Recommendation #  4 :  18230    Warframe\n",
            "Name: name, dtype: object \n",
            "\n",
            "Recommendation #  5 :  18246    Tom Clancy's Rainbow Six Siege\n",
            "Name: name, dtype: object \n",
            "\n"
          ],
          "name": "stdout"
        }
      ]
    },
    {
      "cell_type": "code",
      "metadata": {
        "id": "gFlD8BdjM9Zk",
        "colab_type": "code",
        "colab": {}
      },
      "source": [
        ""
      ],
      "execution_count": 0,
      "outputs": []
    }
  ]
}