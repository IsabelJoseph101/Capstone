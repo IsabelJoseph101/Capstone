{
  "nbformat": 4,
  "nbformat_minor": 0,
  "metadata": {
    "kernelspec": {
      "display_name": "Python 3",
      "language": "python",
      "name": "python3"
    },
    "language_info": {
      "codemirror_mode": {
        "name": "ipython",
        "version": 3
      },
      "file_extension": ".py",
      "mimetype": "text/x-python",
      "name": "python",
      "nbconvert_exporter": "python",
      "pygments_lexer": "ipython3",
      "version": "3.7.4"
    },
    "colab": {
      "name": "Untitled1.ipynb",
      "provenance": []
    }
  },
  "cells": [
    {
      "cell_type": "markdown",
      "metadata": {
        "id": "4j3Rj10euUMq",
        "colab_type": "text"
      },
      "source": [
        "# Collaborative based filtering"
      ]
    },
    {
      "cell_type": "markdown",
      "metadata": {
        "id": "BN39Cw3H0Bhf",
        "colab_type": "text"
      },
      "source": [
        "Collaborative filtering based models finds similaries between items or users through ratings or items that other users have liked as well."
      ]
    },
    {
      "cell_type": "markdown",
      "metadata": {
        "id": "JB2mQPruz9XS",
        "colab_type": "text"
      },
      "source": [
        "### Importing necessary packages\n"
      ]
    },
    {
      "cell_type": "code",
      "metadata": {
        "id": "W8YVwL3-pGN5",
        "colab_type": "code",
        "colab": {
          "base_uri": "https://localhost:8080/",
          "height": 280
        },
        "outputId": "8c8034c7-a585-4f8e-aa7a-bdb5623dcce6"
      },
      "source": [
        "# installing the library suprise\n",
        "!pip install scikit-surprise"
      ],
      "execution_count": 6,
      "outputs": [
        {
          "output_type": "stream",
          "text": [
            "Collecting scikit-surprise\n",
            "\u001b[?25l  Downloading https://files.pythonhosted.org/packages/f5/da/b5700d96495fb4f092be497f02492768a3d96a3f4fa2ae7dea46d4081cfa/scikit-surprise-1.1.0.tar.gz (6.4MB)\n",
            "\u001b[K     |████████████████████████████████| 6.5MB 2.7MB/s \n",
            "\u001b[?25hRequirement already satisfied: joblib>=0.11 in /usr/local/lib/python3.6/dist-packages (from scikit-surprise) (0.15.1)\n",
            "Requirement already satisfied: numpy>=1.11.2 in /usr/local/lib/python3.6/dist-packages (from scikit-surprise) (1.18.4)\n",
            "Requirement already satisfied: scipy>=1.0.0 in /usr/local/lib/python3.6/dist-packages (from scikit-surprise) (1.4.1)\n",
            "Requirement already satisfied: six>=1.10.0 in /usr/local/lib/python3.6/dist-packages (from scikit-surprise) (1.12.0)\n",
            "Building wheels for collected packages: scikit-surprise\n",
            "  Building wheel for scikit-surprise (setup.py) ... \u001b[?25l\u001b[?25hdone\n",
            "  Created wheel for scikit-surprise: filename=scikit_surprise-1.1.0-cp36-cp36m-linux_x86_64.whl size=1675388 sha256=f67d9f8973e61621460bb77bafe7d20513e347c4a67e418d65e6433d0a111616\n",
            "  Stored in directory: /root/.cache/pip/wheels/cc/fa/8c/16c93fccce688ae1bde7d979ff102f7bee980d9cfeb8641bcf\n",
            "Successfully built scikit-surprise\n",
            "Installing collected packages: scikit-surprise\n",
            "Successfully installed scikit-surprise-1.1.0\n"
          ],
          "name": "stdout"
        }
      ]
    },
    {
      "cell_type": "code",
      "metadata": {
        "id": "OAOzIbbnuUMs",
        "colab_type": "code",
        "outputId": "dbc124a5-3114-47f0-d9b3-81d61dc04e7d",
        "colab": {
          "base_uri": "https://localhost:8080/",
          "height": 52
        }
      },
      "source": [
        "# importing necessary packages\n",
        "import pandas as pd\n",
        "pd.set_option('display.max_rows', 100)\n",
        "pd.set_option('display.max_columns', 100)\n",
        "pd.set_option('display.width', 100)\n",
        "import seaborn as sns\n",
        "import numpy as np\n",
        "import matplotlib.pyplot as plt\n",
        "%matplotlib inline\n",
        "\n",
        "from sklearn.preprocessing import StandardScaler \n",
        "from sklearn import preprocessing\n",
        "from sklearn.feature_extraction.text import TfidfVectorizer\n",
        "from sklearn.decomposition import TruncatedSVD\n",
        "from sklearn.model_selection import train_test_split\n",
        "\n",
        "from surprise.model_selection import cross_validate\n",
        "from surprise.prediction_algorithms import SVD\n",
        "from surprise.prediction_algorithms import knns\n",
        "from surprise import accuracy\n",
        "from surprise.prediction_algorithms import KNNWithMeans, KNNBasic, KNNBaseline\n",
        "from surprise.model_selection import GridSearchCV\n",
        "from surprise.model_selection import train_test_split\n",
        "\n",
        "from surprise import Reader, Dataset\n",
        "import numpy as np\n",
        "\n",
        "import nltk\n",
        "from nltk.corpus import stopwords\n",
        "from nltk import word_tokenize, FreqDist\n",
        "nltk.download('punkt')\n",
        "import re\n",
        "import string\n",
        "import os\n",
        "\n",
        "import warnings\n",
        "warnings.filterwarnings(\"ignore\", category=FutureWarning)"
      ],
      "execution_count": 7,
      "outputs": [
        {
          "output_type": "stream",
          "text": [
            "[nltk_data] Downloading package punkt to /root/nltk_data...\n",
            "[nltk_data]   Unzipping tokenizers/punkt.zip.\n"
          ],
          "name": "stdout"
        }
      ]
    },
    {
      "cell_type": "code",
      "metadata": {
        "id": "pfzDaDleyezJ",
        "colab_type": "code",
        "outputId": "9911b44a-624f-4f5a-d549-8878cf4976d2",
        "colab": {
          "base_uri": "https://localhost:8080/",
          "height": 52
        }
      },
      "source": [
        "# unziping the folder containing the steam_rs.csv data\n",
        "!unzip steam_rs.zip"
      ],
      "execution_count": 8,
      "outputs": [
        {
          "output_type": "stream",
          "text": [
            "Archive:  steam_rs.zip\n",
            "  inflating: steam_rs.csv            \n"
          ],
          "name": "stdout"
        }
      ]
    },
    {
      "cell_type": "markdown",
      "metadata": {
        "id": "wXj4zqXUp4SZ",
        "colab_type": "text"
      },
      "source": [
        "### Importing and checking through the data sets"
      ]
    },
    {
      "cell_type": "code",
      "metadata": {
        "id": "S-uAo53zuUM0",
        "colab_type": "code",
        "colab": {}
      },
      "source": [
        "# importing the data set\n",
        "steam = pd.read_csv('steam_rs.csv')"
      ],
      "execution_count": 0,
      "outputs": []
    },
    {
      "cell_type": "code",
      "metadata": {
        "id": "Ulb2eHc7uUM9",
        "colab_type": "code",
        "colab": {}
      },
      "source": [
        "# removing release_date column\n",
        "steam = steam.drop('release_date', axis = 1)"
      ],
      "execution_count": 0,
      "outputs": []
    },
    {
      "cell_type": "code",
      "metadata": {
        "id": "odO2ZJyouUNF",
        "colab_type": "code",
        "outputId": "9356bf4d-1ddc-43aa-d306-6527e9b876c5",
        "colab": {
          "base_uri": "https://localhost:8080/",
          "height": 656
        }
      },
      "source": [
        "# displaying the data frame\n",
        "steam.head()"
      ],
      "execution_count": 95,
      "outputs": [
        {
          "output_type": "execute_result",
          "data": {
            "text/html": [
              "<div>\n",
              "<style scoped>\n",
              "    .dataframe tbody tr th:only-of-type {\n",
              "        vertical-align: middle;\n",
              "    }\n",
              "\n",
              "    .dataframe tbody tr th {\n",
              "        vertical-align: top;\n",
              "    }\n",
              "\n",
              "    .dataframe thead th {\n",
              "        text-align: right;\n",
              "    }\n",
              "</style>\n",
              "<table border=\"1\" class=\"dataframe\">\n",
              "  <thead>\n",
              "    <tr style=\"text-align: right;\">\n",
              "      <th></th>\n",
              "      <th>id</th>\n",
              "      <th>appid</th>\n",
              "      <th>name</th>\n",
              "      <th>purchase</th>\n",
              "      <th>hours_of_play</th>\n",
              "      <th>developer</th>\n",
              "      <th>publisher</th>\n",
              "      <th>positive</th>\n",
              "      <th>negative</th>\n",
              "      <th>english</th>\n",
              "      <th>platforms</th>\n",
              "      <th>required_age</th>\n",
              "      <th>categories</th>\n",
              "      <th>genres</th>\n",
              "      <th>steamspy_tags</th>\n",
              "      <th>achievements</th>\n",
              "      <th>average_playtime</th>\n",
              "      <th>median_playtime</th>\n",
              "      <th>owners</th>\n",
              "      <th>detailed_description</th>\n",
              "      <th>about_the_game</th>\n",
              "      <th>short_description</th>\n",
              "      <th>price</th>\n",
              "      <th>rank</th>\n",
              "    </tr>\n",
              "  </thead>\n",
              "  <tbody>\n",
              "    <tr>\n",
              "      <th>0</th>\n",
              "      <td>151603712</td>\n",
              "      <td>570</td>\n",
              "      <td>Dota 2</td>\n",
              "      <td>purchase</td>\n",
              "      <td>0.0</td>\n",
              "      <td>Valve</td>\n",
              "      <td>Valve</td>\n",
              "      <td>1097301</td>\n",
              "      <td>194384</td>\n",
              "      <td>1</td>\n",
              "      <td>windows;mac;linux</td>\n",
              "      <td>0</td>\n",
              "      <td>Multi-player;Co-op;Steam Trading Cards;Steam W...</td>\n",
              "      <td>Action;Free to Play;Strategy</td>\n",
              "      <td>Free to Play;MOBA;Strategy</td>\n",
              "      <td>0</td>\n",
              "      <td>23944</td>\n",
              "      <td>801</td>\n",
              "      <td>100000000-200000000</td>\n",
              "      <td>&lt;strong&gt;The most-played game on Steam.&lt;/strong...</td>\n",
              "      <td>&lt;strong&gt;The most-played game on Steam.&lt;/strong...</td>\n",
              "      <td>Every day, millions of players worldwide enter...</td>\n",
              "      <td>0.0</td>\n",
              "      <td>84.95113</td>\n",
              "    </tr>\n",
              "    <tr>\n",
              "      <th>1</th>\n",
              "      <td>151603712</td>\n",
              "      <td>570</td>\n",
              "      <td>Dota 2</td>\n",
              "      <td>play</td>\n",
              "      <td>0.5</td>\n",
              "      <td>Valve</td>\n",
              "      <td>Valve</td>\n",
              "      <td>1097301</td>\n",
              "      <td>194384</td>\n",
              "      <td>1</td>\n",
              "      <td>windows;mac;linux</td>\n",
              "      <td>0</td>\n",
              "      <td>Multi-player;Co-op;Steam Trading Cards;Steam W...</td>\n",
              "      <td>Action;Free to Play;Strategy</td>\n",
              "      <td>Free to Play;MOBA;Strategy</td>\n",
              "      <td>0</td>\n",
              "      <td>23944</td>\n",
              "      <td>801</td>\n",
              "      <td>100000000-200000000</td>\n",
              "      <td>&lt;strong&gt;The most-played game on Steam.&lt;/strong...</td>\n",
              "      <td>&lt;strong&gt;The most-played game on Steam.&lt;/strong...</td>\n",
              "      <td>Every day, millions of players worldwide enter...</td>\n",
              "      <td>0.0</td>\n",
              "      <td>84.95113</td>\n",
              "    </tr>\n",
              "    <tr>\n",
              "      <th>2</th>\n",
              "      <td>187131847</td>\n",
              "      <td>570</td>\n",
              "      <td>Dota 2</td>\n",
              "      <td>purchase</td>\n",
              "      <td>0.0</td>\n",
              "      <td>Valve</td>\n",
              "      <td>Valve</td>\n",
              "      <td>1097301</td>\n",
              "      <td>194384</td>\n",
              "      <td>1</td>\n",
              "      <td>windows;mac;linux</td>\n",
              "      <td>0</td>\n",
              "      <td>Multi-player;Co-op;Steam Trading Cards;Steam W...</td>\n",
              "      <td>Action;Free to Play;Strategy</td>\n",
              "      <td>Free to Play;MOBA;Strategy</td>\n",
              "      <td>0</td>\n",
              "      <td>23944</td>\n",
              "      <td>801</td>\n",
              "      <td>100000000-200000000</td>\n",
              "      <td>&lt;strong&gt;The most-played game on Steam.&lt;/strong...</td>\n",
              "      <td>&lt;strong&gt;The most-played game on Steam.&lt;/strong...</td>\n",
              "      <td>Every day, millions of players worldwide enter...</td>\n",
              "      <td>0.0</td>\n",
              "      <td>84.95113</td>\n",
              "    </tr>\n",
              "    <tr>\n",
              "      <th>3</th>\n",
              "      <td>187131847</td>\n",
              "      <td>570</td>\n",
              "      <td>Dota 2</td>\n",
              "      <td>play</td>\n",
              "      <td>2.3</td>\n",
              "      <td>Valve</td>\n",
              "      <td>Valve</td>\n",
              "      <td>1097301</td>\n",
              "      <td>194384</td>\n",
              "      <td>1</td>\n",
              "      <td>windows;mac;linux</td>\n",
              "      <td>0</td>\n",
              "      <td>Multi-player;Co-op;Steam Trading Cards;Steam W...</td>\n",
              "      <td>Action;Free to Play;Strategy</td>\n",
              "      <td>Free to Play;MOBA;Strategy</td>\n",
              "      <td>0</td>\n",
              "      <td>23944</td>\n",
              "      <td>801</td>\n",
              "      <td>100000000-200000000</td>\n",
              "      <td>&lt;strong&gt;The most-played game on Steam.&lt;/strong...</td>\n",
              "      <td>&lt;strong&gt;The most-played game on Steam.&lt;/strong...</td>\n",
              "      <td>Every day, millions of players worldwide enter...</td>\n",
              "      <td>0.0</td>\n",
              "      <td>84.95113</td>\n",
              "    </tr>\n",
              "    <tr>\n",
              "      <th>4</th>\n",
              "      <td>176410694</td>\n",
              "      <td>570</td>\n",
              "      <td>Dota 2</td>\n",
              "      <td>purchase</td>\n",
              "      <td>0.0</td>\n",
              "      <td>Valve</td>\n",
              "      <td>Valve</td>\n",
              "      <td>1097301</td>\n",
              "      <td>194384</td>\n",
              "      <td>1</td>\n",
              "      <td>windows;mac;linux</td>\n",
              "      <td>0</td>\n",
              "      <td>Multi-player;Co-op;Steam Trading Cards;Steam W...</td>\n",
              "      <td>Action;Free to Play;Strategy</td>\n",
              "      <td>Free to Play;MOBA;Strategy</td>\n",
              "      <td>0</td>\n",
              "      <td>23944</td>\n",
              "      <td>801</td>\n",
              "      <td>100000000-200000000</td>\n",
              "      <td>&lt;strong&gt;The most-played game on Steam.&lt;/strong...</td>\n",
              "      <td>&lt;strong&gt;The most-played game on Steam.&lt;/strong...</td>\n",
              "      <td>Every day, millions of players worldwide enter...</td>\n",
              "      <td>0.0</td>\n",
              "      <td>84.95113</td>\n",
              "    </tr>\n",
              "  </tbody>\n",
              "</table>\n",
              "</div>"
            ],
            "text/plain": [
              "          id  appid    name  purchase  hours_of_play developer publisher  positive  negative  \\\n",
              "0  151603712    570  Dota 2  purchase            0.0     Valve     Valve   1097301    194384   \n",
              "1  151603712    570  Dota 2      play            0.5     Valve     Valve   1097301    194384   \n",
              "2  187131847    570  Dota 2  purchase            0.0     Valve     Valve   1097301    194384   \n",
              "3  187131847    570  Dota 2      play            2.3     Valve     Valve   1097301    194384   \n",
              "4  176410694    570  Dota 2  purchase            0.0     Valve     Valve   1097301    194384   \n",
              "\n",
              "   english          platforms  required_age                                         categories  \\\n",
              "0        1  windows;mac;linux             0  Multi-player;Co-op;Steam Trading Cards;Steam W...   \n",
              "1        1  windows;mac;linux             0  Multi-player;Co-op;Steam Trading Cards;Steam W...   \n",
              "2        1  windows;mac;linux             0  Multi-player;Co-op;Steam Trading Cards;Steam W...   \n",
              "3        1  windows;mac;linux             0  Multi-player;Co-op;Steam Trading Cards;Steam W...   \n",
              "4        1  windows;mac;linux             0  Multi-player;Co-op;Steam Trading Cards;Steam W...   \n",
              "\n",
              "                         genres               steamspy_tags  achievements  average_playtime  \\\n",
              "0  Action;Free to Play;Strategy  Free to Play;MOBA;Strategy             0             23944   \n",
              "1  Action;Free to Play;Strategy  Free to Play;MOBA;Strategy             0             23944   \n",
              "2  Action;Free to Play;Strategy  Free to Play;MOBA;Strategy             0             23944   \n",
              "3  Action;Free to Play;Strategy  Free to Play;MOBA;Strategy             0             23944   \n",
              "4  Action;Free to Play;Strategy  Free to Play;MOBA;Strategy             0             23944   \n",
              "\n",
              "   median_playtime               owners                               detailed_description  \\\n",
              "0              801  100000000-200000000  <strong>The most-played game on Steam.</strong...   \n",
              "1              801  100000000-200000000  <strong>The most-played game on Steam.</strong...   \n",
              "2              801  100000000-200000000  <strong>The most-played game on Steam.</strong...   \n",
              "3              801  100000000-200000000  <strong>The most-played game on Steam.</strong...   \n",
              "4              801  100000000-200000000  <strong>The most-played game on Steam.</strong...   \n",
              "\n",
              "                                      about_the_game  \\\n",
              "0  <strong>The most-played game on Steam.</strong...   \n",
              "1  <strong>The most-played game on Steam.</strong...   \n",
              "2  <strong>The most-played game on Steam.</strong...   \n",
              "3  <strong>The most-played game on Steam.</strong...   \n",
              "4  <strong>The most-played game on Steam.</strong...   \n",
              "\n",
              "                                   short_description  price      rank  \n",
              "0  Every day, millions of players worldwide enter...    0.0  84.95113  \n",
              "1  Every day, millions of players worldwide enter...    0.0  84.95113  \n",
              "2  Every day, millions of players worldwide enter...    0.0  84.95113  \n",
              "3  Every day, millions of players worldwide enter...    0.0  84.95113  \n",
              "4  Every day, millions of players worldwide enter...    0.0  84.95113  "
            ]
          },
          "metadata": {
            "tags": []
          },
          "execution_count": 95
        }
      ]
    },
    {
      "cell_type": "code",
      "metadata": {
        "id": "qdN30tXFPtVK",
        "colab_type": "code",
        "colab": {}
      },
      "source": [
        "# modifying the columns in the data frame\n",
        "steam = steam[['id', 'appid', 'name', 'rank', 'genres', 'steamspy_tags', 'short_description', 'hours_of_play']]"
      ],
      "execution_count": 0,
      "outputs": []
    },
    {
      "cell_type": "markdown",
      "metadata": {
        "id": "KlLsN5GVHL8i",
        "colab_type": "text"
      },
      "source": [
        "Since Steam does not maintain explicit ratings for games, we derive our ratings based on the hours of play."
      ]
    },
    {
      "cell_type": "code",
      "metadata": {
        "id": "bfJ6SXXrLQV4",
        "colab_type": "code",
        "colab": {}
      },
      "source": [
        "# alterting the data frame further to show the id, game name and its hours of play\n",
        "steam = steam[['id', 'name', 'hours_of_play']]"
      ],
      "execution_count": 0,
      "outputs": []
    },
    {
      "cell_type": "code",
      "metadata": {
        "id": "HmHIpg66MaJ2",
        "colab_type": "code",
        "outputId": "93cc5ea8-ca73-4ee9-dbda-31b04525b82e",
        "colab": {
          "base_uri": "https://localhost:8080/",
          "height": 34
        }
      },
      "source": [
        "# displaying shape of data frame\n",
        "steam.shape"
      ],
      "execution_count": 98,
      "outputs": [
        {
          "output_type": "execute_result",
          "data": {
            "text/plain": [
              "(99632, 3)"
            ]
          },
          "metadata": {
            "tags": []
          },
          "execution_count": 98
        }
      ]
    },
    {
      "cell_type": "code",
      "metadata": {
        "id": "d1E9oHA0uUNK",
        "colab_type": "code",
        "colab": {}
      },
      "source": [
        "# transforming the current data set into something that is compatible with surpirse \n",
        "reader = Reader()\n",
        "steam = Dataset.load_from_df(steam,reader)"
      ],
      "execution_count": 0,
      "outputs": []
    },
    {
      "cell_type": "markdown",
      "metadata": {
        "id": "u74mF_F_1Odd",
        "colab_type": "text"
      },
      "source": [
        "### Train/ test split"
      ]
    },
    {
      "cell_type": "markdown",
      "metadata": {
        "id": "BNfub7qC3edG",
        "colab_type": "text"
      },
      "source": [
        "The train and test data sets will contain randomly selected user ratings and items instead of the entire list of users and items. 80% of these ratings reside in the training set and the remaining 20% is in the test set."
      ]
    },
    {
      "cell_type": "code",
      "metadata": {
        "id": "0gzE7UakT1I5",
        "colab_type": "code",
        "colab": {}
      },
      "source": [
        "# preforming train/test split\n",
        "trainset, testset = train_test_split(steam, test_size=0.2)"
      ],
      "execution_count": 0,
      "outputs": []
    },
    {
      "cell_type": "code",
      "metadata": {
        "id": "vraPOAD-3_di",
        "colab_type": "code",
        "outputId": "84af9ce3-3153-42cd-9965-5057151bf2a3",
        "colab": {
          "base_uri": "https://localhost:8080/",
          "height": 86
        }
      },
      "source": [
        "# checking the number of items and users in the data set\n",
        "print('Number of users: ', trainset.n_users, '\\n')\n",
        "print('Number of items: ', trainset.n_items, '\\n')"
      ],
      "execution_count": 101,
      "outputs": [
        {
          "output_type": "stream",
          "text": [
            "Number of users:  10034 \n",
            "\n",
            "Number of items:  2224 \n",
            "\n"
          ],
          "name": "stdout"
        }
      ]
    },
    {
      "cell_type": "markdown",
      "metadata": {
        "id": "3kbn51_lsNEA",
        "colab_type": "text"
      },
      "source": [
        "From this it can be seen that there is a fewer number of items rather than the number of users."
      ]
    },
    {
      "cell_type": "markdown",
      "metadata": {
        "id": "KpvSC9AC6cAG",
        "colab_type": "text"
      },
      "source": [
        "# Memory Based"
      ]
    },
    {
      "cell_type": "markdown",
      "metadata": {
        "id": "56-DV66Cvfjw",
        "colab_type": "text"
      },
      "source": [
        "For these memory based models I will be using KNNBasic which is a basic collaborative filtering algorithm. In addition to that i will also be using KNNBaseline which is a basic collaborative filtering algorithm taking into account a baseline rating. KNNWithMeans is basic collaborative filtering algorithm, taking into account the mean ratings of each user."
      ]
    },
    {
      "cell_type": "markdown",
      "metadata": {
        "id": "PPvL5wD3WOnU",
        "colab_type": "text"
      },
      "source": [
        "## Cosine similarity"
      ]
    },
    {
      "cell_type": "markdown",
      "metadata": {
        "id": "IkZa0FA6vPWh",
        "colab_type": "text"
      },
      "source": [
        "KNNBasic with cosine similarity (USER BASED)"
      ]
    },
    {
      "cell_type": "code",
      "metadata": {
        "id": "OQE96Bj-UqC3",
        "colab_type": "code",
        "colab": {}
      },
      "source": [
        "#   cosine similarity\n",
        "sim_cos = {'name':'cosine', 'user_based':True}"
      ],
      "execution_count": 0,
      "outputs": []
    },
    {
      "cell_type": "code",
      "metadata": {
        "id": "p9ZP7y352aeq",
        "colab_type": "code",
        "colab": {}
      },
      "source": [
        "#   training the model with user_based = True\n",
        "basic_user = knns.KNNBasic(sim_options=sim_cos)"
      ],
      "execution_count": 0,
      "outputs": []
    },
    {
      "cell_type": "code",
      "metadata": {
        "id": "1knHteqgNcHO",
        "colab_type": "code",
        "outputId": "d21d723a-c6fd-4869-d37a-fa04b81530d9",
        "colab": {
          "base_uri": "https://localhost:8080/",
          "height": 173
        }
      },
      "source": [
        "#   fitting the model\n",
        "simcos_cv_item = cross_validate(basic_user, steam, measures=['rmse', 'mae'],\n",
        "                           cv = 3, return_train_measures=True, n_jobs= -1,\n",
        "                           verbose = True)"
      ],
      "execution_count": 104,
      "outputs": [
        {
          "output_type": "stream",
          "text": [
            "Evaluating RMSE, MAE of algorithm KNNBasic on 3 split(s).\n",
            "\n",
            "                  Fold 1  Fold 2  Fold 3  Mean    Std     \n",
            "RMSE (testset)    174.6109169.0096175.6148173.07842.9062  \n",
            "MAE (testset)     22.4693 22.3509 23.2253 22.6818 0.3873  \n",
            "RMSE (trainset)   172.2598175.0270171.7426173.00981.4419  \n",
            "MAE (trainset)    22.4076 22.4724 22.0488 22.3096 0.1863  \n",
            "Fit time          59.48   58.46   30.60   49.51   13.38   \n",
            "Test time         29.97   30.26   14.94   25.06   7.15    \n"
          ],
          "name": "stdout"
        }
      ]
    },
    {
      "cell_type": "markdown",
      "metadata": {
        "id": "Gd2lKUZ1Wti6",
        "colab_type": "text"
      },
      "source": [
        "KNNBasic with cosine similarity (ITEM BASED)\n"
      ]
    },
    {
      "cell_type": "code",
      "metadata": {
        "id": "iencxxosW31s",
        "colab_type": "code",
        "colab": {}
      },
      "source": [
        "#   cosine similarity\n",
        "sim_cos = {'name':'cosine', 'user_based':False}"
      ],
      "execution_count": 0,
      "outputs": []
    },
    {
      "cell_type": "code",
      "metadata": {
        "id": "l8ahBPZa5tOQ",
        "colab_type": "code",
        "colab": {}
      },
      "source": [
        "#   training the model with user_based = True\n",
        "basic_item = knns.KNNBasic(sim_options=sim_cos)"
      ],
      "execution_count": 0,
      "outputs": []
    },
    {
      "cell_type": "code",
      "metadata": {
        "id": "LcctIN9M5xbv",
        "colab_type": "code",
        "outputId": "ce8d6643-b1e2-4308-d5a9-46c7bb7b7df5",
        "colab": {
          "base_uri": "https://localhost:8080/",
          "height": 173
        }
      },
      "source": [
        "#   fitting the model\n",
        "simcos_cv_item = cross_validate(basic_item, steam, measures=['rmse', 'mae'],\n",
        "                           cv = 3, return_train_measures=True, n_jobs= -1,\n",
        "                           verbose = True)"
      ],
      "execution_count": 56,
      "outputs": [
        {
          "output_type": "stream",
          "text": [
            "Evaluating RMSE, MAE of algorithm KNNBasic on 3 split(s).\n",
            "\n",
            "                  Fold 1  Fold 2  Fold 3  Mean    Std     \n",
            "RMSE (testset)    169.2498172.0856178.3425173.22593.7986  \n",
            "MAE (testset)     22.2881 23.7911 22.5680 22.8824 0.6526  \n",
            "RMSE (trainset)   174.9768173.6106170.4203173.00261.9092  \n",
            "MAE (trainset)    22.5215 21.7882 22.4265 22.2454 0.3256  \n",
            "Fit time          2.18    3.39    2.09    2.55    0.59    \n",
            "Test time         5.11    3.84    2.08    3.68    1.24    \n"
          ],
          "name": "stdout"
        }
      ]
    },
    {
      "cell_type": "code",
      "metadata": {
        "id": "m0c0cAjHW37K",
        "colab_type": "code",
        "colab": {}
      },
      "source": [
        ""
      ],
      "execution_count": 0,
      "outputs": []
    },
    {
      "cell_type": "markdown",
      "metadata": {
        "id": "AVtheHJ96epo",
        "colab_type": "text"
      },
      "source": [
        "### Pearson similarity"
      ]
    },
    {
      "cell_type": "markdown",
      "metadata": {
        "id": "P6z1vEKjXHMp",
        "colab_type": "text"
      },
      "source": [
        "KNNBaseline with pearson similarity (USER BASED)"
      ]
    },
    {
      "cell_type": "code",
      "metadata": {
        "id": "Ygw5t3QOW3_6",
        "colab_type": "code",
        "colab": {}
      },
      "source": [
        "# person similarity\n",
        "sim_pearson = {'name':'pearson', 'user_based':True}"
      ],
      "execution_count": 0,
      "outputs": []
    },
    {
      "cell_type": "code",
      "metadata": {
        "id": "7NRggdAbW4Fx",
        "colab_type": "code",
        "colab": {}
      },
      "source": [
        "#   training the model with user_based = True\n",
        "knn_baseline_user = knns.KNNBaseline(sim_options=sim_pearson)\n"
      ],
      "execution_count": 0,
      "outputs": []
    },
    {
      "cell_type": "code",
      "metadata": {
        "id": "0GTvOUmP6Bkf",
        "colab_type": "code",
        "outputId": "10369b38-a671-4af4-b69e-603000a61ee8",
        "colab": {
          "base_uri": "https://localhost:8080/",
          "height": 228
        }
      },
      "source": [
        "#   fitting the model\n",
        "sim_pearson_cv_user = cross_validate(knn_baseline_user, steam, measures=['rmse', 'mae'],\n",
        "                           cv = 3, return_train_measures=True, n_jobs= -1,\n",
        "                           verbose = True)"
      ],
      "execution_count": 59,
      "outputs": [
        {
          "output_type": "stream",
          "text": [
            "/usr/local/lib/python3.6/dist-packages/joblib/externals/loky/process_executor.py:691: UserWarning: A worker stopped while some jobs were given to the executor. This can be caused by a too short worker timeout or by a memory leak.\n",
            "  \"timeout or by a memory leak.\", UserWarning\n"
          ],
          "name": "stderr"
        },
        {
          "output_type": "stream",
          "text": [
            "Evaluating RMSE, MAE of algorithm KNNBaseline on 3 split(s).\n",
            "\n",
            "                  Fold 1  Fold 2  Fold 3  Mean    Std     \n",
            "RMSE (testset)    174.9807177.7516166.8525173.19494.6253  \n",
            "MAE (testset)     22.3736 23.3717 22.2430 22.6628 0.5041  \n",
            "RMSE (trainset)   172.1432170.7203176.1185172.99402.2844  \n",
            "MAE (trainset)    21.9747 21.4711 22.0538 21.8332 0.2580  \n",
            "Fit time          56.55   56.83   29.00   47.46   13.05   \n",
            "Test time         41.16   41.38   17.08   33.21   11.40   \n"
          ],
          "name": "stdout"
        }
      ]
    },
    {
      "cell_type": "markdown",
      "metadata": {
        "id": "xX-mUiK1XEtK",
        "colab_type": "text"
      },
      "source": [
        "KNNBaseline with pearson similarity (ITEM BASED)"
      ]
    },
    {
      "cell_type": "code",
      "metadata": {
        "id": "2wm6hWeN6LRF",
        "colab_type": "code",
        "colab": {}
      },
      "source": [
        "# person similarity\n",
        "sim_pearson = {'name':'pearson', 'user_based':False}"
      ],
      "execution_count": 0,
      "outputs": []
    },
    {
      "cell_type": "code",
      "metadata": {
        "id": "NjGsgdmz6N-A",
        "colab_type": "code",
        "colab": {}
      },
      "source": [
        "#   training the model with user_based = False\n",
        "knn_baseline_user = knns.KNNBaseline(sim_options=sim_pearson)"
      ],
      "execution_count": 0,
      "outputs": []
    },
    {
      "cell_type": "code",
      "metadata": {
        "id": "ByPKmmbmW34-",
        "colab_type": "code",
        "outputId": "e92810aa-ff66-4a3b-eddc-d49cf45f9a73",
        "colab": {
          "base_uri": "https://localhost:8080/",
          "height": 173
        }
      },
      "source": [
        "#   fitting the model\n",
        "sim_pearson_cv_user = cross_validate(knn_baseline_user, steam, measures=['rmse', 'mae'],\n",
        "                           cv = 3, return_train_measures=True, n_jobs= -1,\n",
        "                           verbose = True)"
      ],
      "execution_count": 62,
      "outputs": [
        {
          "output_type": "stream",
          "text": [
            "Evaluating RMSE, MAE of algorithm KNNBaseline on 3 split(s).\n",
            "\n",
            "                  Fold 1  Fold 2  Fold 3  Mean    Std     \n",
            "RMSE (testset)    169.1324177.4867172.8173173.14553.4185  \n",
            "MAE (testset)     23.1095 22.6109 22.3299 22.6834 0.3224  \n",
            "RMSE (trainset)   175.0018170.8100173.1844172.99881.7163  \n",
            "MAE (trainset)    21.6548 21.8811 22.0344 21.8567 0.1559  \n",
            "Fit time          1.92    3.03    1.93    2.29    0.52    \n",
            "Test time         5.87    4.71    2.95    4.51    1.20    \n"
          ],
          "name": "stdout"
        }
      ]
    },
    {
      "cell_type": "markdown",
      "metadata": {
        "id": "UivarLut23OA",
        "colab_type": "text"
      },
      "source": [
        "KNNWithMeans with pearson similarity (USER BASED)"
      ]
    },
    {
      "cell_type": "code",
      "metadata": {
        "id": "urKtrtnB22sc",
        "colab_type": "code",
        "colab": {}
      },
      "source": [
        "# person similarity\n",
        "sim_pearson = {'name':'pearson', 'user_based':True}"
      ],
      "execution_count": 0,
      "outputs": []
    },
    {
      "cell_type": "code",
      "metadata": {
        "id": "V0jzUAVX3NMb",
        "colab_type": "code",
        "colab": {}
      },
      "source": [
        "#   training the model with user_based = True\n",
        "knn_WithMeans_user = knns.KNNWithMeans(sim_options=sim_pearson)"
      ],
      "execution_count": 0,
      "outputs": []
    },
    {
      "cell_type": "code",
      "metadata": {
        "id": "QA_AfgEd3NWg",
        "colab_type": "code",
        "colab": {
          "base_uri": "https://localhost:8080/",
          "height": 173
        },
        "outputId": "26defee8-ddad-4e53-9956-0a6b4bbc3c3e"
      },
      "source": [
        "#   fitting the model\n",
        "sim_pearson_wm_cv_user = cross_validate(knn_WithMeans_user, steam, measures=['rmse', 'mae'],\n",
        "                           cv = 3, return_train_measures=True, n_jobs= -1,\n",
        "                           verbose = True)"
      ],
      "execution_count": 65,
      "outputs": [
        {
          "output_type": "stream",
          "text": [
            "Evaluating RMSE, MAE of algorithm KNNWithMeans on 3 split(s).\n",
            "\n",
            "                  Fold 1  Fold 2  Fold 3  Mean    Std     \n",
            "RMSE (testset)    174.5953171.9645173.3167173.29221.0742  \n",
            "MAE (testset)     21.9322 23.1473 22.5149 22.5315 0.4962  \n",
            "RMSE (trainset)   172.3533173.6734173.0030173.00990.5389  \n",
            "MAE (trainset)    22.0488 21.4549 21.7902 21.7646 0.2432  \n",
            "Fit time          58.09   61.63   30.19   49.97   14.06   \n",
            "Test time         31.68   32.46   16.20   26.78   7.49    \n"
          ],
          "name": "stdout"
        }
      ]
    },
    {
      "cell_type": "markdown",
      "metadata": {
        "id": "0XP4y1UX3h28",
        "colab_type": "text"
      },
      "source": [
        "KNNWithMeans with pearson similarity (ITEM BASED)"
      ]
    },
    {
      "cell_type": "code",
      "metadata": {
        "id": "IDz0tBQr3m-o",
        "colab_type": "code",
        "colab": {}
      },
      "source": [
        "# person similarity\n",
        "sim_pearson = {'name':'pearson', 'user_based':False}"
      ],
      "execution_count": 0,
      "outputs": []
    },
    {
      "cell_type": "code",
      "metadata": {
        "id": "TkcJ8KNR3nCw",
        "colab_type": "code",
        "colab": {}
      },
      "source": [
        "#   training the model with user_based = False\n",
        "knn_WithMeans_item = knns.KNNWithMeans(sim_options=sim_pearson)"
      ],
      "execution_count": 0,
      "outputs": []
    },
    {
      "cell_type": "code",
      "metadata": {
        "id": "Gn6154CO3nGj",
        "colab_type": "code",
        "colab": {
          "base_uri": "https://localhost:8080/",
          "height": 173
        },
        "outputId": "435f6f04-b776-4feb-e495-739c75423d0f"
      },
      "source": [
        "#   fitting the model\n",
        "sim_pearson_wm_cv_item = cross_validate(knn_WithMeans_item, steam, measures=['rmse', 'mae'],\n",
        "                           cv = 3, return_train_measures=True, n_jobs= -1,\n",
        "                           verbose = True)"
      ],
      "execution_count": 68,
      "outputs": [
        {
          "output_type": "stream",
          "text": [
            "Evaluating RMSE, MAE of algorithm KNNWithMeans on 3 split(s).\n",
            "\n",
            "                  Fold 1  Fold 2  Fold 3  Mean    Std     \n",
            "RMSE (testset)    195.4273162.4315159.3542172.404316.3281 \n",
            "MAE (testset)     24.2049 21.7889 21.5890 22.5276 1.1888  \n",
            "RMSE (trainset)   160.7320178.1345179.5169172.79458.5481  \n",
            "MAE (trainset)    20.9565 22.1461 22.2506 21.7844 0.5870  \n",
            "Fit time          2.08    2.96    1.86    2.30    0.47    \n",
            "Test time         5.15    4.10    2.41    3.89    1.13    \n"
          ],
          "name": "stdout"
        }
      ]
    },
    {
      "cell_type": "markdown",
      "metadata": {
        "id": "18wNAl-f7v5o",
        "colab_type": "text"
      },
      "source": [
        "# Model based (matrix factorization)"
      ]
    },
    {
      "cell_type": "code",
      "metadata": {
        "id": "rtz6XhQyDez2",
        "colab_type": "code",
        "colab": {
          "base_uri": "https://localhost:8080/",
          "height": 86
        },
        "outputId": "f7e9f4c3-8705-4f62-8f48-4c799d34b4fd"
      },
      "source": [
        "param_grid = {'n_factors':[20, 100],'n_epochs': [5, 10], 'lr_all': [0.002, 0.005],\n",
        "               'reg_all': [0.4, 0.6]}\n",
        "gs_model = GridSearchCV(SVD,param_grid=param_grid,n_jobs = -1,joblib_verbose=5)\n",
        "gs_model.fit(steam)"
      ],
      "execution_count": 106,
      "outputs": [
        {
          "output_type": "stream",
          "text": [
            "[Parallel(n_jobs=-1)]: Using backend LokyBackend with 2 concurrent workers.\n",
            "[Parallel(n_jobs=-1)]: Done  14 tasks      | elapsed:   30.0s\n",
            "[Parallel(n_jobs=-1)]: Done  68 tasks      | elapsed:  2.8min\n",
            "[Parallel(n_jobs=-1)]: Done  80 out of  80 | elapsed:  3.5min finished\n"
          ],
          "name": "stderr"
        }
      ]
    },
    {
      "cell_type": "code",
      "metadata": {
        "id": "mjvdsdGpDexj",
        "colab_type": "code",
        "colab": {
          "base_uri": "https://localhost:8080/",
          "height": 52
        },
        "outputId": "1c953c6f-c24f-477d-8623-400027694f85"
      },
      "source": [
        "svd = SVD(n_factors=100, n_epochs=10, lr_all=0.005, reg_all=0.4)\n",
        "svd.fit(trainset)\n",
        "predictions = svd.test(testset)\n",
        "print(accuracy.rmse(predictions))"
      ],
      "execution_count": 107,
      "outputs": [
        {
          "output_type": "stream",
          "text": [
            "RMSE: 192.3314\n",
            "192.33141233929877\n"
          ],
          "name": "stdout"
        }
      ]
    },
    {
      "cell_type": "markdown",
      "metadata": {
        "id": "8IBqO8LUE8oI",
        "colab_type": "text"
      },
      "source": [
        "this model performed worse than the others"
      ]
    },
    {
      "cell_type": "code",
      "metadata": {
        "id": "2IdRNYTuEg6q",
        "colab_type": "code",
        "colab": {}
      },
      "source": [
        ""
      ],
      "execution_count": 0,
      "outputs": []
    },
    {
      "cell_type": "code",
      "metadata": {
        "id": "YcEhA0zTEg2z",
        "colab_type": "code",
        "colab": {}
      },
      "source": [
        ""
      ],
      "execution_count": 0,
      "outputs": []
    },
    {
      "cell_type": "code",
      "metadata": {
        "id": "1_6V3OlCEglE",
        "colab_type": "code",
        "colab": {}
      },
      "source": [
        ""
      ],
      "execution_count": 0,
      "outputs": []
    },
    {
      "cell_type": "code",
      "metadata": {
        "id": "8-6wtPlZWszO",
        "colab_type": "code",
        "colab": {}
      },
      "source": [
        "## Perform a gridsearch with SVD\n",
        "params = {'n_factors': [20, 50, 100],\n",
        "         'reg_all': [0.02, 0.05, 0.1]}\n",
        "g_s_svd = GridSearchCV(SVD,param_grid=params,n_jobs=-1)\n",
        "g_s_svd.fit(steam)"
      ],
      "execution_count": 0,
      "outputs": []
    },
    {
      "cell_type": "code",
      "metadata": {
        "id": "30wEvKOOW3D4",
        "colab_type": "code",
        "outputId": "dd47e954-3ee9-4366-c94d-97138b6d3bf0",
        "colab": {
          "base_uri": "https://localhost:8080/",
          "height": 52
        }
      },
      "source": [
        "print(g_s_svd.best_score)\n",
        "print(g_s_svd.best_params)"
      ],
      "execution_count": 112,
      "outputs": [
        {
          "output_type": "stream",
          "text": [
            "{'rmse': 172.8549464425004, 'mae': 23.66983378924563}\n",
            "{'rmse': {'n_factors': 20, 'reg_all': 0.02}, 'mae': {'n_factors': 20, 'reg_all': 0.02}}\n"
          ],
          "name": "stdout"
        }
      ]
    },
    {
      "cell_type": "markdown",
      "metadata": {
        "id": "Y32tLDmoHqCN",
        "colab_type": "text"
      },
      "source": [
        ""
      ]
    },
    {
      "cell_type": "code",
      "metadata": {
        "id": "v8TRZkuzHqtN",
        "colab_type": "code",
        "colab": {}
      },
      "source": [
        "## Perform a gridsearch with SVD\n",
        "params = {'n_factors': [20],\n",
        "         'reg_all': [0.02]}\n",
        "g_s_svd = GridSearchCV(SVD,param_grid=params,n_jobs=-1)\n",
        "g_s_svd.fit(steam)"
      ],
      "execution_count": 0,
      "outputs": []
    },
    {
      "cell_type": "code",
      "metadata": {
        "id": "VEKGn6DXJQbz",
        "colab_type": "code",
        "colab": {
          "base_uri": "https://localhost:8080/",
          "height": 52
        },
        "outputId": "464de134-87a8-4f73-9f60-39777efaedb4"
      },
      "source": [
        "print(g_s_svd.best_score)\n",
        "print(g_s_svd.best_params)"
      ],
      "execution_count": 114,
      "outputs": [
        {
          "output_type": "stream",
          "text": [
            "{'rmse': 172.45558694700102, 'mae': 23.6698244001123}\n",
            "{'rmse': {'n_factors': 20, 'reg_all': 0.02}, 'mae': {'n_factors': 20, 'reg_all': 0.02}}\n"
          ],
          "name": "stdout"
        }
      ]
    },
    {
      "cell_type": "code",
      "metadata": {
        "id": "VqF1m98tJ9XC",
        "colab_type": "code",
        "colab": {}
      },
      "source": [
        "# person similarity\n",
        "sim_pearson = {'name':'pearson', 'user_based':False}"
      ],
      "execution_count": 0,
      "outputs": []
    },
    {
      "cell_type": "code",
      "metadata": {
        "id": "-ktJY5TRJ9j_",
        "colab_type": "code",
        "colab": {}
      },
      "source": [
        "#   training the model with user_based = False\n",
        "knn_baseline_user = knns.KNNBaseline(sim_options=sim_pearson)"
      ],
      "execution_count": 0,
      "outputs": []
    },
    {
      "cell_type": "code",
      "metadata": {
        "id": "DNjR4NCgJ9iC",
        "colab_type": "code",
        "colab": {
          "base_uri": "https://localhost:8080/",
          "height": 173
        },
        "outputId": "35641886-e1c2-46c1-98d8-cccf0c605a81"
      },
      "source": [
        "#   fitting the model\n",
        "sim_pearson_cv_user = cross_validate(knn_baseline_user, steam, measures=['rmse', 'mae'],\n",
        "                           cv = 3, return_train_measures=True, n_jobs= -1,\n",
        "                           verbose = True)"
      ],
      "execution_count": 117,
      "outputs": [
        {
          "output_type": "stream",
          "text": [
            "Evaluating RMSE, MAE of algorithm KNNBaseline on 3 split(s).\n",
            "\n",
            "                  Fold 1  Fold 2  Fold 3  Mean    Std     \n",
            "RMSE (testset)    175.3776164.5200179.3078173.06856.2540  \n",
            "MAE (testset)     22.7405 22.0885 23.1969 22.6753 0.4548  \n",
            "RMSE (trainset)   171.8941177.1833169.8621172.97983.0859  \n",
            "MAE (trainset)    21.8442 22.1439 21.5853 21.8578 0.2283  \n",
            "Fit time          2.42    3.49    2.19    2.70    0.57    \n",
            "Test time         5.86    5.08    2.91    4.62    1.25    \n"
          ],
          "name": "stdout"
        }
      ]
    },
    {
      "cell_type": "code",
      "metadata": {
        "id": "hnJ9wSN-J9gX",
        "colab_type": "code",
        "colab": {
          "base_uri": "https://localhost:8080/",
          "height": 156
        },
        "outputId": "eeb2357b-b2a4-449b-c2ea-39af7ad6ede2"
      },
      "source": [
        "for i in sim_pearson_cv_user.items():\n",
        "    print(i)\n",
        "print('-----------------------')\n",
        "print(np.mean(sim_pearson_cv_user['test_rmse']))"
      ],
      "execution_count": 119,
      "outputs": [
        {
          "output_type": "stream",
          "text": [
            "('test_rmse', array([175.3775971 , 164.51996491, 179.30780282]))\n",
            "('train_rmse', array([171.89413719, 177.18327502, 169.86209837]))\n",
            "('test_mae', array([22.74047644, 22.0885182 , 23.19693017]))\n",
            "('train_mae', array([21.84417243, 22.14393612, 21.58533206]))\n",
            "('fit_time', (2.4215846061706543, 3.4935102462768555, 2.1876068115234375))\n",
            "('test_time', (5.8621826171875, 5.076887607574463, 2.9144668579101562))\n",
            "-----------------------\n",
            "173.0684549408837\n"
          ],
          "name": "stdout"
        }
      ]
    },
    {
      "cell_type": "code",
      "metadata": {
        "id": "WGuSeTgRKeFx",
        "colab_type": "code",
        "colab": {
          "base_uri": "https://localhost:8080/",
          "height": 332
        },
        "outputId": "8faed8d3-9952-41d3-8c37-a78228325eec"
      },
      "source": [
        "# cross validating with KNNBaseline\n",
        "knn_baseline = KNNBaseline(sim_options={'name':'pearson', 'user_based':True})\n",
        "cv_knn_baseline = cross_validate(knn_baseline, steam)"
      ],
      "execution_count": 120,
      "outputs": [
        {
          "output_type": "stream",
          "text": [
            "Estimating biases using als...\n",
            "Computing the pearson similarity matrix...\n"
          ],
          "name": "stdout"
        },
        {
          "output_type": "stream",
          "text": [
            "/usr/local/lib/python3.6/dist-packages/surprise/prediction_algorithms/algo_base.py:248: RuntimeWarning: invalid value encountered in sqrt\n",
            "  sim = construction_func[name](*args)\n"
          ],
          "name": "stderr"
        },
        {
          "output_type": "stream",
          "text": [
            "Done computing similarity matrix.\n",
            "Estimating biases using als...\n",
            "Computing the pearson similarity matrix...\n",
            "Done computing similarity matrix.\n",
            "Estimating biases using als...\n",
            "Computing the pearson similarity matrix...\n",
            "Done computing similarity matrix.\n",
            "Estimating biases using als...\n",
            "Computing the pearson similarity matrix...\n",
            "Done computing similarity matrix.\n",
            "Estimating biases using als...\n",
            "Computing the pearson similarity matrix...\n",
            "Done computing similarity matrix.\n"
          ],
          "name": "stdout"
        }
      ]
    },
    {
      "cell_type": "code",
      "metadata": {
        "id": "nkhHJ2CpKuqo",
        "colab_type": "code",
        "colab": {
          "base_uri": "https://localhost:8080/",
          "height": 141
        },
        "outputId": "d635ac04-75ad-4a24-f176-f2e22be3e879"
      },
      "source": [
        "for i in cv_knn_baseline.items():\n",
        "    print(i)\n",
        "\n",
        "np.mean(cv_knn_baseline['test_rmse'])"
      ],
      "execution_count": 121,
      "outputs": [
        {
          "output_type": "stream",
          "text": [
            "('test_rmse', array([183.08275528, 169.36486003, 157.65612901, 182.36099013,\n",
            "       172.68985089]))\n",
            "('test_mae', array([24.06104803, 21.91421191, 21.84608246, 23.87831401, 21.4690861 ]))\n",
            "('fit_time', (48.995821714401245, 41.32681584358215, 41.72800850868225, 41.782835721969604, 43.42121410369873))\n",
            "('test_time', (21.798069953918457, 22.222237586975098, 22.609481811523438, 21.038819313049316, 21.44190001487732))\n"
          ],
          "name": "stdout"
        },
        {
          "output_type": "execute_result",
          "data": {
            "text/plain": [
              "173.03091706803121"
            ]
          },
          "metadata": {
            "tags": []
          },
          "execution_count": 121
        }
      ]
    },
    {
      "cell_type": "markdown",
      "metadata": {
        "id": "10rbv53yNotJ",
        "colab_type": "text"
      },
      "source": [
        "# Making recommendations"
      ]
    },
    {
      "cell_type": "code",
      "metadata": {
        "id": "Z_7kJGxuQrCp",
        "colab_type": "code",
        "colab": {}
      },
      "source": [
        "df_games = pd.read_csv('steam_rs.csv')"
      ],
      "execution_count": 0,
      "outputs": []
    },
    {
      "cell_type": "code",
      "metadata": {
        "id": "TbdfU-bOQzHm",
        "colab_type": "code",
        "colab": {
          "base_uri": "https://localhost:8080/",
          "height": 656
        },
        "outputId": "9d6f3c9a-e9ec-4021-9d5f-044075a32681"
      },
      "source": [
        "df_games.head()"
      ],
      "execution_count": 140,
      "outputs": [
        {
          "output_type": "execute_result",
          "data": {
            "text/html": [
              "<div>\n",
              "<style scoped>\n",
              "    .dataframe tbody tr th:only-of-type {\n",
              "        vertical-align: middle;\n",
              "    }\n",
              "\n",
              "    .dataframe tbody tr th {\n",
              "        vertical-align: top;\n",
              "    }\n",
              "\n",
              "    .dataframe thead th {\n",
              "        text-align: right;\n",
              "    }\n",
              "</style>\n",
              "<table border=\"1\" class=\"dataframe\">\n",
              "  <thead>\n",
              "    <tr style=\"text-align: right;\">\n",
              "      <th></th>\n",
              "      <th>id</th>\n",
              "      <th>appid</th>\n",
              "      <th>name</th>\n",
              "      <th>purchase</th>\n",
              "      <th>hours_of_play</th>\n",
              "      <th>developer</th>\n",
              "      <th>publisher</th>\n",
              "      <th>positive</th>\n",
              "      <th>negative</th>\n",
              "      <th>release_date</th>\n",
              "      <th>english</th>\n",
              "      <th>platforms</th>\n",
              "      <th>required_age</th>\n",
              "      <th>categories</th>\n",
              "      <th>genres</th>\n",
              "      <th>steamspy_tags</th>\n",
              "      <th>achievements</th>\n",
              "      <th>average_playtime</th>\n",
              "      <th>median_playtime</th>\n",
              "      <th>owners</th>\n",
              "      <th>detailed_description</th>\n",
              "      <th>about_the_game</th>\n",
              "      <th>short_description</th>\n",
              "      <th>price</th>\n",
              "      <th>rank</th>\n",
              "    </tr>\n",
              "  </thead>\n",
              "  <tbody>\n",
              "    <tr>\n",
              "      <th>0</th>\n",
              "      <td>151603712</td>\n",
              "      <td>570</td>\n",
              "      <td>Dota 2</td>\n",
              "      <td>purchase</td>\n",
              "      <td>0.0</td>\n",
              "      <td>Valve</td>\n",
              "      <td>Valve</td>\n",
              "      <td>1097301</td>\n",
              "      <td>194384</td>\n",
              "      <td>2013-07-09</td>\n",
              "      <td>1</td>\n",
              "      <td>windows;mac;linux</td>\n",
              "      <td>0</td>\n",
              "      <td>Multi-player;Co-op;Steam Trading Cards;Steam W...</td>\n",
              "      <td>Action;Free to Play;Strategy</td>\n",
              "      <td>Free to Play;MOBA;Strategy</td>\n",
              "      <td>0</td>\n",
              "      <td>23944</td>\n",
              "      <td>801</td>\n",
              "      <td>100000000-200000000</td>\n",
              "      <td>&lt;strong&gt;The most-played game on Steam.&lt;/strong...</td>\n",
              "      <td>&lt;strong&gt;The most-played game on Steam.&lt;/strong...</td>\n",
              "      <td>Every day, millions of players worldwide enter...</td>\n",
              "      <td>0.0</td>\n",
              "      <td>84.95113</td>\n",
              "    </tr>\n",
              "    <tr>\n",
              "      <th>1</th>\n",
              "      <td>151603712</td>\n",
              "      <td>570</td>\n",
              "      <td>Dota 2</td>\n",
              "      <td>play</td>\n",
              "      <td>0.5</td>\n",
              "      <td>Valve</td>\n",
              "      <td>Valve</td>\n",
              "      <td>1097301</td>\n",
              "      <td>194384</td>\n",
              "      <td>2013-07-09</td>\n",
              "      <td>1</td>\n",
              "      <td>windows;mac;linux</td>\n",
              "      <td>0</td>\n",
              "      <td>Multi-player;Co-op;Steam Trading Cards;Steam W...</td>\n",
              "      <td>Action;Free to Play;Strategy</td>\n",
              "      <td>Free to Play;MOBA;Strategy</td>\n",
              "      <td>0</td>\n",
              "      <td>23944</td>\n",
              "      <td>801</td>\n",
              "      <td>100000000-200000000</td>\n",
              "      <td>&lt;strong&gt;The most-played game on Steam.&lt;/strong...</td>\n",
              "      <td>&lt;strong&gt;The most-played game on Steam.&lt;/strong...</td>\n",
              "      <td>Every day, millions of players worldwide enter...</td>\n",
              "      <td>0.0</td>\n",
              "      <td>84.95113</td>\n",
              "    </tr>\n",
              "    <tr>\n",
              "      <th>2</th>\n",
              "      <td>187131847</td>\n",
              "      <td>570</td>\n",
              "      <td>Dota 2</td>\n",
              "      <td>purchase</td>\n",
              "      <td>0.0</td>\n",
              "      <td>Valve</td>\n",
              "      <td>Valve</td>\n",
              "      <td>1097301</td>\n",
              "      <td>194384</td>\n",
              "      <td>2013-07-09</td>\n",
              "      <td>1</td>\n",
              "      <td>windows;mac;linux</td>\n",
              "      <td>0</td>\n",
              "      <td>Multi-player;Co-op;Steam Trading Cards;Steam W...</td>\n",
              "      <td>Action;Free to Play;Strategy</td>\n",
              "      <td>Free to Play;MOBA;Strategy</td>\n",
              "      <td>0</td>\n",
              "      <td>23944</td>\n",
              "      <td>801</td>\n",
              "      <td>100000000-200000000</td>\n",
              "      <td>&lt;strong&gt;The most-played game on Steam.&lt;/strong...</td>\n",
              "      <td>&lt;strong&gt;The most-played game on Steam.&lt;/strong...</td>\n",
              "      <td>Every day, millions of players worldwide enter...</td>\n",
              "      <td>0.0</td>\n",
              "      <td>84.95113</td>\n",
              "    </tr>\n",
              "    <tr>\n",
              "      <th>3</th>\n",
              "      <td>187131847</td>\n",
              "      <td>570</td>\n",
              "      <td>Dota 2</td>\n",
              "      <td>play</td>\n",
              "      <td>2.3</td>\n",
              "      <td>Valve</td>\n",
              "      <td>Valve</td>\n",
              "      <td>1097301</td>\n",
              "      <td>194384</td>\n",
              "      <td>2013-07-09</td>\n",
              "      <td>1</td>\n",
              "      <td>windows;mac;linux</td>\n",
              "      <td>0</td>\n",
              "      <td>Multi-player;Co-op;Steam Trading Cards;Steam W...</td>\n",
              "      <td>Action;Free to Play;Strategy</td>\n",
              "      <td>Free to Play;MOBA;Strategy</td>\n",
              "      <td>0</td>\n",
              "      <td>23944</td>\n",
              "      <td>801</td>\n",
              "      <td>100000000-200000000</td>\n",
              "      <td>&lt;strong&gt;The most-played game on Steam.&lt;/strong...</td>\n",
              "      <td>&lt;strong&gt;The most-played game on Steam.&lt;/strong...</td>\n",
              "      <td>Every day, millions of players worldwide enter...</td>\n",
              "      <td>0.0</td>\n",
              "      <td>84.95113</td>\n",
              "    </tr>\n",
              "    <tr>\n",
              "      <th>4</th>\n",
              "      <td>176410694</td>\n",
              "      <td>570</td>\n",
              "      <td>Dota 2</td>\n",
              "      <td>purchase</td>\n",
              "      <td>0.0</td>\n",
              "      <td>Valve</td>\n",
              "      <td>Valve</td>\n",
              "      <td>1097301</td>\n",
              "      <td>194384</td>\n",
              "      <td>2013-07-09</td>\n",
              "      <td>1</td>\n",
              "      <td>windows;mac;linux</td>\n",
              "      <td>0</td>\n",
              "      <td>Multi-player;Co-op;Steam Trading Cards;Steam W...</td>\n",
              "      <td>Action;Free to Play;Strategy</td>\n",
              "      <td>Free to Play;MOBA;Strategy</td>\n",
              "      <td>0</td>\n",
              "      <td>23944</td>\n",
              "      <td>801</td>\n",
              "      <td>100000000-200000000</td>\n",
              "      <td>&lt;strong&gt;The most-played game on Steam.&lt;/strong...</td>\n",
              "      <td>&lt;strong&gt;The most-played game on Steam.&lt;/strong...</td>\n",
              "      <td>Every day, millions of players worldwide enter...</td>\n",
              "      <td>0.0</td>\n",
              "      <td>84.95113</td>\n",
              "    </tr>\n",
              "  </tbody>\n",
              "</table>\n",
              "</div>"
            ],
            "text/plain": [
              "          id  appid    name  purchase  hours_of_play developer publisher  positive  negative  \\\n",
              "0  151603712    570  Dota 2  purchase            0.0     Valve     Valve   1097301    194384   \n",
              "1  151603712    570  Dota 2      play            0.5     Valve     Valve   1097301    194384   \n",
              "2  187131847    570  Dota 2  purchase            0.0     Valve     Valve   1097301    194384   \n",
              "3  187131847    570  Dota 2      play            2.3     Valve     Valve   1097301    194384   \n",
              "4  176410694    570  Dota 2  purchase            0.0     Valve     Valve   1097301    194384   \n",
              "\n",
              "  release_date  english          platforms  required_age  \\\n",
              "0   2013-07-09        1  windows;mac;linux             0   \n",
              "1   2013-07-09        1  windows;mac;linux             0   \n",
              "2   2013-07-09        1  windows;mac;linux             0   \n",
              "3   2013-07-09        1  windows;mac;linux             0   \n",
              "4   2013-07-09        1  windows;mac;linux             0   \n",
              "\n",
              "                                          categories                        genres  \\\n",
              "0  Multi-player;Co-op;Steam Trading Cards;Steam W...  Action;Free to Play;Strategy   \n",
              "1  Multi-player;Co-op;Steam Trading Cards;Steam W...  Action;Free to Play;Strategy   \n",
              "2  Multi-player;Co-op;Steam Trading Cards;Steam W...  Action;Free to Play;Strategy   \n",
              "3  Multi-player;Co-op;Steam Trading Cards;Steam W...  Action;Free to Play;Strategy   \n",
              "4  Multi-player;Co-op;Steam Trading Cards;Steam W...  Action;Free to Play;Strategy   \n",
              "\n",
              "                steamspy_tags  achievements  average_playtime  median_playtime  \\\n",
              "0  Free to Play;MOBA;Strategy             0             23944              801   \n",
              "1  Free to Play;MOBA;Strategy             0             23944              801   \n",
              "2  Free to Play;MOBA;Strategy             0             23944              801   \n",
              "3  Free to Play;MOBA;Strategy             0             23944              801   \n",
              "4  Free to Play;MOBA;Strategy             0             23944              801   \n",
              "\n",
              "                owners                               detailed_description  \\\n",
              "0  100000000-200000000  <strong>The most-played game on Steam.</strong...   \n",
              "1  100000000-200000000  <strong>The most-played game on Steam.</strong...   \n",
              "2  100000000-200000000  <strong>The most-played game on Steam.</strong...   \n",
              "3  100000000-200000000  <strong>The most-played game on Steam.</strong...   \n",
              "4  100000000-200000000  <strong>The most-played game on Steam.</strong...   \n",
              "\n",
              "                                      about_the_game  \\\n",
              "0  <strong>The most-played game on Steam.</strong...   \n",
              "1  <strong>The most-played game on Steam.</strong...   \n",
              "2  <strong>The most-played game on Steam.</strong...   \n",
              "3  <strong>The most-played game on Steam.</strong...   \n",
              "4  <strong>The most-played game on Steam.</strong...   \n",
              "\n",
              "                                   short_description  price      rank  \n",
              "0  Every day, millions of players worldwide enter...    0.0  84.95113  \n",
              "1  Every day, millions of players worldwide enter...    0.0  84.95113  \n",
              "2  Every day, millions of players worldwide enter...    0.0  84.95113  \n",
              "3  Every day, millions of players worldwide enter...    0.0  84.95113  \n",
              "4  Every day, millions of players worldwide enter...    0.0  84.95113  "
            ]
          },
          "metadata": {
            "tags": []
          },
          "execution_count": 140
        }
      ]
    },
    {
      "cell_type": "code",
      "metadata": {
        "id": "M0tFwBPbNsGz",
        "colab_type": "code",
        "outputId": "c65eee72-f34f-40c0-bbc4-dbf36b36a1b6",
        "colab": {
          "base_uri": "https://localhost:8080/",
          "height": 34
        }
      },
      "source": [
        "svd = SVD(n_factors= 20, reg_all=0.02)\n",
        "svd.fit(trainset)"
      ],
      "execution_count": 142,
      "outputs": [
        {
          "output_type": "execute_result",
          "data": {
            "text/plain": [
              "<surprise.prediction_algorithms.matrix_factorization.SVD at 0x7f5ac405ff28>"
            ]
          },
          "metadata": {
            "tags": []
          },
          "execution_count": 142
        }
      ]
    },
    {
      "cell_type": "code",
      "metadata": {
        "id": "4KNWaIY2N9aC",
        "colab_type": "code",
        "outputId": "08c81100-3dbd-4d0b-a77c-82c593c09c29",
        "colab": {
          "base_uri": "https://localhost:8080/",
          "height": 34
        }
      },
      "source": [
        "svd.predict(2, 4)"
      ],
      "execution_count": 143,
      "outputs": [
        {
          "output_type": "execute_result",
          "data": {
            "text/plain": [
              "Prediction(uid=2, iid=4, r_ui=None, est=5, details={'was_impossible': False})"
            ]
          },
          "metadata": {
            "tags": []
          },
          "execution_count": 143
        }
      ]
    },
    {
      "cell_type": "code",
      "metadata": {
        "id": "We6-j-f9OAvT",
        "colab_type": "code",
        "colab": {}
      },
      "source": [
        "def game_rater(df_games, num, genre=None):\n",
        "    userID = 1000\n",
        "    rating_list = []\n",
        "    while num > 0:\n",
        "        if genre:\n",
        "            game = df_games[df_games['genres'].str.contains(genre)].sample(1)\n",
        "        else:\n",
        "            game = df_games.sample(1)\n",
        "        print(game)\n",
        "        hours = input('How do you rate this game on a scale of 1-5, press n if you have not seen :\\n')\n",
        "        if rating == 'n':\n",
        "            continue\n",
        "        else:\n",
        "            rating_one_game = {'id':userID,'gameId':game['appid'].values[0],'hours_of_play':rating}\n",
        "            rating_list.append(rating_one_game) \n",
        "            num -= 1\n",
        "    return rating_list      "
      ],
      "execution_count": 0,
      "outputs": []
    },
    {
      "cell_type": "code",
      "metadata": {
        "id": "oRJ3mgD7OMPK",
        "colab_type": "code",
        "outputId": "5e9d6c00-9f5a-47d6-b8aa-53f5ae416a88",
        "colab": {
          "base_uri": "https://localhost:8080/",
          "height": 688
        }
      },
      "source": [
        "user_rating = game_rater(df_games, 4, 'RPG')"
      ],
      "execution_count": 148,
      "outputs": [
        {
          "output_type": "stream",
          "text": [
            "             id   appid            name  purchase  hours_of_play     developer  publisher  \\\n",
            "67331  61676491  250400  How to Survive  purchase            0.0  Eko Software  505 Games   \n",
            "\n",
            "       positive  negative release_date  english platforms  required_age  \\\n",
            "67331     13456      2842   2014-08-29        1   windows             0   \n",
            "\n",
            "                                              categories                genres  \\\n",
            "67331  Single-player;Multi-player;Co-op;Shared/Split ...  Action;Adventure;RPG   \n",
            "\n",
            "                   steamspy_tags  achievements  average_playtime  median_playtime  \\\n",
            "67331  Survival;Zombies;Crafting            43               333              256   \n",
            "\n",
            "                owners                               detailed_description  \\\n",
            "67331  1000000-2000000  <h1>Special Offer</h1><p>How to Survive 2 on E...   \n",
            "\n",
            "                                          about_the_game  \\\n",
            "67331  <ul class=\"bb_ul\"><li>“<i><strong>A real Gem</...   \n",
            "\n",
            "                                       short_description  price       rank  \n",
            "67331  “A real Gem” – Destructoid at E3 “Offers a dif...  10.99  82.562278  \n",
            "How do you rate this game on a scale of 1-5, press n if you have not seen :\n",
            "n\n"
          ],
          "name": "stdout"
        },
        {
          "output_type": "error",
          "ename": "NameError",
          "evalue": "ignored",
          "traceback": [
            "\u001b[0;31m---------------------------------------------------------------------------\u001b[0m",
            "\u001b[0;31mNameError\u001b[0m                                 Traceback (most recent call last)",
            "\u001b[0;32m<ipython-input-148-cf28a6766c82>\u001b[0m in \u001b[0;36m<module>\u001b[0;34m()\u001b[0m\n\u001b[0;32m----> 1\u001b[0;31m \u001b[0muser_rating\u001b[0m \u001b[0;34m=\u001b[0m \u001b[0mgame_rater\u001b[0m\u001b[0;34m(\u001b[0m\u001b[0mdf_games\u001b[0m\u001b[0;34m,\u001b[0m \u001b[0;36m4\u001b[0m\u001b[0;34m,\u001b[0m \u001b[0;34m'RPG'\u001b[0m\u001b[0;34m)\u001b[0m\u001b[0;34m\u001b[0m\u001b[0;34m\u001b[0m\u001b[0m\n\u001b[0m",
            "\u001b[0;32m<ipython-input-147-3a6fec9d2802>\u001b[0m in \u001b[0;36mgame_rater\u001b[0;34m(df_games, num, genre)\u001b[0m\n\u001b[1;32m      9\u001b[0m         \u001b[0mprint\u001b[0m\u001b[0;34m(\u001b[0m\u001b[0mgame\u001b[0m\u001b[0;34m)\u001b[0m\u001b[0;34m\u001b[0m\u001b[0;34m\u001b[0m\u001b[0m\n\u001b[1;32m     10\u001b[0m         \u001b[0mhours\u001b[0m \u001b[0;34m=\u001b[0m \u001b[0minput\u001b[0m\u001b[0;34m(\u001b[0m\u001b[0;34m'How do you rate this game on a scale of 1-5, press n if you have not seen :\\n'\u001b[0m\u001b[0;34m)\u001b[0m\u001b[0;34m\u001b[0m\u001b[0;34m\u001b[0m\u001b[0m\n\u001b[0;32m---> 11\u001b[0;31m         \u001b[0;32mif\u001b[0m \u001b[0mrating\u001b[0m \u001b[0;34m==\u001b[0m \u001b[0;34m'n'\u001b[0m\u001b[0;34m:\u001b[0m\u001b[0;34m\u001b[0m\u001b[0;34m\u001b[0m\u001b[0m\n\u001b[0m\u001b[1;32m     12\u001b[0m             \u001b[0;32mcontinue\u001b[0m\u001b[0;34m\u001b[0m\u001b[0;34m\u001b[0m\u001b[0m\n\u001b[1;32m     13\u001b[0m         \u001b[0;32melse\u001b[0m\u001b[0;34m:\u001b[0m\u001b[0;34m\u001b[0m\u001b[0;34m\u001b[0m\u001b[0m\n",
            "\u001b[0;31mNameError\u001b[0m: name 'rating' is not defined"
          ]
        }
      ]
    },
    {
      "cell_type": "code",
      "metadata": {
        "id": "PmaWGEU-Lzct",
        "colab_type": "code",
        "colab": {}
      },
      "source": [
        ""
      ],
      "execution_count": 0,
      "outputs": []
    },
    {
      "cell_type": "code",
      "metadata": {
        "id": "cLkeFgLVLzj9",
        "colab_type": "code",
        "colab": {
          "base_uri": "https://localhost:8080/",
          "height": 200
        },
        "outputId": "0296b279-b400-41e2-ffdc-a6d928604fe9"
      },
      "source": [
        "## add the new ratings to the original ratings DataFrame\n",
        "new_ratings_df = steam.append(user_rating,ignore_index=True)\n",
        "new_data = Dataset.load_from_df(new_ratings_df,reader)"
      ],
      "execution_count": 138,
      "outputs": [
        {
          "output_type": "error",
          "ename": "AttributeError",
          "evalue": "ignored",
          "traceback": [
            "\u001b[0;31m---------------------------------------------------------------------------\u001b[0m",
            "\u001b[0;31mAttributeError\u001b[0m                            Traceback (most recent call last)",
            "\u001b[0;32m<ipython-input-138-ea8ad82b3231>\u001b[0m in \u001b[0;36m<module>\u001b[0;34m()\u001b[0m\n\u001b[1;32m      1\u001b[0m \u001b[0;31m## add the new ratings to the original ratings DataFrame\u001b[0m\u001b[0;34m\u001b[0m\u001b[0;34m\u001b[0m\u001b[0;34m\u001b[0m\u001b[0m\n\u001b[0;32m----> 2\u001b[0;31m \u001b[0mnew_ratings_df\u001b[0m \u001b[0;34m=\u001b[0m \u001b[0msteam\u001b[0m\u001b[0;34m.\u001b[0m\u001b[0mappend\u001b[0m\u001b[0;34m(\u001b[0m\u001b[0muser_rating\u001b[0m\u001b[0;34m,\u001b[0m\u001b[0mignore_index\u001b[0m\u001b[0;34m=\u001b[0m\u001b[0;32mTrue\u001b[0m\u001b[0;34m)\u001b[0m\u001b[0;34m\u001b[0m\u001b[0;34m\u001b[0m\u001b[0m\n\u001b[0m\u001b[1;32m      3\u001b[0m \u001b[0mnew_data\u001b[0m \u001b[0;34m=\u001b[0m \u001b[0mDataset\u001b[0m\u001b[0;34m.\u001b[0m\u001b[0mload_from_df\u001b[0m\u001b[0;34m(\u001b[0m\u001b[0mnew_ratings_df\u001b[0m\u001b[0;34m,\u001b[0m\u001b[0mreader\u001b[0m\u001b[0;34m)\u001b[0m\u001b[0;34m\u001b[0m\u001b[0;34m\u001b[0m\u001b[0m\n",
            "\u001b[0;31mAttributeError\u001b[0m: 'DatasetAutoFolds' object has no attribute 'append'"
          ]
        }
      ]
    },
    {
      "cell_type": "markdown",
      "metadata": {
        "id": "xm5nNRctOkdR",
        "colab_type": "text"
      },
      "source": [
        ""
      ]
    },
    {
      "cell_type": "code",
      "metadata": {
        "id": "n-vLK1dGOl0q",
        "colab_type": "code",
        "colab": {}
      },
      "source": [
        "# train a model using the new combined DataFrame\n",
        "svd_ = SVD(n_factors= 50, reg_all=0.05)\n",
        "svd_.fit(new_data.build_full_trainset())"
      ],
      "execution_count": 0,
      "outputs": []
    },
    {
      "cell_type": "code",
      "metadata": {
        "id": "-1RbZ0w-On2E",
        "colab_type": "code",
        "colab": {}
      },
      "source": [
        "# make predictions for the user\n",
        "# you'll probably want to create a list of tuples in the format (movie_id, predicted_score)\n",
        "list_of_movies = []\n",
        "for m_id in new_df['movieId'].unique():\n",
        "    list_of_movies.append( (m_id,svd_.predict(1000,m_id)[3]))"
      ],
      "execution_count": 0,
      "outputs": []
    },
    {
      "cell_type": "code",
      "metadata": {
        "id": "Sm0X805gOp79",
        "colab_type": "code",
        "colab": {}
      },
      "source": [
        "# order the predictions from highest to lowest rated\n",
        "ranked_movies = sorted(list_of_movies, key=lambda x:x[1], reverse=True)"
      ],
      "execution_count": 0,
      "outputs": []
    },
    {
      "cell_type": "code",
      "metadata": {
        "id": "aLN6FEJnLY_2",
        "colab_type": "code",
        "colab": {}
      },
      "source": [
        "# return the top n recommendations using the \n",
        "def recommended_movies(trainset,n):\n",
        "        for idx, rec in enumerate(trainset):\n",
        "            title = trainset.loc[trainset['id'] == int(rec[0])]['name']\n",
        "            print('Recommendation # ', idx+1, ': ', title, '\\n')\n",
        "            n-= 1\n",
        "            if n == 0:\n",
        "                break"
      ],
      "execution_count": 0,
      "outputs": []
    },
    {
      "cell_type": "code",
      "metadata": {
        "id": "dpco3EsWMJp4",
        "colab_type": "code",
        "colab": {
          "base_uri": "https://localhost:8080/",
          "height": 286
        },
        "outputId": "f2fe7136-ae59-471a-fc37-d5bfcfac1a48"
      },
      "source": [
        "recommended_movies(trainset,5)"
      ],
      "execution_count": 134,
      "outputs": [
        {
          "output_type": "error",
          "ename": "TypeError",
          "evalue": "ignored",
          "traceback": [
            "\u001b[0;31m---------------------------------------------------------------------------\u001b[0m",
            "\u001b[0;31mTypeError\u001b[0m                                 Traceback (most recent call last)",
            "\u001b[0;32m<ipython-input-134-227c9bc97946>\u001b[0m in \u001b[0;36m<module>\u001b[0;34m()\u001b[0m\n\u001b[0;32m----> 1\u001b[0;31m \u001b[0mrecommended_movies\u001b[0m\u001b[0;34m(\u001b[0m\u001b[0mtrainset\u001b[0m\u001b[0;34m,\u001b[0m\u001b[0;36m5\u001b[0m\u001b[0;34m)\u001b[0m\u001b[0;34m\u001b[0m\u001b[0;34m\u001b[0m\u001b[0m\n\u001b[0m",
            "\u001b[0;32m<ipython-input-130-454d3f5c72e2>\u001b[0m in \u001b[0;36mrecommended_movies\u001b[0;34m(trainset, n)\u001b[0m\n\u001b[1;32m      1\u001b[0m \u001b[0;31m# return the top n recommendations using the\u001b[0m\u001b[0;34m\u001b[0m\u001b[0;34m\u001b[0m\u001b[0;34m\u001b[0m\u001b[0m\n\u001b[1;32m      2\u001b[0m \u001b[0;32mdef\u001b[0m \u001b[0mrecommended_movies\u001b[0m\u001b[0;34m(\u001b[0m\u001b[0mtrainset\u001b[0m\u001b[0;34m,\u001b[0m\u001b[0mn\u001b[0m\u001b[0;34m)\u001b[0m\u001b[0;34m:\u001b[0m\u001b[0;34m\u001b[0m\u001b[0;34m\u001b[0m\u001b[0m\n\u001b[0;32m----> 3\u001b[0;31m         \u001b[0;32mfor\u001b[0m \u001b[0midx\u001b[0m\u001b[0;34m,\u001b[0m \u001b[0mrec\u001b[0m \u001b[0;32min\u001b[0m \u001b[0menumerate\u001b[0m\u001b[0;34m(\u001b[0m\u001b[0mtrainset\u001b[0m\u001b[0;34m)\u001b[0m\u001b[0;34m:\u001b[0m\u001b[0;34m\u001b[0m\u001b[0;34m\u001b[0m\u001b[0m\n\u001b[0m\u001b[1;32m      4\u001b[0m             \u001b[0mtitle\u001b[0m \u001b[0;34m=\u001b[0m \u001b[0mtrainset\u001b[0m\u001b[0;34m.\u001b[0m\u001b[0mloc\u001b[0m\u001b[0;34m[\u001b[0m\u001b[0mtrainset\u001b[0m\u001b[0;34m[\u001b[0m\u001b[0;34m'id'\u001b[0m\u001b[0;34m]\u001b[0m \u001b[0;34m==\u001b[0m \u001b[0mint\u001b[0m\u001b[0;34m(\u001b[0m\u001b[0mrec\u001b[0m\u001b[0;34m[\u001b[0m\u001b[0;36m0\u001b[0m\u001b[0;34m]\u001b[0m\u001b[0;34m)\u001b[0m\u001b[0;34m]\u001b[0m\u001b[0;34m[\u001b[0m\u001b[0;34m'name'\u001b[0m\u001b[0;34m]\u001b[0m\u001b[0;34m\u001b[0m\u001b[0;34m\u001b[0m\u001b[0m\n\u001b[1;32m      5\u001b[0m             \u001b[0mprint\u001b[0m\u001b[0;34m(\u001b[0m\u001b[0;34m'Recommendation # '\u001b[0m\u001b[0;34m,\u001b[0m \u001b[0midx\u001b[0m\u001b[0;34m+\u001b[0m\u001b[0;36m1\u001b[0m\u001b[0;34m,\u001b[0m \u001b[0;34m': '\u001b[0m\u001b[0;34m,\u001b[0m \u001b[0mtitle\u001b[0m\u001b[0;34m,\u001b[0m \u001b[0;34m'\\n'\u001b[0m\u001b[0;34m)\u001b[0m\u001b[0;34m\u001b[0m\u001b[0;34m\u001b[0m\u001b[0m\n",
            "\u001b[0;31mTypeError\u001b[0m: 'Trainset' object is not iterable"
          ]
        }
      ]
    },
    {
      "cell_type": "code",
      "metadata": {
        "id": "gFlD8BdjM9Zk",
        "colab_type": "code",
        "colab": {}
      },
      "source": [
        ""
      ],
      "execution_count": 0,
      "outputs": []
    }
  ]
}