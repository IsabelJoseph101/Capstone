{
  "nbformat": 4,
  "nbformat_minor": 0,
  "metadata": {
    "kernelspec": {
      "display_name": "Python 3",
      "language": "python",
      "name": "python3"
    },
    "language_info": {
      "codemirror_mode": {
        "name": "ipython",
        "version": 3
      },
      "file_extension": ".py",
      "mimetype": "text/x-python",
      "name": "python",
      "nbconvert_exporter": "python",
      "pygments_lexer": "ipython3",
      "version": "3.7.4"
    },
    "colab": {
      "name": "Untitled1.ipynb",
      "provenance": [],
      "toc_visible": true
    }
  },
  "cells": [
    {
      "cell_type": "markdown",
      "metadata": {
        "id": "4j3Rj10euUMq",
        "colab_type": "text"
      },
      "source": [
        "# Collaborative filtering based model"
      ]
    },
    {
      "cell_type": "markdown",
      "metadata": {
        "id": "BN39Cw3H0Bhf",
        "colab_type": "text"
      },
      "source": [
        "Collaborative filtering based models finds similaries between items or users through ratings or items that other users have liked as well."
      ]
    },
    {
      "cell_type": "markdown",
      "metadata": {
        "id": "JB2mQPruz9XS",
        "colab_type": "text"
      },
      "source": [
        "### Importing necessary packages\n"
      ]
    },
    {
      "cell_type": "code",
      "metadata": {
        "id": "OAOzIbbnuUMs",
        "colab_type": "code",
        "colab": {
          "base_uri": "https://localhost:8080/",
          "height": 138
        },
        "outputId": "80ae8143-593d-45c7-ff37-c6eba55be0db"
      },
      "source": [
        "# importing necessary packages\n",
        "import pandas as pd\n",
        "pd.set_option('display.max_rows', 100)\n",
        "pd.set_option('display.max_columns', 100)\n",
        "pd.set_option('display.width', 100)\n",
        "import seaborn as sns\n",
        "import numpy as np\n",
        "import matplotlib.pyplot as plt\n",
        "%matplotlib inline\n",
        "\n",
        "!pip install scikit-surprise\n",
        "from sklearn.preprocessing import StandardScaler \n",
        "from sklearn import preprocessing\n",
        "from sklearn.feature_extraction.text import TfidfVectorizer\n",
        "from sklearn.decomposition import TruncatedSVD\n",
        "from sklearn.model_selection import train_test_split\n",
        "\n",
        "from surprise.model_selection import cross_validate\n",
        "from surprise.prediction_algorithms import SVD\n",
        "from surprise.prediction_algorithms import knns\n",
        "from surprise.prediction_algorithms import KNNWithMeans, KNNBasic, KNNBaseline\n",
        "from surprise.model_selection import GridSearchCV\n",
        "from surprise.model_selection import train_test_split\n",
        "\n",
        "from surprise import Reader, Dataset\n",
        "import numpy as np\n",
        "\n",
        "import nltk\n",
        "from nltk.corpus import stopwords\n",
        "from nltk import word_tokenize, FreqDist\n",
        "nltk.download('punkt')\n",
        "import re\n",
        "import string\n",
        "import os\n",
        "\n",
        "import warnings\n",
        "warnings.filterwarnings(\"ignore\", category=FutureWarning)"
      ],
      "execution_count": 28,
      "outputs": [
        {
          "output_type": "stream",
          "text": [
            "Requirement already satisfied: scikit-surprise in /usr/local/lib/python3.6/dist-packages (1.1.0)\n",
            "Requirement already satisfied: six>=1.10.0 in /usr/local/lib/python3.6/dist-packages (from scikit-surprise) (1.12.0)\n",
            "Requirement already satisfied: scipy>=1.0.0 in /usr/local/lib/python3.6/dist-packages (from scikit-surprise) (1.4.1)\n",
            "Requirement already satisfied: joblib>=0.11 in /usr/local/lib/python3.6/dist-packages (from scikit-surprise) (0.15.0)\n",
            "Requirement already satisfied: numpy>=1.11.2 in /usr/local/lib/python3.6/dist-packages (from scikit-surprise) (1.18.4)\n",
            "[nltk_data] Downloading package punkt to /root/nltk_data...\n",
            "[nltk_data]   Package punkt is already up-to-date!\n"
          ],
          "name": "stdout"
        }
      ]
    },
    {
      "cell_type": "code",
      "metadata": {
        "id": "pfzDaDleyezJ",
        "colab_type": "code",
        "colab": {
          "base_uri": "https://localhost:8080/",
          "height": 52
        },
        "outputId": "bb3d3f0e-7add-445a-9a06-8c1ac00f3702"
      },
      "source": [
        "!unzip data.zip"
      ],
      "execution_count": 10,
      "outputs": [
        {
          "output_type": "stream",
          "text": [
            "Archive:  data.zip\n",
            "  inflating: data/steam_rs.csv       \n"
          ],
          "name": "stdout"
        }
      ]
    },
    {
      "cell_type": "code",
      "metadata": {
        "id": "S-uAo53zuUM0",
        "colab_type": "code",
        "colab": {}
      },
      "source": [
        "# importing the data set\n",
        "df = pd.read_csv('data/steam_rs.csv')"
      ],
      "execution_count": 0,
      "outputs": []
    },
    {
      "cell_type": "code",
      "metadata": {
        "id": "Ulb2eHc7uUM9",
        "colab_type": "code",
        "colab": {}
      },
      "source": [
        "# drop the timestamp column\n",
        "df_cf = df.drop('release_date', axis = 1)"
      ],
      "execution_count": 0,
      "outputs": []
    },
    {
      "cell_type": "code",
      "metadata": {
        "id": "odO2ZJyouUNF",
        "colab_type": "code",
        "colab": {
          "base_uri": "https://localhost:8080/",
          "height": 656
        },
        "outputId": "90ba5b5c-5c16-493c-8b2c-e5989f2076a4"
      },
      "source": [
        "# displaying the data frame\n",
        "df_cf.head()"
      ],
      "execution_count": 13,
      "outputs": [
        {
          "output_type": "execute_result",
          "data": {
            "text/html": [
              "<div>\n",
              "<style scoped>\n",
              "    .dataframe tbody tr th:only-of-type {\n",
              "        vertical-align: middle;\n",
              "    }\n",
              "\n",
              "    .dataframe tbody tr th {\n",
              "        vertical-align: top;\n",
              "    }\n",
              "\n",
              "    .dataframe thead th {\n",
              "        text-align: right;\n",
              "    }\n",
              "</style>\n",
              "<table border=\"1\" class=\"dataframe\">\n",
              "  <thead>\n",
              "    <tr style=\"text-align: right;\">\n",
              "      <th></th>\n",
              "      <th>id</th>\n",
              "      <th>appid</th>\n",
              "      <th>name</th>\n",
              "      <th>purchase</th>\n",
              "      <th>hours_of_play</th>\n",
              "      <th>developer</th>\n",
              "      <th>publisher</th>\n",
              "      <th>positive</th>\n",
              "      <th>negative</th>\n",
              "      <th>english</th>\n",
              "      <th>platforms</th>\n",
              "      <th>required_age</th>\n",
              "      <th>categories</th>\n",
              "      <th>genres</th>\n",
              "      <th>steamspy_tags</th>\n",
              "      <th>achievements</th>\n",
              "      <th>positive_ratings</th>\n",
              "      <th>negative_ratings</th>\n",
              "      <th>average_playtime</th>\n",
              "      <th>median_playtime</th>\n",
              "      <th>owners</th>\n",
              "      <th>detailed_description</th>\n",
              "      <th>about_the_game</th>\n",
              "      <th>short_description</th>\n",
              "      <th>price</th>\n",
              "      <th>rank</th>\n",
              "    </tr>\n",
              "  </thead>\n",
              "  <tbody>\n",
              "    <tr>\n",
              "      <th>0</th>\n",
              "      <td>151603712</td>\n",
              "      <td>570</td>\n",
              "      <td>Dota 2</td>\n",
              "      <td>purchase</td>\n",
              "      <td>1.0</td>\n",
              "      <td>Valve</td>\n",
              "      <td>Valve</td>\n",
              "      <td>1096061</td>\n",
              "      <td>194043</td>\n",
              "      <td>1</td>\n",
              "      <td>windows;mac;linux</td>\n",
              "      <td>0</td>\n",
              "      <td>Multi-player;Co-op;Steam Trading Cards;Steam W...</td>\n",
              "      <td>Action;Free to Play;Strategy</td>\n",
              "      <td>Free to Play;MOBA;Strategy</td>\n",
              "      <td>0</td>\n",
              "      <td>863507</td>\n",
              "      <td>142079</td>\n",
              "      <td>23944</td>\n",
              "      <td>801</td>\n",
              "      <td>100000000-200000000</td>\n",
              "      <td>&lt;strong&gt;The most-played game on Steam.&lt;/strong...</td>\n",
              "      <td>&lt;strong&gt;The most-played game on Steam.&lt;/strong...</td>\n",
              "      <td>Every day, millions of players worldwide enter...</td>\n",
              "      <td>0.0</td>\n",
              "      <td>84.95912</td>\n",
              "    </tr>\n",
              "    <tr>\n",
              "      <th>1</th>\n",
              "      <td>151603712</td>\n",
              "      <td>570</td>\n",
              "      <td>Dota 2</td>\n",
              "      <td>play</td>\n",
              "      <td>0.5</td>\n",
              "      <td>Valve</td>\n",
              "      <td>Valve</td>\n",
              "      <td>1096061</td>\n",
              "      <td>194043</td>\n",
              "      <td>1</td>\n",
              "      <td>windows;mac;linux</td>\n",
              "      <td>0</td>\n",
              "      <td>Multi-player;Co-op;Steam Trading Cards;Steam W...</td>\n",
              "      <td>Action;Free to Play;Strategy</td>\n",
              "      <td>Free to Play;MOBA;Strategy</td>\n",
              "      <td>0</td>\n",
              "      <td>863507</td>\n",
              "      <td>142079</td>\n",
              "      <td>23944</td>\n",
              "      <td>801</td>\n",
              "      <td>100000000-200000000</td>\n",
              "      <td>&lt;strong&gt;The most-played game on Steam.&lt;/strong...</td>\n",
              "      <td>&lt;strong&gt;The most-played game on Steam.&lt;/strong...</td>\n",
              "      <td>Every day, millions of players worldwide enter...</td>\n",
              "      <td>0.0</td>\n",
              "      <td>84.95912</td>\n",
              "    </tr>\n",
              "    <tr>\n",
              "      <th>2</th>\n",
              "      <td>187131847</td>\n",
              "      <td>570</td>\n",
              "      <td>Dota 2</td>\n",
              "      <td>purchase</td>\n",
              "      <td>1.0</td>\n",
              "      <td>Valve</td>\n",
              "      <td>Valve</td>\n",
              "      <td>1096061</td>\n",
              "      <td>194043</td>\n",
              "      <td>1</td>\n",
              "      <td>windows;mac;linux</td>\n",
              "      <td>0</td>\n",
              "      <td>Multi-player;Co-op;Steam Trading Cards;Steam W...</td>\n",
              "      <td>Action;Free to Play;Strategy</td>\n",
              "      <td>Free to Play;MOBA;Strategy</td>\n",
              "      <td>0</td>\n",
              "      <td>863507</td>\n",
              "      <td>142079</td>\n",
              "      <td>23944</td>\n",
              "      <td>801</td>\n",
              "      <td>100000000-200000000</td>\n",
              "      <td>&lt;strong&gt;The most-played game on Steam.&lt;/strong...</td>\n",
              "      <td>&lt;strong&gt;The most-played game on Steam.&lt;/strong...</td>\n",
              "      <td>Every day, millions of players worldwide enter...</td>\n",
              "      <td>0.0</td>\n",
              "      <td>84.95912</td>\n",
              "    </tr>\n",
              "    <tr>\n",
              "      <th>3</th>\n",
              "      <td>187131847</td>\n",
              "      <td>570</td>\n",
              "      <td>Dota 2</td>\n",
              "      <td>play</td>\n",
              "      <td>2.3</td>\n",
              "      <td>Valve</td>\n",
              "      <td>Valve</td>\n",
              "      <td>1096061</td>\n",
              "      <td>194043</td>\n",
              "      <td>1</td>\n",
              "      <td>windows;mac;linux</td>\n",
              "      <td>0</td>\n",
              "      <td>Multi-player;Co-op;Steam Trading Cards;Steam W...</td>\n",
              "      <td>Action;Free to Play;Strategy</td>\n",
              "      <td>Free to Play;MOBA;Strategy</td>\n",
              "      <td>0</td>\n",
              "      <td>863507</td>\n",
              "      <td>142079</td>\n",
              "      <td>23944</td>\n",
              "      <td>801</td>\n",
              "      <td>100000000-200000000</td>\n",
              "      <td>&lt;strong&gt;The most-played game on Steam.&lt;/strong...</td>\n",
              "      <td>&lt;strong&gt;The most-played game on Steam.&lt;/strong...</td>\n",
              "      <td>Every day, millions of players worldwide enter...</td>\n",
              "      <td>0.0</td>\n",
              "      <td>84.95912</td>\n",
              "    </tr>\n",
              "    <tr>\n",
              "      <th>4</th>\n",
              "      <td>176410694</td>\n",
              "      <td>570</td>\n",
              "      <td>Dota 2</td>\n",
              "      <td>purchase</td>\n",
              "      <td>1.0</td>\n",
              "      <td>Valve</td>\n",
              "      <td>Valve</td>\n",
              "      <td>1096061</td>\n",
              "      <td>194043</td>\n",
              "      <td>1</td>\n",
              "      <td>windows;mac;linux</td>\n",
              "      <td>0</td>\n",
              "      <td>Multi-player;Co-op;Steam Trading Cards;Steam W...</td>\n",
              "      <td>Action;Free to Play;Strategy</td>\n",
              "      <td>Free to Play;MOBA;Strategy</td>\n",
              "      <td>0</td>\n",
              "      <td>863507</td>\n",
              "      <td>142079</td>\n",
              "      <td>23944</td>\n",
              "      <td>801</td>\n",
              "      <td>100000000-200000000</td>\n",
              "      <td>&lt;strong&gt;The most-played game on Steam.&lt;/strong...</td>\n",
              "      <td>&lt;strong&gt;The most-played game on Steam.&lt;/strong...</td>\n",
              "      <td>Every day, millions of players worldwide enter...</td>\n",
              "      <td>0.0</td>\n",
              "      <td>84.95912</td>\n",
              "    </tr>\n",
              "  </tbody>\n",
              "</table>\n",
              "</div>"
            ],
            "text/plain": [
              "          id  appid    name  purchase  hours_of_play developer publisher  positive  negative  \\\n",
              "0  151603712    570  Dota 2  purchase            1.0     Valve     Valve   1096061    194043   \n",
              "1  151603712    570  Dota 2      play            0.5     Valve     Valve   1096061    194043   \n",
              "2  187131847    570  Dota 2  purchase            1.0     Valve     Valve   1096061    194043   \n",
              "3  187131847    570  Dota 2      play            2.3     Valve     Valve   1096061    194043   \n",
              "4  176410694    570  Dota 2  purchase            1.0     Valve     Valve   1096061    194043   \n",
              "\n",
              "   english          platforms  required_age                                         categories  \\\n",
              "0        1  windows;mac;linux             0  Multi-player;Co-op;Steam Trading Cards;Steam W...   \n",
              "1        1  windows;mac;linux             0  Multi-player;Co-op;Steam Trading Cards;Steam W...   \n",
              "2        1  windows;mac;linux             0  Multi-player;Co-op;Steam Trading Cards;Steam W...   \n",
              "3        1  windows;mac;linux             0  Multi-player;Co-op;Steam Trading Cards;Steam W...   \n",
              "4        1  windows;mac;linux             0  Multi-player;Co-op;Steam Trading Cards;Steam W...   \n",
              "\n",
              "                         genres               steamspy_tags  achievements  positive_ratings  \\\n",
              "0  Action;Free to Play;Strategy  Free to Play;MOBA;Strategy             0            863507   \n",
              "1  Action;Free to Play;Strategy  Free to Play;MOBA;Strategy             0            863507   \n",
              "2  Action;Free to Play;Strategy  Free to Play;MOBA;Strategy             0            863507   \n",
              "3  Action;Free to Play;Strategy  Free to Play;MOBA;Strategy             0            863507   \n",
              "4  Action;Free to Play;Strategy  Free to Play;MOBA;Strategy             0            863507   \n",
              "\n",
              "   negative_ratings  average_playtime  median_playtime               owners  \\\n",
              "0            142079             23944              801  100000000-200000000   \n",
              "1            142079             23944              801  100000000-200000000   \n",
              "2            142079             23944              801  100000000-200000000   \n",
              "3            142079             23944              801  100000000-200000000   \n",
              "4            142079             23944              801  100000000-200000000   \n",
              "\n",
              "                                detailed_description  \\\n",
              "0  <strong>The most-played game on Steam.</strong...   \n",
              "1  <strong>The most-played game on Steam.</strong...   \n",
              "2  <strong>The most-played game on Steam.</strong...   \n",
              "3  <strong>The most-played game on Steam.</strong...   \n",
              "4  <strong>The most-played game on Steam.</strong...   \n",
              "\n",
              "                                      about_the_game  \\\n",
              "0  <strong>The most-played game on Steam.</strong...   \n",
              "1  <strong>The most-played game on Steam.</strong...   \n",
              "2  <strong>The most-played game on Steam.</strong...   \n",
              "3  <strong>The most-played game on Steam.</strong...   \n",
              "4  <strong>The most-played game on Steam.</strong...   \n",
              "\n",
              "                                   short_description  price      rank  \n",
              "0  Every day, millions of players worldwide enter...    0.0  84.95912  \n",
              "1  Every day, millions of players worldwide enter...    0.0  84.95912  \n",
              "2  Every day, millions of players worldwide enter...    0.0  84.95912  \n",
              "3  Every day, millions of players worldwide enter...    0.0  84.95912  \n",
              "4  Every day, millions of players worldwide enter...    0.0  84.95912  "
            ]
          },
          "metadata": {
            "tags": []
          },
          "execution_count": 13
        }
      ]
    },
    {
      "cell_type": "code",
      "metadata": {
        "id": "qdN30tXFPtVK",
        "colab_type": "code",
        "colab": {}
      },
      "source": [
        "# modifying the columns in the data frame\n",
        "df_cf = df_cf[['id', 'appid', 'name', 'rank', 'genres', 'steamspy_tags', 'short_description']]"
      ],
      "execution_count": 0,
      "outputs": []
    },
    {
      "cell_type": "code",
      "metadata": {
        "id": "bfJ6SXXrLQV4",
        "colab_type": "code",
        "colab": {}
      },
      "source": [
        "# alterting the data frame further to show the id, game name and its rank\n",
        "df = df_cf[['id', 'name', 'rank']]"
      ],
      "execution_count": 0,
      "outputs": []
    },
    {
      "cell_type": "code",
      "metadata": {
        "id": "HmHIpg66MaJ2",
        "colab_type": "code",
        "colab": {
          "base_uri": "https://localhost:8080/",
          "height": 34
        },
        "outputId": "11975489-d182-4002-d12d-7d8bcf1e6080"
      },
      "source": [
        "# displaying shape of data frame\n",
        "df.shape"
      ],
      "execution_count": 16,
      "outputs": [
        {
          "output_type": "execute_result",
          "data": {
            "text/plain": [
              "(99898, 3)"
            ]
          },
          "metadata": {
            "tags": []
          },
          "execution_count": 16
        }
      ]
    },
    {
      "cell_type": "code",
      "metadata": {
        "id": "d1E9oHA0uUNK",
        "colab_type": "code",
        "colab": {}
      },
      "source": [
        "reader = Reader()\n",
        "data = Dataset.load_from_df(df,reader)"
      ],
      "execution_count": 0,
      "outputs": []
    },
    {
      "cell_type": "code",
      "metadata": {
        "id": "qisdrS1zxkoJ",
        "colab_type": "code",
        "colab": {
          "base_uri": "https://localhost:8080/",
          "height": 69
        },
        "outputId": "39e96770-9004-43d9-db89-8e600779d031"
      },
      "source": [
        "dataset = data.build_full_trainset()\n",
        "print('Number of users: ', dataset.n_users, '\\n')\n",
        "print('Number of items: ', dataset.n_items)"
      ],
      "execution_count": 18,
      "outputs": [
        {
          "output_type": "stream",
          "text": [
            "Number of users:  10385 \n",
            "\n",
            "Number of items:  2298\n"
          ],
          "name": "stdout"
        }
      ]
    },
    {
      "cell_type": "markdown",
      "metadata": {
        "id": "u74mF_F_1Odd",
        "colab_type": "text"
      },
      "source": [
        "### Train/ test split"
      ]
    },
    {
      "cell_type": "markdown",
      "metadata": {
        "id": "BNfub7qC3edG",
        "colab_type": "text"
      },
      "source": [
        "The train and test data sets will contain randomly selected user ratings and items instead of the entire list of users and items."
      ]
    },
    {
      "cell_type": "code",
      "metadata": {
        "id": "0gzE7UakT1I5",
        "colab_type": "code",
        "colab": {}
      },
      "source": [
        "# preforming train/test split\n",
        "trainset, testset = train_test_split(df, test_size=0.2)"
      ],
      "execution_count": 0,
      "outputs": []
    },
    {
      "cell_type": "code",
      "metadata": {
        "id": "YtbuXSPO3vXl",
        "colab_type": "code",
        "colab": {}
      },
      "source": [
        "trainsetfull = data.build_full_trainset()"
      ],
      "execution_count": 0,
      "outputs": []
    },
    {
      "cell_type": "code",
      "metadata": {
        "id": "vraPOAD-3_di",
        "colab_type": "code",
        "colab": {
          "base_uri": "https://localhost:8080/",
          "height": 69
        },
        "outputId": "ef64ddfe-69fe-4a07-b7d0-0db2e7bf6ca8"
      },
      "source": [
        "print('Number of users: ', trainsetfull.n_users, '\\n')\n",
        "print('Number of items: ', trainsetfull.n_items)"
      ],
      "execution_count": 33,
      "outputs": [
        {
          "output_type": "stream",
          "text": [
            "Number of users:  10385 \n",
            "\n",
            "Number of items:  2298\n"
          ],
          "name": "stdout"
        }
      ]
    },
    {
      "cell_type": "markdown",
      "metadata": {
        "id": "KpvSC9AC6cAG",
        "colab_type": "text"
      },
      "source": [
        "# Memory Based"
      ]
    },
    {
      "cell_type": "markdown",
      "metadata": {
        "id": "PPvL5wD3WOnU",
        "colab_type": "text"
      },
      "source": [
        "### Cosine similarity\n",
        "KNNBasic with cosine similarity (USER BASED)"
      ]
    },
    {
      "cell_type": "code",
      "metadata": {
        "id": "LEkBAv3I80ON",
        "colab_type": "code",
        "colab": {}
      },
      "source": [
        "# cross validating with KNNBasic\n",
        "knn_basic = KNNBasic(sim_options={'name':'pearson', 'user_based':True})\n",
        "cv_knn_basic = cross_validate(knn_basic, data, cv=3, n_jobs=-1)"
      ],
      "execution_count": 0,
      "outputs": []
    },
    {
      "cell_type": "code",
      "metadata": {
        "id": "Twtz5Ejz81a3",
        "colab_type": "code",
        "colab": {}
      },
      "source": [
        ""
      ],
      "execution_count": 0,
      "outputs": []
    },
    {
      "cell_type": "code",
      "metadata": {
        "id": "OQE96Bj-UqC3",
        "colab_type": "code",
        "colab": {}
      },
      "source": [
        "#   cosine similarity\n",
        "sim_cos = {'name':'cosine', 'user_based':True}"
      ],
      "execution_count": 0,
      "outputs": []
    },
    {
      "cell_type": "code",
      "metadata": {
        "id": "p9ZP7y352aeq",
        "colab_type": "code",
        "colab": {}
      },
      "source": [
        "#   instantiate the knns.KNNBasic() object with the similarity settings:\n",
        "basic_user = knns.KNNBasic(sim_options=sim_cos)"
      ],
      "execution_count": 0,
      "outputs": []
    },
    {
      "cell_type": "code",
      "metadata": {
        "id": "1knHteqgNcHO",
        "colab_type": "code",
        "colab": {
          "base_uri": "https://localhost:8080/",
          "height": 173
        },
        "outputId": "ac52aebc-e6d1-402b-eaaa-a7071db76c64"
      },
      "source": [
        "#   fitting the model\n",
        "simcos_cv_item = cross_validate(basic_user, data, measures=['rmse', 'mae'],\n",
        "                           cv = 3, return_train_measures=True, n_jobs= -1,\n",
        "                           verbose = True)"
      ],
      "execution_count": 39,
      "outputs": [
        {
          "output_type": "stream",
          "text": [
            "Evaluating RMSE, MAE of algorithm KNNBasic on 3 split(s).\n",
            "\n",
            "                  Fold 1  Fold 2  Fold 3  Mean    Std     \n",
            "RMSE (testset)    80.8900 80.9149 80.8634 80.8894 0.0210  \n",
            "MAE (testset)     79.9889 80.0325 79.9605 79.9939 0.0296  \n",
            "RMSE (trainset)   80.8891 80.8767 80.9024 80.8894 0.0105  \n",
            "MAE (trainset)    79.9965 79.9746 80.0106 79.9939 0.0148  \n",
            "Fit time          1.33    1.93    1.28    1.51    0.29    \n",
            "Test time         4.90    4.38    2.47    3.92    1.04    \n"
          ],
          "name": "stdout"
        }
      ]
    },
    {
      "cell_type": "markdown",
      "metadata": {
        "id": "Gd2lKUZ1Wti6",
        "colab_type": "text"
      },
      "source": [
        "KNNBasic with cosine similarity (ITEM BASED)\n"
      ]
    },
    {
      "cell_type": "code",
      "metadata": {
        "id": "iencxxosW31s",
        "colab_type": "code",
        "colab": {}
      },
      "source": [
        "#   cosine similarity\n",
        "sim_cos = {'name':'cosine', 'user_based':False}"
      ],
      "execution_count": 0,
      "outputs": []
    },
    {
      "cell_type": "code",
      "metadata": {
        "id": "l8ahBPZa5tOQ",
        "colab_type": "code",
        "colab": {}
      },
      "source": [
        "#   instantiate the knns.KNNBasic() object with the similarity settings\n",
        "basic_item = knns.KNNBasic(sim_options=sim_cos)"
      ],
      "execution_count": 0,
      "outputs": []
    },
    {
      "cell_type": "code",
      "metadata": {
        "id": "LcctIN9M5xbv",
        "colab_type": "code",
        "colab": {
          "base_uri": "https://localhost:8080/",
          "height": 173
        },
        "outputId": "67a3b2e8-ff1b-444b-c1d7-037748ee1765"
      },
      "source": [
        "#   fitting the model\n",
        "simcos_cv_item = cross_validate(basic_item, data, measures=['rmse', 'mae'],\n",
        "                           cv = 3, return_train_measures=True, n_jobs= -1,\n",
        "                           verbose = True)"
      ],
      "execution_count": 38,
      "outputs": [
        {
          "output_type": "stream",
          "text": [
            "Evaluating RMSE, MAE of algorithm KNNBasic on 3 split(s).\n",
            "\n",
            "                  Fold 1  Fold 2  Fold 3  Mean    Std     \n",
            "RMSE (testset)    80.8773 80.8585 80.9325 80.8894 0.0314  \n",
            "MAE (testset)     79.9628 79.9687 80.0504 79.9939 0.0400  \n",
            "RMSE (trainset)   80.8955 80.9049 80.8679 80.8894 0.0157  \n",
            "MAE (trainset)    80.0095 80.0065 79.9657 79.9939 0.0200  \n",
            "Fit time          1.43    1.81    1.27    1.51    0.23    \n",
            "Test time         5.16    4.45    2.22    3.94    1.25    \n"
          ],
          "name": "stdout"
        }
      ]
    },
    {
      "cell_type": "code",
      "metadata": {
        "id": "m0c0cAjHW37K",
        "colab_type": "code",
        "colab": {}
      },
      "source": [
        ""
      ],
      "execution_count": 0,
      "outputs": []
    },
    {
      "cell_type": "markdown",
      "metadata": {
        "id": "AVtheHJ96epo",
        "colab_type": "text"
      },
      "source": [
        "### Pearson similarity"
      ]
    },
    {
      "cell_type": "markdown",
      "metadata": {
        "id": "P6z1vEKjXHMp",
        "colab_type": "text"
      },
      "source": [
        "KNNBaseline with pearson similarity (USER BASED)"
      ]
    },
    {
      "cell_type": "code",
      "metadata": {
        "id": "Ygw5t3QOW3_6",
        "colab_type": "code",
        "colab": {}
      },
      "source": [
        "# person similarity\n",
        "sim_pearson = {'name':'pearson', 'user_based':True}"
      ],
      "execution_count": 0,
      "outputs": []
    },
    {
      "cell_type": "code",
      "metadata": {
        "id": "7NRggdAbW4Fx",
        "colab_type": "code",
        "colab": {}
      },
      "source": [
        "#   instantiate the knns.KNNBasic() object with the similarity settings\n",
        "knn_baseline_user = knns.KNNBaseline(sim_options=sim_pearson)\n"
      ],
      "execution_count": 0,
      "outputs": []
    },
    {
      "cell_type": "code",
      "metadata": {
        "id": "0GTvOUmP6Bkf",
        "colab_type": "code",
        "colab": {
          "base_uri": "https://localhost:8080/",
          "height": 173
        },
        "outputId": "b97c11c4-d11d-482f-b2d9-0a894d73e054"
      },
      "source": [
        "#   fitting the model\n",
        "sim_pearson_cv_user = cross_validate(knn_baseline_user, data, measures=['rmse', 'mae'],\n",
        "                           cv = 3, return_train_measures=True, n_jobs= -1,\n",
        "                           verbose = True)"
      ],
      "execution_count": 42,
      "outputs": [
        {
          "output_type": "stream",
          "text": [
            "Evaluating RMSE, MAE of algorithm KNNBaseline on 3 split(s).\n",
            "\n",
            "                  Fold 1  Fold 2  Fold 3  Mean    Std     \n",
            "RMSE (testset)    80.8542 80.8735 80.9405 80.8894 0.0370  \n",
            "MAE (testset)     79.9513 79.9782 80.0524 79.9939 0.0427  \n",
            "RMSE (trainset)   80.9070 80.8974 80.8639 80.8894 0.0185  \n",
            "MAE (trainset)    80.0152 80.0018 79.9647 79.9939 0.0214  \n",
            "Fit time          51.18   51.68   28.54   43.80   10.79   \n",
            "Test time         30.40   30.74   15.39   25.51   7.16    \n"
          ],
          "name": "stdout"
        }
      ]
    },
    {
      "cell_type": "markdown",
      "metadata": {
        "id": "xX-mUiK1XEtK",
        "colab_type": "text"
      },
      "source": [
        "KNNBaseline with pearson similarity (ITEM BASED)"
      ]
    },
    {
      "cell_type": "code",
      "metadata": {
        "id": "2wm6hWeN6LRF",
        "colab_type": "code",
        "colab": {}
      },
      "source": [
        "# person similarity\n",
        "sim_pearson = {'name':'pearson', 'user_based':False}"
      ],
      "execution_count": 0,
      "outputs": []
    },
    {
      "cell_type": "code",
      "metadata": {
        "id": "NjGsgdmz6N-A",
        "colab_type": "code",
        "colab": {}
      },
      "source": [
        "#   instantiate the knns.KNNBasic() object with the similarity settings\n",
        "knn_baseline_user = knns.KNNBaseline(sim_options=sim_pearson)"
      ],
      "execution_count": 0,
      "outputs": []
    },
    {
      "cell_type": "code",
      "metadata": {
        "id": "ByPKmmbmW34-",
        "colab_type": "code",
        "colab": {
          "base_uri": "https://localhost:8080/",
          "height": 173
        },
        "outputId": "469a06d1-1533-4e8d-a63a-342792ee76b0"
      },
      "source": [
        "#   fitting the model\n",
        "sim_pearson_cv_user = cross_validate(knn_baseline_user, data, measures=['rmse', 'mae'],\n",
        "                           cv = 3, return_train_measures=True, n_jobs= -1,\n",
        "                           verbose = True)"
      ],
      "execution_count": 45,
      "outputs": [
        {
          "output_type": "stream",
          "text": [
            "Evaluating RMSE, MAE of algorithm KNNBaseline on 3 split(s).\n",
            "\n",
            "                  Fold 1  Fold 2  Fold 3  Mean    Std     \n",
            "RMSE (testset)    80.8790 80.9109 80.8784 80.8894 0.0152  \n",
            "MAE (testset)     79.9737 80.0098 79.9984 79.9939 0.0151  \n",
            "RMSE (trainset)   80.8946 80.8787 80.8949 80.8894 0.0076  \n",
            "MAE (trainset)    80.0041 79.9860 79.9917 79.9939 0.0076  \n",
            "Fit time          2.00    2.77    1.97    2.25    0.37    \n",
            "Test time         4.56    3.58    1.89    3.34    1.10    \n"
          ],
          "name": "stdout"
        }
      ]
    },
    {
      "cell_type": "markdown",
      "metadata": {
        "id": "18wNAl-f7v5o",
        "colab_type": "text"
      },
      "source": [
        "# Model based"
      ]
    },
    {
      "cell_type": "code",
      "metadata": {
        "id": "BT8j4mh_6VJz",
        "colab_type": "code",
        "colab": {}
      },
      "source": [
        ""
      ],
      "execution_count": 0,
      "outputs": []
    },
    {
      "cell_type": "code",
      "metadata": {
        "id": "UG7hXv716VTN",
        "colab_type": "code",
        "colab": {}
      },
      "source": [
        ""
      ],
      "execution_count": 0,
      "outputs": []
    },
    {
      "cell_type": "code",
      "metadata": {
        "id": "o4x0PFh96VRa",
        "colab_type": "code",
        "colab": {}
      },
      "source": [
        ""
      ],
      "execution_count": 0,
      "outputs": []
    },
    {
      "cell_type": "code",
      "metadata": {
        "id": "tgYal0DxEgs2",
        "colab_type": "code",
        "colab": {}
      },
      "source": [
        ""
      ],
      "execution_count": 0,
      "outputs": []
    },
    {
      "cell_type": "code",
      "metadata": {
        "id": "_oDNrlbzEg_8",
        "colab_type": "code",
        "colab": {}
      },
      "source": [
        ""
      ],
      "execution_count": 0,
      "outputs": []
    },
    {
      "cell_type": "code",
      "metadata": {
        "id": "JpLytwyVEg-C",
        "colab_type": "code",
        "colab": {}
      },
      "source": [
        ""
      ],
      "execution_count": 0,
      "outputs": []
    },
    {
      "cell_type": "code",
      "metadata": {
        "id": "2IdRNYTuEg6q",
        "colab_type": "code",
        "colab": {}
      },
      "source": [
        ""
      ],
      "execution_count": 0,
      "outputs": []
    },
    {
      "cell_type": "code",
      "metadata": {
        "id": "YcEhA0zTEg2z",
        "colab_type": "code",
        "colab": {}
      },
      "source": [
        ""
      ],
      "execution_count": 0,
      "outputs": []
    },
    {
      "cell_type": "code",
      "metadata": {
        "id": "1_6V3OlCEglE",
        "colab_type": "code",
        "colab": {}
      },
      "source": [
        ""
      ],
      "execution_count": 0,
      "outputs": []
    },
    {
      "cell_type": "code",
      "metadata": {
        "id": "8-6wtPlZWszO",
        "colab_type": "code",
        "colab": {}
      },
      "source": [
        "## Perform a gridsearch with SVD\n",
        "# ⏰ This cell may take several minutes to run\n",
        "params = {'n_factors': [20, 50, 100],\n",
        "         'reg_all': [0.02, 0.05, 0.1]}\n",
        "g_s_svd = GridSearchCV(SVD,param_grid=params,n_jobs=-1)\n",
        "g_s_svd.fit(data)"
      ],
      "execution_count": 0,
      "outputs": []
    },
    {
      "cell_type": "code",
      "metadata": {
        "id": "2g5O3pZrEoFC",
        "colab_type": "code",
        "colab": {}
      },
      "source": [
        ""
      ],
      "execution_count": 0,
      "outputs": []
    },
    {
      "cell_type": "code",
      "metadata": {
        "id": "30wEvKOOW3D4",
        "colab_type": "code",
        "colab": {
          "base_uri": "https://localhost:8080/",
          "height": 52
        },
        "outputId": "990d418a-1606-44d3-89f4-f286bad351bf"
      },
      "source": [
        "print(g_s_svd.best_score)\n",
        "print(g_s_svd.best_params)"
      ],
      "execution_count": 47,
      "outputs": [
        {
          "output_type": "stream",
          "text": [
            "{'rmse': 80.88938877028063, 'mae': 79.9939387940746}\n",
            "{'rmse': {'n_factors': 20, 'reg_all': 0.02}, 'mae': {'n_factors': 20, 'reg_all': 0.02}}\n"
          ],
          "name": "stdout"
        }
      ]
    },
    {
      "cell_type": "code",
      "metadata": {
        "id": "nobkEeTlNdr7",
        "colab_type": "code",
        "colab": {
          "base_uri": "https://localhost:8080/",
          "height": 121
        },
        "outputId": "b9ef21bb-6f01-478b-d383-79c8e241cfc0"
      },
      "source": [
        "for i in cv_knn_basic.items():\n",
        "    print(i)\n",
        "print('-----------------------')\n",
        "print(np.mean(cv_knn_basic['test_rmse']))"
      ],
      "execution_count": 48,
      "outputs": [
        {
          "output_type": "stream",
          "text": [
            "('test_rmse', array([80.90348422, 80.88443837, 80.88035288]))\n",
            "('test_mae', array([80.00366297, 79.98126541, 79.99688807]))\n",
            "('fit_time', (56.57424354553223, 55.431344747543335, 26.176817417144775))\n",
            "('test_time', (27.336431741714478, 26.979588508605957, 13.666398048400879))\n",
            "-----------------------\n",
            "80.88942515560707\n"
          ],
          "name": "stdout"
        }
      ]
    },
    {
      "cell_type": "code",
      "metadata": {
        "id": "CC8fM37rNgNR",
        "colab_type": "code",
        "colab": {
          "base_uri": "https://localhost:8080/",
          "height": 277
        },
        "outputId": "caf37da6-3b29-4291-c442-f39c733a1e5e"
      },
      "source": [
        "# cross validating with KNNBaseline\n",
        "knn_baseline = KNNBaseline(sim_options={'name':'pearson', 'user_based':True})\n",
        "cv_knn_baseline = cross_validate(knn_baseline,data)"
      ],
      "execution_count": 49,
      "outputs": [
        {
          "output_type": "stream",
          "text": [
            "Estimating biases using als...\n",
            "Computing the pearson similarity matrix...\n",
            "Done computing similarity matrix.\n",
            "Estimating biases using als...\n",
            "Computing the pearson similarity matrix...\n",
            "Done computing similarity matrix.\n",
            "Estimating biases using als...\n",
            "Computing the pearson similarity matrix...\n",
            "Done computing similarity matrix.\n",
            "Estimating biases using als...\n",
            "Computing the pearson similarity matrix...\n",
            "Done computing similarity matrix.\n",
            "Estimating biases using als...\n",
            "Computing the pearson similarity matrix...\n",
            "Done computing similarity matrix.\n"
          ],
          "name": "stdout"
        }
      ]
    },
    {
      "cell_type": "code",
      "metadata": {
        "id": "Axp8LmqSNh7R",
        "colab_type": "code",
        "colab": {
          "base_uri": "https://localhost:8080/",
          "height": 104
        },
        "outputId": "a2afc24e-5f5c-4ba9-b061-7d4737dd0e29"
      },
      "source": [
        "for i in cv_knn_baseline.items():\n",
        "    print(i)\n",
        "\n",
        "np.mean(cv_knn_baseline['test_rmse'])"
      ],
      "execution_count": 50,
      "outputs": [
        {
          "output_type": "stream",
          "text": [
            "('test_rmse', array([80.83992433, 80.93252361, 80.93049124, 80.79261078, 80.95145951]))\n",
            "('test_mae', array([79.9537338 , 80.03242269, 80.04074163, 79.8812427 , 80.06155569]))\n",
            "('fit_time', (40.17104411125183, 35.938589572906494, 34.390875816345215, 35.39463806152344, 34.732157468795776))\n",
            "('test_time', (14.515562057495117, 14.345680713653564, 13.92281460762024, 13.855585098266602, 14.048386096954346))\n"
          ],
          "name": "stdout"
        },
        {
          "output_type": "execute_result",
          "data": {
            "text/plain": [
              "80.88940189613027"
            ]
          },
          "metadata": {
            "tags": []
          },
          "execution_count": 50
        }
      ]
    },
    {
      "cell_type": "code",
      "metadata": {
        "id": "ZIhH62UtNka2",
        "colab_type": "code",
        "colab": {}
      },
      "source": [
        ""
      ],
      "execution_count": 0,
      "outputs": []
    },
    {
      "cell_type": "markdown",
      "metadata": {
        "id": "10rbv53yNotJ",
        "colab_type": "text"
      },
      "source": [
        "# Making recommendations"
      ]
    },
    {
      "cell_type": "code",
      "metadata": {
        "id": "M0tFwBPbNsGz",
        "colab_type": "code",
        "colab": {
          "base_uri": "https://localhost:8080/",
          "height": 34
        },
        "outputId": "cca257d3-f146-4743-b783-2e46915a1d56"
      },
      "source": [
        "svd = SVD(n_factors= 50, reg_all=0.05)\n",
        "svd.fit(dataset)"
      ],
      "execution_count": 55,
      "outputs": [
        {
          "output_type": "execute_result",
          "data": {
            "text/plain": [
              "<surprise.prediction_algorithms.matrix_factorization.SVD at 0x7fafe89370b8>"
            ]
          },
          "metadata": {
            "tags": []
          },
          "execution_count": 55
        }
      ]
    },
    {
      "cell_type": "code",
      "metadata": {
        "id": "4KNWaIY2N9aC",
        "colab_type": "code",
        "colab": {
          "base_uri": "https://localhost:8080/",
          "height": 34
        },
        "outputId": "a2aed6fb-96b8-44d4-ff45-a4ed3c345d28"
      },
      "source": [
        "svd.predict(2, 4)"
      ],
      "execution_count": 56,
      "outputs": [
        {
          "output_type": "execute_result",
          "data": {
            "text/plain": [
              "Prediction(uid=2, iid=4, r_ui=None, est=5, details={'was_impossible': False})"
            ]
          },
          "metadata": {
            "tags": []
          },
          "execution_count": 56
        }
      ]
    },
    {
      "cell_type": "code",
      "metadata": {
        "id": "We6-j-f9OAvT",
        "colab_type": "code",
        "colab": {}
      },
      "source": [
        "def game_rater(game_df,num, genre=None):\n",
        "    userID = 1000\n",
        "    rating_list = []\n",
        "    while num > 0:\n",
        "        if genre:\n",
        "            game = df_cf[df_cf['genres'].str.contains(genre)].sample(1)\n",
        "        else:\n",
        "            game = df_cf.sample(1)\n",
        "        print(game)\n",
        "        rating = input('How do you rate this movie on a scale of 1-5, press n if you have not seen :\\n')\n",
        "        if rating == 'n':\n",
        "            continue\n",
        "        else:\n",
        "            rating_one_game = {'id':userID,'gameId':game['appid'].values[0],'rating':rating}\n",
        "            rating_list.append(rating_one_game) \n",
        "            num -= 1\n",
        "    return rating_list      "
      ],
      "execution_count": 0,
      "outputs": []
    },
    {
      "cell_type": "code",
      "metadata": {
        "id": "oRJ3mgD7OMPK",
        "colab_type": "code",
        "colab": {
          "base_uri": "https://localhost:8080/",
          "height": 865
        },
        "outputId": "c9025326-f622-40ff-992f-12b6cb16f831"
      },
      "source": [
        "user_rating = game_rater(df_cf, 4, 'RPG')"
      ],
      "execution_count": 59,
      "outputs": [
        {
          "output_type": "stream",
          "text": [
            "              id   appid       name       rank                                             genres  \\\n",
            "68502  131785763  212160  Vindictus  70.974753  Action;Adventure;Free to Play;Massively Multip...   \n",
            "\n",
            "                            steamspy_tags                                  short_description  \n",
            "68502  Free to Play;Action;Hack and Slash  Enter a dark and sinister world where you must...  \n",
            "How do you rate this movie on a scale of 1-5, press n if you have not seen :\n",
            "3\n",
            "              id   appid           name       rank                      genres  \\\n",
            "49889  102921672  200710  Torchlight II  94.245684  Action;Adventure;Indie;RPG   \n",
            "\n",
            "                       steamspy_tags                                  short_description  \n",
            "49889  RPG;Action RPG;Hack and Slash  The adventure continues in Torchlight II! An A...  \n",
            "How do you rate this movie on a scale of 1-5, press n if you have not seen :\n",
            "n\n",
            "              id   appid   name       rank                                             genres  \\\n",
            "32182  191244808  304050  Trove  79.572796  Action;Adventure;Casual;Free to Play;Massively...   \n",
            "\n",
            "                             steamspy_tags                                  short_description  \n",
            "32182  Free to Play;Open World;Multiplayer  Grab your friends, hone your blades, and set o...  \n"
          ],
          "name": "stdout"
        },
        {
          "output_type": "error",
          "ename": "KeyboardInterrupt",
          "evalue": "ignored",
          "traceback": [
            "\u001b[0;31m---------------------------------------------------------------------------\u001b[0m",
            "\u001b[0;31mKeyboardInterrupt\u001b[0m                         Traceback (most recent call last)",
            "\u001b[0;32m/usr/local/lib/python3.6/dist-packages/ipykernel/kernelbase.py\u001b[0m in \u001b[0;36m_input_request\u001b[0;34m(self, prompt, ident, parent, password)\u001b[0m\n\u001b[1;32m    728\u001b[0m             \u001b[0;32mtry\u001b[0m\u001b[0;34m:\u001b[0m\u001b[0;34m\u001b[0m\u001b[0;34m\u001b[0m\u001b[0m\n\u001b[0;32m--> 729\u001b[0;31m                 \u001b[0mident\u001b[0m\u001b[0;34m,\u001b[0m \u001b[0mreply\u001b[0m \u001b[0;34m=\u001b[0m \u001b[0mself\u001b[0m\u001b[0;34m.\u001b[0m\u001b[0msession\u001b[0m\u001b[0;34m.\u001b[0m\u001b[0mrecv\u001b[0m\u001b[0;34m(\u001b[0m\u001b[0mself\u001b[0m\u001b[0;34m.\u001b[0m\u001b[0mstdin_socket\u001b[0m\u001b[0;34m,\u001b[0m \u001b[0;36m0\u001b[0m\u001b[0;34m)\u001b[0m\u001b[0;34m\u001b[0m\u001b[0;34m\u001b[0m\u001b[0m\n\u001b[0m\u001b[1;32m    730\u001b[0m             \u001b[0;32mexcept\u001b[0m \u001b[0mException\u001b[0m\u001b[0;34m:\u001b[0m\u001b[0;34m\u001b[0m\u001b[0;34m\u001b[0m\u001b[0m\n",
            "\u001b[0;32m/usr/local/lib/python3.6/dist-packages/jupyter_client/session.py\u001b[0m in \u001b[0;36mrecv\u001b[0;34m(self, socket, mode, content, copy)\u001b[0m\n\u001b[1;32m    802\u001b[0m         \u001b[0;32mtry\u001b[0m\u001b[0;34m:\u001b[0m\u001b[0;34m\u001b[0m\u001b[0;34m\u001b[0m\u001b[0m\n\u001b[0;32m--> 803\u001b[0;31m             \u001b[0mmsg_list\u001b[0m \u001b[0;34m=\u001b[0m \u001b[0msocket\u001b[0m\u001b[0;34m.\u001b[0m\u001b[0mrecv_multipart\u001b[0m\u001b[0;34m(\u001b[0m\u001b[0mmode\u001b[0m\u001b[0;34m,\u001b[0m \u001b[0mcopy\u001b[0m\u001b[0;34m=\u001b[0m\u001b[0mcopy\u001b[0m\u001b[0;34m)\u001b[0m\u001b[0;34m\u001b[0m\u001b[0;34m\u001b[0m\u001b[0m\n\u001b[0m\u001b[1;32m    804\u001b[0m         \u001b[0;32mexcept\u001b[0m \u001b[0mzmq\u001b[0m\u001b[0;34m.\u001b[0m\u001b[0mZMQError\u001b[0m \u001b[0;32mas\u001b[0m \u001b[0me\u001b[0m\u001b[0;34m:\u001b[0m\u001b[0;34m\u001b[0m\u001b[0;34m\u001b[0m\u001b[0m\n",
            "\u001b[0;32m/usr/local/lib/python3.6/dist-packages/zmq/sugar/socket.py\u001b[0m in \u001b[0;36mrecv_multipart\u001b[0;34m(self, flags, copy, track)\u001b[0m\n\u001b[1;32m    474\u001b[0m         \"\"\"\n\u001b[0;32m--> 475\u001b[0;31m         \u001b[0mparts\u001b[0m \u001b[0;34m=\u001b[0m \u001b[0;34m[\u001b[0m\u001b[0mself\u001b[0m\u001b[0;34m.\u001b[0m\u001b[0mrecv\u001b[0m\u001b[0;34m(\u001b[0m\u001b[0mflags\u001b[0m\u001b[0;34m,\u001b[0m \u001b[0mcopy\u001b[0m\u001b[0;34m=\u001b[0m\u001b[0mcopy\u001b[0m\u001b[0;34m,\u001b[0m \u001b[0mtrack\u001b[0m\u001b[0;34m=\u001b[0m\u001b[0mtrack\u001b[0m\u001b[0;34m)\u001b[0m\u001b[0;34m]\u001b[0m\u001b[0;34m\u001b[0m\u001b[0;34m\u001b[0m\u001b[0m\n\u001b[0m\u001b[1;32m    476\u001b[0m         \u001b[0;31m# have first part already, only loop while more to receive\u001b[0m\u001b[0;34m\u001b[0m\u001b[0;34m\u001b[0m\u001b[0;34m\u001b[0m\u001b[0m\n",
            "\u001b[0;32mzmq/backend/cython/socket.pyx\u001b[0m in \u001b[0;36mzmq.backend.cython.socket.Socket.recv\u001b[0;34m()\u001b[0m\n",
            "\u001b[0;32mzmq/backend/cython/socket.pyx\u001b[0m in \u001b[0;36mzmq.backend.cython.socket.Socket.recv\u001b[0;34m()\u001b[0m\n",
            "\u001b[0;32mzmq/backend/cython/socket.pyx\u001b[0m in \u001b[0;36mzmq.backend.cython.socket._recv_copy\u001b[0;34m()\u001b[0m\n",
            "\u001b[0;32m/usr/local/lib/python3.6/dist-packages/zmq/backend/cython/checkrc.pxd\u001b[0m in \u001b[0;36mzmq.backend.cython.checkrc._check_rc\u001b[0;34m()\u001b[0m\n",
            "\u001b[0;31mKeyboardInterrupt\u001b[0m: ",
            "\nDuring handling of the above exception, another exception occurred:\n",
            "\u001b[0;31mKeyboardInterrupt\u001b[0m                         Traceback (most recent call last)",
            "\u001b[0;32m<ipython-input-59-516730cb6b1e>\u001b[0m in \u001b[0;36m<module>\u001b[0;34m()\u001b[0m\n\u001b[0;32m----> 1\u001b[0;31m \u001b[0muser_rating\u001b[0m \u001b[0;34m=\u001b[0m \u001b[0mgame_rater\u001b[0m\u001b[0;34m(\u001b[0m\u001b[0mdf_cf\u001b[0m\u001b[0;34m,\u001b[0m \u001b[0;36m4\u001b[0m\u001b[0;34m,\u001b[0m \u001b[0;34m'RPG'\u001b[0m\u001b[0;34m)\u001b[0m\u001b[0;34m\u001b[0m\u001b[0;34m\u001b[0m\u001b[0m\n\u001b[0m",
            "\u001b[0;32m<ipython-input-57-718e1ec4668b>\u001b[0m in \u001b[0;36mgame_rater\u001b[0;34m(game_df, num, genre)\u001b[0m\n\u001b[1;32m      8\u001b[0m             \u001b[0mgame\u001b[0m \u001b[0;34m=\u001b[0m \u001b[0mdf_cf\u001b[0m\u001b[0;34m.\u001b[0m\u001b[0msample\u001b[0m\u001b[0;34m(\u001b[0m\u001b[0;36m1\u001b[0m\u001b[0;34m)\u001b[0m\u001b[0;34m\u001b[0m\u001b[0;34m\u001b[0m\u001b[0m\n\u001b[1;32m      9\u001b[0m         \u001b[0mprint\u001b[0m\u001b[0;34m(\u001b[0m\u001b[0mgame\u001b[0m\u001b[0;34m)\u001b[0m\u001b[0;34m\u001b[0m\u001b[0;34m\u001b[0m\u001b[0m\n\u001b[0;32m---> 10\u001b[0;31m         \u001b[0mrating\u001b[0m \u001b[0;34m=\u001b[0m \u001b[0minput\u001b[0m\u001b[0;34m(\u001b[0m\u001b[0;34m'How do you rate this movie on a scale of 1-5, press n if you have not seen :\\n'\u001b[0m\u001b[0;34m)\u001b[0m\u001b[0;34m\u001b[0m\u001b[0;34m\u001b[0m\u001b[0m\n\u001b[0m\u001b[1;32m     11\u001b[0m         \u001b[0;32mif\u001b[0m \u001b[0mrating\u001b[0m \u001b[0;34m==\u001b[0m \u001b[0;34m'n'\u001b[0m\u001b[0;34m:\u001b[0m\u001b[0;34m\u001b[0m\u001b[0;34m\u001b[0m\u001b[0m\n\u001b[1;32m     12\u001b[0m             \u001b[0;32mcontinue\u001b[0m\u001b[0;34m\u001b[0m\u001b[0;34m\u001b[0m\u001b[0m\n",
            "\u001b[0;32m/usr/local/lib/python3.6/dist-packages/ipykernel/kernelbase.py\u001b[0m in \u001b[0;36mraw_input\u001b[0;34m(self, prompt)\u001b[0m\n\u001b[1;32m    702\u001b[0m             \u001b[0mself\u001b[0m\u001b[0;34m.\u001b[0m\u001b[0m_parent_ident\u001b[0m\u001b[0;34m,\u001b[0m\u001b[0;34m\u001b[0m\u001b[0;34m\u001b[0m\u001b[0m\n\u001b[1;32m    703\u001b[0m             \u001b[0mself\u001b[0m\u001b[0;34m.\u001b[0m\u001b[0m_parent_header\u001b[0m\u001b[0;34m,\u001b[0m\u001b[0;34m\u001b[0m\u001b[0;34m\u001b[0m\u001b[0m\n\u001b[0;32m--> 704\u001b[0;31m             \u001b[0mpassword\u001b[0m\u001b[0;34m=\u001b[0m\u001b[0;32mFalse\u001b[0m\u001b[0;34m,\u001b[0m\u001b[0;34m\u001b[0m\u001b[0;34m\u001b[0m\u001b[0m\n\u001b[0m\u001b[1;32m    705\u001b[0m         )\n\u001b[1;32m    706\u001b[0m \u001b[0;34m\u001b[0m\u001b[0m\n",
            "\u001b[0;32m/usr/local/lib/python3.6/dist-packages/ipykernel/kernelbase.py\u001b[0m in \u001b[0;36m_input_request\u001b[0;34m(self, prompt, ident, parent, password)\u001b[0m\n\u001b[1;32m    732\u001b[0m             \u001b[0;32mexcept\u001b[0m \u001b[0mKeyboardInterrupt\u001b[0m\u001b[0;34m:\u001b[0m\u001b[0;34m\u001b[0m\u001b[0;34m\u001b[0m\u001b[0m\n\u001b[1;32m    733\u001b[0m                 \u001b[0;31m# re-raise KeyboardInterrupt, to truncate traceback\u001b[0m\u001b[0;34m\u001b[0m\u001b[0;34m\u001b[0m\u001b[0;34m\u001b[0m\u001b[0m\n\u001b[0;32m--> 734\u001b[0;31m                 \u001b[0;32mraise\u001b[0m \u001b[0mKeyboardInterrupt\u001b[0m\u001b[0;34m\u001b[0m\u001b[0;34m\u001b[0m\u001b[0m\n\u001b[0m\u001b[1;32m    735\u001b[0m             \u001b[0;32melse\u001b[0m\u001b[0;34m:\u001b[0m\u001b[0;34m\u001b[0m\u001b[0;34m\u001b[0m\u001b[0m\n\u001b[1;32m    736\u001b[0m                 \u001b[0;32mbreak\u001b[0m\u001b[0;34m\u001b[0m\u001b[0;34m\u001b[0m\u001b[0m\n",
            "\u001b[0;31mKeyboardInterrupt\u001b[0m: "
          ]
        }
      ]
    }
  ]
}